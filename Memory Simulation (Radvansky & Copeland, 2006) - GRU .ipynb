{
 "cells": [
  {
   "cell_type": "markdown",
   "metadata": {},
   "source": [
    "# Simluations"
   ]
  },
  {
   "cell_type": "code",
   "execution_count": 1,
   "metadata": {},
   "outputs": [
    {
     "name": "stderr",
     "output_type": "stream",
     "text": [
      "Using TensorFlow backend.\n"
     ]
    },
    {
     "name": "stdout",
     "output_type": "stream",
     "text": [
      "TensorFlow Version: 1.9.0\n",
      "Keras      Version: 2.2.0\n"
     ]
    }
   ],
   "source": [
    "%matplotlib inline\n",
    "import numpy as np\n",
    "import matplotlib.pyplot as plt\n",
    "import pandas as pd\n",
    "import seaborn as sns\n",
    "from models import *\n",
    "from opt import encode\n",
    "from tqdm import tnrange\n",
    "from simulations.exp_radvansky import make_task, batch\n",
    "\n",
    "sns.set_context('paper', font_scale=1.5)"
   ]
  },
  {
   "cell_type": "code",
   "execution_count": 2,
   "metadata": {},
   "outputs": [
    {
     "name": "stdout",
     "output_type": "stream",
     "text": [
      "tau: 0.1\n"
     ]
    }
   ],
   "source": [
    "# set the parameters, all of them!\n",
    "\n",
    "# SEM parameters\n",
    "df0 = 100\n",
    "scale0 = .2\n",
    "\n",
    "lmda = 1.0  # stickyness parameter\n",
    "alfa = 1.  # concentration parameter\n",
    "\n",
    "# f_class = KerasLSTM\n",
    "f_class = GRUEvent\n",
    "f_opts = dict(var_scale0=scale0, var_df0=df0)\n",
    "\n",
    "# create the corrupted memory trace\n",
    "# noise parameters\n",
    "b = 2\n",
    "tau = 0.1\n",
    "print(\"tau: {}\".format(tau))\n",
    "\n",
    "# set the parameters for the Gibbs sampler\n",
    "gibbs_kwargs = dict(\n",
    "    memory_alpha = 0.1,\n",
    "    memory_lambda = 1.0,  # was 1.0\n",
    "    memory_epsilon = np.exp(-11),\n",
    "    b = b,  # re-defined here for completeness\n",
    "    tau = tau,  # ibid\n",
    "    n_samples = 250,\n",
    "    n_burnin = 100,\n",
    "    progress_bar=False,\n",
    ")\n",
    "\n",
    "sem_kwargs = dict(\n",
    "    lmda=lmda, alfa=alfa, f_class=f_class,\n",
    "    f_opts=f_opts\n",
    ")\n",
    "\n",
    "# exp[eriment parameters\n",
    "\n",
    "epsilon_e_switch = 0.25\n",
    "epsilon_e_noswitch = 0.75\n",
    "\n",
    "n_sess = 1\n",
    "trials_per_sess = 100\n",
    "n_test = 25\n",
    "n_batch = 1"
   ]
  },
  {
   "cell_type": "code",
   "execution_count": 3,
   "metadata": {},
   "outputs": [
    {
     "data": {
      "text/plain": [
       "HBox(children=(IntProgress(value=0, max=25), HTML(value=u'')))"
      ]
     },
     "metadata": {},
     "output_type": "display_data"
    },
    {
     "name": "stderr",
     "output_type": "stream",
     "text": [
      "  4%|▍         | 1/25 [00:06<02:38,  6.60s/it]models/memory.py:129: RuntimeWarning: divide by zero encountered in log\n",
      "  log_p = p_model + np.log(p_sCRP)\n",
      "                                                  "
     ]
    },
    {
     "name": "stdout",
     "output_type": "stream",
     "text": [
      "\n"
     ]
    },
    {
     "name": "stderr",
     "output_type": "stream",
     "text": [
      "\r"
     ]
    }
   ],
   "source": [
    "from tqdm import tnrange\n",
    "res = []\n",
    "for ii in tnrange(25):\n",
    "    gibbs_kwargs = dict(\n",
    "        memory_epsilon = np.exp(-11),\n",
    "        memory_alpha = 0.1,\n",
    "        memory_lambda = 1.0,\n",
    "        b = b,  # re-defined here for completeness\n",
    "        tau = tau,  # ibid\n",
    "        n_samples = 250,\n",
    "        n_burnin = 100,\n",
    "        progress_bar=False,\n",
    "    )\n",
    "\n",
    "    sem = SEM(**sem_kwargs)\n",
    "    res0 = batch(sem, gibbs_kwargs, epsilon_e_switch=epsilon_e_switch, \n",
    "                 epsilon_e_noswitch=epsilon_e_noswitch)\n",
    "    res0['Itteration'] = ii\n",
    "    if len(res) > 0:\n",
    "        res = pd.concat([res, res0])\n",
    "    else:\n",
    "        res = res0    "
   ]
  },
  {
   "cell_type": "code",
   "execution_count": 4,
   "metadata": {},
   "outputs": [
    {
     "data": {
      "text/html": [
       "<div>\n",
       "<style scoped>\n",
       "    .dataframe tbody tr th:only-of-type {\n",
       "        vertical-align: middle;\n",
       "    }\n",
       "\n",
       "    .dataframe tbody tr th {\n",
       "        vertical-align: top;\n",
       "    }\n",
       "\n",
       "    .dataframe thead th {\n",
       "        text-align: right;\n",
       "    }\n",
       "</style>\n",
       "<table border=\"1\" class=\"dataframe\">\n",
       "  <thead>\n",
       "    <tr style=\"text-align: right;\">\n",
       "      <th></th>\n",
       "      <th>Accuracy</th>\n",
       "      <th>Pr(A &gt; B)</th>\n",
       "    </tr>\n",
       "    <tr>\n",
       "      <th>Condition</th>\n",
       "      <th></th>\n",
       "      <th></th>\n",
       "    </tr>\n",
       "  </thead>\n",
       "  <tbody>\n",
       "    <tr>\n",
       "      <th>No-Switch</th>\n",
       "      <td>0.236203</td>\n",
       "      <td>0.4176</td>\n",
       "    </tr>\n",
       "    <tr>\n",
       "      <th>Switch</th>\n",
       "      <td>0.179715</td>\n",
       "      <td>0.3504</td>\n",
       "    </tr>\n",
       "  </tbody>\n",
       "</table>\n",
       "</div>"
      ],
      "text/plain": [
       "           Accuracy  Pr(A > B)\n",
       "Condition                     \n",
       "No-Switch  0.236203     0.4176\n",
       "Switch     0.179715     0.3504"
      ]
     },
     "execution_count": 4,
     "metadata": {},
     "output_type": "execute_result"
    }
   ],
   "source": [
    "df = res.groupby(['Condition', 'Itteration']).mean()\n",
    "df.groupby('Condition').mean()"
   ]
  },
  {
   "cell_type": "code",
   "execution_count": 36,
   "metadata": {},
   "outputs": [
    {
     "data": {
      "image/png": "[encoded data removed]",
      "text/plain": [
       "<Figure size 216x216 with 1 Axes>"
      ]
     },
     "metadata": {},
     "output_type": "display_data"
    }
   ],
   "source": [
    "y = df.groupby('Condition').mean()['Accuracy']\n",
    "y_err = df.groupby('Condition').std()['Accuracy'] / np.sqrt(25)\n",
    "x= [1, 0]\n",
    "plt.figure(figsize=(3,3))\n",
    "\n",
    "plt.bar(x, y, color=[[1.0, 1.0, 1.0], [0.5, 0.5, 0.5]], edgecolor='k', linewidth=1)\n",
    "plt.errorbar(x, y, y_err, linestyle=\"None\", color='k')\n",
    "\n",
    "plt.xticks([0, 1], ['Switch', 'No-Switch'])\n",
    "plt.ylabel('Accuracy')\n",
    "sns.despine()\n",
    "plt.savefig('Radvansky_new.png', bbox_inches='tight', dpi=300)"
   ]
  },
  {
   "cell_type": "code",
   "execution_count": null,
   "metadata": {},
   "outputs": [],
   "source": []
  },
  {
   "cell_type": "code",
   "execution_count": null,
   "metadata": {},
   "outputs": [],
   "source": []
  }
 ],
 "metadata": {
  "kernelspec": {
   "display_name": "Python 2",
   "language": "python",
   "name": "python2"
  },
  "language_info": {
   "codemirror_mode": {
    "name": "ipython",
    "version": 2
   },
   "file_extension": ".py",
   "mimetype": "text/x-python",
   "name": "python",
   "nbconvert_exporter": "python",
   "pygments_lexer": "ipython2",
   "version": "2.7.15"
  }
 },
 "nbformat": 4,
 "nbformat_minor": 2
}
