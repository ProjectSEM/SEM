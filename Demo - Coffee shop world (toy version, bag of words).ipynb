{
 "cells": [
  {
   "cell_type": "markdown",
   "metadata": {},
   "source": [
    "# Toy example of coffee shop world\n",
    "\n",
    "\n",
    "This is a toy example of the type of data we will have from coffee shop world. Coffeeshop world outputs symbolic sentences, but as of right now, these still need to be hand processed to create embeddings. \n",
    "\n",
    "Here, we create two example events (a poetry reading and a fight) that we will alternate for the SEM model. The strings below represents a raw output of a structured coffee shop world story. We will create two sequences of strings from them, representing each event"
   ]
  },
  {
   "cell_type": "code",
   "execution_count": 1,
   "metadata": {
    "collapsed": true
   },
   "outputs": [],
   "source": [
    "poetry_raw = 'BEGIN(Mariko); Sit_down(Mariko,Sarah); Emcee_intro(Olivia,Julian); Poet_performs(Julian); Subject_performs(Mariko,Sarah); Say_goodbye(Mariko,Sarah); END(Mariko). '"
   ]
  },
  {
   "cell_type": "code",
   "execution_count": 2,
   "metadata": {
    "collapsed": true
   },
   "outputs": [],
   "source": [
    "fight_raw = 'BEGIN(Silvia); Walk_to_front(Silvia,Nick); Step_in_front(Nick,Silvia); Ignore(Silvia,Nick,coffee); X_stare(Nick,Silvia); Dessert_crumble(Silvia,muffin,Nick); Call_policeman(Pradeep,Silvia); Hate_coffee(Silvia,Nick); END(Nick,Ben).'"
   ]
  },
  {
   "cell_type": "markdown",
   "metadata": {},
   "source": [
    "First, we parse the poetry reading into a list of role/filler binding pairs:"
   ]
  },
  {
   "cell_type": "code",
   "execution_count": 3,
   "metadata": {},
   "outputs": [
    {
     "name": "stdout",
     "output_type": "stream",
     "text": [
      "[[('BEGIN', 'verb'), ('Mariko', 'agent')], [('Sit_down', 'verb'), ('Mariko', 'agent'), ('Sarah', 'patient')], [('Emcee_intro', 'verb'), ('Olivia', 'agent'), ('Julian', 'patient')], [('Poet_performs', 'verb'), ('Julian', 'agent')], [('Subject_performs', 'verb'), ('Mariko', 'agent'), ('Sarah', 'patient')], [('Say_goodbye', 'verb'), ('Mariko', 'agent'), ('Sarah', 'patient')], [('END', 'verb'), ('Mariko', 'agent')]]\n"
     ]
    }
   ],
   "source": [
    "roles = [('verb'), ('agent'), ('patient')]\n",
    "\n",
    "# parse the string for sentences, split at ;\n",
    "poetry_symb = poetry_raw.split('; ')\n",
    "for ii, s in enumerate(poetry_symb):\n",
    "    # split the string and remove the structure markers\n",
    "    s = s.replace('(', \" \").replace(')', ' ').replace(',', ' ').replace('.','').split()\n",
    "    \n",
    "    # attach the role bindinds\n",
    "    s = [(s[jj], roles[jj]) for jj in range(len(s))]\n",
    "    poetry_symb[ii] = s    \n",
    "\n",
    "print poetry_symb"
   ]
  },
  {
   "cell_type": "markdown",
   "metadata": {},
   "source": [
    "We repeate the same for the fight event (this requires a little custom code):"
   ]
  },
  {
   "cell_type": "code",
   "execution_count": 4,
   "metadata": {},
   "outputs": [
    {
     "name": "stdout",
     "output_type": "stream",
     "text": [
      "[[('BEGIN', 'verb'), ('Silvia', 'agent')], [('Walk_to_front', 'verb'), ('Silvia', 'agent'), ('Nick', 'patient')], [('Step_in_front', 'verb'), ('Nick', 'agent'), ('Silvia', 'patient')], [('Ignore', 'verb'), ('Silvia', 'agent'), ('Nick', 'patient')], [('Order_drink', 'verb'), ('Silvia', 'agent'), ('coffee', 'patient')], [('X_stare', 'verb'), ('Nick', 'agent'), ('Silvia', 'patient')], [('Dessert_crumble', 'verb'), ('Silvia', 'agent'), ('muffin', 'instrument'), ('Nick', 'patient')], [('Call_policeman', 'verb'), ('Pradeep', 'agent'), ('Silvia', 'patient')], [('Hate_coffee', 'verb'), ('Silvia', 'agent'), ('Nick', 'patient')], [('END', 'verb'), ('Nick', 'agent'), ('Ben', 'patient')]]\n"
     ]
    }
   ],
   "source": [
    "\n",
    "roles = [('verb'), ('agent'), ('patient')]\n",
    "\n",
    "# parse the string for sentences, split at ;\n",
    "fight_symb = fight_raw.split('; ')\n",
    "for ii, s in enumerate(fight_symb):\n",
    "    # split the string and remove the structure markers\n",
    "    s = s.replace('(', \" \").replace(')', ' ').replace(',', ' ').replace('.','').split()\n",
    "    \n",
    "    # attach the role bindinds\n",
    "    # break the ignore sentence into two\n",
    "    if s[0] == 'Ignore':\n",
    "        s = [[(s[0], 'verb'), (s[1], 'agent'), (s[2], 'patient')], \n",
    "             [('Order_drink', 'verb'), (s[1], 'agent'), (s[3], 'patient')]]\n",
    "    elif s[0] == 'Dessert_crumble':\n",
    "        s = [(s[0], 'verb'), (s[1], 'agent'), (s[2], 'instrument'), (s[3], 'patient')]\n",
    "    else:\n",
    "        s = [(s[jj], roles[jj]) for jj in range(len(s))]\n",
    "        \n",
    "    fight_symb[ii] = s    \n",
    "    \n",
    "_fight_symb = []\n",
    "for f in fight_symb:\n",
    "    if type(f[0]) == list:\n",
    "        for f0 in f:\n",
    "            _fight_symb.append(f0)\n",
    "    else:\n",
    "        _fight_symb.append(f)\n",
    "fight_symb = _fight_symb\n",
    "\n",
    "print fight_symb"
   ]
  },
  {
   "cell_type": "markdown",
   "metadata": {},
   "source": [
    "In this toy example, these two events are very different and have very, very little overlap between them. This is ideal for a toy demonstration (at least a first one)."
   ]
  },
  {
   "cell_type": "code",
   "execution_count": 5,
   "metadata": {},
   "outputs": [
    {
     "data": {
      "text/plain": [
       "{'BEGIN', 'END'}"
      ]
     },
     "execution_count": 5,
     "metadata": {},
     "output_type": "execute_result"
    }
   ],
   "source": [
    "# what is the intersection of filler words between the two events?\n",
    "set([b[0] for s in poetry_symb for b in s]).intersection([b[0] for s in fight_symb for b in s])"
   ]
  },
  {
   "cell_type": "markdown",
   "metadata": {},
   "source": [
    "Before we embed these into vectors, we need a library of fillers and roles"
   ]
  },
  {
   "cell_type": "code",
   "execution_count": 6,
   "metadata": {},
   "outputs": [
    {
     "name": "stdout",
     "output_type": "stream",
     "text": [
      "set(['instrument', 'verb', 'patient', 'agent'])\n",
      "set(['Sarah', 'Call_policeman', 'muffin', 'Silvia', 'Pradeep', 'Nick', 'Ben', 'BEGIN', 'Subject_performs', 'Olivia', 'Say_goodbye', 'Emcee_intro', 'Sit_down', 'Dessert_crumble', 'Order_drink', 'Hate_coffee', 'coffee', 'END', 'Poet_performs', 'Ignore', 'Walk_to_front', 'Julian', 'Step_in_front', 'X_stare', 'Mariko'])\n"
     ]
    }
   ],
   "source": [
    "role_library = set([b[1] for s in fight_symb for b in s] + [b[1] for s in poetry_symb for b in s])\n",
    "filler_library = set([b[0] for s in fight_symb for b in s] + [b[0] for s in poetry_symb for b in s])\n",
    "\n",
    "\n",
    "print role_library\n",
    "print filler_library\n",
    "\n",
    "from opt import plate_formula, embed, encode, decode\n",
    "\n",
    "# figure out how many dimensions we need\n",
    "n = len(role_library) + len(filler_library);     # vocabulary size\n",
    "k = 8;      # maximum number of terms to be combined\n",
    "err = 0.01; # error probability\n",
    "d = plate_formula(n, k, err);\n",
    "\n",
    "# create a library of vectors\n",
    "role_dict = {r: embed(1, d) for r in role_library}\n",
    "filler_dict = {f: embed(1, d) for f in filler_library}"
   ]
  },
  {
   "cell_type": "markdown",
   "metadata": {},
   "source": [
    "For this version, as a test, we are not going to use role/filler bindings. This is because the convolution opperation alters the vector space, making models harder to train. That is, if we pick guassian random unit vectors as our embedding space, the product of the convolution is does not have a mean of 0 and std of 1."
   ]
  },
  {
   "cell_type": "code",
   "execution_count": 7,
   "metadata": {},
   "outputs": [
    {
     "name": "stdout",
     "output_type": "stream",
     "text": [
      "Role    mean = -0.06, std = 1.00\n",
      "Filler  mean = 0.11, std = 0.96\n",
      "Encoded mean = -0.01, std = 0.05\n"
     ]
    }
   ],
   "source": [
    "import numpy as np\n",
    "\n",
    "r = role_dict[role_dict.keys()[0]]\n",
    "print \"Role    mean = %.2f, std = %.2f\" % (np.mean(r), np.std(r))\n",
    "f = filler_dict[filler_dict.keys()[0]]\n",
    "print \"Filler  mean = %.2f, std = %.2f\" % (np.mean(f), np.std(f))\n",
    "\n",
    "e = encode(f, r)\n",
    "print \"Encoded mean = %.2f, std = %.2f\" % (np.mean(e), np.std(e))"
   ]
  },
  {
   "cell_type": "markdown",
   "metadata": {},
   "source": [
    "As we can see, using circular convolution to encode the role filler binding blows out the variance. This will make training difficult, and requires more investigation on our part before we are ready to go ahead (at least, nothing tried has worked so far). Specifically, we don't know how to best normalize these vectors for machine learnign without distroying the structure."
   ]
  },
  {
   "cell_type": "markdown",
   "metadata": {},
   "source": [
    "As a first pass, we can use \"bag of words\" and just add the filler vectors together linearly"
   ]
  },
  {
   "cell_type": "code",
   "execution_count": 8,
   "metadata": {
    "collapsed": true
   },
   "outputs": [],
   "source": [
    "def embed_event(event_symb):\n",
    "    event_embedded = []\n",
    "    for s in event_symb:\n",
    "        X0 = np.zeros((1, d))\n",
    "        for filler, _ in s:\n",
    "            X0 += filler_dict[filler]\n",
    "        event_embedded.append(X0)\n",
    "    return np.concatenate(event_embedded)\n",
    "\n",
    "poetry_embedded = embed_event(poetry_symb)\n",
    "fight_embedded = embed_event(fight_symb)"
   ]
  },
  {
   "cell_type": "markdown",
   "metadata": {},
   "source": [
    "Concatenate to create the sequence of events [Poetry, Fight, Poetry, Fight]:"
   ]
  },
  {
   "cell_type": "code",
   "execution_count": 9,
   "metadata": {},
   "outputs": [
    {
     "name": "stdout",
     "output_type": "stream",
     "text": [
      "(34, 421) (34,)\n"
     ]
    }
   ],
   "source": [
    "# okay! create the events for segmentation\n",
    "n_p = poetry_embedded.shape[0]\n",
    "n_t = fight_embedded.shape[0]\n",
    "X_train = np.concatenate([poetry_embedded, fight_embedded, poetry_embedded, fight_embedded])\n",
    "y_train = np.concatenate([np.zeros(n_p), np.ones(n_t), np.zeros(n_p), np.ones(n_t)])\n",
    "print X_train.shape, y_train.shape"
   ]
  },
  {
   "cell_type": "code",
   "execution_count": 10,
   "metadata": {},
   "outputs": [
    {
     "name": "stdout",
     "output_type": "stream",
     "text": [
      "6.23524609995\n"
     ]
    }
   ],
   "source": [
    "N, D  = X_train.shape\n",
    "distances = [np.linalg.norm(X_train[ii, :] - X_train[ii+1, :]) for ii in range(N-1)]\n",
    "print np.std(distances)"
   ]
  },
  {
   "cell_type": "code",
   "execution_count": null,
   "metadata": {
    "collapsed": true
   },
   "outputs": [],
   "source": []
  },
  {
   "cell_type": "markdown",
   "metadata": {},
   "source": [
    "# Segmentation"
   ]
  },
  {
   "cell_type": "code",
   "execution_count": 11,
   "metadata": {},
   "outputs": [
    {
     "name": "stderr",
     "output_type": "stream",
     "text": [
      "Using TensorFlow backend.\n"
     ]
    }
   ],
   "source": [
    "import matplotlib.pyplot as plt\n",
    "import tensorflow as tf\n",
    "from models import SEM, KerasSimpleRNN\n",
    "from opt.utils import evaluate\n",
    "import numpy as np\n",
    "from sklearn.preprocessing import scale\n",
    "\n",
    "# scaling tends to improve segmentation\n",
    "X_train = scale(X_train)"
   ]
  },
  {
   "cell_type": "code",
   "execution_count": 12,
   "metadata": {
    "collapsed": true
   },
   "outputs": [],
   "source": [
    "# set the parameters for the models\n",
    "_, D = X_train.shape\n",
    "\n",
    "# parameters for schocastic gradient descent \n",
    "sgd_kwargs = {\n",
    "    'nesterov': True, \n",
    "    'lr': 0.01, \n",
    "    'momentum': 0.9, \n",
    "    'decay': 0.0001\n",
    "}\n",
    "\n",
    "# specify the model architecture (makes a big difference! especially the training parameters)\n",
    "f_class = KerasSimpleRNN\n",
    "f_opts = dict(t=3, n_epochs=500, sgd_kwargs=sgd_kwargs,\n",
    "              n_hidden1=D, n_hidden2=D, \n",
    "              hidden_act1='relu', hidden_act2='relu',\n",
    "              dropout=0.50)"
   ]
  },
  {
   "cell_type": "code",
   "execution_count": 13,
   "metadata": {
    "scrolled": true
   },
   "outputs": [
    {
     "name": "stdout",
     "output_type": "stream",
     "text": [
      "lambda = 25\n",
      "alpha = 1.0\n",
      "beta = 1.0\n"
     ]
    },
    {
     "name": "stderr",
     "output_type": "stream",
     "text": [
      "Widget Javascript not detected.  It may not be installed or enabled properly.\n"
     ]
    },
    {
     "data": {
      "application/vnd.jupyter.widget-view+json": {
       "model_id": "f11bbb2968f04a65917fdc5d52092701"
      }
     },
     "metadata": {},
     "output_type": "display_data"
    },
    {
     "name": "stdout",
     "output_type": "stream",
     "text": [
      "\n",
      "Adjusted Rand Index: 0.504854368932\n"
     ]
    },
    {
     "data": {
      "image/png": "[encoded data removed]",
      "text/plain": [
       "<matplotlib.figure.Figure at 0x11f313bd0>"
      ]
     },
     "metadata": {},
     "output_type": "display_data"
    }
   ],
   "source": [
    "lmda = 25\n",
    "alfa = 1.0\n",
    "beta = np.var(X_train.flatten())  # this equals 1 if the data are scaled\n",
    "Omega = {\n",
    "    'lmda': lmda,  # Stickyness (prior)\n",
    "    'alfa': alfa, # Concentration parameter (prior)\n",
    "    'beta': beta, # Likelihood noise\n",
    "    't': 3,\n",
    "    'f_class': f_class,\n",
    "    'f_opts': f_opts\n",
    "}\n",
    "print 'lambda =', lmda\n",
    "print 'alpha =', alfa\n",
    "print 'beta =', beta\n",
    "\n",
    "r, post, pe = evaluate(X_train, y_train, Omega, save=False, return_pe=True)\n",
    "print \"Adjusted Rand Index:\", r\n",
    "plt.figure(figsize=(6, 3.0))\n",
    "plt.plot(post)\n",
    "plt.gca().set_ylabel('Posterior cluster probability')\n",
    "plt.gca().set_xlabel('Time')\n",
    "plt.show()\n",
    "tf.Session().close()"
   ]
  },
  {
   "cell_type": "markdown",
   "metadata": {},
   "source": [
    "Segmentation with bag of words is well above chance. Notice that the \"fight\" event is detected better than the \"poetry\" event -- this is because the fight event is more predictable.\n",
    "\n",
    "For comparison, let's compare at the max posterior cluster to the true event labels are shown below (the colors are not consistent between the two due to label switching, which is not important)"
   ]
  },
  {
   "cell_type": "code",
   "execution_count": 14,
   "metadata": {},
   "outputs": [
    {
     "data": {
      "image/png": "[encoded data removed]",
      "text/plain": [
       "<matplotlib.figure.Figure at 0x140b65310>"
      ]
     },
     "metadata": {},
     "output_type": "display_data"
    }
   ],
   "source": [
    "import numpy as np\n",
    "fig, axes = plt.subplots(2, 1, figsize=(6, 4))\n",
    "\n",
    "max_post = np.zeros(post.shape)\n",
    "for t in range(post.shape[0]):\n",
    "    max_post[t, :] = post[t, :] == post[t, :].max()\n",
    "axes[0].plot(max_post)\n",
    "axes[0].set_title('SEM max a posterior cluster')\n",
    "\n",
    "y_clust = np.zeros((y_train.shape[0], 2))\n",
    "for ii, y0 in enumerate(y_train):\n",
    "    y_clust[ii, int(y0)] = 1.0\n",
    "axes[1].plot(y_clust)\n",
    "axes[1].set_title('True Clusters')\n",
    "axes[1].set_xlabel('Time')\n",
    "plt.subplots_adjust(hspace=0.4)\n",
    "plt.show()"
   ]
  },
  {
   "cell_type": "code",
   "execution_count": 16,
   "metadata": {},
   "outputs": [
    {
     "data": {
      "image/png": "[encoded data removed]",
      "text/plain": [
       "<matplotlib.figure.Figure at 0x11f38a4d0>"
      ]
     },
     "metadata": {},
     "output_type": "display_data"
    }
   ],
   "source": [
    "plt.plot(pe)\n",
    "plt.xlabel('Time')\n",
    "plt.ylabel('Prediction Error')\n",
    "plt.show()"
   ]
  },
  {
   "cell_type": "code",
   "execution_count": null,
   "metadata": {
    "collapsed": true
   },
   "outputs": [],
   "source": []
  }
 ],
 "metadata": {
  "kernelspec": {
   "display_name": "Python 2",
   "language": "python",
   "name": "python2"
  },
  "language_info": {
   "codemirror_mode": {
    "name": "ipython",
    "version": 2
   },
   "file_extension": ".py",
   "mimetype": "text/x-python",
   "name": "python",
   "nbconvert_exporter": "python",
   "pygments_lexer": "ipython2",
   "version": "2.7.13"
  }
 },
 "nbformat": 4,
 "nbformat_minor": 2
}
