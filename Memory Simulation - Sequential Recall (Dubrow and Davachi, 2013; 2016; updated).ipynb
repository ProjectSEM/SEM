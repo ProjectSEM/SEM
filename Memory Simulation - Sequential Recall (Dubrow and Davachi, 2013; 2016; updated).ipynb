{
 "cells": [
  {
   "cell_type": "markdown",
   "metadata": {},
   "source": [
    "# Dubrow and Divachi 2013\n",
    "**TODO**: Describe experiment and the implementation of the simulations\n",
    "\n",
    "**TODO**: Clean up this simluations and re-run simluations for inteligability\n"
   ]
  },
  {
   "cell_type": "code",
   "execution_count": 2,
   "metadata": {},
   "outputs": [
    {
     "name": "stderr",
     "output_type": "stream",
     "text": [
      "Using TensorFlow backend.\n"
     ]
    }
   ],
   "source": [
    "%matplotlib inline\n",
    "import numpy as np\n",
    "import matplotlib.pyplot as plt\n",
    "import seaborn as sns\n",
    "from models import SEM, KerasSimpleRNN\n",
    "\n",
    "np.random.seed(1234)\n",
    "sns.set_context('paper', font_scale=1.5)"
   ]
  },
  {
   "cell_type": "code",
   "execution_count": 3,
   "metadata": {},
   "outputs": [],
   "source": [
    "# N = 30  # 6 events of five objects each\n",
    "from sklearn.preprocessing import normalize\n",
    "\n",
    "event_duration = 5\n",
    "n_events = 5\n",
    "N = event_duration  * n_events\n",
    "D = 25\n",
    "\n",
    "def generate_experiment(seed=None, scaling_factor=1.0):\n",
    "    if seed:\n",
    "        np.random.seed(seed)\n",
    "    \n",
    "    X = np.random.randn(N, D)\n",
    "\n",
    "    # embed a similarity structure within the items of each category\n",
    "    # by adding the same random vector to all of the items within the\n",
    "    # category\n",
    "    categ_one = np.random.randn(1, D) * scaling_factor\n",
    "    categ_two = np.random.randn(1, D) * scaling_factor\n",
    "    \n",
    "    for ii in range(n_events):\n",
    "        if ii % 2 == 0:\n",
    "            X[ii*event_duration:ii*event_duration +event_duration, :] += categ_one\n",
    "        else:\n",
    "            X[ii*event_duration:ii*event_duration +event_duration, :] += categ_two\n",
    "\n",
    "    return normalize(X)\n",
    "\n",
    "pre_locs = np.array([ii*event_duration+event_duration for ii in range(n_events-1)])\n",
    "pst_locs = np.array([ii*event_duration+event_duration-1 for ii in range(n_events-1)])"
   ]
  },
  {
   "cell_type": "markdown",
   "metadata": {},
   "source": [
    "Set the parameters for the event models"
   ]
  },
  {
   "cell_type": "code",
   "execution_count": 4,
   "metadata": {},
   "outputs": [],
   "source": [
    "# for our purposes, we need to properly encode the transition function accurately\n",
    "f_opts=dict( n_epochs=100, optimizer='adam', n_hidden1=D, n_hidden2=D,\n",
    "    l2_regularization=0.0, dropout=0.00)"
   ]
  },
  {
   "cell_type": "code",
   "execution_count": 5,
   "metadata": {},
   "outputs": [
    {
     "name": "stdout",
     "output_type": "stream",
     "text": [
      "Event Model Error 1.6047073449436744\n",
      "Null  Model Error 25.0\n"
     ]
    }
   ],
   "source": [
    "X = generate_experiment()\n",
    "\n",
    "def train_single_event(X):\n",
    "    event_model = KerasSimpleRNN(D, **f_opts)\n",
    "    event_model.update_f0(X[0, :])\n",
    "    for ii in range(1, np.shape(X)[0]):\n",
    "        event_model.update(X[ii-1, :], X[ii, :])\n",
    "    return event_model\n",
    "\n",
    "event_model = train_single_event(X)\n",
    "print \"Event Model Error\", np.sum((X - event_model.run_generative(N))**2)\n",
    "\n",
    "# for comparison, the generative error of an untrained model\n",
    "null_model = KerasSimpleRNN(D, **f_opts)\n",
    "print \"Null  Model Error\", np.sum((X - null_model.run_generative(N))**2)"
   ]
  },
  {
   "cell_type": "code",
   "execution_count": 6,
   "metadata": {},
   "outputs": [],
   "source": [
    "# noise parameter\n",
    "tau = 1.00\n",
    "X_mem = X + np.random.randn(N, D) * tau"
   ]
  },
  {
   "cell_type": "markdown",
   "metadata": {},
   "source": [
    "# Reconstruction\n",
    "Define the two sampling functions used in the reconstruction memory process. One, were all of these scenes are a part of one big event, the other where all are a part of multiple events with unknown type"
   ]
  },
  {
   "cell_type": "code",
   "execution_count": 7,
   "metadata": {},
   "outputs": [],
   "source": [
    "from tqdm import tnrange\n",
    "\n",
    "def reconstruction_single_event(X_mem, event_model, tau=1.0, beta=0.01, burn_in=500, \n",
    "                                n_samples=500):\n",
    "    \n",
    "    #these are shuffeled in order\n",
    "    trials = range(0, N)\n",
    "    X_sample = []\n",
    "    \n",
    "    # randomly initialize the sampel of X0 from the corruption process\n",
    "    X0 = np.random.randn(N, D) * tau + X_mem\n",
    "    \n",
    "    # because the beta and tau are assumed and constant, we can pre-cacluate u \n",
    "    # and lambda for the weighted mean of the posterior over x\n",
    "    u = (1./beta) / (1./beta + 1./tau)\n",
    "    lmda = 1.0 / (1./beta + 1./tau)\n",
    "    \n",
    "    for ii in tnrange(n_samples + burn_in, leave=False, desc='Gibbs'):\n",
    "        \n",
    "        np.random.shuffle(trials) # randomize the order trials are sampled\n",
    "\n",
    "        for t in trials:\n",
    "            # pull the transition function\n",
    "            if t > 1:\n",
    "                def f(x):\n",
    "                    return event_model.predict_next_generative(x)\n",
    "            else:\n",
    "                def f(x):\n",
    "                    return event_model.predict_f0()\n",
    "\n",
    "            # construct the input vector for the model\n",
    "            X_i = X0[:t, :]\n",
    "\n",
    "            # use the likelihood function to estimate a new sample. \n",
    "            # This likelihood function is the product of two gaussians:\n",
    "            #  N(x0_t; f(x0_{1:t-1}), beta_f * I) * N(x0_t; \\tilde x_t , beta_mem * I )\n",
    "            mu_t = u * f(X_i) + (1 - u) * X_mem[t]\n",
    "\n",
    "            # generate a sample from the multivariate normal\n",
    "            X0[t, :] = np.random.multivariate_normal(mu_t.flatten(), lmda * np.eye(D))\n",
    "\n",
    "        if ii >= burn_in:\n",
    "            X_sample.append(X0.copy())\n",
    "            \n",
    "    return np.array(X_sample)"
   ]
  },
  {
   "cell_type": "code",
   "execution_count": 8,
   "metadata": {},
   "outputs": [],
   "source": [
    "from scipy.stats import multivariate_normal as mvnorm\n",
    "from scipy.special import logsumexp\n",
    "\n",
    "\n",
    "def reconstruction_known_boundaries(X_mem, events_dict, event_tokens,\n",
    "                                    tau=1.0, beta=0.01, burn_in=500, n_samples=500):\n",
    "    \n",
    "    #these are shuffeled in order, and we don't want to make a prediction for the last scene\n",
    "    trials = range(0, N)\n",
    "    X_sample = []\n",
    "    \n",
    "    # randomly initialize the sampel of X0 from the corruption process\n",
    "    X0 = np.random.randn(N, D) * tau + X_mem\n",
    "    \n",
    "    # randomly initialize the identity of the event tokens\n",
    "    events_keys_function = np.random.permutation(events_dict.keys())\n",
    "    \n",
    "    # because the beta and tau are assumed and constant, we can pre-cacluate u \n",
    "    # and lambda for the weighted mean of the posterior over x\n",
    "    u = (1./beta) / (1./beta + 1./tau)\n",
    "    lmda = 1.0 / (1./beta + 1./tau)\n",
    "    \n",
    "    for ii in tnrange(n_samples + burn_in, leave=False, desc='Gibbs'):\n",
    "        \n",
    "        np.random.shuffle(trials) # randomize the order trials are sampled\n",
    "\n",
    "        for t in trials:\n",
    "\n",
    "            # pull the transition function associated with the current event-token\n",
    "            token = event_tokens[t]\n",
    "            token_id = events_keys_function[token]\n",
    "            if token == event_tokens[t-1]:\n",
    "                def f(x):\n",
    "                    return events_dict[token_id].predict_next_generative(x)\n",
    "            else:\n",
    "                def f(x):\n",
    "                    return events_dict[token_id].predict_f0()\n",
    "                \n",
    "            # construct the input vector for the model\n",
    "            X_i = X0[(np.arange(N) < t) & (np.array(event_tokens) == event_tokens[t]), :]\n",
    "\n",
    "            # use the likelihood function to estimate a new sample. \n",
    "            # This likelihood function is the product of two gaussians:\n",
    "            #  N(x0_t; f(x0_{1:t-1}), beta_f * I) * N(x0_t; \\tilde x_t , beta_mem * I )\n",
    "            mu_t = u * f(X_i) + (1 - u) * X_mem[t]\n",
    "\n",
    "            # generate a sample from the multivariate normal\n",
    "            X0[t, :] = np.random.multivariate_normal(mu_t.flatten(), lmda * np.eye(D))\n",
    "            \n",
    "            \n",
    "        # Here, we sample the events type probability, conditioned on the samples\n",
    "        \n",
    "        # we will sample the event models WITHOUT replacement, so keep track \n",
    "        # of the available models (this also speeds things up)\n",
    "        available_models = events_dict.keys()\n",
    "        \n",
    "        events_keys_function = np.zeros(len(available_models)) - 1  # reinitialize the key\n",
    "        \n",
    "        for token0 in np.random.permutation(list(set(event_tokens))):\n",
    "            # get the likelihood for each token in the set\n",
    "            X00 = X0[event_tokens == token0, :]  # pull the relevant scenes\n",
    "            \n",
    "            # initialze the scores. This includes models that are not avialble,\n",
    "            # so they have to be initialized at log p(e) = -infty (or np.log(0))\n",
    "            scores = np.log(np.zeros(np.max(available_models) + 1))\n",
    "            \n",
    "            # loop throught the as yet unassigned models and \"score\" (log likelihood)\n",
    "            for token_id0 in available_models:\n",
    "                # pull the coresponding event model\n",
    "                e00 = events_dict[token_id0]\n",
    "                \n",
    "                # run the model to generate predictions\n",
    "                X00_hat = np.zeros(np.shape(X00))\n",
    "                X00_hat[0, :] = e00.predict_f0()\n",
    "                for jj in range(1, np.shape(X00)[0]):\n",
    "                    X00_hat[jj, :] = e00.predict_next_generative(X00[:jj, :])\n",
    "                    \n",
    "                # evaluate the predictions of the model\n",
    "                scores[token_id0] = logsumexp(\n",
    "                    mvnorm.logpdf(X00 - X00_hat, mean=np.zeros(D), cov=np.eye(D) * beta)\n",
    "                )\n",
    "            \n",
    "            # normalize the loglikelihoods and inverse cdf sample\n",
    "            pmf_e = np.exp(scores - logsumexp(scores))\n",
    "            cmf_e = np.cumsum(pmf_e)\n",
    "            e0 =  events_dict.keys()[np.sum(cmf_e < np.random.rand())]\n",
    "            \n",
    "            events_keys_function[token0] = e0\n",
    "            try:\n",
    "                available_models.remove(e0)        \n",
    "            except:\n",
    "                print available_models\n",
    "                print e0\n",
    "                print pmf_e\n",
    "                print scores\n",
    "                raise(Exception)\n",
    "                \n",
    "        if ii >= burn_in:\n",
    "            X_sample.append(X0.copy())\n",
    "            \n",
    "    return np.array(X_sample)"
   ]
  },
  {
   "cell_type": "code",
   "execution_count": 9,
   "metadata": {},
   "outputs": [],
   "source": [
    "def reconstruction_known_events(X_mem, events_dict, event_tokens,\n",
    "                                tau=1.0, beta=0.01, burn_in=500, n_samples=500):\n",
    "    \n",
    "    #these are shuffeled in order, and we don't want to make a prediction for the last scene\n",
    "    trials = range(0, N)\n",
    "    X_sample = []\n",
    "    \n",
    "    # randomly initialize the sampel of X0 from the corruption process\n",
    "    X0 = np.random.randn(N, D) * tau + X_mem\n",
    "    \n",
    "    # randomly initialize the identity of the event tokens\n",
    "    events_keys_function = np.random.permutation(events_dict.keys())\n",
    "    \n",
    "    # because the beta and tau are assumed and constant, we can pre-cacluate u \n",
    "    # and lambda for the weighted mean of the posterior over x\n",
    "    u = (1./beta) / (1./beta + 1./tau)\n",
    "    lmda = 1.0 / (1./beta + 1./tau)\n",
    "    \n",
    "    for ii in tnrange(n_samples + burn_in, leave=False, desc='Gibbs'):\n",
    "        \n",
    "        np.random.shuffle(trials) # randomize the order trials are sampled\n",
    "\n",
    "        for t in trials:\n",
    "\n",
    "            # pull the transition function associated with the current event-token\n",
    "            token = event_tokens[t]\n",
    "            if token == event_tokens[t-1]:\n",
    "                def f(x):\n",
    "                    return events_dict[token].predict_next_generative(x)\n",
    "            else:\n",
    "                def f(x):\n",
    "                    return events_dict[token].predict_f0()\n",
    "                \n",
    "            # construct the input vector for the model\n",
    "            X_i = X0[(np.arange(N) < t) & (np.array(event_tokens) == event_tokens[t]), :]\n",
    "\n",
    "            # use the likelihood function to estimate a new sample. \n",
    "            # This likelihood function is the product of two gaussians:\n",
    "            #  N(x0_t; f(x0_{1:t-1}), beta_f * I) * N(x0_t; \\tilde x_t , beta_mem * I )\n",
    "            mu_t = u * f(X_i) + (1 - u) * X_mem[t]\n",
    "\n",
    "            # generate a sample from the multivariate normal\n",
    "            X0[t, :] = np.random.multivariate_normal(mu_t.flatten(), lmda * np.eye(D))\n",
    "                \n",
    "        if ii >= burn_in:\n",
    "            X_sample.append(X0.copy())\n",
    "            \n",
    "    return np.array(X_sample)\n"
   ]
  },
  {
   "cell_type": "code",
   "execution_count": 10,
   "metadata": {},
   "outputs": [
    {
     "data": {
      "application/vnd.jupyter.widget-view+json": {
       "model_id": "c249be64cb124d68afcd1f979da4604f",
       "version_major": 2,
       "version_minor": 0
      },
      "text/html": [
       "<p>Failed to display Jupyter Widget of type <code>HBox</code>.</p>\n",
       "<p>\n",
       "  If you're reading this message in the Jupyter Notebook or JupyterLab Notebook, it may mean\n",
       "  that the widgets JavaScript is still loading. If this message persists, it\n",
       "  likely means that the widgets JavaScript library is either not installed or\n",
       "  not enabled. See the <a href=\"https://ipywidgets.readthedocs.io/en/stable/user_install.html\">Jupyter\n",
       "  Widgets Documentation</a> for setup instructions.\n",
       "</p>\n",
       "<p>\n",
       "  If you're reading this message in another frontend (for example, a static\n",
       "  rendering on GitHub or <a href=\"https://nbviewer.jupyter.org/\">NBViewer</a>),\n",
       "  it may mean that your frontend doesn't currently support widgets.\n",
       "</p>\n"
      ],
      "text/plain": [
       "HBox(children=(IntProgress(value=0, description=u'Gibbs', max=1000), HTML(value=u'')))"
      ]
     },
     "metadata": {},
     "output_type": "display_data"
    },
    {
     "name": "stdout",
     "output_type": "stream",
     "text": [
      "\r",
      "(500, 25, 25)\n"
     ]
    }
   ],
   "source": [
    "event_model = train_single_event(X)\n",
    "X_sample = reconstruction_single_event(X_mem, event_model)\n",
    "print X_sample.shape"
   ]
  },
  {
   "cell_type": "code",
   "execution_count": 11,
   "metadata": {},
   "outputs": [],
   "source": [
    "def segment_scenes(event_tokens):\n",
    "    # we assume the segemenation is done correctly\n",
    "    events_dict = dict()\n",
    "    for t0 in set(event_tokens):\n",
    "        events_dict[t0] = train_single_event(X[t0 == np.array(event_tokens), :])\n",
    "    return events_dict\n",
    "\n",
    "# we assume the event boundary locations are known. This code seperates all of the \n",
    "# events with unique tokens (which, in this case, is also their type. This information\n",
    "# isn't given to the model)\n",
    "events_token = [0] * 5 + [1] * 5 + [2] * 5 + [3] * 5 + [4] * 5\n",
    "\n",
    "events_dict = segment_scenes(events_token)"
   ]
  },
  {
   "cell_type": "code",
   "execution_count": 12,
   "metadata": {},
   "outputs": [
    {
     "data": {
      "application/vnd.jupyter.widget-view+json": {
       "model_id": "22cad381c9584bc8b99396b5e200a054",
       "version_major": 2,
       "version_minor": 0
      },
      "text/html": [
       "<p>Failed to display Jupyter Widget of type <code>HBox</code>.</p>\n",
       "<p>\n",
       "  If you're reading this message in the Jupyter Notebook or JupyterLab Notebook, it may mean\n",
       "  that the widgets JavaScript is still loading. If this message persists, it\n",
       "  likely means that the widgets JavaScript library is either not installed or\n",
       "  not enabled. See the <a href=\"https://ipywidgets.readthedocs.io/en/stable/user_install.html\">Jupyter\n",
       "  Widgets Documentation</a> for setup instructions.\n",
       "</p>\n",
       "<p>\n",
       "  If you're reading this message in another frontend (for example, a static\n",
       "  rendering on GitHub or <a href=\"https://nbviewer.jupyter.org/\">NBViewer</a>),\n",
       "  it may mean that your frontend doesn't currently support widgets.\n",
       "</p>\n"
      ],
      "text/plain": [
       "HBox(children=(IntProgress(value=0, description=u'Gibbs', max=1000), HTML(value=u'')))"
      ]
     },
     "metadata": {},
     "output_type": "display_data"
    },
    {
     "name": "stderr",
     "output_type": "stream",
     "text": [
      "/anaconda2/envs/sem/lib/python2.7/site-packages/ipykernel_launcher.py:65: RuntimeWarning: divide by zero encountered in log\n"
     ]
    },
    {
     "name": "stdout",
     "output_type": "stream",
     "text": [
      "\r"
     ]
    }
   ],
   "source": [
    "X_sample_uknbound = reconstruction_known_boundaries(X_mem, events_dict, events_token)"
   ]
  },
  {
   "cell_type": "code",
   "execution_count": 13,
   "metadata": {},
   "outputs": [
    {
     "data": {
      "application/vnd.jupyter.widget-view+json": {
       "model_id": "52cae72573e34a838523b0f0e90e0db8",
       "version_major": 2,
       "version_minor": 0
      },
      "text/html": [
       "<p>Failed to display Jupyter Widget of type <code>HBox</code>.</p>\n",
       "<p>\n",
       "  If you're reading this message in the Jupyter Notebook or JupyterLab Notebook, it may mean\n",
       "  that the widgets JavaScript is still loading. If this message persists, it\n",
       "  likely means that the widgets JavaScript library is either not installed or\n",
       "  not enabled. See the <a href=\"https://ipywidgets.readthedocs.io/en/stable/user_install.html\">Jupyter\n",
       "  Widgets Documentation</a> for setup instructions.\n",
       "</p>\n",
       "<p>\n",
       "  If you're reading this message in another frontend (for example, a static\n",
       "  rendering on GitHub or <a href=\"https://nbviewer.jupyter.org/\">NBViewer</a>),\n",
       "  it may mean that your frontend doesn't currently support widgets.\n",
       "</p>\n"
      ],
      "text/plain": [
       "HBox(children=(IntProgress(value=0, description=u'Gibbs', max=1000), HTML(value=u'')))"
      ]
     },
     "metadata": {},
     "output_type": "display_data"
    },
    {
     "name": "stdout",
     "output_type": "stream",
     "text": [
      "\r"
     ]
    }
   ],
   "source": [
    "X_sample_knownevent = reconstruction_known_events(X_mem, events_dict, events_token)"
   ]
  },
  {
   "cell_type": "code",
   "execution_count": 14,
   "metadata": {},
   "outputs": [
    {
     "name": "stdout",
     "output_type": "stream",
     "text": [
      "Event  Model Error 0.013463926251674245\n",
      "Null  Model Error 5.0\n"
     ]
    }
   ],
   "source": [
    "print \"Event  Model Error\", np.sum((X[5:10, :] - events_dict[1].run_generative(5))**2)\n",
    "\n",
    "# for comparison, the generative error of an untrained model\n",
    "null_model = KerasSimpleRNN(D, **f_opts)\n",
    "print \"Null  Model Error\", np.sum((X[5:10, :] - null_model.run_generative(5))**2)"
   ]
  },
  {
   "cell_type": "code",
   "execution_count": 15,
   "metadata": {},
   "outputs": [
    {
     "name": "stdout",
     "output_type": "stream",
     "text": [
      "Event  Model Error 0.0031125106382348384\n",
      "Null  Model Error 5.000000000000001\n"
     ]
    }
   ],
   "source": [
    "print \"Event  Model Error\", np.sum((X[:5, :] - events_dict[0].run_generative(5))**2)\n",
    "\n",
    "# for comparison, the generative error of an untrained model\n",
    "null_model = KerasSimpleRNN(D, **f_opts)\n",
    "print \"Null  Model Error\", np.sum((X[:5, :] - null_model.run_generative(5))**2)"
   ]
  },
  {
   "cell_type": "markdown",
   "metadata": {},
   "source": [
    "# Evaluate the reconstruction\n",
    "Try to get a sense of the error of the reconstructed memory predictions for one or multiple events"
   ]
  },
  {
   "cell_type": "code",
   "execution_count": 16,
   "metadata": {},
   "outputs": [
    {
     "data": {
      "image/png": "[encoded data removed]",
      "text/plain": [
       "<matplotlib.figure.Figure at 0x125fddf90>"
      ]
     },
     "metadata": {},
     "output_type": "display_data"
    }
   ],
   "source": [
    "fig, ax = plt.subplots()\n",
    "\n",
    "sse = np.linalg.norm(X_sample - np.tile(X, (500, 1, 1)), axis=2)\n",
    "y = np.mean(sse, axis=0)\n",
    "y_err = np.std(sse, axis=0)\n",
    "ax.plot(range(1, 26), y, 'r')\n",
    "ax.fill_between(range(1, 26), y+y_err, y-y_err, color='r', alpha=0.25, label='No Boundaries')\n",
    "\n",
    "sse = np.linalg.norm(X_sample_uknbound - np.tile(X, (500, 1, 1)), axis=2)\n",
    "y = np.mean(sse, axis=0)\n",
    "y_err = np.std(sse, axis=0)\n",
    "ax.plot(range(1, 26), y, 'b')\n",
    "ax.fill_between(range(1, 26), y+y_err, y-y_err, color='b', alpha=0.25, label='W/ Event Boundaries')\n",
    "\n",
    "sse = np.linalg.norm(X_sample_knownevent - np.tile(X, (500, 1, 1)), axis=2)\n",
    "y = np.mean(sse, axis=0)\n",
    "y_err = np.std(sse, axis=0)\n",
    "ax.plot(range(1, 26), y, 'g')\n",
    "ax.fill_between(range(1, 26), y+y_err, y-y_err, color='g', alpha=0.25, label='W/ Known Events')\n",
    "\n",
    "plt.legend()\n",
    "plt.ylabel('Error (SSE)')\n",
    "plt.xlabel('Scene')\n",
    "plt.title('Reconstruction Error across time')\n",
    "sns.despine(offset=5)\n",
    "plt.savefig('Divachi_reconstruction_sse.png', dpi=300, bbox_inches='tight')"
   ]
  },
  {
   "cell_type": "markdown",
   "metadata": {},
   "source": [
    "Repeate the above, but this time evaluate each point without respect to time"
   ]
  },
  {
   "cell_type": "code",
   "execution_count": 17,
   "metadata": {},
   "outputs": [],
   "source": [
    "def sse_no_time(sample):\n",
    "    y = []\n",
    "    y_err = []\n",
    "    for ii in range(0, N):\n",
    "        sse = np.linalg.norm(sample.reshape(-1, D) - X[ii, :].reshape(-1, D), axis=1)\n",
    "        y.append(sse.mean())\n",
    "        y_err.append(sse.std())\n",
    "    return np.array(y), np.array(y_err)\n",
    "    "
   ]
  },
  {
   "cell_type": "code",
   "execution_count": 18,
   "metadata": {},
   "outputs": [
    {
     "data": {
      "image/png": "[encoded data removed]",
      "text/plain": [
       "<matplotlib.figure.Figure at 0x125ed3b10>"
      ]
     },
     "metadata": {},
     "output_type": "display_data"
    }
   ],
   "source": [
    "fig, ax = plt.subplots()\n",
    "\n",
    "# sse = np.linalg.norm(X_sample.reshapeape(-1, D) - X, axis=2)\n",
    "y, y_err = sse_no_time(X_sample)\n",
    "ax.plot(range(1, 26), y, 'r')\n",
    "ax.fill_between(range(1, 26), y+y_err, y-y_err, color='r', alpha=0.2, label='No Boundaries')\n",
    "\n",
    "y, y_err = sse_no_time(X_sample_uknbound)\n",
    "ax.plot(range(1, 26), y, 'b')\n",
    "ax.fill_between(range(1, 26), y+y_err, y-y_err, color='b', alpha=0.2, label='W/ Event Boundaries')\n",
    "\n",
    "y, y_err = sse_no_time(X_sample_knownevent)\n",
    "ax.plot(range(1, 26), y, 'g')\n",
    "ax.fill_between(range(1, 26), y+y_err, y-y_err, color='g', alpha=0.2, label='W/ Known Events')\n",
    "\n",
    "plt.legend()\n",
    "plt.ylabel('Error (SSE)')\n",
    "plt.xlabel('Scene')\n",
    "plt.title('Reconstruction Error')\n",
    "sns.despine(offset=5)"
   ]
  },
  {
   "cell_type": "markdown",
   "metadata": {},
   "source": [
    "okay great! as in the pettijohn simluations, the presense of event boundaries reduces the overall reconstruction error"
   ]
  },
  {
   "cell_type": "markdown",
   "metadata": {},
   "source": [
    "# Okay! Now we can look at memory stuff"
   ]
  },
  {
   "cell_type": "code",
   "execution_count": 19,
   "metadata": {},
   "outputs": [],
   "source": [
    "from sklearn.neighbors import KernelDensity\n",
    "\n",
    "def make_joint_density(X_sample, h=0.2):\n",
    "    # map the sample to sequential pairs (X_t-1, X_t) --> Y_t\n",
    "    Y_sample = np.concatenate([X_sample[:, 1:, :], X_sample[:, :-1, :]], axis=2\n",
    "                             ).reshape(-1, D*2)\n",
    "\n",
    "    kde = KernelDensity(kernel='gaussian', bandwidth=h).fit(Y_sample)\n",
    "    return kde\n",
    "\n",
    "def make_marginal_density(X_sample, h=0.2):\n",
    "    kde = KernelDensity(kernel='gaussian', bandwidth=h).fit(X_sample[:, 1:, :].reshape(-1, D))\n",
    "    return kde"
   ]
  },
  {
   "cell_type": "markdown",
   "metadata": {},
   "source": [
    "First, plot the joint distribution of items $\\mathbf{x}_{i}$ and $\\mathbf{x}_{i-1}$ as from t=1 (zero indexing) to N"
   ]
  },
  {
   "cell_type": "code",
   "execution_count": 20,
   "metadata": {},
   "outputs": [
    {
     "data": {
      "text/plain": [
       "Text(0.5,1,u'Bandwidth = 0.40')"
      ]
     },
     "execution_count": 20,
     "metadata": {},
     "output_type": "execute_result"
    },
    {
     "data": {
      "image/png": "[encoded data removed]",
      "text/plain": [
       "<matplotlib.figure.Figure at 0x121d383d0>"
      ]
     },
     "metadata": {},
     "output_type": "display_data"
    }
   ],
   "source": [
    "pre_boundary_scenes = [4, 9, 14, 19]\n",
    "post_boundary_scenes = [5, 10, 15, 20]\n",
    "other_scenes = [s for s in range(0, 23) if (s not in pre_boundary_scenes) & (s not in post_boundary_scenes)]\n",
    "\n",
    "\n",
    "\n",
    "Y = np.concatenate([X[1:, :], X[:-1, :]], axis=1)\n",
    "\n",
    "\n",
    "h=0.4\n",
    "\n",
    "k_joint = make_joint_density(X_sample_uknbound, h=h)\n",
    "marginals_mult = [k_joint.score_samples(Y[ii, :].reshape(1, -1)) for ii in range(0, N-1)]\n",
    "plt.plot(range(1, N), marginals_mult, label='Known Boundary locations')\n",
    "\n",
    "# k_joint = make_joint_density(X_sample_knownevent, h=0.4)\n",
    "# marginals_mult = [k_joint.score_samples(Y[ii, :].reshape(1, -1)) for ii in range(0, N-1)]\n",
    "# plt.plot(range(1, N), marginals_mult, label='Known Events')\n",
    "\n",
    "k_joint = make_joint_density(X_sample, h=h)\n",
    "marginals_sing = [k_joint.score_samples(Y[ii, :].reshape(1, -1)) for ii in range(0, N-1)]\n",
    "plt.plot(range(1, N), marginals_sing, label='No-Event Boundaries')\n",
    "plt.legend(loc='center right', bbox_to_anchor=(1.5, 0.5))\n",
    "\n",
    "ax = plt.gca()\n",
    "ylb, yub = ax.get_ylim()\n",
    "for b in pre_boundary_scenes:\n",
    "    plt.plot([b, b], [ylb, yub], 'k:', alpha=0.5)\n",
    "\n",
    "for b in post_boundary_scenes:\n",
    "    plt.plot([b, b], [ylb, yub], 'k--', alpha=0.5)\n",
    "    \n",
    "ax.set_ylim(ylb, yub)\n",
    "\n",
    "ax.set_ylabel(r'log $k(\\mathbf{x}_{t}, \\mathbf{x}_{t-1})$')\n",
    "ax.set_xlabel(r'Scenes $\\mathbf{x}_t$')\n",
    "ax.set_title('Bandwidth = %.2f' % h)\n",
    "# plt.savefig('Divachi_joint_distribution.png', dpi=300, bbox_inches='tight')"
   ]
  },
  {
   "cell_type": "code",
   "execution_count": 21,
   "metadata": {},
   "outputs": [
    {
     "data": {
      "text/plain": [
       "[0, 1, 2, 3, 6, 7, 8, 11, 12, 13, 16, 17, 18, 21, 22]"
      ]
     },
     "execution_count": 21,
     "metadata": {},
     "output_type": "execute_result"
    }
   ],
   "source": [
    "other_scenes"
   ]
  },
  {
   "cell_type": "markdown",
   "metadata": {},
   "source": [
    "Next, plot the conditional distribution of items $\\mathbf{x}_{i-1}|\\mathbf{x}_{i}$ and  as from t=1 (zero indexing) to N"
   ]
  },
  {
   "cell_type": "code",
   "execution_count": 22,
   "metadata": {},
   "outputs": [
    {
     "data": {
      "text/plain": [
       "Text(0.5,1,u'Bandwidth = 0.40')"
      ]
     },
     "execution_count": 22,
     "metadata": {},
     "output_type": "execute_result"
    },
    {
     "data": {
      "image/png": "[encoded data removed]",
      "text/plain": [
       "<matplotlib.figure.Figure at 0x1243f0e10>"
      ]
     },
     "metadata": {},
     "output_type": "display_data"
    }
   ],
   "source": [
    "pre_boundary_scenes = [4, 9, 14, 19]\n",
    "post_boundary_scenes = [5, 10, 15, 20]\n",
    "\n",
    "h = 0.4\n",
    "\n",
    "k_joint = make_joint_density(X_sample_uknbound, h=h)\n",
    "k_margi = make_marginal_density(X_sample_uknbound, h=h)\n",
    "marginals_mult = [k_joint.score_samples(Y[ii, :].reshape(1, -1)) \n",
    "                  - k_margi.score_samples(X[ii-1, :].reshape(1, -1))\n",
    "                  for ii in range(0, N-1)]\n",
    "plt.plot(range(1, N), marginals_mult, label='Known Boundaries')\n",
    "\n",
    "\n",
    "k_joint = make_joint_density(X_sample, h=h)\n",
    "k_margi = make_marginal_density(X_sample, h=h)\n",
    "marginals_sing = [k_joint.score_samples(Y[ii, :].reshape(1, -1)) \n",
    "                  - k_margi.score_samples(X[ii-1, :].reshape(1, -1))\n",
    "                  for ii in range(0, N-1)]\n",
    "plt.plot(range(1, N), marginals_sing, label='One Event')\n",
    "plt.legend(loc='center right', bbox_to_anchor=(1.5, 0.5))\n",
    "\n",
    "ax = plt.gca()\n",
    "ylb, yub = ax.get_ylim()\n",
    "for b in pre_boundary_scenes:\n",
    "    plt.plot([b, b], [ylb, yub], 'k:', alpha=0.5)\n",
    "\n",
    "for b in post_boundary_scenes:\n",
    "    plt.plot([b, b], [ylb, yub], 'k--', alpha=0.5)\n",
    "    \n",
    "ax.set_ylim(ylb, yub)\n",
    "\n",
    "ax.set_ylabel(r'log $k(\\mathbf{x}_{t-1}|\\mathbf{x}_{t-1})$')\n",
    "ax.set_xlabel(r'Scenes $\\mathbf{x}_t$')\n",
    "ax.set_title('Bandwidth = %.2f' % h)"
   ]
  },
  {
   "cell_type": "markdown",
   "metadata": {},
   "source": [
    "## Joint Density as a function of Bandwidth"
   ]
  },
  {
   "cell_type": "code",
   "execution_count": 23,
   "metadata": {},
   "outputs": [
    {
     "data": {
      "text/plain": [
       "<matplotlib.legend.Legend at 0x127e91950>"
      ]
     },
     "execution_count": 23,
     "metadata": {},
     "output_type": "execute_result"
    },
    {
     "data": {
      "image/png": "[encoded data removed]",
      "text/plain": [
       "<matplotlib.figure.Figure at 0x1276ef190>"
      ]
     },
     "metadata": {},
     "output_type": "display_data"
    }
   ],
   "source": [
    "fig, axes = plt.subplots(1, 3, figsize=(9, 3))\n",
    "\n",
    "hs = np.arange(0.1, 0.51, 0.1)\n",
    "\n",
    "# create the map to Y\n",
    "\n",
    "def score_joint(sample, hs):\n",
    "    \n",
    "    score_pre = [None] * len(hs)\n",
    "    score_pst = [None] * len(hs)\n",
    "    \n",
    "    for jj, h in enumerate(hs):\n",
    "        # note! Y is a function from 1:N whereas everything else is a function of 0:N\n",
    "        # this is b/c Y_t is a concanation of x_t & x_{t-1}, which is undefined for t = 0\n",
    "\n",
    "        k_joint = make_joint_density(np.array(sample), h=h)\n",
    "\n",
    "        score_pre0 = [k_joint.score_samples(Y[ii + 1, :].reshape(1, -1)) for ii in pre_boundary_scenes]\n",
    "        score_pre[jj] = logsumexp(score_pre0) - np.log(len(score_pre0))\n",
    "\n",
    "        score_pst0 = [k_joint.score_samples(Y[ii + 1, :].reshape(1, -1)) for ii in post_boundary_scenes]\n",
    "        score_pst[jj] = logsumexp(score_pst0) - np.log(len(score_pst0))\n",
    "\n",
    "    return score_pre, score_pst\n",
    "\n",
    "#### one big event! ##\n",
    "\n",
    "ax = axes[0]\n",
    "\n",
    "score_pre, score_pst = score_joint(X_sample, hs)\n",
    "    \n",
    "ax.plot(hs, score_pre, label='Pre-Boundary')\n",
    "ax.plot(hs, score_pst, label='Post-Boundary')\n",
    "ax.set_title('No event boundaries')\n",
    "\n",
    "#### with event boundaries! ##\n",
    "\n",
    "ax = axes[1]\n",
    "\n",
    "score_pre, score_pst = score_joint(X_sample_uknbound, hs)\n",
    "\n",
    "ax.plot(hs, score_pre, label='Pre-Boundary')\n",
    "ax.plot(hs, score_pst, label='Post-Boundary')\n",
    "ax.set_title('Event Boundaries at \\ncategory switch')\n",
    "\n",
    "\n",
    "ax = axes[2]\n",
    "\n",
    "score_pre, score_pst = score_joint(X_sample_knownevent, hs)\n",
    "    \n",
    "ax.plot(hs, score_pre, label='Pre-Boundary')\n",
    "ax.plot(hs, score_pst, label='Post-Boundary')\n",
    "ax.set_title('Event Boundaries at \\ncategory switch \\n& Known Events')\n",
    "\n",
    "plt.legend(bbox_to_anchor=(1.5, 0.5), loc='center right')"
   ]
  },
  {
   "cell_type": "markdown",
   "metadata": {},
   "source": [
    "# Conditional Density as a function of Bandwidth"
   ]
  },
  {
   "cell_type": "code",
   "execution_count": 255,
   "metadata": {},
   "outputs": [
    {
     "data": {
      "text/plain": [
       "<matplotlib.legend.Legend at 0x17f452050>"
      ]
     },
     "execution_count": 255,
     "metadata": {},
     "output_type": "execute_result"
    },
    {
     "data": {
      "image/png": "[encoded data removed]",
      "text/plain": [
       "<matplotlib.figure.Figure at 0x17eb61650>"
      ]
     },
     "metadata": {},
     "output_type": "display_data"
    }
   ],
   "source": [
    "fig, axes = plt.subplots(1, 3, figsize=(9, 3))\n",
    "\n",
    "hs = np.arange(0.1, 0.51, 0.1)\n",
    "\n",
    "# create the map to Y\n",
    "Y = np.concatenate([X[1:, :], X[:-1, :]], axis=1)\n",
    "\n",
    "# construct foils!\n",
    "Y_foils = np.concatenate([np.concatenate([np.concatenate([X[jj+2:, :], X[1:jj+1, :]]), \n",
    "                                          np.tile(X[jj, :], (23, 1))], axis=1).reshape(23, -1, 1) \n",
    "                          for jj in range(0, 24)], axis=2)\n",
    "\n",
    "def score_marg(sample, hs):\n",
    "    prob_pre = [None] * len(hs)\n",
    "    prob_pst = [None] * len(hs)\n",
    "    prob_oth = [None] * len(hs)\n",
    "\n",
    "    for jj, h in enumerate(hs):\n",
    "        # note! Y is a function from 1:N whereas everything else is a function of 0:N\n",
    "        # this is b/c Y_t is a concanation of x_t & x_{t-1}, which is undefined for t = 0\n",
    "\n",
    "        k_joint = make_joint_density(np.array(sample), h=h)\n",
    "        k_margi = make_marginal_density(sample, h=h)\n",
    "        \n",
    "        def get_prob(list_scenes):\n",
    "            chance = [\n",
    "                logsumexp([k_joint.score_samples(Y_foils[kk, :, ii].reshape(1, -1)) \n",
    "                           - k_margi.score_samples(X[ii, ].reshape(1, -1))\n",
    "                           for kk in range(0, 23)])\n",
    "                for ii in list_scenes\n",
    "            ]\n",
    "            chance = logsumexp(chance) - np.log(len(chance))\n",
    "\n",
    "            score = [k_joint.score_samples(Y[ii + 1, :].reshape(1, -1)) \n",
    "                          - k_margi.score_samples(X[ii, ].reshape(1, -1))\n",
    "                          for ii in list_scenes]\n",
    "            score = logsumexp(score) - np.log(len(score))\n",
    "\n",
    "            return np.exp(score - logsumexp([score, chance]))\n",
    "\n",
    "        prob_pre[jj] = get_prob(pre_boundary_scenes)\n",
    "        prob_pst[jj] = get_prob(post_boundary_scenes)\n",
    "        prob_oth[jj] = get_prob(other_scenes)\n",
    "\n",
    "\n",
    "    return prob_pre, prob_pst, prob_oth\n",
    "\n",
    "# #### one big event! ##\n",
    "ax = axes[0]\n",
    "score_pre, score_pst, score_oth = score_marg(X_sample, hs)\n",
    "ax.plot(hs, score_pre, label='Pre-Boundary')\n",
    "ax.plot(hs, score_pst, label='Post-Boundary')\n",
    "ax.plot(hs, score_oth, label='Other Scenes')\n",
    "ax.set_title('No event boundaries')\n",
    "\n",
    "#### with event boundaries! ##\n",
    "ax = axes[1]\n",
    "score_pre, score_pst, score_oth = score_marg(X_sample_uknbound, hs)\n",
    "ax.plot(hs, score_pre, label='Pre-Boundary')\n",
    "ax.plot(hs, score_pst, label='Post-Boundary')\n",
    "ax.plot(hs, score_oth, label='Other Scenes')\n",
    "ax.set_title('Event Boundaries at \\ncategory switch')\n",
    "\n",
    "# #### with event boundaries! ##\n",
    "ax = axes[2]\n",
    "score_pre, score_pst, score_oth = score_marg(X_sample_knownevent, hs)\n",
    "ax.plot(hs, score_pre, label='Pre-Boundary')\n",
    "ax.plot(hs, score_pst, label='Post-Boundary')\n",
    "ax.plot(hs, score_oth, label='Other Scenes')\n",
    "ax.set_title('Event Boundaries at \\ncategory switch \\n& Known Events')\n",
    "\n",
    "plt.legend(bbox_to_anchor=(1.5, 0.5), loc='center right')"
   ]
  },
  {
   "cell_type": "markdown",
   "metadata": {},
   "source": [
    "# Okay!!! Now batch the thing"
   ]
  },
  {
   "cell_type": "code",
   "execution_count": 273,
   "metadata": {},
   "outputs": [
    {
     "data": {
      "application/vnd.jupyter.widget-view+json": {
       "model_id": "075b610006984a1b9f944ff1452852cd",
       "version_major": 2,
       "version_minor": 0
      },
      "text/html": [
       "<p>Failed to display Jupyter Widget of type <code>HBox</code>.</p>\n",
       "<p>\n",
       "  If you're reading this message in the Jupyter Notebook or JupyterLab Notebook, it may mean\n",
       "  that the widgets JavaScript is still loading. If this message persists, it\n",
       "  likely means that the widgets JavaScript library is either not installed or\n",
       "  not enabled. See the <a href=\"https://ipywidgets.readthedocs.io/en/stable/user_install.html\">Jupyter\n",
       "  Widgets Documentation</a> for setup instructions.\n",
       "</p>\n",
       "<p>\n",
       "  If you're reading this message in another frontend (for example, a static\n",
       "  rendering on GitHub or <a href=\"https://nbviewer.jupyter.org/\">NBViewer</a>),\n",
       "  it may mean that your frontend doesn't currently support widgets.\n",
       "</p>\n"
      ],
      "text/plain": [
       "HBox(children=(IntProgress(value=0, max=12), HTML(value=u'')))"
      ]
     },
     "metadata": {},
     "output_type": "display_data"
    },
    {
     "data": {
      "application/vnd.jupyter.widget-view+json": {
       "model_id": "126d8d9ecca04943a5f411a7e133ea97",
       "version_major": 2,
       "version_minor": 0
      },
      "text/html": [
       "<p>Failed to display Jupyter Widget of type <code>HBox</code>.</p>\n",
       "<p>\n",
       "  If you're reading this message in the Jupyter Notebook or JupyterLab Notebook, it may mean\n",
       "  that the widgets JavaScript is still loading. If this message persists, it\n",
       "  likely means that the widgets JavaScript library is either not installed or\n",
       "  not enabled. See the <a href=\"https://ipywidgets.readthedocs.io/en/stable/user_install.html\">Jupyter\n",
       "  Widgets Documentation</a> for setup instructions.\n",
       "</p>\n",
       "<p>\n",
       "  If you're reading this message in another frontend (for example, a static\n",
       "  rendering on GitHub or <a href=\"https://nbviewer.jupyter.org/\">NBViewer</a>),\n",
       "  it may mean that your frontend doesn't currently support widgets.\n",
       "</p>\n"
      ],
      "text/plain": [
       "HBox(children=(IntProgress(value=0, description=u'Gibbs', max=1000), HTML(value=u'')))"
      ]
     },
     "metadata": {},
     "output_type": "display_data"
    },
    {
     "data": {
      "application/vnd.jupyter.widget-view+json": {
       "model_id": "fe42e283157546699d4f81becbadae00",
       "version_major": 2,
       "version_minor": 0
      },
      "text/html": [
       "<p>Failed to display Jupyter Widget of type <code>HBox</code>.</p>\n",
       "<p>\n",
       "  If you're reading this message in the Jupyter Notebook or JupyterLab Notebook, it may mean\n",
       "  that the widgets JavaScript is still loading. If this message persists, it\n",
       "  likely means that the widgets JavaScript library is either not installed or\n",
       "  not enabled. See the <a href=\"https://ipywidgets.readthedocs.io/en/stable/user_install.html\">Jupyter\n",
       "  Widgets Documentation</a> for setup instructions.\n",
       "</p>\n",
       "<p>\n",
       "  If you're reading this message in another frontend (for example, a static\n",
       "  rendering on GitHub or <a href=\"https://nbviewer.jupyter.org/\">NBViewer</a>),\n",
       "  it may mean that your frontend doesn't currently support widgets.\n",
       "</p>\n"
      ],
      "text/plain": [
       "HBox(children=(IntProgress(value=0, description=u'Gibbs', max=1000), HTML(value=u'')))"
      ]
     },
     "metadata": {},
     "output_type": "display_data"
    },
    {
     "name": "stderr",
     "output_type": "stream",
     "text": [
      "/anaconda2/envs/sem/lib/python2.7/site-packages/ipykernel_launcher.py:65: RuntimeWarning: divide by zero encountered in log\n"
     ]
    },
    {
     "data": {
      "application/vnd.jupyter.widget-view+json": {
       "model_id": "e0e271844e544c07b7a2cdccdae971ec",
       "version_major": 2,
       "version_minor": 0
      },
      "text/html": [
       "<p>Failed to display Jupyter Widget of type <code>HBox</code>.</p>\n",
       "<p>\n",
       "  If you're reading this message in the Jupyter Notebook or JupyterLab Notebook, it may mean\n",
       "  that the widgets JavaScript is still loading. If this message persists, it\n",
       "  likely means that the widgets JavaScript library is either not installed or\n",
       "  not enabled. See the <a href=\"https://ipywidgets.readthedocs.io/en/stable/user_install.html\">Jupyter\n",
       "  Widgets Documentation</a> for setup instructions.\n",
       "</p>\n",
       "<p>\n",
       "  If you're reading this message in another frontend (for example, a static\n",
       "  rendering on GitHub or <a href=\"https://nbviewer.jupyter.org/\">NBViewer</a>),\n",
       "  it may mean that your frontend doesn't currently support widgets.\n",
       "</p>\n"
      ],
      "text/plain": [
       "HBox(children=(IntProgress(value=0, description=u'Gibbs', max=1000), HTML(value=u'')))"
      ]
     },
     "metadata": {},
     "output_type": "display_data"
    },
    {
     "data": {
      "application/vnd.jupyter.widget-view+json": {
       "model_id": "cc5518800390455592498e2f646ec7cd",
       "version_major": 2,
       "version_minor": 0
      },
      "text/html": [
       "<p>Failed to display Jupyter Widget of type <code>HBox</code>.</p>\n",
       "<p>\n",
       "  If you're reading this message in the Jupyter Notebook or JupyterLab Notebook, it may mean\n",
       "  that the widgets JavaScript is still loading. If this message persists, it\n",
       "  likely means that the widgets JavaScript library is either not installed or\n",
       "  not enabled. See the <a href=\"https://ipywidgets.readthedocs.io/en/stable/user_install.html\">Jupyter\n",
       "  Widgets Documentation</a> for setup instructions.\n",
       "</p>\n",
       "<p>\n",
       "  If you're reading this message in another frontend (for example, a static\n",
       "  rendering on GitHub or <a href=\"https://nbviewer.jupyter.org/\">NBViewer</a>),\n",
       "  it may mean that your frontend doesn't currently support widgets.\n",
       "</p>\n"
      ],
      "text/plain": [
       "HBox(children=(IntProgress(value=0, description=u'Gibbs', max=1000), HTML(value=u'')))"
      ]
     },
     "metadata": {},
     "output_type": "display_data"
    },
    {
     "data": {
      "application/vnd.jupyter.widget-view+json": {
       "model_id": "9d3a88346aa34f9a808c6bedcc8a5974",
       "version_major": 2,
       "version_minor": 0
      },
      "text/html": [
       "<p>Failed to display Jupyter Widget of type <code>HBox</code>.</p>\n",
       "<p>\n",
       "  If you're reading this message in the Jupyter Notebook or JupyterLab Notebook, it may mean\n",
       "  that the widgets JavaScript is still loading. If this message persists, it\n",
       "  likely means that the widgets JavaScript library is either not installed or\n",
       "  not enabled. See the <a href=\"https://ipywidgets.readthedocs.io/en/stable/user_install.html\">Jupyter\n",
       "  Widgets Documentation</a> for setup instructions.\n",
       "</p>\n",
       "<p>\n",
       "  If you're reading this message in another frontend (for example, a static\n",
       "  rendering on GitHub or <a href=\"https://nbviewer.jupyter.org/\">NBViewer</a>),\n",
       "  it may mean that your frontend doesn't currently support widgets.\n",
       "</p>\n"
      ],
      "text/plain": [
       "HBox(children=(IntProgress(value=0, description=u'Gibbs', max=1000), HTML(value=u'')))"
      ]
     },
     "metadata": {},
     "output_type": "display_data"
    },
    {
     "data": {
      "application/vnd.jupyter.widget-view+json": {
       "model_id": "81233f7d53ce4efab0a308042dda97b3",
       "version_major": 2,
       "version_minor": 0
      },
      "text/html": [
       "<p>Failed to display Jupyter Widget of type <code>HBox</code>.</p>\n",
       "<p>\n",
       "  If you're reading this message in the Jupyter Notebook or JupyterLab Notebook, it may mean\n",
       "  that the widgets JavaScript is still loading. If this message persists, it\n",
       "  likely means that the widgets JavaScript library is either not installed or\n",
       "  not enabled. See the <a href=\"https://ipywidgets.readthedocs.io/en/stable/user_install.html\">Jupyter\n",
       "  Widgets Documentation</a> for setup instructions.\n",
       "</p>\n",
       "<p>\n",
       "  If you're reading this message in another frontend (for example, a static\n",
       "  rendering on GitHub or <a href=\"https://nbviewer.jupyter.org/\">NBViewer</a>),\n",
       "  it may mean that your frontend doesn't currently support widgets.\n",
       "</p>\n"
      ],
      "text/plain": [
       "HBox(children=(IntProgress(value=0, description=u'Gibbs', max=1000), HTML(value=u'')))"
      ]
     },
     "metadata": {},
     "output_type": "display_data"
    },
    {
     "data": {
      "application/vnd.jupyter.widget-view+json": {
       "model_id": "09f16ff3424e4193b27ae0bd547c702d",
       "version_major": 2,
       "version_minor": 0
      },
      "text/html": [
       "<p>Failed to display Jupyter Widget of type <code>HBox</code>.</p>\n",
       "<p>\n",
       "  If you're reading this message in the Jupyter Notebook or JupyterLab Notebook, it may mean\n",
       "  that the widgets JavaScript is still loading. If this message persists, it\n",
       "  likely means that the widgets JavaScript library is either not installed or\n",
       "  not enabled. See the <a href=\"https://ipywidgets.readthedocs.io/en/stable/user_install.html\">Jupyter\n",
       "  Widgets Documentation</a> for setup instructions.\n",
       "</p>\n",
       "<p>\n",
       "  If you're reading this message in another frontend (for example, a static\n",
       "  rendering on GitHub or <a href=\"https://nbviewer.jupyter.org/\">NBViewer</a>),\n",
       "  it may mean that your frontend doesn't currently support widgets.\n",
       "</p>\n"
      ],
      "text/plain": [
       "HBox(children=(IntProgress(value=0, description=u'Gibbs', max=1000), HTML(value=u'')))"
      ]
     },
     "metadata": {},
     "output_type": "display_data"
    },
    {
     "data": {
      "application/vnd.jupyter.widget-view+json": {
       "model_id": "4d979bff41254622b259ccb8e6a76abe",
       "version_major": 2,
       "version_minor": 0
      },
      "text/html": [
       "<p>Failed to display Jupyter Widget of type <code>HBox</code>.</p>\n",
       "<p>\n",
       "  If you're reading this message in the Jupyter Notebook or JupyterLab Notebook, it may mean\n",
       "  that the widgets JavaScript is still loading. If this message persists, it\n",
       "  likely means that the widgets JavaScript library is either not installed or\n",
       "  not enabled. See the <a href=\"https://ipywidgets.readthedocs.io/en/stable/user_install.html\">Jupyter\n",
       "  Widgets Documentation</a> for setup instructions.\n",
       "</p>\n",
       "<p>\n",
       "  If you're reading this message in another frontend (for example, a static\n",
       "  rendering on GitHub or <a href=\"https://nbviewer.jupyter.org/\">NBViewer</a>),\n",
       "  it may mean that your frontend doesn't currently support widgets.\n",
       "</p>\n"
      ],
      "text/plain": [
       "HBox(children=(IntProgress(value=0, description=u'Gibbs', max=1000), HTML(value=u'')))"
      ]
     },
     "metadata": {},
     "output_type": "display_data"
    },
    {
     "data": {
      "application/vnd.jupyter.widget-view+json": {
       "model_id": "a2cf929ddaff4114967a20e7f5ba939f",
       "version_major": 2,
       "version_minor": 0
      },
      "text/html": [
       "<p>Failed to display Jupyter Widget of type <code>HBox</code>.</p>\n",
       "<p>\n",
       "  If you're reading this message in the Jupyter Notebook or JupyterLab Notebook, it may mean\n",
       "  that the widgets JavaScript is still loading. If this message persists, it\n",
       "  likely means that the widgets JavaScript library is either not installed or\n",
       "  not enabled. See the <a href=\"https://ipywidgets.readthedocs.io/en/stable/user_install.html\">Jupyter\n",
       "  Widgets Documentation</a> for setup instructions.\n",
       "</p>\n",
       "<p>\n",
       "  If you're reading this message in another frontend (for example, a static\n",
       "  rendering on GitHub or <a href=\"https://nbviewer.jupyter.org/\">NBViewer</a>),\n",
       "  it may mean that your frontend doesn't currently support widgets.\n",
       "</p>\n"
      ],
      "text/plain": [
       "HBox(children=(IntProgress(value=0, description=u'Gibbs', max=1000), HTML(value=u'')))"
      ]
     },
     "metadata": {},
     "output_type": "display_data"
    },
    {
     "data": {
      "application/vnd.jupyter.widget-view+json": {
       "model_id": "bf5f7f01b0ea430c85e81f3d1d7d0ccb",
       "version_major": 2,
       "version_minor": 0
      },
      "text/html": [
       "<p>Failed to display Jupyter Widget of type <code>HBox</code>.</p>\n",
       "<p>\n",
       "  If you're reading this message in the Jupyter Notebook or JupyterLab Notebook, it may mean\n",
       "  that the widgets JavaScript is still loading. If this message persists, it\n",
       "  likely means that the widgets JavaScript library is either not installed or\n",
       "  not enabled. See the <a href=\"https://ipywidgets.readthedocs.io/en/stable/user_install.html\">Jupyter\n",
       "  Widgets Documentation</a> for setup instructions.\n",
       "</p>\n",
       "<p>\n",
       "  If you're reading this message in another frontend (for example, a static\n",
       "  rendering on GitHub or <a href=\"https://nbviewer.jupyter.org/\">NBViewer</a>),\n",
       "  it may mean that your frontend doesn't currently support widgets.\n",
       "</p>\n"
      ],
      "text/plain": [
       "HBox(children=(IntProgress(value=0, description=u'Gibbs', max=1000), HTML(value=u'')))"
      ]
     },
     "metadata": {},
     "output_type": "display_data"
    },
    {
     "data": {
      "application/vnd.jupyter.widget-view+json": {
       "model_id": "32fe08cfd66f4fcf9dba622534a44fb8",
       "version_major": 2,
       "version_minor": 0
      },
      "text/html": [
       "<p>Failed to display Jupyter Widget of type <code>HBox</code>.</p>\n",
       "<p>\n",
       "  If you're reading this message in the Jupyter Notebook or JupyterLab Notebook, it may mean\n",
       "  that the widgets JavaScript is still loading. If this message persists, it\n",
       "  likely means that the widgets JavaScript library is either not installed or\n",
       "  not enabled. See the <a href=\"https://ipywidgets.readthedocs.io/en/stable/user_install.html\">Jupyter\n",
       "  Widgets Documentation</a> for setup instructions.\n",
       "</p>\n",
       "<p>\n",
       "  If you're reading this message in another frontend (for example, a static\n",
       "  rendering on GitHub or <a href=\"https://nbviewer.jupyter.org/\">NBViewer</a>),\n",
       "  it may mean that your frontend doesn't currently support widgets.\n",
       "</p>\n"
      ],
      "text/plain": [
       "HBox(children=(IntProgress(value=0, description=u'Gibbs', max=1000), HTML(value=u'')))"
      ]
     },
     "metadata": {},
     "output_type": "display_data"
    },
    {
     "data": {
      "application/vnd.jupyter.widget-view+json": {
       "model_id": "361db2c9ef44477bb3e41e966e50d6bf",
       "version_major": 2,
       "version_minor": 0
      },
      "text/html": [
       "<p>Failed to display Jupyter Widget of type <code>HBox</code>.</p>\n",
       "<p>\n",
       "  If you're reading this message in the Jupyter Notebook or JupyterLab Notebook, it may mean\n",
       "  that the widgets JavaScript is still loading. If this message persists, it\n",
       "  likely means that the widgets JavaScript library is either not installed or\n",
       "  not enabled. See the <a href=\"https://ipywidgets.readthedocs.io/en/stable/user_install.html\">Jupyter\n",
       "  Widgets Documentation</a> for setup instructions.\n",
       "</p>\n",
       "<p>\n",
       "  If you're reading this message in another frontend (for example, a static\n",
       "  rendering on GitHub or <a href=\"https://nbviewer.jupyter.org/\">NBViewer</a>),\n",
       "  it may mean that your frontend doesn't currently support widgets.\n",
       "</p>\n"
      ],
      "text/plain": [
       "HBox(children=(IntProgress(value=0, description=u'Gibbs', max=1000), HTML(value=u'')))"
      ]
     },
     "metadata": {},
     "output_type": "display_data"
    },
    {
     "data": {
      "application/vnd.jupyter.widget-view+json": {
       "model_id": "40e10a9ad39a4ce183cf6d48516b5874",
       "version_major": 2,
       "version_minor": 0
      },
      "text/html": [
       "<p>Failed to display Jupyter Widget of type <code>HBox</code>.</p>\n",
       "<p>\n",
       "  If you're reading this message in the Jupyter Notebook or JupyterLab Notebook, it may mean\n",
       "  that the widgets JavaScript is still loading. If this message persists, it\n",
       "  likely means that the widgets JavaScript library is either not installed or\n",
       "  not enabled. See the <a href=\"https://ipywidgets.readthedocs.io/en/stable/user_install.html\">Jupyter\n",
       "  Widgets Documentation</a> for setup instructions.\n",
       "</p>\n",
       "<p>\n",
       "  If you're reading this message in another frontend (for example, a static\n",
       "  rendering on GitHub or <a href=\"https://nbviewer.jupyter.org/\">NBViewer</a>),\n",
       "  it may mean that your frontend doesn't currently support widgets.\n",
       "</p>\n"
      ],
      "text/plain": [
       "HBox(children=(IntProgress(value=0, description=u'Gibbs', max=1000), HTML(value=u'')))"
      ]
     },
     "metadata": {},
     "output_type": "display_data"
    },
    {
     "data": {
      "application/vnd.jupyter.widget-view+json": {
       "model_id": "8523786a77664d0a9b4b90ae6a852460",
       "version_major": 2,
       "version_minor": 0
      },
      "text/html": [
       "<p>Failed to display Jupyter Widget of type <code>HBox</code>.</p>\n",
       "<p>\n",
       "  If you're reading this message in the Jupyter Notebook or JupyterLab Notebook, it may mean\n",
       "  that the widgets JavaScript is still loading. If this message persists, it\n",
       "  likely means that the widgets JavaScript library is either not installed or\n",
       "  not enabled. See the <a href=\"https://ipywidgets.readthedocs.io/en/stable/user_install.html\">Jupyter\n",
       "  Widgets Documentation</a> for setup instructions.\n",
       "</p>\n",
       "<p>\n",
       "  If you're reading this message in another frontend (for example, a static\n",
       "  rendering on GitHub or <a href=\"https://nbviewer.jupyter.org/\">NBViewer</a>),\n",
       "  it may mean that your frontend doesn't currently support widgets.\n",
       "</p>\n"
      ],
      "text/plain": [
       "HBox(children=(IntProgress(value=0, description=u'Gibbs', max=1000), HTML(value=u'')))"
      ]
     },
     "metadata": {},
     "output_type": "display_data"
    },
    {
     "data": {
      "application/vnd.jupyter.widget-view+json": {
       "model_id": "f9d5bd4e58954dab84571f9cfb14b5ae",
       "version_major": 2,
       "version_minor": 0
      },
      "text/html": [
       "<p>Failed to display Jupyter Widget of type <code>HBox</code>.</p>\n",
       "<p>\n",
       "  If you're reading this message in the Jupyter Notebook or JupyterLab Notebook, it may mean\n",
       "  that the widgets JavaScript is still loading. If this message persists, it\n",
       "  likely means that the widgets JavaScript library is either not installed or\n",
       "  not enabled. See the <a href=\"https://ipywidgets.readthedocs.io/en/stable/user_install.html\">Jupyter\n",
       "  Widgets Documentation</a> for setup instructions.\n",
       "</p>\n",
       "<p>\n",
       "  If you're reading this message in another frontend (for example, a static\n",
       "  rendering on GitHub or <a href=\"https://nbviewer.jupyter.org/\">NBViewer</a>),\n",
       "  it may mean that your frontend doesn't currently support widgets.\n",
       "</p>\n"
      ],
      "text/plain": [
       "HBox(children=(IntProgress(value=0, description=u'Gibbs', max=1000), HTML(value=u'')))"
      ]
     },
     "metadata": {},
     "output_type": "display_data"
    },
    {
     "data": {
      "application/vnd.jupyter.widget-view+json": {
       "model_id": "12786a39d7064a40a29e353f1bc1c82e",
       "version_major": 2,
       "version_minor": 0
      },
      "text/html": [
       "<p>Failed to display Jupyter Widget of type <code>HBox</code>.</p>\n",
       "<p>\n",
       "  If you're reading this message in the Jupyter Notebook or JupyterLab Notebook, it may mean\n",
       "  that the widgets JavaScript is still loading. If this message persists, it\n",
       "  likely means that the widgets JavaScript library is either not installed or\n",
       "  not enabled. See the <a href=\"https://ipywidgets.readthedocs.io/en/stable/user_install.html\">Jupyter\n",
       "  Widgets Documentation</a> for setup instructions.\n",
       "</p>\n",
       "<p>\n",
       "  If you're reading this message in another frontend (for example, a static\n",
       "  rendering on GitHub or <a href=\"https://nbviewer.jupyter.org/\">NBViewer</a>),\n",
       "  it may mean that your frontend doesn't currently support widgets.\n",
       "</p>\n"
      ],
      "text/plain": [
       "HBox(children=(IntProgress(value=0, description=u'Gibbs', max=1000), HTML(value=u'')))"
      ]
     },
     "metadata": {},
     "output_type": "display_data"
    },
    {
     "data": {
      "application/vnd.jupyter.widget-view+json": {
       "model_id": "e3ff61afc5694f419c17f55246d7a0e9",
       "version_major": 2,
       "version_minor": 0
      },
      "text/html": [
       "<p>Failed to display Jupyter Widget of type <code>HBox</code>.</p>\n",
       "<p>\n",
       "  If you're reading this message in the Jupyter Notebook or JupyterLab Notebook, it may mean\n",
       "  that the widgets JavaScript is still loading. If this message persists, it\n",
       "  likely means that the widgets JavaScript library is either not installed or\n",
       "  not enabled. See the <a href=\"https://ipywidgets.readthedocs.io/en/stable/user_install.html\">Jupyter\n",
       "  Widgets Documentation</a> for setup instructions.\n",
       "</p>\n",
       "<p>\n",
       "  If you're reading this message in another frontend (for example, a static\n",
       "  rendering on GitHub or <a href=\"https://nbviewer.jupyter.org/\">NBViewer</a>),\n",
       "  it may mean that your frontend doesn't currently support widgets.\n",
       "</p>\n"
      ],
      "text/plain": [
       "HBox(children=(IntProgress(value=0, description=u'Gibbs', max=1000), HTML(value=u'')))"
      ]
     },
     "metadata": {},
     "output_type": "display_data"
    },
    {
     "data": {
      "application/vnd.jupyter.widget-view+json": {
       "model_id": "3bb5a28945a74b6285fadea3f94c895e",
       "version_major": 2,
       "version_minor": 0
      },
      "text/html": [
       "<p>Failed to display Jupyter Widget of type <code>HBox</code>.</p>\n",
       "<p>\n",
       "  If you're reading this message in the Jupyter Notebook or JupyterLab Notebook, it may mean\n",
       "  that the widgets JavaScript is still loading. If this message persists, it\n",
       "  likely means that the widgets JavaScript library is either not installed or\n",
       "  not enabled. See the <a href=\"https://ipywidgets.readthedocs.io/en/stable/user_install.html\">Jupyter\n",
       "  Widgets Documentation</a> for setup instructions.\n",
       "</p>\n",
       "<p>\n",
       "  If you're reading this message in another frontend (for example, a static\n",
       "  rendering on GitHub or <a href=\"https://nbviewer.jupyter.org/\">NBViewer</a>),\n",
       "  it may mean that your frontend doesn't currently support widgets.\n",
       "</p>\n"
      ],
      "text/plain": [
       "HBox(children=(IntProgress(value=0, description=u'Gibbs', max=1000), HTML(value=u'')))"
      ]
     },
     "metadata": {},
     "output_type": "display_data"
    },
    {
     "data": {
      "application/vnd.jupyter.widget-view+json": {
       "model_id": "fcedea6acd1e4817aff4dbfc8c1c18e8",
       "version_major": 2,
       "version_minor": 0
      },
      "text/html": [
       "<p>Failed to display Jupyter Widget of type <code>HBox</code>.</p>\n",
       "<p>\n",
       "  If you're reading this message in the Jupyter Notebook or JupyterLab Notebook, it may mean\n",
       "  that the widgets JavaScript is still loading. If this message persists, it\n",
       "  likely means that the widgets JavaScript library is either not installed or\n",
       "  not enabled. See the <a href=\"https://ipywidgets.readthedocs.io/en/stable/user_install.html\">Jupyter\n",
       "  Widgets Documentation</a> for setup instructions.\n",
       "</p>\n",
       "<p>\n",
       "  If you're reading this message in another frontend (for example, a static\n",
       "  rendering on GitHub or <a href=\"https://nbviewer.jupyter.org/\">NBViewer</a>),\n",
       "  it may mean that your frontend doesn't currently support widgets.\n",
       "</p>\n"
      ],
      "text/plain": [
       "HBox(children=(IntProgress(value=0, description=u'Gibbs', max=1000), HTML(value=u'')))"
      ]
     },
     "metadata": {},
     "output_type": "display_data"
    },
    {
     "data": {
      "application/vnd.jupyter.widget-view+json": {
       "model_id": "1cb45fc2999749deafc39ba50b7b9904",
       "version_major": 2,
       "version_minor": 0
      },
      "text/html": [
       "<p>Failed to display Jupyter Widget of type <code>HBox</code>.</p>\n",
       "<p>\n",
       "  If you're reading this message in the Jupyter Notebook or JupyterLab Notebook, it may mean\n",
       "  that the widgets JavaScript is still loading. If this message persists, it\n",
       "  likely means that the widgets JavaScript library is either not installed or\n",
       "  not enabled. See the <a href=\"https://ipywidgets.readthedocs.io/en/stable/user_install.html\">Jupyter\n",
       "  Widgets Documentation</a> for setup instructions.\n",
       "</p>\n",
       "<p>\n",
       "  If you're reading this message in another frontend (for example, a static\n",
       "  rendering on GitHub or <a href=\"https://nbviewer.jupyter.org/\">NBViewer</a>),\n",
       "  it may mean that your frontend doesn't currently support widgets.\n",
       "</p>\n"
      ],
      "text/plain": [
       "HBox(children=(IntProgress(value=0, description=u'Gibbs', max=1000), HTML(value=u'')))"
      ]
     },
     "metadata": {},
     "output_type": "display_data"
    },
    {
     "data": {
      "application/vnd.jupyter.widget-view+json": {
       "model_id": "4256319ce36b4845b10ce7adad1c1807",
       "version_major": 2,
       "version_minor": 0
      },
      "text/html": [
       "<p>Failed to display Jupyter Widget of type <code>HBox</code>.</p>\n",
       "<p>\n",
       "  If you're reading this message in the Jupyter Notebook or JupyterLab Notebook, it may mean\n",
       "  that the widgets JavaScript is still loading. If this message persists, it\n",
       "  likely means that the widgets JavaScript library is either not installed or\n",
       "  not enabled. See the <a href=\"https://ipywidgets.readthedocs.io/en/stable/user_install.html\">Jupyter\n",
       "  Widgets Documentation</a> for setup instructions.\n",
       "</p>\n",
       "<p>\n",
       "  If you're reading this message in another frontend (for example, a static\n",
       "  rendering on GitHub or <a href=\"https://nbviewer.jupyter.org/\">NBViewer</a>),\n",
       "  it may mean that your frontend doesn't currently support widgets.\n",
       "</p>\n"
      ],
      "text/plain": [
       "HBox(children=(IntProgress(value=0, description=u'Gibbs', max=1000), HTML(value=u'')))"
      ]
     },
     "metadata": {},
     "output_type": "display_data"
    },
    {
     "data": {
      "application/vnd.jupyter.widget-view+json": {
       "model_id": "bfbc7b41b41347579703e37394b5bbba",
       "version_major": 2,
       "version_minor": 0
      },
      "text/html": [
       "<p>Failed to display Jupyter Widget of type <code>HBox</code>.</p>\n",
       "<p>\n",
       "  If you're reading this message in the Jupyter Notebook or JupyterLab Notebook, it may mean\n",
       "  that the widgets JavaScript is still loading. If this message persists, it\n",
       "  likely means that the widgets JavaScript library is either not installed or\n",
       "  not enabled. See the <a href=\"https://ipywidgets.readthedocs.io/en/stable/user_install.html\">Jupyter\n",
       "  Widgets Documentation</a> for setup instructions.\n",
       "</p>\n",
       "<p>\n",
       "  If you're reading this message in another frontend (for example, a static\n",
       "  rendering on GitHub or <a href=\"https://nbviewer.jupyter.org/\">NBViewer</a>),\n",
       "  it may mean that your frontend doesn't currently support widgets.\n",
       "</p>\n"
      ],
      "text/plain": [
       "HBox(children=(IntProgress(value=0, description=u'Gibbs', max=1000), HTML(value=u'')))"
      ]
     },
     "metadata": {},
     "output_type": "display_data"
    },
    {
     "data": {
      "application/vnd.jupyter.widget-view+json": {
       "model_id": "2dd6d9068ef54aa8bc02661ca289935d",
       "version_major": 2,
       "version_minor": 0
      },
      "text/html": [
       "<p>Failed to display Jupyter Widget of type <code>HBox</code>.</p>\n",
       "<p>\n",
       "  If you're reading this message in the Jupyter Notebook or JupyterLab Notebook, it may mean\n",
       "  that the widgets JavaScript is still loading. If this message persists, it\n",
       "  likely means that the widgets JavaScript library is either not installed or\n",
       "  not enabled. See the <a href=\"https://ipywidgets.readthedocs.io/en/stable/user_install.html\">Jupyter\n",
       "  Widgets Documentation</a> for setup instructions.\n",
       "</p>\n",
       "<p>\n",
       "  If you're reading this message in another frontend (for example, a static\n",
       "  rendering on GitHub or <a href=\"https://nbviewer.jupyter.org/\">NBViewer</a>),\n",
       "  it may mean that your frontend doesn't currently support widgets.\n",
       "</p>\n"
      ],
      "text/plain": [
       "HBox(children=(IntProgress(value=0, description=u'Gibbs', max=1000), HTML(value=u'')))"
      ]
     },
     "metadata": {},
     "output_type": "display_data"
    },
    {
     "data": {
      "application/vnd.jupyter.widget-view+json": {
       "model_id": "392de98e773642279e554f6f27067cbf",
       "version_major": 2,
       "version_minor": 0
      },
      "text/html": [
       "<p>Failed to display Jupyter Widget of type <code>HBox</code>.</p>\n",
       "<p>\n",
       "  If you're reading this message in the Jupyter Notebook or JupyterLab Notebook, it may mean\n",
       "  that the widgets JavaScript is still loading. If this message persists, it\n",
       "  likely means that the widgets JavaScript library is either not installed or\n",
       "  not enabled. See the <a href=\"https://ipywidgets.readthedocs.io/en/stable/user_install.html\">Jupyter\n",
       "  Widgets Documentation</a> for setup instructions.\n",
       "</p>\n",
       "<p>\n",
       "  If you're reading this message in another frontend (for example, a static\n",
       "  rendering on GitHub or <a href=\"https://nbviewer.jupyter.org/\">NBViewer</a>),\n",
       "  it may mean that your frontend doesn't currently support widgets.\n",
       "</p>\n"
      ],
      "text/plain": [
       "HBox(children=(IntProgress(value=0, description=u'Gibbs', max=1000), HTML(value=u'')))"
      ]
     },
     "metadata": {},
     "output_type": "display_data"
    },
    {
     "name": "stdout",
     "output_type": "stream",
     "text": [
      "\n"
     ]
    }
   ],
   "source": [
    "def batch(n_samples=500, hs=None,burn_in=500):\n",
    "    if hs is None:\n",
    "        hs = np.arange(0.1, 0.51, 0.1)\n",
    "    \n",
    "    X = generate_experiment()\n",
    "\n",
    "    event_model = train_single_event(X)\n",
    "    X_sample = reconstruction_single_event(X_mem, event_model, n_samples=n_samples, burn_in=burn_in)\n",
    "    \n",
    "    events_token = [0] * 5 + [1] * 5 + [2] * 5 + [3] * 5 + [4] * 5\n",
    "\n",
    "    events_dict = segment_scenes(events_token)\n",
    "    \n",
    "    X_sample_uknbound = reconstruction_known_boundaries(X_mem, events_dict, events_token, \n",
    "                                                        burn_in=burn_in, n_samples=n_samples)\n",
    "    \n",
    "    # create the map to Y\n",
    "    Y = np.concatenate([X[1:, :], X[:-1, :]], axis=1)\n",
    "\n",
    "    # construct foils!\n",
    "    Y_foils = np.concatenate([np.concatenate([np.concatenate([X[jj+2:, :], X[1:jj+1, :]]), \n",
    "                                              np.tile(X[jj, :], (23, 1))], axis=1).reshape(23, -1, 1) \n",
    "                              for jj in range(0, 24)], axis=2)\n",
    "    \n",
    "    def score_marg(sample, hs):\n",
    "        prob_pre = [None] * len(hs)\n",
    "        prob_pst = [None] * len(hs)\n",
    "        prob_oth = [None] * len(hs)\n",
    "\n",
    "        for jj, h in enumerate(hs):\n",
    "            # note! Y is a function from 1:N whereas everything else is a function of 0:N\n",
    "            # this is b/c Y_t is a concanation of x_t & x_{t-1}, which is undefined for t = 0\n",
    "\n",
    "            k_joint = make_joint_density(np.array(sample), h=h)\n",
    "            k_margi = make_marginal_density(sample, h=h)\n",
    "\n",
    "            def get_prob(list_scenes):\n",
    "                chance = [\n",
    "                    logsumexp([k_joint.score_samples(Y_foils[kk, :, ii].reshape(1, -1)) \n",
    "                               - k_margi.score_samples(X[ii, ].reshape(1, -1))\n",
    "                               for kk in range(0, 23)])\n",
    "                    for ii in list_scenes\n",
    "                ]\n",
    "                chance = logsumexp(chance) - np.log(len(chance))\n",
    "\n",
    "                score = [k_joint.score_samples(Y[ii + 1, :].reshape(1, -1)) \n",
    "                              - k_margi.score_samples(X[ii, ].reshape(1, -1))\n",
    "                              for ii in list_scenes]\n",
    "                score = logsumexp(score) - np.log(len(score))\n",
    "\n",
    "                return np.exp(score - logsumexp([score, chance]))\n",
    "\n",
    "            prob_pre[jj] = get_prob(pre_boundary_scenes)\n",
    "            prob_pst[jj] = get_prob(post_boundary_scenes)\n",
    "            prob_oth[jj] = get_prob(other_scenes)\n",
    "\n",
    "\n",
    "        return prob_pre, prob_pst, prob_oth\n",
    "\n",
    "        \n",
    "    marg_density = {\n",
    "        'No-Boundaries': score_marg(X_sample, hs),\n",
    "        'Known-Boundaries': score_marg(X_sample_uknbound, hs),\n",
    "    }\n",
    "    \n",
    "    return marg_density\n",
    "\n",
    "n_batches = 12\n",
    "burn_in = 500\n",
    "n_samples = 500\n",
    "# hs = np.arange(0.15, .51, 0.025)\n",
    "hs = np.arange(0.1, 0.51, 0.05)\n",
    "\n",
    "marg_no_bound_pre = np.zeros((n_batches, len(hs)))\n",
    "marg_no_bound_pst = np.zeros((n_batches, len(hs)))\n",
    "marg_no_bound_oth = np.zeros((n_batches, len(hs)))\n",
    "marg_known_bound_pre = np.zeros((n_batches, len(hs)))\n",
    "marg_known_bound_pst = np.zeros((n_batches, len(hs)))\n",
    "marg_known_bound_oth = np.zeros((n_batches, len(hs)))\n",
    "\n",
    "\n",
    "for ii in tnrange(n_batches):\n",
    "    marg_density = batch(n_samples, hs=hs, burn_in=burn_in)\n",
    "    \n",
    "    marg_no_bound_pre[ii, :] = marg_density['No-Boundaries'][0]\n",
    "    marg_no_bound_pst[ii, :] = marg_density['No-Boundaries'][1]\n",
    "    marg_no_bound_oth[ii, :] = marg_density['No-Boundaries'][2]\n",
    "    marg_known_bound_pre[ii, :] = marg_density['Known-Boundaries'][0] \n",
    "    marg_known_bound_pst[ii, :] = marg_density['Known-Boundaries'][1]\n",
    "    marg_known_bound_oth[ii, :] = marg_density['Known-Boundaries'][2]"
   ]
  },
  {
   "cell_type": "code",
   "execution_count": 276,
   "metadata": {},
   "outputs": [
    {
     "data": {
      "image/png": "[encoded data removed]",
      "text/plain": [
       "<matplotlib.figure.Figure at 0x1c46bdcd0>"
      ]
     },
     "metadata": {},
     "output_type": "display_data"
    }
   ],
   "source": [
    "fig, axes = plt.subplots(1, 3, gridspec_kw={'width_ratios':[1, 2, 2], 'wspace':0.4}, figsize=(12, 3))\n",
    "import pandas as pd\n",
    "h = 0.2\n",
    "idx = np.arange(len(hs))[(hs - h)**2 < 0.0000001][0]\n",
    "sns.set_palette('tab10')\n",
    "\n",
    "def log_mean(x):\n",
    "    return logsumexp(x, axis=0) - np.log(np.shape(x)[0])\n",
    "\n",
    "df = pd.concat([\n",
    "    pd.DataFrame({\n",
    "        'Event Boundaries': [\"None\"] * n_batches,\n",
    "        'Switch': [False] * n_batches,\n",
    "        'Score': marg_no_bound_pre[:, idx],\n",
    "    }), pd.DataFrame({\n",
    "        'Event Boundaries': [\"None\"] * n_batches,\n",
    "        'Switch': [True] * n_batches,\n",
    "        'Score': marg_no_bound_pst[:, idx]\n",
    "    }), pd.DataFrame({\n",
    "        'Event Boundaries': [\"Yes\"] * n_batches,\n",
    "        'Switch': [False] * n_batches,\n",
    "        'Score': marg_known_bound_pre[:, idx]\n",
    "    }), pd.DataFrame({\n",
    "        'Event Boundaries': ['Yes'] * n_batches,\n",
    "        'Switch': [True] * n_batches,\n",
    "        'Score': marg_known_bound_pst[:, idx]\n",
    "    })\n",
    "    \n",
    "])\n",
    "\n",
    "\n",
    "sns.barplot(data=df, x='Event Boundaries', y='Score', hue='Switch', estimator=np.mean, ax=axes[0])\n",
    "axes[0].set_ylabel(r'Conditional Density')\n",
    "axes[0].set_title('Bandwidth = %0.2f' % h)\n",
    "\n",
    "\n",
    "df = []\n",
    "for ii, h in enumerate(hs):\n",
    "    df.append(pd.DataFrame({\n",
    "        'Condition': ['Pre-Boundary'] * n_batches,\n",
    "        'Bandwidth': [h] * n_batches,\n",
    "        'Conditional Density': marg_no_bound_pre[:, ii]\n",
    "    }))\n",
    "    df.append(pd.DataFrame({\n",
    "        'Condition': ['Post-Boundary'] * n_batches,\n",
    "        'Bandwidth': [h] * n_batches,\n",
    "        'Conditional Density': marg_no_bound_pst[:, ii]\n",
    "    }))\n",
    "    df.append(pd.DataFrame({\n",
    "        'Condition': ['Other'] * n_batches,\n",
    "        'Bandwidth': [h] * n_batches,\n",
    "        'Conditional Density': marg_no_bound_oth[:, ii]\n",
    "    }))\n",
    "df = pd.concat(df)\n",
    "\n",
    "sns.pointplot(x='Bandwidth', y='Conditional Density', hue='Condition', data=df, ax = axes[1])\n",
    "\n",
    "df = []\n",
    "for ii, h in enumerate(hs):\n",
    "    df.append(pd.DataFrame({\n",
    "        'Condition': ['Pre-Boundary'] * n_batches,\n",
    "        'Bandwidth': [h] * n_batches,\n",
    "        'Conditional Density': marg_known_bound_pre[:, ii]\n",
    "    }))\n",
    "    df.append(pd.DataFrame({\n",
    "        'Condition': ['Post-Boundary'] * n_batches,\n",
    "        'Bandwidth': [h] * n_batches,\n",
    "        'Conditional Density': marg_known_bound_pst[:, ii]\n",
    "    }))\n",
    "    df.append(pd.DataFrame({\n",
    "        'Condition': ['Other'] * n_batches,\n",
    "        'Bandwidth': [h] * n_batches,\n",
    "        'Conditional Density': marg_known_bound_oth[:, ii]\n",
    "    }))\n",
    "df = pd.concat(df)\n",
    "\n",
    "sns.pointplot(x='Bandwidth', y='Conditional Density', hue='Condition', \n",
    "                   estimator=np.mean, data=df, ax = axes[2])\n",
    "axes[1].set_xticklabels(['%.2f' % h for h in hs])\n",
    "axes[2].set_xticklabels(['%.2f' % h for h in hs])\n",
    "\n",
    "axes[1].set_title('No Event Boundaries')\n",
    "axes[2].set_title('Event Boundaries')\n",
    "\n",
    "sns.despine()\n",
    "# plt.savefig('Divachi_ConditionalDensity.png', dpi=300, bbox_inches='tight')"
   ]
  },
  {
   "cell_type": "code",
   "execution_count": 310,
   "metadata": {},
   "outputs": [
    {
     "data": {
      "image/png": "[encoded data removed]",
      "text/plain": [
       "<matplotlib.figure.Figure at 0x1ca454290>"
      ]
     },
     "metadata": {},
     "output_type": "display_data"
    }
   ],
   "source": [
    "h = 0.25\n",
    "idx = np.arange(len(hs))[(hs - h)**2 < 0.0000001][0]\n",
    "sns.set_palette('tab10')\n",
    "\n",
    "df = pd.concat([\n",
    "    pd.DataFrame({\n",
    "        'Event Boundaries': [\"None\"] * n_batches,\n",
    "        'Condition': ['Boundary'] * n_batches,\n",
    "        'Proportion Correct Transitions': marg_no_bound_pst[:, idx]\n",
    "    }), pd.DataFrame({\n",
    "        'Event Boundaries': [\"None\"] * n_batches,\n",
    "        'Condition': ['Pre-Boundary'] * n_batches,\n",
    "        'Proportion Correct Transitions': marg_no_bound_pre[:, idx],\n",
    "    }), pd.DataFrame({\n",
    "        'Event Boundaries': ['Yes'] * n_batches,\n",
    "        'Condition': ['Boundary'] * n_batches,\n",
    "        'Proportion Correct Transitions': marg_known_bound_pst[:, idx]\n",
    "    }), pd.DataFrame({\n",
    "        'Event Boundaries': [\"Yes\"] * n_batches,\n",
    "        'Condition': ['Pre-Boundary'] * n_batches,\n",
    "        'Proportion Correct Transitions': marg_known_bound_pre[:, idx]\n",
    "    })\n",
    "    \n",
    "])\n",
    "\n",
    "\n",
    "cc = ['w', 'grey']\n",
    "sns.factorplot(data=df[df['Event Boundaries'] == 'Yes'],\n",
    "               y='Proportion Correct Transitions', x='Condition', kind='bar', \n",
    "               palette = cc,\n",
    "               capsize=0.1,\n",
    "               linewidth=1,\n",
    "               edgecolor='k',\n",
    "              )\n",
    "plt.savefig('Dubrow_rep.png', dpi=300)"
   ]
  },
  {
   "cell_type": "code",
   "execution_count": 289,
   "metadata": {},
   "outputs": [
    {
     "name": "stdout",
     "output_type": "stream",
     "text": [
      "Help on function factorplot in module seaborn.categorical:\n",
      "\n",
      "factorplot(x=None, y=None, hue=None, data=None, row=None, col=None, col_wrap=None, estimator=<function mean>, ci=95, n_boot=1000, units=None, order=None, hue_order=None, row_order=None, col_order=None, kind='point', size=4, aspect=1, orient=None, color=None, palette=None, legend=True, legend_out=True, sharex=True, sharey=True, margin_titles=False, facet_kws=None, **kwargs)\n",
      "    Draw a categorical plot onto a FacetGrid.\n",
      "    \n",
      "    The default plot that is shown is a point plot, but other seaborn\n",
      "    categorical plots can be chosen with the ``kind`` parameter, including\n",
      "    box plots, violin plots, bar plots, or strip plots.\n",
      "    \n",
      "    It is important to choose how variables get mapped to the plot structure\n",
      "    such that the most important comparisons are easiest to make. As a general\n",
      "    rule, it is easier to compare positions that are closer together, so the\n",
      "    ``hue`` variable should be used for the most important comparisons. For\n",
      "    secondary comparisons, try to share the quantitative axis (so, use ``col``\n",
      "    for vertical plots and ``row`` for horizontal plots). Note that, although\n",
      "    it is possible to make rather complex plots using this function, in many\n",
      "    cases you may be better served by created several smaller and more focused\n",
      "    plots than by trying to stuff many comparisons into one figure.\n",
      "    \n",
      "    After plotting, the :class:`FacetGrid` with the plot is returned and can\n",
      "    be used directly to tweak supporting plot details or add other layers.\n",
      "    \n",
      "    Note that, unlike when using the underlying plotting functions directly,\n",
      "    data must be passed in a long-form DataFrame with variables specified by\n",
      "    passing strings to ``x``, ``y``, ``hue``, and other parameters.\n",
      "    \n",
      "    As in the case with the underlying plot functions, if variables have a\n",
      "    ``categorical`` data type, the correct orientation of the plot elements,\n",
      "    the levels of the categorical variables, and their order will be inferred\n",
      "    from the objects. Otherwise you may have to use the function parameters\n",
      "    (``orient``, ``order``, ``hue_order``, etc.) to set up the plot correctly.\n",
      "    \n",
      "    Parameters\n",
      "    ----------\n",
      "    x, y, hue : names of variables in ``data``\n",
      "        Inputs for plotting long-form data. See examples for interpretation.        \n",
      "    data : DataFrame\n",
      "        Long-form (tidy) dataset for plotting. Each column should correspond\n",
      "        to a variable, and each row should correspond to an observation.    \n",
      "    row, col : names of variables in ``data``, optional\n",
      "        Categorical variables that will determine the faceting of the grid.\n",
      "    col_wrap : int, optional\n",
      "        \"Wrap\" the column variable at this width, so that the column facets\n",
      "        span multiple rows. Incompatible with a ``row`` facet.    \n",
      "    estimator : callable that maps vector -> scalar, optional\n",
      "        Statistical function to estimate within each categorical bin.\n",
      "    ci : float or \"sd\" or None, optional\n",
      "        Size of confidence intervals to draw around estimated values.  If\n",
      "        \"sd\", skip bootstrapping and draw the standard deviation of the\n",
      "        observations. If ``None``, no bootstrapping will be performed, and\n",
      "        error bars will not be drawn.\n",
      "    n_boot : int, optional\n",
      "        Number of bootstrap iterations to use when computing confidence\n",
      "        intervals.\n",
      "    units : name of variable in ``data`` or vector data, optional\n",
      "        Identifier of sampling units, which will be used to perform a\n",
      "        multilevel bootstrap and account for repeated measures design.    \n",
      "    order, hue_order : lists of strings, optional\n",
      "        Order to plot the categorical levels in, otherwise the levels are\n",
      "        inferred from the data objects.        \n",
      "    row_order, col_order : lists of strings, optional\n",
      "        Order to organize the rows and/or columns of the grid in, otherwise the\n",
      "        orders are inferred from the data objects.\n",
      "    kind : {``point``, ``bar``, ``count``, ``box``, ``violin``, ``strip``}\n",
      "        The kind of plot to draw.\n",
      "    size : scalar, optional\n",
      "        Height (in inches) of each facet. See also: ``aspect``.    \n",
      "    aspect : scalar, optional\n",
      "        Aspect ratio of each facet, so that ``aspect * size`` gives the width\n",
      "        of each facet in inches.    \n",
      "    orient : \"v\" | \"h\", optional\n",
      "        Orientation of the plot (vertical or horizontal). This is usually\n",
      "        inferred from the dtype of the input variables, but can be used to\n",
      "        specify when the \"categorical\" variable is a numeric or when plotting\n",
      "        wide-form data.    \n",
      "    color : matplotlib color, optional\n",
      "        Color for all of the elements, or seed for a gradient palette.\n",
      "    \n",
      "    palette : palette name, list, or dict, optional\n",
      "        Colors to use for the different levels of the ``hue`` variable. Should\n",
      "        be something that can be interpreted by :func:`color_palette`, or a\n",
      "        dictionary mapping hue levels to matplotlib colors.    \n",
      "    legend : bool, optional\n",
      "        If ``True`` and there is a ``hue`` variable, draw a legend on the plot.\n",
      "    legend_out : bool, optional\n",
      "        If ``True``, the figure size will be extended, and the legend will be\n",
      "        drawn outside the plot on the center right.    \n",
      "    share{x,y} : bool, optional\n",
      "        If true, the facets will share y axes across columns and/or x axes\n",
      "        across rows.    \n",
      "    margin_titles : bool, optional\n",
      "        If ``True``, the titles for the row variable are drawn to the right of\n",
      "        the last column. This option is experimental and may not work in all\n",
      "        cases.    \n",
      "    facet_kws : dict, optional\n",
      "        Dictionary of other keyword arguments to pass to :class:`FacetGrid`.\n",
      "    kwargs : key, value pairings\n",
      "        Other keyword arguments are passed through to the underlying plotting\n",
      "        function.\n",
      "    \n",
      "    Returns\n",
      "    -------\n",
      "    g : :class:`FacetGrid`\n",
      "        Returns the :class:`FacetGrid` object with the plot on it for further\n",
      "        tweaking.\n",
      "    \n",
      "    Examples\n",
      "    --------\n",
      "    \n",
      "    Draw a single facet to use the :class:`FacetGrid` legend placement:\n",
      "    \n",
      "    .. plot::\n",
      "        :context: close-figs\n",
      "    \n",
      "        >>> import seaborn as sns\n",
      "        >>> sns.set(style=\"ticks\")\n",
      "        >>> exercise = sns.load_dataset(\"exercise\")\n",
      "        >>> g = sns.factorplot(x=\"time\", y=\"pulse\", hue=\"kind\", data=exercise)\n",
      "    \n",
      "    Use a different plot kind to visualize the same data:\n",
      "    \n",
      "    .. plot::\n",
      "        :context: close-figs\n",
      "    \n",
      "        >>> g = sns.factorplot(x=\"time\", y=\"pulse\", hue=\"kind\",\n",
      "        ...                    data=exercise, kind=\"violin\")\n",
      "    \n",
      "    Facet along the columns to show a third categorical variable:\n",
      "    \n",
      "    .. plot::\n",
      "        :context: close-figs\n",
      "    \n",
      "        >>> g = sns.factorplot(x=\"time\", y=\"pulse\", hue=\"kind\",\n",
      "        ...                    col=\"diet\", data=exercise)\n",
      "    \n",
      "    Use a different size and aspect ratio for the facets:\n",
      "    \n",
      "    .. plot::\n",
      "        :context: close-figs\n",
      "    \n",
      "        >>> g = sns.factorplot(x=\"time\", y=\"pulse\", hue=\"kind\",\n",
      "        ...                    col=\"diet\", data=exercise,\n",
      "        ...                    size=5, aspect=.8)\n",
      "    \n",
      "    Make many column facets and wrap them into the rows of the grid:\n",
      "    \n",
      "    .. plot::\n",
      "        :context: close-figs\n",
      "    \n",
      "        >>> titanic = sns.load_dataset(\"titanic\")\n",
      "        >>> g = sns.factorplot(\"alive\", col=\"deck\", col_wrap=4,\n",
      "        ...                    data=titanic[titanic.deck.notnull()],\n",
      "        ...                    kind=\"count\", size=2.5, aspect=.8)\n",
      "    \n",
      "    Plot horizontally and pass other keyword arguments to the plot function:\n",
      "    \n",
      "    .. plot::\n",
      "        :context: close-figs\n",
      "    \n",
      "        >>> g = sns.factorplot(x=\"age\", y=\"embark_town\",\n",
      "        ...                    hue=\"sex\", row=\"class\",\n",
      "        ...                    data=titanic[titanic.embark_town.notnull()],\n",
      "        ...                    orient=\"h\", size=2, aspect=3.5, palette=\"Set3\",\n",
      "        ...                    kind=\"violin\", dodge=True, cut=0, bw=.2)\n",
      "    \n",
      "    Use methods on the returned :class:`FacetGrid` to tweak the presentation:\n",
      "    \n",
      "    .. plot::\n",
      "        :context: close-figs\n",
      "    \n",
      "        >>> g = sns.factorplot(x=\"who\", y=\"survived\", col=\"class\",\n",
      "        ...                    data=titanic, saturation=.5,\n",
      "        ...                    kind=\"bar\", ci=None, aspect=.6)\n",
      "        >>> (g.set_axis_labels(\"\", \"Survival Rate\")\n",
      "        ...   .set_xticklabels([\"Men\", \"Women\", \"Children\"])\n",
      "        ...   .set_titles(\"{col_name} {col_var}\")\n",
      "        ...   .set(ylim=(0, 1))\n",
      "        ...   .despine(left=True))  #doctest: +ELLIPSIS\n",
      "        <seaborn.axisgrid.FacetGrid object at 0x...>\n",
      "\n"
     ]
    }
   ],
   "source": [
    "help(sns.factorplot)"
   ]
  },
  {
   "cell_type": "code",
   "execution_count": 264,
   "metadata": {},
   "outputs": [
    {
     "data": {
      "text/plain": [
       "array([[0.02738048, 0.01376957, 0.04225836, 0.04367345],\n",
       "       [0.        , 0.        , 0.        , 0.        ],\n",
       "       [0.        , 0.        , 0.        , 0.        ],\n",
       "       [0.        , 0.        , 0.        , 0.        ],\n",
       "       [0.        , 0.        , 0.        , 0.        ],\n",
       "       [0.        , 0.        , 0.        , 0.        ],\n",
       "       [0.        , 0.        , 0.        , 0.        ],\n",
       "       [0.        , 0.        , 0.        , 0.        ],\n",
       "       [0.        , 0.        , 0.        , 0.        ],\n",
       "       [0.        , 0.        , 0.        , 0.        ],\n",
       "       [0.        , 0.        , 0.        , 0.        ],\n",
       "       [0.        , 0.        , 0.        , 0.        ]])"
      ]
     },
     "execution_count": 264,
     "metadata": {},
     "output_type": "execute_result"
    }
   ],
   "source": [
    "marg_known_bound_pst\n",
    "# marg_known_bound_pst"
   ]
  },
  {
   "cell_type": "code",
   "execution_count": null,
   "metadata": {},
   "outputs": [],
   "source": []
  },
  {
   "cell_type": "code",
   "execution_count": null,
   "metadata": {},
   "outputs": [],
   "source": []
  },
  {
   "cell_type": "code",
   "execution_count": null,
   "metadata": {},
   "outputs": [],
   "source": []
  },
  {
   "cell_type": "code",
   "execution_count": null,
   "metadata": {},
   "outputs": [],
   "source": []
  },
  {
   "cell_type": "code",
   "execution_count": null,
   "metadata": {},
   "outputs": [],
   "source": []
  },
  {
   "cell_type": "code",
   "execution_count": null,
   "metadata": {},
   "outputs": [],
   "source": []
  }
 ],
 "metadata": {
  "kernelspec": {
   "display_name": "Python 2",
   "language": "python",
   "name": "python2"
  },
  "language_info": {
   "codemirror_mode": {
    "name": "ipython",
    "version": 2
   },
   "file_extension": ".py",
   "mimetype": "text/x-python",
   "name": "python",
   "nbconvert_exporter": "python",
   "pygments_lexer": "ipython2",
   "version": "2.7.14"
  }
 },
 "nbformat": 4,
 "nbformat_minor": 2
}
