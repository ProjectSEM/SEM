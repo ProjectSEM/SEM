{
 "cells": [
  {
   "cell_type": "code",
   "execution_count": 1,
   "metadata": {},
   "outputs": [
    {
     "name": "stderr",
     "output_type": "stream",
     "text": [
      "/Users/nickfranklin/anaconda/envs/tensorflow/lib/python2.7/site-packages/statsmodels/compat/pandas.py:56: FutureWarning: The pandas.core.datetools module is deprecated and will be removed in a future version. Please use the pandas.tseries module instead.\n",
      "  from pandas.core import datetools\n"
     ]
    }
   ],
   "source": [
    "%matplotlib inline\n",
    "import matplotlib.pyplot as plt\n",
    "import numpy as np\n",
    "import statsmodels.api as sm\n",
    "from sklearn.preprocessing import normalize\n",
    "\n",
    "def conv_circ(signal, kernal, n=None):\n",
    "    '''\n",
    "    Parameters\n",
    "    ----------\n",
    "    \n",
    "    signal: array of length D\n",
    "    \n",
    "    ker: array of length D   \n",
    "\n",
    "    Returns\n",
    "    -------\n",
    "    \n",
    "    array of length D\n",
    "    \n",
    "    '''\n",
    "    if n == None:\n",
    "        n = len(signal) + len(kernal) - 1\n",
    "        \n",
    "    return np.real(np.fft.ifft(np.fft.fft(signal, n)*np.fft.fft(kernal, n) ))\n",
    "\n",
    "def plate_formula(n, k, err):\n",
    "    '''\n",
    "    Determine the number of dimensions needed according to Plate's (2003)\n",
    "    formula:\n",
    "      D = 3.16(K-0.25)ln(N/err^3)\n",
    "    where D is the number of dimensions, K is the maximum number of terms\n",
    "    to be combined, N is the number of atomic values in the langauge, and\n",
    "    err is the probability of error.\n",
    "    \n",
    "    USAGE: D = plate_formula(n, k, err)\n",
    "    '''\n",
    "    return int(round(3.16 * (k-0.25) * (np.log(n) - 3 * np.log(err))))\n",
    "\n",
    "\n",
    "def embed(n, d, distr='spikeslab_gaussian', param=None):\n",
    "    # Embed symbols in a vector space.\n",
    "    #\n",
    "    # USAGE: X = embed(n, d, distr='spikeslab_gaussian', param=None)\n",
    "    #\n",
    "    # INPUTS:\n",
    "    #   n - number of symbols\n",
    "    #   d - number of dimensions\n",
    "    #   distr - string specifying the distribution on the vector space:\n",
    "    #           'spikeslab_gaussian' - mixture of Gaussian \"slab\" and Bernoulli \"spike\"\n",
    "    #           'spikeslab_uniform' - mixture of uniform \"slab\" and Bernoulli \"spike\"\n",
    "    #\n",
    "    #   param (optional) - parameters of the distribution:\n",
    "    #                      'spikeslab_gaussian' - param = [variance, spike probability] (default: [1 1])\n",
    "    #                      'spikeslab_uniform' - param = [bound around 0, spike probability] (default: [1 1])\n",
    "    # OUTPUTS;\n",
    "    #   X - [N x D] matrix\n",
    "    #\n",
    "    # Sam Gershman, Jan 2013\n",
    "    \n",
    "    if param is None:\n",
    "        param = [1, 1]\n",
    "    spike = np.round(np.random.rand(n, d) < param[1])\n",
    "    \n",
    "    if distr == 'spikeslab_gaussian':\n",
    "        slab = np.random.randn(n, d) * param[1]\n",
    "    elif distr == 'spikeslab_uniform':\n",
    "        slab = np.random.uniform(-param[1], param[1], (n, d))\n",
    "    else:\n",
    "        raise(Exception)\n",
    "    \n",
    "    return normalize(spike * slab)\n",
    "        \n",
    "            \n",
    "        \n",
    "def encode(a, b):\n",
    "    return normalize(conv_circ(a, b, np.size(a)))\n",
    "\n",
    "def decode(a, b):\n",
    "    c = np.real(np.fft.ifft(np.fft.fft(a, np.size(a)) * np.conj(np.fft.fft(b, np.size(a))) ) )\n",
    "    return c"
   ]
  },
  {
   "cell_type": "code",
   "execution_count": 2,
   "metadata": {},
   "outputs": [
    {
     "name": "stdout",
     "output_type": "stream",
     "text": [
      "[[ 1.          0.49569371]\n",
      " [ 0.49569371  1.        ]]\n"
     ]
    },
    {
     "data": {
      "image/png": "[encoded data removed]",
      "text/plain": [
       "<matplotlib.figure.Figure at 0x109111150>"
      ]
     },
     "metadata": {},
     "output_type": "display_data"
    }
   ],
   "source": [
    "# figure out how many dimensions we need\n",
    "n = 10;     # vocabulary size\n",
    "k = 5;      # maximum number of terms to be combined\n",
    "err = 0.01; # error probability\n",
    "d = plate_formula(n, k, err);\n",
    "\n",
    "# embedding parameters\n",
    "distr = 'spikeslab_gaussian'\n",
    "param = [1.0, 1.0]\n",
    "\n",
    "dog = embed(1, d, distr, param)\n",
    "agent = embed(1, d, distr, param)\n",
    "chase = embed(1, d, distr, param)\n",
    "verb = embed(1, d, distr, param)\n",
    "cat = embed(1, d, distr, param)\n",
    "patient = embed(1, d, distr, param)\n",
    "\n",
    "sentance = encode(dog, agent) + encode(chase, verb)# + encode(cat, patient)\n",
    "dog_decoded = decode(sentance, agent)\n",
    "\n",
    "plt.scatter(dog, dog_decoded)\n",
    "print np.corrcoef(dog, dog_decoded)\n",
    "plt.gca().set_xlabel('Dog Vector Values')\n",
    "plt.gca().set_ylabel('Decoded-Dog Vector Values')\n",
    "plt.show()"
   ]
  },
  {
   "cell_type": "markdown",
   "metadata": {},
   "source": [
    "# Compositonality\n",
    "Circular convolution preserves the simliarity structure of the underlying vectors. That is, if two vectors are more are similar to each other in vector space, then their convolutions with a third vector will retain that similarity.  We can show this buy approximating a circular convolution with a tensor product (Plate, 1995; Doumas and Hummel, 2005). \n",
    "\n",
    "Formally, this stems from the observation is that if $\\mathbf{a}$, $\\mathbf{b}$, and $\\mathbf{c}$  are $D$-dimensional random vectors drawn from $\\mathcal{N}(0, \\sigma \\text{I})$ then typically\n",
    "\n",
    "$$\\cos(\\theta_{\\mathbf{a} + \\mathbf{c}, \\mathbf{b} + \\mathbf{c}}) > \\cos(\\theta_{\\mathbf{a}, \\mathbf{b}})$$\n",
    "\n",
    "or\n",
    "\n",
    "$$\\frac{(\\mathbf{a} + \\mathbf{c})^{\\text{T}}(\\mathbf{b} + \\mathbf{c})}{||(\\mathbf{a} + \\mathbf{c})^{\\text{T}}(\\mathbf{b} + \\mathbf{c}) ||} > \\frac{\\mathbf{a}^{\\text{T}}\\mathbf{b}}{||\\mathbf{a}^{\\text{T}}\\mathbf{b}||}$$\n",
    "\n",
    "meaning that the random vectors that share a common (linearly additive) factor are more to each other than the would be if you were to subtract thier common factor.\n",
    "\n",
    "We can see that this generally the case by noting that $(\\mathbf{a} + \\mathbf{c})^{\\text{T}}(\\mathbf{b} + \\mathbf{c}) = \\mathbf{a}^{\\text{T}}\\mathbf{b} + (\\mathbf{a} + \\mathbf{b})^\\text{T}\\mathbf{c} + \\mathbf{c}^\\text{T}\\mathbf{c}$, hense we can re-arange our claim to that typically $\\mathbf{c}^\\text{T}\\mathbf{c} > (\\mathbf{a} + \\mathbf{b})^\\text{T}\\mathbf{c}$, which is true as long as $\\mathbf{c}$ is not strongly anti-correlated to $\\textbf{a}$ and $\\textbf{b}$. Asymptoically, this will be the case as \n",
    "\n",
    "$$\\mathbb{E}[(\\mathbf{a}+\\mathbf{b})^\\text{T}\\mathbf{c}] =\\sum_{i=1}^{D}\\mathbb{E}[a_i]\\mathbb{E}[c_i]+\\sum_{i=1}^{D}\\mathbb{E}[b_i]\\mathbb{E}[c_i] + (r_{ac} + r_{bc})\\sigma^2 = 0$$\n",
    "\n",
    "where $r_{ac}$ and $r_{ac}$ are the correlations between vectors $\\mathbf{a}$ and $\\mathbf{c}$ and vectors $\\mathbf{b}$ and $\\mathbf{c}$, respectively, and is zero for both when $\\mathbf{a}$, $\\mathbf{b}$, $\\mathbf{c}\\sim\\mathcal{N}(0, \\sigma\\text{I})$. Thus, we would expect the presense of a common factor to increase the simliarity of two random vectors.\n",
    "\n",
    "\n",
    "We can be more rigorus with this proof but it's easiest to just to show it is the case empirically, that as we increase the dimensionality of the vecotrs $D$, $\\Pr\\left (\\cos(\\theta_{\\mathbf{a} + \\mathbf{c}, \\mathbf{b} + \\mathbf{c}}) > \\cos(\\theta_{\\mathbf{a}, \\mathbf{b}})\\right )$ approches 1:\n",
    "\n"
   ]
  },
  {
   "cell_type": "code",
   "execution_count": 3,
   "metadata": {},
   "outputs": [
    {
     "data": {
      "text/plain": [
       "<matplotlib.text.Text at 0x113007b90>"
      ]
     },
     "execution_count": 3,
     "metadata": {},
     "output_type": "execute_result"
    },
    {
     "data": {
      "image/png": "[encoded data removed]",
      "text/plain": [
       "<matplotlib.figure.Figure at 0x112ea3b50>"
      ]
     },
     "metadata": {},
     "output_type": "display_data"
    }
   ],
   "source": [
    "N = 1000\n",
    "dot = [None]* 100\n",
    "for d in range(1, 101):\n",
    "    a = (np.random.randn(N, d))\n",
    "    b = (np.random.randn(N, d))\n",
    "    c = (np.random.randn(N, d))\n",
    "    f = np.array([np.dot(a[ii, :] + c[ii, :], b[ii, :] + c[ii, :]) - np.dot(a[ii, :], b[ii, :])\n",
    "        for ii in range(N)]) \n",
    "    dot[d-1] = np.mean(f >= 0)\n",
    "\n",
    "plt.figure(figsize=(4, 2))    \n",
    "plt.plot(range(1, 101), dot)\n",
    "plt.xlabel('Dimensions')\n",
    "plt.ylabel('p')\n",
    "plt.title(r'$\\Pr\\left ( \\cos\\ \\theta_{a+c, b+c} > \\cos\\ \\theta_{a, b} \\right )$')"
   ]
  },
  {
   "cell_type": "markdown",
   "metadata": {},
   "source": [
    "We can extend this arguements to tensor products by first noting that tensor products are distributive, so:\n",
    "\n",
    "$$(\\mathbf{x} + \\mathbf{y}) \\otimes\\mathbf{z} = \\mathbf{x}\\otimes\\mathbf{z} + \\mathbf{y}\\otimes\\mathbf{z}$$\n",
    "\n",
    "Thus, if we make two random vectors $\\mathbf{a}$ and $\\mathbf{b}$ similar to eachother by adding to each a common factor $\\mathbf{d}$, then taking the tensor product of each of those two vectors with a third random vector $\\mathbf{c}$, we can decompose both tensor products into the sum of two seperate tensors:\n",
    "\n",
    "$$(\\mathbf{a} + \\mathbf{d}) \\otimes\\mathbf{c} = \\mathbf{a}\\otimes\\mathbf{c} + \\mathbf{d}\\otimes\\mathbf{c}$$\n",
    "$$(\\mathbf{b} + \\mathbf{d}) \\otimes\\mathbf{c} = \\mathbf{b}\\otimes\\mathbf{c} + \\mathbf{d}\\otimes\\mathbf{c}$$\n",
    "\n",
    "Thus, both tensors share a common tensor. Then, by the arguments above we can show that:\n",
    "\n",
    "$$\\cos \\theta_{(\\mathbf{a} + \\mathbf{d}) \\otimes\\mathbf{c}, (\\mathbf{b} + \\mathbf{d}) \\otimes\\mathbf{c}} > \\cos \\theta_{\\mathbf{a} \\otimes\\mathbf{c}, \\mathbf{b}\\otimes\\mathbf{c} }$$\n",
    "\n",
    "will be true with probabilty approaching 1 as the dimensionality of the vectors goes to infinity. Thus, taking the tensor product of two similar vectors and a third random vector will result in two similar tensor products. Because circular convolution resembles a tensor product opperation (Plate, 1995; Doumas and Hummel, 2005) this argumemt will hold for it as well. Without getting into a rigorous proof of this, we can demonstrate this empirically:\n"
   ]
  },
  {
   "cell_type": "code",
   "execution_count": 4,
   "metadata": {},
   "outputs": [
    {
     "name": "stdout",
     "output_type": "stream",
     "text": [
      "Dot Product:\n",
      "\n",
      "dot(Olivia, William) = 0.534\n",
      "dot(Olivia, Coffee)  = 0.091\n",
      "dot(Coffee, William) = -0.035\n",
      "\n",
      "dot(Olivia(*)Agent, William(*)Agent) = 0.446\n",
      "dot(Olivia(*)Agent, Coffee(*)Agent)  = 0.173\n",
      "dot(Coffee(*)Agent, William(*)Agent) = 0.107\n",
      "\n",
      "Euclidean Distance:\n",
      "\n",
      "||Olivia - William|| = 1.053\n",
      "||Olivia - Coffee || = 1.337\n",
      "||Coffee - William|| = 1.286\n",
      "\n",
      "||Olivia(*)Agent - William(*)Agent|| = 0.965\n",
      "||Olivia(*)Agent - Coffee(*)Agent || = 1.348\n",
      "||Coffee(*)Agent - William(*)Agent|| = 1.439\n"
     ]
    }
   ],
   "source": [
    "from sklearn.preprocessing import normalize\n",
    "\n",
    "# both Olivia and William will share the property isPerson\n",
    "isPerson = embed(1, d, distr, param)\n",
    "\n",
    "\n",
    "Olivia = normalize(embed(1, d, distr, param) + isPerson)\n",
    "William = normalize(embed(1, d, distr, param) + isPerson)\n",
    "Agent = embed(1, d, distr, param)\n",
    "Coffee = embed(1, d, distr, param)\n",
    "\n",
    "\n",
    "OliviaAgent = encode(Olivia, Agent)\n",
    "WilliamAgent = encode(William, Agent)\n",
    "CoffeeAgent = encode(Coffee, Agent)\n",
    "\n",
    "print \"Dot Product:\"\n",
    "print \n",
    "print \"dot(Olivia, William) = %.3f\" % np.dot(OliviaAgent, WilliamAgent.T)[0][0]\n",
    "print \"dot(Olivia, Coffee)  = %.3f\" % np.dot(CoffeeAgent, WilliamAgent.T)[0][0]\n",
    "print \"dot(Coffee, William) = %.3f\" % np.dot(OliviaAgent, CoffeeAgent.T)[0][0]\n",
    "\n",
    "\n",
    "print \n",
    "print \"dot(Olivia(*)Agent, William(*)Agent) = %.3f\" % np.dot(Olivia, William.T)[0][0]\n",
    "print \"dot(Olivia(*)Agent, Coffee(*)Agent)  = %.3f\" % np.dot(Coffee, William.T)[0][0]\n",
    "print \"dot(Coffee(*)Agent, William(*)Agent) = %.3f\" % np.dot(Olivia, Coffee.T)[0][0]\n",
    "\n",
    "\n",
    "print\n",
    "print \"Euclidean Distance:\"\n",
    "print \n",
    "print \"||Olivia - William|| = %.3f\" % np.linalg.norm(Olivia - William)\n",
    "print \"||Olivia - Coffee || = %.3f\" % np.linalg.norm(Olivia - Coffee)\n",
    "print \"||Coffee - William|| = %.3f\" % np.linalg.norm(Coffee - William)\n",
    "\n",
    "print\n",
    "print \"||Olivia(*)Agent - William(*)Agent|| = %.3f\" % np.linalg.norm(OliviaAgent - WilliamAgent)\n",
    "print \"||Olivia(*)Agent - Coffee(*)Agent || = %.3f\" % np.linalg.norm(CoffeeAgent - WilliamAgent)\n",
    "print \"||Coffee(*)Agent - William(*)Agent|| = %.3f\" % np.linalg.norm(OliviaAgent - CoffeeAgent)\n",
    "\n"
   ]
  },
  {
   "cell_type": "code",
   "execution_count": null,
   "metadata": {
    "collapsed": true
   },
   "outputs": [],
   "source": []
  }
 ],
 "metadata": {
  "kernelspec": {
   "display_name": "Python 2",
   "language": "python",
   "name": "python2"
  },
  "language_info": {
   "codemirror_mode": {
    "name": "ipython",
    "version": 2
   },
   "file_extension": ".py",
   "mimetype": "text/x-python",
   "name": "python",
   "nbconvert_exporter": "python",
   "pygments_lexer": "ipython2",
   "version": "2.7.14"
  }
 },
 "nbformat": 4,
 "nbformat_minor": 1
}
