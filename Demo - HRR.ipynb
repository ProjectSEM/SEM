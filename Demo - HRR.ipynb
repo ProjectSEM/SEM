{
 "cells": [
  {
   "cell_type": "code",
   "execution_count": 1,
   "metadata": {},
   "outputs": [
    {
     "name": "stderr",
     "output_type": "stream",
     "text": [
      "/Users/nickfranklin/anaconda/envs/tensorflow/lib/python2.7/site-packages/statsmodels/compat/pandas.py:56: FutureWarning: The pandas.core.datetools module is deprecated and will be removed in a future version. Please use the pandas.tseries module instead.\n",
      "  from pandas.core import datetools\n"
     ]
    }
   ],
   "source": [
    "%matplotlib inline\n",
    "import matplotlib.pyplot as plt\n",
    "import numpy as np\n",
    "import statsmodels.api as sm\n",
    "from sklearn.preprocessing import normalize\n",
    "\n",
    "def conv_circ(signal, kernal, n=None):\n",
    "    '''\n",
    "    Parameters\n",
    "    ----------\n",
    "    \n",
    "    signal: array of length D\n",
    "    \n",
    "    ker: array of length D   \n",
    "\n",
    "    Returns\n",
    "    -------\n",
    "    \n",
    "    array of length D\n",
    "    \n",
    "    '''\n",
    "    if n == None:\n",
    "        n = len(signal) + len(kernal) - 1\n",
    "        \n",
    "    return np.real(np.fft.ifft(np.fft.fft(signal, n)*np.fft.fft(kernal, n) ))\n",
    "\n",
    "def plate_formula(n, k, err):\n",
    "    '''\n",
    "    Determine the number of dimensions needed according to Plate's (2003)\n",
    "    formula:\n",
    "      D = 3.16(K-0.25)ln(N/err^3)\n",
    "    where D is the number of dimensions, K is the maximum number of terms\n",
    "    to be combined, N is the number of atomic values in the langauge, and\n",
    "    err is the probability of error.\n",
    "    \n",
    "    USAGE: D = plate_formula(n, k, err)\n",
    "    '''\n",
    "    return int(round(3.16 * (k-0.25) * (np.log(n) - 3 * np.log(err))))\n",
    "\n",
    "\n",
    "def embed(n, d, distr='spikeslab_gaussian', param=None):\n",
    "    # Embed symbols in a vector space.\n",
    "    #\n",
    "    # USAGE: X = embed(n, d, distr='spikeslab_gaussian', param=None)\n",
    "    #\n",
    "    # INPUTS:\n",
    "    #   n - number of symbols\n",
    "    #   d - number of dimensions\n",
    "    #   distr - string specifying the distribution on the vector space:\n",
    "    #           'spikeslab_gaussian' - mixture of Gaussian \"slab\" and Bernoulli \"spike\"\n",
    "    #           'spikeslab_uniform' - mixture of uniform \"slab\" and Bernoulli \"spike\"\n",
    "    #\n",
    "    #   param (optional) - parameters of the distribution:\n",
    "    #                      'spikeslab_gaussian' - param = [variance, spike probability] (default: [1 1])\n",
    "    #                      'spikeslab_uniform' - param = [bound around 0, spike probability] (default: [1 1])\n",
    "    # OUTPUTS;\n",
    "    #   X - [N x D] matrix\n",
    "    #\n",
    "    # Sam Gershman, Jan 2013\n",
    "    \n",
    "    if param is None:\n",
    "        param = [1, 1]\n",
    "    spike = np.round(np.random.rand(n, d) < param[1])\n",
    "    \n",
    "    if distr == 'spikeslab_gaussian':\n",
    "        slab = np.random.randn(n, d) * param[1]\n",
    "    elif distr == 'spikeslab_uniform':\n",
    "        slab = np.random.uniform(-param[1], param[1], (n, d))\n",
    "    else:\n",
    "        raise(Exception)\n",
    "    \n",
    "    return normalize(spike * slab)\n",
    "        \n",
    "            \n",
    "        \n",
    "def encode(a, b):\n",
    "    return normalize(conv_circ(a, b, np.size(a)))\n",
    "\n",
    "def decode(a, b):\n",
    "    c = np.real(np.fft.ifft(np.fft.fft(a, np.size(a)) * np.conj(np.fft.fft(b, np.size(a))) ) )\n",
    "    return c"
   ]
  },
  {
   "cell_type": "code",
   "execution_count": 2,
   "metadata": {},
   "outputs": [
    {
     "name": "stdout",
     "output_type": "stream",
     "text": [
      "[[ 1.          0.50280382]\n",
      " [ 0.50280382  1.        ]]\n"
     ]
    },
    {
     "data": {
      "image/png": "[encoded data removed]",
      "text/plain": [
       "<matplotlib.figure.Figure at 0x107a25750>"
      ]
     },
     "metadata": {},
     "output_type": "display_data"
    }
   ],
   "source": [
    "# figure out how many dimensions we need\n",
    "n = 10;     # vocabulary size\n",
    "k = 5;      # maximum number of terms to be combined\n",
    "err = 0.01; # error probability\n",
    "d = plate_formula(n, k, err);\n",
    "\n",
    "# embedding parameters\n",
    "distr = 'spikeslab_gaussian'\n",
    "param = [1.0, 1.0]\n",
    "\n",
    "dog = embed(1, d, distr, param)\n",
    "agent = embed(1, d, distr, param)\n",
    "chase = embed(1, d, distr, param)\n",
    "verb = embed(1, d, distr, param)\n",
    "cat = embed(1, d, distr, param)\n",
    "patient = embed(1, d, distr, param)\n",
    "\n",
    "sentance = encode(dog, agent) + encode(chase, verb)# + encode(cat, patient)\n",
    "dog_decoded = decode(sentance, agent)\n",
    "\n",
    "plt.scatter(dog, dog_decoded)\n",
    "print np.corrcoef(dog, dog_decoded)\n",
    "plt.gca().set_xlabel('Dog Vector Values')\n",
    "plt.gca().set_ylabel('Decoded-Dog Vector Values')\n",
    "plt.show()"
   ]
  },
  {
   "cell_type": "code",
   "execution_count": 3,
   "metadata": {},
   "outputs": [
    {
     "data": {
      "text/plain": [
       "<matplotlib.axes._subplots.AxesSubplot at 0x11367ff50>"
      ]
     },
     "execution_count": 3,
     "metadata": {},
     "output_type": "execute_result"
    },
    {
     "data": {
      "image/png": "[encoded data removed]",
      "text/plain": [
       "<matplotlib.figure.Figure at 0x11367f7d0>"
      ]
     },
     "metadata": {},
     "output_type": "display_data"
    }
   ],
   "source": [
    "import seaborn as sns\n",
    "sns.residplot(np.squeeze(dog_decoded), np.squeeze(dog), lowess=True)\n",
    "# doesn't look like there is any structure to these residuals"
   ]
  },
  {
   "cell_type": "code",
   "execution_count": 4,
   "metadata": {},
   "outputs": [
    {
     "name": "stdout",
     "output_type": "stream",
     "text": [
      "Channel Capacity of Encoding/Decoding Algorithm: 0.08 bits\n"
     ]
    },
    {
     "data": {
      "image/png": "[encoded data removed]",
      "text/plain": [
       "<matplotlib.figure.Figure at 0x10974a890>"
      ]
     },
     "metadata": {},
     "output_type": "display_data"
    }
   ],
   "source": [
    "# I think the encoding/decoding algorithm can be interpreted as a guassian channel\n",
    "# hense, calculate the channel capacity\n",
    "res = sm.OLS(dog, dog_decoded).fit()\n",
    "x = res.predict(dog) - dog_decoded\n",
    "sns.distplot(x, 25)\n",
    "plt.gca().set_xlabel('Residuals')\n",
    "c = 0.5 * np.log2(1 + np.mean(x ** 2 ) / np.std(x)) # channel capcity (via Shannon-Hartley theorem)\n",
    "print \"Channel Capacity of Encoding/Decoding Algorithm: %.02f bits\" % c"
   ]
  },
  {
   "cell_type": "markdown",
   "metadata": {},
   "source": [
    "# Compositonality\n",
    "Circular convolution preserves the simliarity structure of the underlying vectors. That is, if two vectors are more are similar to each other in vector space, then their convolutions with a third vector will retain that similarity. \n",
    "\n",
    "Formally, if $\\mathbf{a}$, $\\mathbf{b}$, $\\mathbf{c}$ and $\\mathbf{d}$ are random unit vectors then \n",
    "\n",
    "$(\\mathbf{a} + \\mathbf{d}) \\cdot (\\mathbf{b} + \\mathbf{d}) > \\mathbf{a} \\cdot \\mathbf{b}$\n",
    "\n",
    "and\n",
    "\n",
    "$((\\mathbf{a} + \\mathbf{d})\\otimes\\mathbf{c}) \\cdot ((\\mathbf{a} + \\mathbf{d})\\otimes\\mathbf{c}) > (\\mathbf{a}\\otimes\\mathbf{c}) \\cdot (\\mathbf{b}\\otimes\\mathbf{a})$\n",
    "\n",
    "where $\\otimes$ is the tensor product operation.\n",
    "\n"
   ]
  },
  {
   "cell_type": "code",
   "execution_count": 5,
   "metadata": {},
   "outputs": [
    {
     "name": "stdout",
     "output_type": "stream",
     "text": [
      "Dot Product:\n",
      "\n",
      "dot(Olivia, William) = 0.466\n",
      "dot(Olivia, Coffee)  = -0.006\n",
      "dot(Coffee, William) = 0.132\n",
      "\n",
      "dot(Olivia(*)Agent, William(*)Agent) = 0.493\n",
      "dot(Olivia(*)Agent, Coffee(*)Agent)  = 0.003\n",
      "dot(Coffee(*)Agent, William(*)Agent) = 0.009\n",
      "\n",
      "Euclidean Distance:\n",
      "\n",
      "||Olivia - William|| = 1.007\n",
      "||Olivia - Coffee || = 1.408\n",
      "||Coffee - William|| = 1.412\n",
      "\n",
      "||Olivia(*)Agent - William(*)Agent|| = 1.033\n",
      "||Olivia(*)Agent - Coffee(*)Agent || = 1.418\n",
      "||Coffee(*)Agent - William(*)Agent|| = 1.317\n"
     ]
    }
   ],
   "source": [
    "from sklearn.preprocessing import normalize\n",
    "\n",
    "isPerson = embed(1, d, distr, param)\n",
    "\n",
    "Olivia = normalize(embed(1, d, distr, param) + isPerson)\n",
    "William = normalize(embed(1, d, distr, param) + isPerson)\n",
    "Agent = embed(1, d, distr, param)\n",
    "Coffee = embed(1, d, distr, param)\n",
    "\n",
    "\n",
    "OliviaAgent = encode(Olivia, Agent)\n",
    "WilliamAgent = encode(William, Agent)\n",
    "CoffeeAgent = encode(Coffee, Agent)\n",
    "\n",
    "print \"Dot Product:\"\n",
    "print \n",
    "print \"dot(Olivia, William) = %.3f\" % np.dot(OliviaAgent, WilliamAgent.T)[0][0]\n",
    "print \"dot(Olivia, Coffee)  = %.3f\" % np.dot(CoffeeAgent, WilliamAgent.T)[0][0]\n",
    "print \"dot(Coffee, William) = %.3f\" % np.dot(OliviaAgent, CoffeeAgent.T)[0][0]\n",
    "\n",
    "\n",
    "print \n",
    "print \"dot(Olivia(*)Agent, William(*)Agent) = %.3f\" % np.dot(Olivia, William.T)[0][0]\n",
    "print \"dot(Olivia(*)Agent, Coffee(*)Agent)  = %.3f\" % np.dot(Coffee, William.T)[0][0]\n",
    "print \"dot(Coffee(*)Agent, William(*)Agent) = %.3f\" % np.dot(Olivia, Coffee.T)[0][0]\n",
    "\n",
    "\n",
    "print\n",
    "print \"Euclidean Distance:\"\n",
    "print \n",
    "print \"||Olivia - William|| = %.3f\" % np.linalg.norm(Olivia - William)\n",
    "print \"||Olivia - Coffee || = %.3f\" % np.linalg.norm(Olivia - Coffee)\n",
    "print \"||Coffee - William|| = %.3f\" % np.linalg.norm(Coffee - William)\n",
    "\n",
    "print\n",
    "print \"||Olivia(*)Agent - William(*)Agent|| = %.3f\" % np.linalg.norm(OliviaAgent - WilliamAgent)\n",
    "print \"||Olivia(*)Agent - Coffee(*)Agent || = %.3f\" % np.linalg.norm(CoffeeAgent - WilliamAgent)\n",
    "print \"||Coffee(*)Agent - William(*)Agent|| = %.3f\" % np.linalg.norm(OliviaAgent - CoffeeAgent)\n",
    "\n"
   ]
  },
  {
   "cell_type": "code",
   "execution_count": null,
   "metadata": {
    "collapsed": true
   },
   "outputs": [],
   "source": []
  },
  {
   "cell_type": "code",
   "execution_count": null,
   "metadata": {
    "collapsed": true
   },
   "outputs": [],
   "source": []
  }
 ],
 "metadata": {
  "kernelspec": {
   "display_name": "Python 2",
   "language": "python",
   "name": "python2"
  },
  "language_info": {
   "codemirror_mode": {
    "name": "ipython",
    "version": 2
   },
   "file_extension": ".py",
   "mimetype": "text/x-python",
   "name": "python",
   "nbconvert_exporter": "python",
   "pygments_lexer": "ipython2",
   "version": "2.7.13"
  }
 },
 "nbformat": 4,
 "nbformat_minor": 1
}
