{
 "cells": [
  {
   "cell_type": "code",
   "execution_count": 18,
   "metadata": {},
   "outputs": [],
   "source": [
    "%matplotlib inline\n",
    "import numpy as np\n",
    "import matplotlib.pyplot as plt\n",
    "import pandas as pd\n",
    "import seaborn as sns\n",
    "from models import *\n",
    "from opt import encode\n",
    "from tqdm import tnrange\n",
    "\n",
    "sns.set_context('paper', font_scale=1.5)"
   ]
  },
  {
   "cell_type": "code",
   "execution_count": 19,
   "metadata": {},
   "outputs": [
    {
     "name": "stdout",
     "output_type": "stream",
     "text": [
      "266\n"
     ]
    }
   ],
   "source": [
    "np.random.seed(0)\n",
    "\n",
    "# figure out how many dimensions we need using plates formula\n",
    "n = 18   # number of atomic values in the language\n",
    "k = 6;      # maximum number of terms to be combined\n",
    "err = 0.02; # error probability\n",
    "\n",
    "from opt import plate_formula, embed, encode, decode, embed_onehot\n",
    "d = plate_formula(n, k, err)\n",
    "print d\n",
    "\n",
    "def embed(d):\n",
    "    return np.random.randn(1, d) / np.sqrt(d)\n",
    "\n",
    "verb_property = embed(d) * 1.00\n",
    "noun_property = embed(d) * 1.00\n",
    "\n",
    "words = {\n",
    "    'Ask': embed(d),\n",
    "    'Answer':  embed(d),\n",
    "    'Chase': embed(d),\n",
    "    'Tom': (embed(d) + noun_property),\n",
    "    'Charan':(embed(d) + noun_property),\n",
    "    'Jill': (embed(d) + noun_property),\n",
    "    'Talia': (embed(d) + noun_property),\n",
    "    'Tony': (embed(d) + noun_property),\n",
    "    'Clarisa': (embed(d) + noun_property),\n",
    "    'Bruce': (embed(d) + noun_property),\n",
    "    'Dick': (embed(d) + noun_property),\n",
    "    'Dog': (embed(d) + noun_property),\n",
    "    'Cat': (embed(d) + noun_property),\n",
    "}\n",
    "\n",
    "roles = {\n",
    "    'Agent': embed(d),\n",
    "    'Patient': embed(d),\n",
    "    'Verb': embed(d)\n",
    "}\n"
   ]
  },
  {
   "cell_type": "code",
   "execution_count": 20,
   "metadata": {},
   "outputs": [
    {
     "name": "stdout",
     "output_type": "stream",
     "text": [
      "['Answer', 'Ask', 'Bruce', 'Cat', 'Charan', 'Chase', 'Clarisa', 'Dick', 'Dog', 'Jill', 'Talia', 'Tom', 'Tony']\n"
     ]
    },
    {
     "data": {
      "text/plain": [
       "<matplotlib.axes._subplots.AxesSubplot at 0x1a36c097d0>"
      ]
     },
     "execution_count": 20,
     "metadata": {},
     "output_type": "execute_result"
    },
    {
     "data": {
      "image/png": "[encoded data removed]",
      "text/plain": [
       "<Figure size 432x288 with 2 Axes>"
      ]
     },
     "metadata": {
      "needs_background": "light"
     },
     "output_type": "display_data"
    }
   ],
   "source": [
    "from sklearn.metrics.pairwise import cosine_distances, euclidean_distances\n",
    "\n",
    "keys =  words.keys()\n",
    "keys.sort()\n",
    "print keys\n",
    "sns.heatmap(cosine_distances([words[w].reshape(-1) for w in keys]))"
   ]
  },
  {
   "cell_type": "code",
   "execution_count": 21,
   "metadata": {},
   "outputs": [
    {
     "name": "stdout",
     "output_type": "stream",
     "text": [
      "['Answer', 'Ask', 'Bruce', 'Cat', 'Charan', 'Chase', 'Clarisa', 'Dick', 'Dog', 'Jill', 'Talia', 'Tom', 'Tony']\n"
     ]
    },
    {
     "data": {
      "text/plain": [
       "<matplotlib.axes._subplots.AxesSubplot at 0x1a36d96850>"
      ]
     },
     "execution_count": 21,
     "metadata": {},
     "output_type": "execute_result"
    },
    {
     "data": {
      "image/png": "[encoded data removed]",
      "text/plain": [
       "<Figure size 432x288 with 2 Axes>"
      ]
     },
     "metadata": {
      "needs_background": "light"
     },
     "output_type": "display_data"
    }
   ],
   "source": [
    "keys =  words.keys()\n",
    "keys.sort()\n",
    "print keys\n",
    "sns.heatmap(euclidean_distances([words[w].reshape(-1) for w in keys]))"
   ]
  },
  {
   "cell_type": "code",
   "execution_count": 22,
   "metadata": {},
   "outputs": [],
   "source": [
    "sentences = [\n",
    "    ['Ask', 'Tom', 'Charan'], ['Answer', 'Charan', 'Tom'],\n",
    "#     ['Ask', 'Tom', 'Jill'],  ['Answer', 'Jill', 'Tom'],\n",
    "#     ['Ask', 'Tom', 'Talia'],  ['Answer', 'Talia', 'Tom'],\n",
    "#     ['Ask', 'Tom', 'Tony'],  ['Answer', 'Tony', 'Tom'],\n",
    "#     ['Ask', 'Tom', 'Clarisa'],  ['Answer', 'Clarisa', 'Tom'],\n",
    "\n",
    "#     ['Ask', 'Charan', 'Tom'], ['Answer', 'Tom', 'Charan'],\n",
    "#     ['Ask', 'Charan', 'Jill'],  ['Answer', 'Jill', 'Charan'],\n",
    "#     ['Ask', 'Charan', 'Talia'],  ['Answer', 'Talia', 'Charan'],\n",
    "#     ['Ask', 'Charan', 'Tony'],  ['Answer', 'Tony', 'Charan'],\n",
    "#     ['Ask', 'Charan', 'Clarisa'],  ['Answer', 'Clarisa', 'Charan'],\n",
    "\n",
    "    ['Ask', 'Jill', 'Talia'], ['Answer', 'Talia', 'Jill'],\n",
    "#     ['Ask', 'Jill', 'Tom'], ['Answer', 'Tom', 'Jill'],\n",
    "#     ['Ask', 'Jill', 'Charan'], ['Answer', 'Charan', 'Jill'],\n",
    "#     ['Ask', 'Jill', 'Tony'], ['Answer', 'Tony', 'Jill'],\n",
    "#     ['Ask', 'Jill', 'Clarisa'],  ['Answer', 'Charan', 'Jill'],\n",
    "\n",
    "#     ['Ask', 'Talia', 'Tom'],  ['Answer', 'Tom', 'Talia'],\n",
    "#     ['Ask', 'Talia', 'Jill'], ['Answer', 'Jill', 'Talia'],\n",
    "#     ['Ask', 'Talia', 'Charan'],  ['Answer', 'Charan', 'Talia'],\n",
    "#     ['Ask', 'Talia', 'Tony'],  ['Answer', 'Tony', 'Talia'],\n",
    "#     ['Ask', 'Talia', 'Clarisa'],  ['Answer', 'Clarisa', 'Talia'],\n",
    "\n",
    "#     ['Ask', 'Tony', 'Tom'], ['Answer', 'Tom', 'Tony'],\n",
    "#     ['Ask', 'Tony', 'Jill'], ['Answer', 'Jill', 'Tony'],\n",
    "#     ['Ask', 'Tony', 'Charan'],  ['Answer', 'Charan', 'Tony'],\n",
    "#     ['Ask', 'Tony', 'Talia'],  ['Answer', 'Talia', 'Tony'],\n",
    "    ['Ask', 'Tony', 'Clarisa'],  ['Answer', 'Clarisa', 'Tony'],\n",
    "    \n",
    "#     ['Ask', 'Clarisa', 'Tom'], ['Answer', 'Tom', 'Clarisa'],\n",
    "#     ['Ask', 'Clarisa', 'Jill'], ['Answer', 'Jill', 'Clarisa'],\n",
    "#     ['Ask', 'Clarisa', 'Charan'],  ['Answer', 'Charan', 'Clarisa'],\n",
    "#     ['Ask', 'Clarisa', 'Talia'],  ['Answer', 'Talia', 'Clarisa'],\n",
    "#     ['Ask', 'Clarisa', 'Tony'],  ['Answer', 'Tony', 'Clarisa'],\n",
    "]\n",
    "\n",
    "x_train = []\n",
    "for s in sentences:\n",
    "    x_train.append(\n",
    "        encode(words[s[0]], roles['Verb']) \n",
    "            + encode(words[s[1]], roles['Agent']) \n",
    "            + encode(words[s[2]], roles['Patient'])\n",
    "    )\n",
    "    \n",
    "test_a = [\n",
    "    encode(words['Ask'], roles['Verb']) \n",
    "        + encode(words['Tom'], roles['Agent']) \n",
    "        + encode(words['Charan'], roles['Patient']),\n",
    "    encode(words['Answer'], roles['Verb']) \n",
    "        + encode(words['Charan'], roles['Agent']) \n",
    "        + encode(words['Tom'], roles['Patient']),\n",
    "]\n",
    "\n",
    "\n",
    "test_b = [\n",
    "    encode(words['Ask'], roles['Verb']) \n",
    "        + encode(words['Bruce'], roles['Agent']) \n",
    "        + encode(words['Dick'], roles['Patient']),\n",
    "    encode(words['Answer'], roles['Verb']) \n",
    "        + encode(words['Dick'], roles['Agent']) \n",
    "        + encode(words['Bruce'], roles['Patient'])  \n",
    "]\n",
    "\n",
    "test_c = [\n",
    "    encode(words['Ask'], roles['Verb']) \n",
    "        + encode(words['Tom'], roles['Agent']) \n",
    "        + encode(words['Charan'], roles['Patient']),\n",
    "    encode(words['Chase'], roles['Verb']) \n",
    "        + encode(words['Dog'], roles['Agent']) \n",
    "        + encode(words['Cat'], roles['Patient']),\n",
    "]\n",
    "\n",
    "test_d = [\n",
    "    encode(words['Ask'], roles['Verb']) \n",
    "        + encode(words['Tom'], roles['Agent']) \n",
    "        + encode(words['Charan'], roles['Patient']),\n",
    "    encode(words['Ask'], roles['Verb']) \n",
    "        + encode(words['Tom'], roles['Agent']) \n",
    "        + encode(words['Charan'], roles['Patient']),\n",
    "]\n",
    "\n",
    "test_e = [\n",
    "    encode(words['Ask'], roles['Verb']) \n",
    "        + encode(words['Tom'], roles['Agent']) \n",
    "        + encode(words['Charan'], roles['Patient']),\n",
    "    encode(words['Ask'], roles['Verb']) \n",
    "        + encode(words['Bruce'], roles['Agent']) \n",
    "        + encode(words['Dick'], roles['Patient']),\n",
    "]\n"
   ]
  },
  {
   "cell_type": "code",
   "execution_count": 23,
   "metadata": {},
   "outputs": [
    {
     "data": {
      "text/plain": [
       "0.5495408738576245"
      ]
     },
     "execution_count": 23,
     "metadata": {},
     "output_type": "execute_result"
    }
   ],
   "source": [
    "10**-0.26"
   ]
  },
  {
   "cell_type": "code",
   "execution_count": 24,
   "metadata": {},
   "outputs": [
    {
     "name": "stdout",
     "output_type": "stream",
     "text": [
      "0.3111\n"
     ]
    }
   ],
   "source": [
    "# SEM parameters\n",
    "# df0 = 1.0\n",
    "# mode = 0.15\n",
    "df0 = 100.0\n",
    "mode = 0.305\n",
    "scale0 = (mode * (df0 + 2)) / df0\n",
    "print scale0\n",
    "\n",
    "lmda = 1.0  # stickyness parameter\n",
    "alfa = 2.  # concentration parameter\n",
    "\n",
    "\n",
    "f_class = NonLinearEvent\n",
    "# f_class = LinearDynamicSystem\n",
    "f_opts=dict(var_scale0=scale0, var_df0=df0, dropout=0.5, n_hidden = d, n_epochs=100,\n",
    "           prior_log_prob=2.0)\n",
    "\n",
    "sem_kwargs = dict(lmda=lmda, alfa=alfa, f_class=f_class, f_opts=f_opts)\n",
    "\n",
    "_x = np.concatenate(x_train, axis=0)\n",
    "event_types = np.array([0] * len(x_train))\n",
    "event_boundaries = np.array([1, 0] * len(x_train))\n",
    "\n",
    "sem_model = SEM(**sem_kwargs)"
   ]
  },
  {
   "cell_type": "code",
   "execution_count": 25,
   "metadata": {},
   "outputs": [],
   "source": [
    "def print_evalute(x, event_model, metric=euclidean_distances):\n",
    "    print \"t=0, f0={}, origin={}\".format(\n",
    "        metric(event_model.predict_f0(), x[0])[0][0], metric(np.zeros((1, d)), x[0])[0][0])\n",
    "    print \"t=1, f(x)={}, f0={}, origin={}\".format(\n",
    "        metric(event_model.predict_next_generative(x[0]), x[1])[0][0],\n",
    "        metric(event_model.predict_f0(), x[1])[0][0],\n",
    "        metric(np.zeros((1, d)), x[1])[0][0])\n",
    "    \n",
    "def print_models_likelihood(x, event_model_0, event_model_1):\n",
    "    print \"t=0, p(f0_a)={}, p(f0_a)={}\".format(\n",
    "        event_model_0.log_likelihood_f0(x[0]),\n",
    "        event_model_1.log_likelihood_f0(x[0])\n",
    "    )\n",
    "    print \"t=1, p(f(x)_a)={}, p(f0_a)={}, p(f0_b)={}\".format(\n",
    "        event_model_0.log_likelihood_sequence(x[0], x[1]), \n",
    "        event_model_0.log_likelihood_f0(x[1]),\n",
    "        event_model_1.log_likelihood_f0(x[1])\n",
    "    )\n"
   ]
  },
  {
   "cell_type": "markdown",
   "metadata": {},
   "source": [
    "# Test Case A"
   ]
  },
  {
   "cell_type": "code",
   "execution_count": 26,
   "metadata": {},
   "outputs": [
    {
     "name": "stderr",
     "output_type": "stream",
     "text": [
      "Pretraining: 100%|██████████| 6/6 [00:08<00:00,  1.52s/it]\n",
      "Run SEM: 100%|██████████| 2/2 [00:03<00:00,  1.47s/it]"
     ]
    },
    {
     "name": "stdout",
     "output_type": "stream",
     "text": [
      "[1.00000000e+00 1.28296547e-05]\n",
      "[0 0]\n"
     ]
    },
    {
     "name": "stderr",
     "output_type": "stream",
     "text": [
      "\n"
     ]
    }
   ],
   "source": [
    "# Ask(Tom, Charan) -> Answer(Charan, Tom)\n",
    "sem_model = SEM(**sem_kwargs)\n",
    "sem_model.pretrain(_x, event_types, event_boundaries)\n",
    "sem_model._update_state(np.concatenate(test_a), 3)\n",
    "sem_model.run(np.concatenate(test_a), compile_model=False)\n",
    "\n",
    "results = [\n",
    "    {\n",
    "        'Test Case': 'Answer(Charan,Tom)',\n",
    "        'Boundary': np.exp(sem_model.results.log_boundary_probability)[1],\n",
    "        'New Event': 1-sem_model.results.post[1, 0]\n",
    "    }\n",
    "]\n",
    "\n",
    "print np.exp(sem_model.results.log_boundary_probability)\n",
    "print sem_model.results.e_hat"
   ]
  },
  {
   "cell_type": "code",
   "execution_count": 27,
   "metadata": {},
   "outputs": [
    {
     "name": "stdout",
     "output_type": "stream",
     "text": [
      "[0.00000000e+00 1.34170058e-05]\n"
     ]
    },
    {
     "data": {
      "image/png": "[encoded data removed]",
      "text/plain": [
       "<Figure size 216x144 with 1 Axes>"
      ]
     },
     "metadata": {
      "needs_background": "light"
     },
     "output_type": "display_data"
    }
   ],
   "source": [
    "sns.set_context('paper', font_scale=1.0)\n",
    "\n",
    "def plot_results(results, x_labels):\n",
    "    fig, ax = plt.subplots(1, 1, figsize=(3.0, 2.0), sharey=True)\n",
    "    w = 0.4\n",
    "    \n",
    "    y = np.exp(sem_model.results.log_boundary_probability)\n",
    "    ax.bar([0-w/2., 1.-w/2.], y, facecolor=[0.65, 0.65, 0.65], width=w, edgecolor='k', lw=1, label='Boundary')\n",
    "    ax.set_ylabel('Probability')\n",
    "    ax.set_title('Boundary')\n",
    "    ax.set_title('New Event')\n",
    "    \n",
    "    \n",
    "    ax.set_xticks([0, 1])\n",
    "    ax.set_xticklabels(x_labels, rotation=0)\n",
    "    \n",
    "    y = 1-results.post[:, 0]\n",
    "    print y\n",
    "    ax.bar([0+w/2., 1.+w/2.], y, facecolor=[0.35, 0.35, 0.35], width=w, edgecolor='k', lw=1, label='New Event')\n",
    "\n",
    "\n",
    "    plt.legend(loc='center right', bbox_to_anchor=(1.5, 0.5))\n",
    "    sns.despine()\n",
    "    \n",
    "plot_results(sem_model.results, 'Ask(Tom,Charan) Answer(Charan,Tom)'.split(' '))\n",
    "# plt.savefig('generalization_test_case_a.png', dpi=300, bbox_inches='tight')"
   ]
  },
  {
   "cell_type": "code",
   "execution_count": 28,
   "metadata": {},
   "outputs": [
    {
     "data": {
      "text/plain": [
       "array([1.        , 0.99998658])"
      ]
     },
     "execution_count": 28,
     "metadata": {},
     "output_type": "execute_result"
    }
   ],
   "source": [
    "sem_model.results.post[:, 0]"
   ]
  },
  {
   "cell_type": "code",
   "execution_count": 29,
   "metadata": {},
   "outputs": [
    {
     "name": "stdout",
     "output_type": "stream",
     "text": [
      "-1.2203409855043879 13.976659560606175\n"
     ]
    }
   ],
   "source": [
    "print sem_model.results.restart_prob, sem_model.results.repeat_prob"
   ]
  },
  {
   "cell_type": "code",
   "execution_count": 30,
   "metadata": {},
   "outputs": [
    {
     "name": "stdout",
     "output_type": "stream",
     "text": [
      "[[ 0.                -inf        -inf]\n",
      " [11.89721831  2.                -inf]]\n"
     ]
    }
   ],
   "source": [
    "print sem_model.results.log_like"
   ]
  },
  {
   "cell_type": "code",
   "execution_count": 31,
   "metadata": {},
   "outputs": [
    {
     "name": "stdout",
     "output_type": "stream",
     "text": [
      "[[2.               -inf       -inf]\n",
      " [2.01490302 0.69314718       -inf]]\n"
     ]
    }
   ],
   "source": [
    "print sem_model.results.log_prior"
   ]
  },
  {
   "cell_type": "code",
   "execution_count": 32,
   "metadata": {},
   "outputs": [
    {
     "name": "stdout",
     "output_type": "stream",
     "text": [
      "t=0, f0=0.824618201492, origin=2.48438221807\n",
      "t=1, f(x)=0.133485954156, f0=2.10024461304, origin=2.41267799517\n"
     ]
    }
   ],
   "source": [
    "print_evalute(test_a, sem_model.event_models[0])"
   ]
  },
  {
   "cell_type": "code",
   "execution_count": 33,
   "metadata": {},
   "outputs": [
    {
     "name": "stdout",
     "output_type": "stream",
     "text": [
      "t=0, p(f0_a)=10.8773287561, p(f0_a)=2.0\n",
      "t=1, p(f(x)_a)=13.174566795, p(f0_a)=-2.07132893626, p(f0_b)=2.0\n"
     ]
    }
   ],
   "source": [
    "print_models_likelihood(test_a, sem_model.event_models[0], sem_model.event_models[1])"
   ]
  },
  {
   "cell_type": "code",
   "execution_count": 35,
   "metadata": {},
   "outputs": [
    {
     "data": {
      "image/png": "[encoded data removed]",
      "text/plain": [
       "<Figure size 468x144 with 3 Axes>"
      ]
     },
     "metadata": {
      "needs_background": "light"
     },
     "output_type": "display_data"
    },
    {
     "data": {
      "text/plain": [
       "<Figure size 432x288 with 0 Axes>"
      ]
     },
     "metadata": {},
     "output_type": "display_data"
    }
   ],
   "source": [
    "# check the decoding here\n",
    "from opt import decode\n",
    "from scipy.linalg import norm\n",
    "from scipy.special import logsumexp\n",
    "\n",
    "gamma = 50.0\n",
    "\n",
    "agent = decode(sem_model.results.x_hat[1], roles['Agent'])\n",
    "patient = decode(sem_model.results.x_hat[1], roles['Patient'])\n",
    "verb = decode(sem_model.results.x_hat[1], roles['Verb'])\n",
    "\n",
    "\n",
    "_df = []\n",
    "for w in words.keys():\n",
    "    _df.append({\n",
    "        'Word': w,\n",
    "        'Agent Prob': gamma * -cosine_distances(agent, words[w])[0][0],\n",
    "        'Patient Prob': gamma * -cosine_distances(patient, words[w])[0][0],\n",
    "        'Verb Prob': gamma * -cosine_distances(verb, words[w])[0][0],\n",
    "    }) \n",
    "_df = pd.DataFrame(_df)\n",
    "_df['Agent Prob'] =np.exp( _df['Agent Prob'] - logsumexp(_df['Agent Prob']))\n",
    "_df['Patient Prob'] =np.exp( _df['Patient Prob'] - logsumexp(_df['Patient Prob']))\n",
    "_df['Verb Prob'] =np.exp( _df['Verb Prob'] - logsumexp(_df['Verb Prob']))\n",
    "\n",
    "# plot\n",
    "fig, axes = plt.subplots(1, 3, figsize=(6.5, 2.0), sharey=True)\n",
    "_df.sort_values('Agent Prob', inplace=True)\n",
    "_df.plot(x='Word', y='Agent Prob', kind='barh', color='grey', ax=axes[0], legend=None, title='Agent')\n",
    "_df.plot(x='Word', y='Patient Prob', kind='barh', color='grey', ax=axes[1], legend=None, title='Patient')\n",
    "_df.plot(x='Word', y='Verb Prob', kind='barh', color='grey', ax=axes[2], legend=None, title='Verb')\n",
    "\n",
    "for ax in axes:\n",
    "    ax.plot([1. / len(_df), 1. / len(_df)], plt.gca().get_ylim(), c='r', ls='--')\n",
    "    ax.set_xlabel('Decoding Probability')\n",
    "plt.show()\n",
    "plt.savefig('DecodingA.png', dpi=300, bbox_iunches='tight')"
   ]
  },
  {
   "cell_type": "code",
   "execution_count": 36,
   "metadata": {},
   "outputs": [
    {
     "name": "stdout",
     "output_type": "stream",
     "text": [
      "13.132845439573652\n",
      "0.35170283527288504\n"
     ]
    }
   ],
   "source": [
    "from scipy.stats import multivariate_normal\n",
    "\n",
    "\n",
    "print multivariate_normal.logpdf(test_a[1].reshape(-1), mean=sem_model.results.x_hat[1].reshape(-1), cov=np.diag(sem_model.event_models[0].Sigma))\n",
    "print multivariate_normal.logpdf(test_b[1].reshape(-1), mean=sem_model.results.x_hat[1].reshape(-1), cov=np.diag(sem_model.event_models[0].Sigma))"
   ]
  },
  {
   "cell_type": "code",
   "execution_count": 37,
   "metadata": {},
   "outputs": [
    {
     "name": "stdout",
     "output_type": "stream",
     "text": [
      "0.999997186680394 2.8133196054260217e-06\n",
      "355450.97142596566\n"
     ]
    }
   ],
   "source": [
    "a = multivariate_normal.logpdf(test_a[1].reshape(-1), mean=sem_model.results.x_hat[1].reshape(-1), cov=np.diag(sem_model.event_models[0].Sigma))\n",
    "b = multivariate_normal.logpdf(test_b[1].reshape(-1), mean=sem_model.results.x_hat[1].reshape(-1), cov=np.diag(sem_model.event_models[0].Sigma))\n",
    "z = logsumexp([a, b])\n",
    "print np.exp(a - z), np.exp(b - z)\n",
    "print np.exp(a - b)"
   ]
  },
  {
   "cell_type": "markdown",
   "metadata": {},
   "source": [
    "# Test Case B"
   ]
  },
  {
   "cell_type": "code",
   "execution_count": 38,
   "metadata": {},
   "outputs": [
    {
     "name": "stderr",
     "output_type": "stream",
     "text": [
      "Pretraining: 100%|██████████| 6/6 [00:06<00:00,  1.08s/it]\n",
      "Run SEM: 100%|██████████| 2/2 [00:01<00:00,  1.05it/s]"
     ]
    },
    {
     "name": "stdout",
     "output_type": "stream",
     "text": [
      "[1.         0.17072923]\n",
      "[0 0]\n"
     ]
    },
    {
     "name": "stderr",
     "output_type": "stream",
     "text": [
      "\n"
     ]
    }
   ],
   "source": [
    "# Ask(Bruce, Dick) -> Answer(Dick, Bruce)\n",
    "sem_model = SEM(**sem_kwargs)\n",
    "sem_model.pretrain(_x, event_types, event_boundaries)\n",
    "sem_model._update_state(np.concatenate(test_b), 3)\n",
    "sem_model.run(np.concatenate(test_b), compile_model=False)\n",
    "\n",
    "results.append(\n",
    "    {\n",
    "        'Test Case': 'Answer(Dick,Bruce)',\n",
    "        'Boundary': np.exp(sem_model.results.log_boundary_probability)[1],\n",
    "        'New Event': 1-sem_model.results.post[1, 0]\n",
    "    }\n",
    ")\n",
    "\n",
    "print np.exp(sem_model.results.log_boundary_probability)\n",
    "print sem_model.results.e_hat"
   ]
  },
  {
   "cell_type": "code",
   "execution_count": 39,
   "metadata": {},
   "outputs": [
    {
     "name": "stdout",
     "output_type": "stream",
     "text": [
      "[0.         0.14341898]\n"
     ]
    },
    {
     "data": {
      "image/png": "[encoded data removed]",
      "text/plain": [
       "<Figure size 216x144 with 1 Axes>"
      ]
     },
     "metadata": {
      "needs_background": "light"
     },
     "output_type": "display_data"
    }
   ],
   "source": [
    "plot_results(sem_model.results, 'Ask(Bruce,Dick) Answer(Dick,Bruce)'.split(' '))\n",
    "# plt.savefig('generalization_test_case_b.png', dpi=300, bbox_inches='tight')"
   ]
  },
  {
   "cell_type": "code",
   "execution_count": 40,
   "metadata": {},
   "outputs": [
    {
     "data": {
      "text/plain": [
       "array([[0.        ,       -inf,       -inf],\n",
       "       [2.46542282, 2.        ,       -inf]])"
      ]
     },
     "execution_count": 40,
     "metadata": {},
     "output_type": "execute_result"
    }
   ],
   "source": [
    "sem_model.results.log_like"
   ]
  },
  {
   "cell_type": "code",
   "execution_count": 41,
   "metadata": {},
   "outputs": [
    {
     "name": "stdout",
     "output_type": "stream",
     "text": [
      "1.315812933451715 4.498557062484872\n"
     ]
    }
   ],
   "source": [
    "print sem_model.results.restart_prob, sem_model.results.repeat_prob"
   ]
  },
  {
   "cell_type": "code",
   "execution_count": 42,
   "metadata": {},
   "outputs": [
    {
     "name": "stdout",
     "output_type": "stream",
     "text": [
      "t=0, f0=1.17331725829, origin=2.26451490236\n",
      "t=1, f(x)=0.185610571318, f0=1.91165661086, origin=2.18113776608\n"
     ]
    }
   ],
   "source": [
    "print_evalute(test_b, sem_model.event_models[0])"
   ]
  },
  {
   "cell_type": "code",
   "execution_count": 43,
   "metadata": {},
   "outputs": [
    {
     "name": "stdout",
     "output_type": "stream",
     "text": [
      "t=0, p(f0_a)=8.38010267501, p(f0_a)=2.0\n",
      "t=1, p(f(x)_a)=13.0341694488, p(f0_a)=0.484773062904, p(f0_b)=2.0\n"
     ]
    }
   ],
   "source": [
    "print_models_likelihood(test_b, sem_model.event_models[0], sem_model.event_models[1])"
   ]
  },
  {
   "cell_type": "code",
   "execution_count": 44,
   "metadata": {},
   "outputs": [
    {
     "data": {
      "image/png": "[encoded data removed]",
      "text/plain": [
       "<Figure size 468x144 with 3 Axes>"
      ]
     },
     "metadata": {
      "needs_background": "light"
     },
     "output_type": "display_data"
    },
    {
     "data": {
      "text/plain": [
       "<Figure size 432x288 with 0 Axes>"
      ]
     },
     "metadata": {},
     "output_type": "display_data"
    }
   ],
   "source": [
    "# check the decoding here\n",
    "from opt import decode\n",
    "from scipy.linalg import norm\n",
    "from scipy.special import logsumexp\n",
    "\n",
    "agent = decode(sem_model.results.x_hat[1], roles['Agent'])\n",
    "patient = decode(sem_model.results.x_hat[1], roles['Patient'])\n",
    "verb = decode(sem_model.results.x_hat[1], roles['Verb'])\n",
    "\n",
    "\n",
    "_df = []\n",
    "for w in words.keys():\n",
    "    _df.append({\n",
    "        'Word': w,\n",
    "        'Agent Prob': -gamma * cosine_distances(agent, words[w])[0][0],\n",
    "        'Patient Prob': -gamma * cosine_distances(patient, words[w])[0][0],\n",
    "        'Verb Prob': -gamma * cosine_distances(verb, words[w])[0][0],\n",
    "    }) \n",
    "_df = pd.DataFrame(_df)\n",
    "_df['Agent Prob'] =np.exp( _df['Agent Prob'] - logsumexp(_df['Agent Prob']))\n",
    "_df['Patient Prob'] =np.exp( _df['Patient Prob'] - logsumexp(_df['Patient Prob']))\n",
    "_df['Verb Prob'] =np.exp( _df['Verb Prob'] - logsumexp(_df['Verb Prob']))\n",
    "\n",
    "# plot\n",
    "fig, axes = plt.subplots(1, 3, figsize=(6.5, 2.0), sharey=True)\n",
    "_df.sort_values('Agent Prob', inplace=True)\n",
    "_df.plot(x='Word', y='Agent Prob', kind='barh', color='grey', ax=axes[0], legend=None, title='Agent')\n",
    "_df.plot(x='Word', y='Patient Prob', kind='barh', color='grey', ax=axes[1], legend=None, title='Patient')\n",
    "_df.plot(x='Word', y='Verb Prob', kind='barh', color='grey', ax=axes[2], legend=None, title='Verb')\n",
    "\n",
    "for ax in axes:\n",
    "    ax.plot([1. / len(_df), 1. / len(_df)], plt.gca().get_ylim(), c='r', ls='--')\n",
    "    ax.set_xlabel('Decoding Probability')\n",
    "plt.show()\n",
    "plt.savefig('DecodingB.png', dpi=300, bbox_iunches='tight')"
   ]
  },
  {
   "cell_type": "code",
   "execution_count": 45,
   "metadata": {},
   "outputs": [
    {
     "name": "stdout",
     "output_type": "stream",
     "text": [
      "0.8920236256954476 0.06713787651337004 0.04083849779118253\n",
      "13.286443837969871 1.6439849687092514\n"
     ]
    }
   ],
   "source": [
    "b_foil = encode(words['Answer'], roles['Verb']) \\\n",
    "        + encode(words['Bruce'], roles['Agent']) \\\n",
    "        + encode(words['Dick'], roles['Patient'])  \n",
    "        \n",
    "a = multivariate_normal.logpdf(test_a[1].reshape(-1), mean=sem_model.results.x_hat[1].reshape(-1), cov=np.diag(sem_model.event_models[0].Sigma))\n",
    "b = multivariate_normal.logpdf(test_b[1].reshape(-1), mean=sem_model.results.x_hat[1].reshape(-1), cov=np.diag(sem_model.event_models[0].Sigma))\n",
    "b0 = multivariate_normal.logpdf(b_foil.reshape(-1), mean=sem_model.results.x_hat[1].reshape(-1), cov=np.diag(sem_model.event_models[0].Sigma))\n",
    "\n",
    "\n",
    "z = logsumexp([a, b, b0])\n",
    "print np.exp(a - z), np.exp(b - z), np.exp(b0 - z)\n",
    "print np.exp(a - b), np.exp(b - b0)"
   ]
  },
  {
   "cell_type": "code",
   "execution_count": 46,
   "metadata": {},
   "outputs": [
    {
     "data": {
      "text/plain": [
       "array([ 0.        , -1.76767643])"
      ]
     },
     "execution_count": 46,
     "metadata": {},
     "output_type": "execute_result"
    }
   ],
   "source": [
    "sem_model.results.log_boundary_probability"
   ]
  },
  {
   "cell_type": "markdown",
   "metadata": {},
   "source": [
    "# Test Case C"
   ]
  },
  {
   "cell_type": "code",
   "execution_count": 47,
   "metadata": {},
   "outputs": [
    {
     "name": "stderr",
     "output_type": "stream",
     "text": [
      "Pretraining: 100%|██████████| 6/6 [00:06<00:00,  1.03s/it]\n",
      "Run SEM: 100%|██████████| 2/2 [00:01<00:00,  1.02s/it]"
     ]
    },
    {
     "name": "stdout",
     "output_type": "stream",
     "text": [
      "[1.         0.99970891]\n",
      "[0 1]\n"
     ]
    },
    {
     "name": "stderr",
     "output_type": "stream",
     "text": [
      "\n"
     ]
    }
   ],
   "source": [
    "# Ask(Tom, Charan) -> Chase(Dog, Cat)\n",
    "sem_model = SEM(**sem_kwargs)\n",
    "sem_model.pretrain(_x, event_types, event_boundaries)\n",
    "sem_model._update_state(np.concatenate(test_c), 3)\n",
    "sem_model.run(np.concatenate(test_c), compile_model=False)\n",
    "\n",
    "results.append(\n",
    "    {\n",
    "        'Test Case': 'Chase(Dog,Cat)',\n",
    "        'Boundary': np.exp(sem_model.results.log_boundary_probability)[1],\n",
    "        'New Event': 1-sem_model.results.post[1, 0]\n",
    "    }\n",
    ")\n",
    "\n",
    "print np.exp(sem_model.results.log_boundary_probability)\n",
    "print sem_model.results.e_hat"
   ]
  },
  {
   "cell_type": "code",
   "execution_count": 49,
   "metadata": {},
   "outputs": [
    {
     "name": "stdout",
     "output_type": "stream",
     "text": [
      "[0.         0.99735313]\n"
     ]
    },
    {
     "data": {
      "image/png": "[encoded data removed]",
      "text/plain": [
       "<Figure size 216x144 with 1 Axes>"
      ]
     },
     "metadata": {
      "needs_background": "light"
     },
     "output_type": "display_data"
    }
   ],
   "source": [
    "plot_results(sem_model.results, 'Ask(Tom,Charan) Chase(Dog,Cat)'.split(' '))\n",
    "# plt.savefig('generalization_test_case_c.png', dpi=300, bbox_inches='tight')"
   ]
  },
  {
   "cell_type": "code",
   "execution_count": 50,
   "metadata": {},
   "outputs": [
    {
     "data": {
      "text/plain": [
       "array([[ 0.        ,        -inf,        -inf],\n",
       "       [-5.25348311,  2.        ,        -inf]])"
      ]
     },
     "execution_count": 50,
     "metadata": {},
     "output_type": "execute_result"
    }
   ],
   "source": [
    "sem_model.results.log_like"
   ]
  },
  {
   "cell_type": "code",
   "execution_count": 51,
   "metadata": {},
   "outputs": [
    {
     "name": "stdout",
     "output_type": "stream",
     "text": [
      "t=0, f0=0.89679495654, origin=2.48438221807\n",
      "t=1, f(x)=2.37962924275, f0=2.24361986587, origin=2.11574650794\n"
     ]
    }
   ],
   "source": [
    "print_evalute(test_c, sem_model.event_models[0])"
   ]
  },
  {
   "cell_type": "code",
   "execution_count": 52,
   "metadata": {},
   "outputs": [
    {
     "name": "stdout",
     "output_type": "stream",
     "text": [
      "t=0, p(f0_a)=9.17274820014, p(f0_a)=-97.2730626629\n",
      "t=1, p(f(x)_a)=-7.52566686126, p(f0_a)=-5.36227932426, p(f0_b)=-86.5079582848\n"
     ]
    }
   ],
   "source": [
    "print_models_likelihood(test_c, sem_model.event_models[0], sem_model.event_models[1])"
   ]
  },
  {
   "cell_type": "markdown",
   "metadata": {},
   "source": [
    "# Test Case D"
   ]
  },
  {
   "cell_type": "code",
   "execution_count": 53,
   "metadata": {},
   "outputs": [
    {
     "name": "stderr",
     "output_type": "stream",
     "text": [
      "Pretraining: 100%|██████████| 6/6 [00:06<00:00,  1.09s/it]\n",
      "Run SEM: 100%|██████████| 2/2 [00:01<00:00,  1.04s/it]"
     ]
    },
    {
     "name": "stdout",
     "output_type": "stream",
     "text": [
      "[1.         0.99999956]\n",
      "[0 0]\n"
     ]
    },
    {
     "name": "stderr",
     "output_type": "stream",
     "text": [
      "\n"
     ]
    }
   ],
   "source": [
    "# Ask(Tom, Charan) -> Ask(Tom, Charan)\n",
    "sem_model = SEM(**sem_kwargs)\n",
    "sem_model.pretrain(_x, event_types, event_boundaries)\n",
    "sem_model._update_state(np.concatenate(test_d), 3)\n",
    "sem_model.run(np.concatenate(test_d), compile_model=False)\n",
    "\n",
    "results.append(\n",
    "    {\n",
    "        'Test Case': 'Ask(Tom,Charan)',\n",
    "        'Boundary': np.exp(sem_model.results.log_boundary_probability)[1],\n",
    "        'New Event': 1-sem_model.results.post[1, 0]\n",
    "    }\n",
    ")\n",
    "\n",
    "print np.exp(sem_model.results.log_boundary_probability)\n",
    "print sem_model.results.e_hat"
   ]
  },
  {
   "cell_type": "code",
   "execution_count": 54,
   "metadata": {},
   "outputs": [
    {
     "name": "stdout",
     "output_type": "stream",
     "text": [
      "[0.       0.000161]\n"
     ]
    },
    {
     "data": {
      "image/png": "[encoded data removed]",
      "text/plain": [
       "<Figure size 216x144 with 1 Axes>"
      ]
     },
     "metadata": {
      "needs_background": "light"
     },
     "output_type": "display_data"
    }
   ],
   "source": [
    "plot_results(sem_model.results, 'Ask(Tom,Charan) Ask(Tom,Charan)'.split(' '))\n",
    "# plt.savefig('generalization_test_case_d.png', dpi=300, bbox_inches='tight')"
   ]
  },
  {
   "cell_type": "markdown",
   "metadata": {},
   "source": [
    "## Test Case E"
   ]
  },
  {
   "cell_type": "code",
   "execution_count": 55,
   "metadata": {},
   "outputs": [
    {
     "name": "stderr",
     "output_type": "stream",
     "text": [
      "Pretraining: 100%|██████████| 6/6 [00:07<00:00,  1.23s/it]\n",
      "Run SEM: 100%|██████████| 2/2 [00:02<00:00,  1.18s/it]"
     ]
    },
    {
     "name": "stdout",
     "output_type": "stream",
     "text": [
      "[1.         0.99978922]\n",
      "[0 0]\n"
     ]
    },
    {
     "name": "stderr",
     "output_type": "stream",
     "text": [
      "\n"
     ]
    }
   ],
   "source": [
    "# Ask(Tom, Charan) -> Ask(Tom, Charan)\n",
    "sem_model = SEM(**sem_kwargs)\n",
    "sem_model.pretrain(_x, event_types, event_boundaries)\n",
    "sem_model._update_state(np.concatenate(test_e), 3)\n",
    "sem_model.run(np.concatenate(test_e), compile_model=False)\n",
    "\n",
    "results.append(\n",
    "    {\n",
    "        'Test Case': 'Ask(Bruce, Dick)',\n",
    "        'Boundary': np.exp(sem_model.results.log_boundary_probability)[1],\n",
    "        'New Event': 1-sem_model.results.post[1, 0]\n",
    "    }\n",
    ")\n",
    "\n",
    "print np.exp(sem_model.results.log_boundary_probability)\n",
    "print sem_model.results.e_hat"
   ]
  },
  {
   "cell_type": "code",
   "execution_count": 56,
   "metadata": {},
   "outputs": [
    {
     "name": "stdout",
     "output_type": "stream",
     "text": [
      "[0.         0.08729206]\n"
     ]
    },
    {
     "data": {
      "image/png": "[encoded data removed]",
      "text/plain": [
       "<Figure size 216x144 with 1 Axes>"
      ]
     },
     "metadata": {
      "needs_background": "light"
     },
     "output_type": "display_data"
    }
   ],
   "source": [
    "plot_results(sem_model.results, 'Ask(Tom,Charan) Ask(Tom,Charan)'.split(' '))\n",
    "# plt.savefig('generalization_test_case_d.png', dpi=300, bbox_inches='tight')"
   ]
  },
  {
   "cell_type": "markdown",
   "metadata": {},
   "source": [
    "# All test cases"
   ]
  },
  {
   "cell_type": "code",
   "execution_count": 57,
   "metadata": {},
   "outputs": [],
   "source": [
    "results = pd.DataFrame(results)\n",
    "results = results.loc[[0, 2, 1, 3, 4], ]\n",
    "results.index = range(5)"
   ]
  },
  {
   "cell_type": "code",
   "execution_count": 58,
   "metadata": {},
   "outputs": [
    {
     "data": {
      "text/html": [
       "<div>\n",
       "<style scoped>\n",
       "    .dataframe tbody tr th:only-of-type {\n",
       "        vertical-align: middle;\n",
       "    }\n",
       "\n",
       "    .dataframe tbody tr th {\n",
       "        vertical-align: top;\n",
       "    }\n",
       "\n",
       "    .dataframe thead th {\n",
       "        text-align: right;\n",
       "    }\n",
       "</style>\n",
       "<table border=\"1\" class=\"dataframe\">\n",
       "  <thead>\n",
       "    <tr style=\"text-align: right;\">\n",
       "      <th></th>\n",
       "      <th>Boundary</th>\n",
       "      <th>New Event</th>\n",
       "      <th>Test Case</th>\n",
       "    </tr>\n",
       "  </thead>\n",
       "  <tbody>\n",
       "    <tr>\n",
       "      <th>0</th>\n",
       "      <td>0.000013</td>\n",
       "      <td>0.000013</td>\n",
       "      <td>Answer(Charan,Tom)</td>\n",
       "    </tr>\n",
       "    <tr>\n",
       "      <th>1</th>\n",
       "      <td>0.999709</td>\n",
       "      <td>0.997353</td>\n",
       "      <td>Chase(Dog,Cat)</td>\n",
       "    </tr>\n",
       "    <tr>\n",
       "      <th>2</th>\n",
       "      <td>0.170729</td>\n",
       "      <td>0.143419</td>\n",
       "      <td>Answer(Dick,Bruce)</td>\n",
       "    </tr>\n",
       "    <tr>\n",
       "      <th>3</th>\n",
       "      <td>1.000000</td>\n",
       "      <td>0.000161</td>\n",
       "      <td>Ask(Tom,Charan)</td>\n",
       "    </tr>\n",
       "    <tr>\n",
       "      <th>4</th>\n",
       "      <td>0.999789</td>\n",
       "      <td>0.087292</td>\n",
       "      <td>Ask(Bruce, Dick)</td>\n",
       "    </tr>\n",
       "  </tbody>\n",
       "</table>\n",
       "</div>"
      ],
      "text/plain": [
       "   Boundary  New Event           Test Case\n",
       "0  0.000013   0.000013  Answer(Charan,Tom)\n",
       "1  0.999709   0.997353      Chase(Dog,Cat)\n",
       "2  0.170729   0.143419  Answer(Dick,Bruce)\n",
       "3  1.000000   0.000161     Ask(Tom,Charan)\n",
       "4  0.999789   0.087292    Ask(Bruce, Dick)"
      ]
     },
     "execution_count": 58,
     "metadata": {},
     "output_type": "execute_result"
    }
   ],
   "source": [
    "results"
   ]
  },
  {
   "cell_type": "code",
   "execution_count": 59,
   "metadata": {},
   "outputs": [],
   "source": [
    "x_labels = results['Test Case'].copy()\n"
   ]
  },
  {
   "cell_type": "code",
   "execution_count": null,
   "metadata": {},
   "outputs": [],
   "source": []
  },
  {
   "cell_type": "code",
   "execution_count": 60,
   "metadata": {},
   "outputs": [
    {
     "data": {
      "image/png": "[encoded data removed]",
      "text/plain": [
       "<Figure size 540x144 with 1 Axes>"
      ]
     },
     "metadata": {
      "needs_background": "light"
     },
     "output_type": "display_data"
    }
   ],
   "source": [
    "fig, ax = plt.subplots(1, 1, figsize=(7.5, 2.0), sharey=True)\n",
    "w = 0.35\n",
    "\n",
    "y = results.Boundary\n",
    "x = [x0 - w/2. for x0 in results.index]\n",
    "ax.bar(x, y, facecolor=[0.65, 0.65, 0.65], width=w, edgecolor='k', lw=1, label='Boundary')\n",
    "ax.set_ylabel('Probability')\n",
    "\n",
    "ax.set_xticks(results.index)\n",
    "ax.set_xticklabels(x_labels, rotation=0)\n",
    "\n",
    "y = results['New Event']\n",
    "x = [x0 + w/2. for x0 in results.index]\n",
    "ax.bar(x, y, facecolor=[0.35, 0.35, 0.35], width=w, edgecolor='k', lw=1, label='New Event')\n",
    "\n",
    "\n",
    "plt.legend(loc='upper left')\n",
    "sns.despine()\n",
    "plt.savefig('generalization_demo_results.png', dpi=300)"
   ]
  },
  {
   "cell_type": "code",
   "execution_count": null,
   "metadata": {},
   "outputs": [],
   "source": []
  }
 ],
 "metadata": {
  "kernelspec": {
   "display_name": "Python 2",
   "language": "python",
   "name": "python2"
  }
 },
 "nbformat": 4,
 "nbformat_minor": 2
}
