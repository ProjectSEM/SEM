{
 "cells": [
  {
   "cell_type": "markdown",
   "metadata": {},
   "source": [
    "# Dubrow and Divachi 2013\n",
    "**TODO**: Describe experiment and the implementation of the simulations\n",
    "\n",
    "**TODO**: Clean up this simluations and re-run simluations for inteligability"
   ]
  },
  {
   "cell_type": "code",
   "execution_count": 1,
   "metadata": {},
   "outputs": [
    {
     "name": "stderr",
     "output_type": "stream",
     "text": [
      "Using TensorFlow backend.\n"
     ]
    }
   ],
   "source": [
    "%matplotlib inline\n",
    "import numpy as np\n",
    "import matplotlib.pyplot as plt\n",
    "import seaborn as sns\n",
    "from models import SEM, KerasSimpleRNN\n",
    "\n",
    "np.random.seed(1234)\n",
    "sns.set_context('paper', font_scale=1.5)"
   ]
  },
  {
   "cell_type": "code",
   "execution_count": 2,
   "metadata": {},
   "outputs": [],
   "source": [
    "# N = 30  # 6 events of five objects each\n",
    "from sklearn.preprocessing import normalize\n",
    "\n",
    "event_duration = 5\n",
    "n_events = 5\n",
    "N = event_duration  * n_events\n",
    "D = 25\n",
    "\n",
    "def generate_experiment(seed=None, scaling_factor=1.0):\n",
    "    if seed:\n",
    "        np.random.seed(seed)\n",
    "    \n",
    "    X = np.random.randn(N, D)\n",
    "\n",
    "    # embed a similarity structure within the items of each category\n",
    "    # by adding the same random vector to all of the items within the\n",
    "    # category\n",
    "    categ_one = np.random.randn(1, D) * scaling_factor\n",
    "    categ_two = np.random.randn(1, D) * scaling_factor\n",
    "    \n",
    "    for ii in range(n_events):\n",
    "        if ii % 2 == 0:\n",
    "            X[ii*event_duration:ii*event_duration +event_duration, :] += categ_one\n",
    "        else:\n",
    "            X[ii*event_duration:ii*event_duration +event_duration, :] += categ_two\n",
    "\n",
    "    return normalize(X)\n",
    "\n",
    "pre_locs = np.array([ii*event_duration+event_duration for ii in range(n_events-1)])\n",
    "pst_locs = np.array([ii*event_duration+event_duration-1 for ii in range(n_events-1)])"
   ]
  },
  {
   "cell_type": "markdown",
   "metadata": {},
   "source": [
    "Set the parameters for the event models"
   ]
  },
  {
   "cell_type": "code",
   "execution_count": 3,
   "metadata": {},
   "outputs": [],
   "source": [
    "# for our purposes, we need to properly encode the transition function accurately\n",
    "f_opts=dict( n_epochs=100, optimizer='adam', n_hidden1=D, n_hidden2=D,\n",
    "    l2_regularization=0.0, dropout=0.00)"
   ]
  },
  {
   "cell_type": "code",
   "execution_count": 4,
   "metadata": {},
   "outputs": [
    {
     "name": "stdout",
     "output_type": "stream",
     "text": [
      "Event Model Error 6.964179888051253\n",
      "Null  Model Error 25.0\n"
     ]
    }
   ],
   "source": [
    "X = generate_experiment()\n",
    "\n",
    "def train_single_event(X):\n",
    "    event_model = KerasSimpleRNN(D, **f_opts)\n",
    "    event_model.update_f0(X[0, :])\n",
    "    for ii in range(1, np.shape(X)[0]):\n",
    "        event_model.update(X[ii-1, :], X[ii, :])\n",
    "    return event_model\n",
    "\n",
    "event_model = train_single_event(X)\n",
    "print \"Event Model Error\", np.sum((X - event_model.run_generative(N))**2)\n",
    "\n",
    "# for comparison, the generative error of an untrained model\n",
    "null_model = KerasSimpleRNN(D, **f_opts)\n",
    "print \"Null  Model Error\", np.sum((X - null_model.run_generative(N))**2)"
   ]
  },
  {
   "cell_type": "code",
   "execution_count": 5,
   "metadata": {},
   "outputs": [],
   "source": [
    "# noise parameter\n",
    "tau = 1.00\n",
    "X_mem = X + np.random.randn(N, D) * tau"
   ]
  },
  {
   "cell_type": "markdown",
   "metadata": {},
   "source": [
    "# Reconstruction\n",
    "Define the two sampling functions used in the reconstruction memory process. One, were all of these scenes are a part of one big event, the other where all are a part of multiple events with unknown type"
   ]
  },
  {
   "cell_type": "code",
   "execution_count": 6,
   "metadata": {},
   "outputs": [],
   "source": [
    "from tqdm import tnrange\n",
    "\n",
    "def reconstruction_single_event(X_mem, event_model, tau=1.0, beta=0.01, burn_in=500, \n",
    "                                n_samples=5000):\n",
    "    \n",
    "    #these are shuffeled in order\n",
    "    trials = range(0, N)\n",
    "    X_sample = []\n",
    "    \n",
    "    # randomly initialize the sampel of X0 from the corruption process\n",
    "    X0 = np.random.randn(N, D) * tau + X_mem\n",
    "    \n",
    "    # because the beta and tau are assumed and constant, we can pre-cacluate u \n",
    "    # and lambda for the weighted mean of the posterior over x\n",
    "    u = (1./beta) / (1./beta + 1./tau)\n",
    "    lmda = 1.0 / (1./beta + 1./tau)\n",
    "    \n",
    "    for ii in tnrange(n_samples + burn_in, leave=False, desc='Gibbs'):\n",
    "        \n",
    "        np.random.shuffle(trials) # randomize the order trials are sampled\n",
    "\n",
    "        for t in trials:\n",
    "            # pull the transition function\n",
    "            if t > 1:\n",
    "                def f(x):\n",
    "                    return event_model.predict_next_generative(x)\n",
    "            else:\n",
    "                def f(x):\n",
    "                    return event_model.predict_f0()\n",
    "\n",
    "            # construct the input vector for the model\n",
    "            X_i = X0[:t, :]\n",
    "\n",
    "            # use the likelihood function to estimate a new sample. \n",
    "            # This likelihood function is the product of two gaussians:\n",
    "            #  N(x0_t; f(x0_{1:t-1}), beta_f * I) * N(x0_t; \\tilde x_t , beta_mem * I )\n",
    "            mu_t = u * f(X_i) + (1 - u) * X_mem[t]\n",
    "\n",
    "            # generate a sample from the multivariate normal\n",
    "            X0[t, :] = np.random.multivariate_normal(mu_t.flatten(), lmda * np.eye(D))\n",
    "\n",
    "        if ii >= burn_in:\n",
    "            X_sample.append(X0.copy())\n",
    "            \n",
    "    return np.array(X_sample)"
   ]
  },
  {
   "cell_type": "code",
   "execution_count": 7,
   "metadata": {},
   "outputs": [],
   "source": [
    "from scipy.stats import multivariate_normal as mvnorm\n",
    "from scipy.special import logsumexp\n",
    "\n",
    "\n",
    "def reconstruction_known_boundaries(X_mem, events_dict, event_tokens,\n",
    "                                    tau=1.0, beta=0.01, burn_in=500, n_samples=5000):\n",
    "    \n",
    "    #these are shuffeled in order, and we don't want to make a prediction for the last scene\n",
    "    trials = range(0, N)\n",
    "    X_sample = []\n",
    "    \n",
    "    # randomly initialize the sampel of X0 from the corruption process\n",
    "    X0 = np.random.randn(N, D) * tau + X_mem\n",
    "    \n",
    "    # randomly initialize the identity of the event tokens\n",
    "    events_keys_function = np.random.permutation(events_dict.keys())\n",
    "    \n",
    "    # because the beta and tau are assumed and constant, we can pre-cacluate u \n",
    "    # and lambda for the weighted mean of the posterior over x\n",
    "    u = (1./beta) / (1./beta + 1./tau)\n",
    "    lmda = 1.0 / (1./beta + 1./tau)\n",
    "    \n",
    "    for ii in tnrange(n_samples + burn_in, leave=False, desc='Gibbs'):\n",
    "        \n",
    "        np.random.shuffle(trials) # randomize the order trials are sampled\n",
    "\n",
    "        for t in trials:\n",
    "\n",
    "            # pull the transition function associated with the current event-token\n",
    "            token = event_tokens[t]\n",
    "            token_id = events_keys_function[token]\n",
    "            if token == event_tokens[t-1]:\n",
    "                def f(x):\n",
    "                    return events_dict[token_id].predict_next_generative(x)\n",
    "            else:\n",
    "                def f(x):\n",
    "                    return events_dict[token_id].predict_f0()\n",
    "                \n",
    "            # construct the input vector for the model\n",
    "            X_i = X0[(np.arange(N) < t) & (np.array(event_tokens) == event_tokens[t]), :]\n",
    "\n",
    "            # use the likelihood function to estimate a new sample. \n",
    "            # This likelihood function is the product of two gaussians:\n",
    "            #  N(x0_t; f(x0_{1:t-1}), beta_f * I) * N(x0_t; \\tilde x_t , beta_mem * I )\n",
    "            mu_t = u * f(X_i) + (1 - u) * X_mem[t]\n",
    "\n",
    "            # generate a sample from the multivariate normal\n",
    "            X0[t, :] = np.random.multivariate_normal(mu_t.flatten(), lmda * np.eye(D))\n",
    "            \n",
    "            \n",
    "        # Here, we sample the events type probability, conditioned on the samples\n",
    "        \n",
    "        # we will sample the event models WITHOUT replacement, so keep track \n",
    "        # of the available models (this also speeds things up)\n",
    "        available_models = events_dict.keys()\n",
    "        \n",
    "        events_keys_function = np.zeros(len(available_models)) - 1  # reinitialize the key\n",
    "        \n",
    "        for token0 in np.random.permutation(list(set(events_token))):\n",
    "            # get the likelihood for each token in the set\n",
    "            X00 = X0[events_token == token0, :]  # pull the relevant scenes\n",
    "            \n",
    "            # initialze the scores. This includes models that are not avialble,\n",
    "            # so they have to be initialized at log p(e) = -infty (or np.log(0))\n",
    "            scores = np.log(np.zeros(np.max(available_models) + 1))\n",
    "            \n",
    "            # loop throught the as yet unassigned models and \"score\" (log likelihood)\n",
    "            for token_id0 in available_models:\n",
    "                # pull the coresponding event model\n",
    "                e00 = events_dict[token_id0]\n",
    "                \n",
    "                # run the model to generate predictions\n",
    "                X00_hat = np.zeros(np.shape(X00))\n",
    "                X00_hat[0, :] = e00.predict_f0()\n",
    "                for jj in range(1, np.shape(X00)[0]):\n",
    "                    X00_hat[jj, :] = e00.predict_next_generative(X00[:jj, :])\n",
    "                    \n",
    "                # evaluate the predictions of the model\n",
    "                scores[token_id0] = logsumexp(\n",
    "                    mvnorm.logpdf(X00 - X00_hat, mean=np.zeros(D), cov=np.eye(D) * beta)\n",
    "                )\n",
    "            \n",
    "            # normalize the loglikelihoods and inverse cdf sample\n",
    "            pmf_e = np.exp(scores - logsumexp(scores))\n",
    "            cmf_e = np.cumsum(pmf_e)\n",
    "            e0 =  events_dict.keys()[np.sum(cmf_e < np.random.rand())]\n",
    "            \n",
    "            events_keys_function[token0] = e0\n",
    "            try:\n",
    "                available_models.remove(e0)        \n",
    "            except:\n",
    "                print available_models\n",
    "                print e0\n",
    "                print pmf_e\n",
    "                print scores\n",
    "                raise(Exception)\n",
    "                \n",
    "        if ii >= burn_in:\n",
    "            X_sample.append(X0.copy())\n",
    "            \n",
    "    return np.array(X_sample)"
   ]
  },
  {
   "cell_type": "code",
   "execution_count": 8,
   "metadata": {},
   "outputs": [],
   "source": [
    "def reconstruction_known_events(X_mem, events_dict, event_tokens,\n",
    "                                tau=1.0, beta=0.01, burn_in=500, n_samples=5000):\n",
    "    \n",
    "    #these are shuffeled in order, and we don't want to make a prediction for the last scene\n",
    "    trials = range(0, N)\n",
    "    X_sample = []\n",
    "    \n",
    "    # randomly initialize the sampel of X0 from the corruption process\n",
    "    X0 = np.random.randn(N, D) * tau + X_mem\n",
    "    \n",
    "    # randomly initialize the identity of the event tokens\n",
    "    events_keys_function = np.random.permutation(events_dict.keys())\n",
    "    \n",
    "    # because the beta and tau are assumed and constant, we can pre-cacluate u \n",
    "    # and lambda for the weighted mean of the posterior over x\n",
    "    u = (1./beta) / (1./beta + 1./tau)\n",
    "    lmda = 1.0 / (1./beta + 1./tau)\n",
    "    \n",
    "    for ii in tnrange(n_samples + burn_in, leave=False, desc='Gibbs'):\n",
    "        \n",
    "        np.random.shuffle(trials) # randomize the order trials are sampled\n",
    "\n",
    "        for t in trials:\n",
    "\n",
    "            # pull the transition function associated with the current event-token\n",
    "            token = event_tokens[t]\n",
    "            if token == event_tokens[t-1]:\n",
    "                def f(x):\n",
    "                    return events_dict[token].predict_next_generative(x)\n",
    "            else:\n",
    "                def f(x):\n",
    "                    return events_dict[token].predict_f0()\n",
    "                \n",
    "            # construct the input vector for the model\n",
    "            X_i = X0[(np.arange(N) < t) & (np.array(event_tokens) == event_tokens[t]), :]\n",
    "\n",
    "            # use the likelihood function to estimate a new sample. \n",
    "            # This likelihood function is the product of two gaussians:\n",
    "            #  N(x0_t; f(x0_{1:t-1}), beta_f * I) * N(x0_t; \\tilde x_t , beta_mem * I )\n",
    "            mu_t = u * f(X_i) + (1 - u) * X_mem[t]\n",
    "\n",
    "            # generate a sample from the multivariate normal\n",
    "            X0[t, :] = np.random.multivariate_normal(mu_t.flatten(), lmda * np.eye(D))\n",
    "                \n",
    "        if ii >= burn_in:\n",
    "            X_sample.append(X0.copy())\n",
    "            \n",
    "    return np.array(X_sample)\n"
   ]
  },
  {
   "cell_type": "code",
   "execution_count": 9,
   "metadata": {},
   "outputs": [
    {
     "data": {
      "application/vnd.jupyter.widget-view+json": {
       "model_id": "f671a5012fcf4f9a8accd6a9fe8f27bb",
       "version_major": 2,
       "version_minor": 0
      },
      "text/html": [
       "<p>Failed to display Jupyter Widget of type <code>HBox</code>.</p>\n",
       "<p>\n",
       "  If you're reading this message in the Jupyter Notebook or JupyterLab Notebook, it may mean\n",
       "  that the widgets JavaScript is still loading. If this message persists, it\n",
       "  likely means that the widgets JavaScript library is either not installed or\n",
       "  not enabled. See the <a href=\"https://ipywidgets.readthedocs.io/en/stable/user_install.html\">Jupyter\n",
       "  Widgets Documentation</a> for setup instructions.\n",
       "</p>\n",
       "<p>\n",
       "  If you're reading this message in another frontend (for example, a static\n",
       "  rendering on GitHub or <a href=\"https://nbviewer.jupyter.org/\">NBViewer</a>),\n",
       "  it may mean that your frontend doesn't currently support widgets.\n",
       "</p>\n"
      ],
      "text/plain": [
       "HBox(children=(IntProgress(value=0, description=u'Gibbs', max=5500), HTML(value=u'')))"
      ]
     },
     "metadata": {},
     "output_type": "display_data"
    },
    {
     "name": "stdout",
     "output_type": "stream",
     "text": [
      "\r",
      "(5000, 25, 25)\n"
     ]
    }
   ],
   "source": [
    "event_model = train_single_event(X)\n",
    "X_sample = reconstruction_single_event(X_mem, event_model)\n",
    "print X_sample.shape"
   ]
  },
  {
   "cell_type": "code",
   "execution_count": 10,
   "metadata": {},
   "outputs": [],
   "source": [
    "def segment_scenes(event_tokens):\n",
    "    # we assume the segemenation is done correctly\n",
    "    events_dict = dict()\n",
    "    for t0 in set(event_tokens):\n",
    "        events_dict[t0] = train_single_event(X[t0 == np.array(event_tokens), :])\n",
    "    return events_dict\n",
    "\n",
    "# we assume the event boundary locations are known. This code seperates all of the \n",
    "# events with unique tokens (which, in this case, is also their type. This information\n",
    "# isn't given to the model)\n",
    "events_token = [0] * 5 + [1] * 5 + [2] * 5 + [3] * 5 + [4] * 5\n",
    "\n",
    "events_dict = segment_scenes(events_token)"
   ]
  },
  {
   "cell_type": "code",
   "execution_count": 11,
   "metadata": {},
   "outputs": [
    {
     "data": {
      "application/vnd.jupyter.widget-view+json": {
       "model_id": "4ea5b4d236de40ae8b3bf0cd7c203f05",
       "version_major": 2,
       "version_minor": 0
      },
      "text/html": [
       "<p>Failed to display Jupyter Widget of type <code>HBox</code>.</p>\n",
       "<p>\n",
       "  If you're reading this message in the Jupyter Notebook or JupyterLab Notebook, it may mean\n",
       "  that the widgets JavaScript is still loading. If this message persists, it\n",
       "  likely means that the widgets JavaScript library is either not installed or\n",
       "  not enabled. See the <a href=\"https://ipywidgets.readthedocs.io/en/stable/user_install.html\">Jupyter\n",
       "  Widgets Documentation</a> for setup instructions.\n",
       "</p>\n",
       "<p>\n",
       "  If you're reading this message in another frontend (for example, a static\n",
       "  rendering on GitHub or <a href=\"https://nbviewer.jupyter.org/\">NBViewer</a>),\n",
       "  it may mean that your frontend doesn't currently support widgets.\n",
       "</p>\n"
      ],
      "text/plain": [
       "HBox(children=(IntProgress(value=0, description=u'Gibbs', max=5500), HTML(value=u'')))"
      ]
     },
     "metadata": {},
     "output_type": "display_data"
    },
    {
     "name": "stderr",
     "output_type": "stream",
     "text": [
      "/anaconda2/envs/sem/lib/python2.7/site-packages/ipykernel_launcher.py:65: RuntimeWarning: divide by zero encountered in log\n"
     ]
    },
    {
     "name": "stdout",
     "output_type": "stream",
     "text": [
      "\r"
     ]
    }
   ],
   "source": [
    "X_sample_uknbound = reconstruction_known_boundaries(X_mem, events_dict, events_token)"
   ]
  },
  {
   "cell_type": "code",
   "execution_count": 12,
   "metadata": {},
   "outputs": [
    {
     "data": {
      "application/vnd.jupyter.widget-view+json": {
       "model_id": "54274abca9f3431cb508c6dbec65b78d",
       "version_major": 2,
       "version_minor": 0
      },
      "text/html": [
       "<p>Failed to display Jupyter Widget of type <code>HBox</code>.</p>\n",
       "<p>\n",
       "  If you're reading this message in the Jupyter Notebook or JupyterLab Notebook, it may mean\n",
       "  that the widgets JavaScript is still loading. If this message persists, it\n",
       "  likely means that the widgets JavaScript library is either not installed or\n",
       "  not enabled. See the <a href=\"https://ipywidgets.readthedocs.io/en/stable/user_install.html\">Jupyter\n",
       "  Widgets Documentation</a> for setup instructions.\n",
       "</p>\n",
       "<p>\n",
       "  If you're reading this message in another frontend (for example, a static\n",
       "  rendering on GitHub or <a href=\"https://nbviewer.jupyter.org/\">NBViewer</a>),\n",
       "  it may mean that your frontend doesn't currently support widgets.\n",
       "</p>\n"
      ],
      "text/plain": [
       "HBox(children=(IntProgress(value=0, description=u'Gibbs', max=5500), HTML(value=u'')))"
      ]
     },
     "metadata": {},
     "output_type": "display_data"
    },
    {
     "name": "stdout",
     "output_type": "stream",
     "text": [
      "\r"
     ]
    }
   ],
   "source": [
    "X_sample_knownevent = reconstruction_known_events(X_mem, events_dict, events_token)"
   ]
  },
  {
   "cell_type": "code",
   "execution_count": 13,
   "metadata": {},
   "outputs": [
    {
     "name": "stdout",
     "output_type": "stream",
     "text": [
      "Event  Model Error 0.010940745214931864\n",
      "Null  Model Error 5.0\n"
     ]
    }
   ],
   "source": [
    "print \"Event  Model Error\", np.sum((X[5:10, :] - events_dict[1].run_generative(5))**2)\n",
    "\n",
    "# for comparison, the generative error of an untrained model\n",
    "null_model = KerasSimpleRNN(D, **f_opts)\n",
    "print \"Null  Model Error\", np.sum((X[5:10, :] - null_model.run_generative(5))**2)"
   ]
  },
  {
   "cell_type": "code",
   "execution_count": 14,
   "metadata": {},
   "outputs": [
    {
     "name": "stdout",
     "output_type": "stream",
     "text": [
      "Event  Model Error 0.046551498913429995\n",
      "Null  Model Error 5.000000000000001\n"
     ]
    }
   ],
   "source": [
    "print \"Event  Model Error\", np.sum((X[:5, :] - events_dict[0].run_generative(5))**2)\n",
    "\n",
    "# for comparison, the generative error of an untrained model\n",
    "null_model = KerasSimpleRNN(D, **f_opts)\n",
    "print \"Null  Model Error\", np.sum((X[:5, :] - null_model.run_generative(5))**2)"
   ]
  },
  {
   "cell_type": "markdown",
   "metadata": {},
   "source": [
    "# Evaluate the reconstruction\n",
    "Try to get a sense of the error of the reconstructed memory predictions for one or multiple events"
   ]
  },
  {
   "cell_type": "code",
   "execution_count": 15,
   "metadata": {},
   "outputs": [
    {
     "data": {
      "image/png": "[encoded data removed]",
      "text/plain": [
       "<matplotlib.figure.Figure at 0x130b21350>"
      ]
     },
     "metadata": {},
     "output_type": "display_data"
    }
   ],
   "source": [
    "fig, ax = plt.subplots()\n",
    "\n",
    "sse = np.linalg.norm(X_sample - np.tile(X, (5000, 1, 1)), axis=2)\n",
    "y = np.mean(sse, axis=0)\n",
    "y_err = np.std(sse, axis=0)\n",
    "ax.plot(range(1, 26), y, 'r')\n",
    "ax.fill_between(range(1, 26), y+y_err, y-y_err, color='r', alpha=0.25, label='No Boundaries')\n",
    "\n",
    "sse = np.linalg.norm(X_sample_uknbound - np.tile(X, (5000, 1, 1)), axis=2)\n",
    "y = np.mean(sse, axis=0)\n",
    "y_err = np.std(sse, axis=0)\n",
    "ax.plot(range(1, 26), y, 'b')\n",
    "ax.fill_between(range(1, 26), y+y_err, y-y_err, color='b', alpha=0.25, label='W/ Event Boundaries')\n",
    "\n",
    "sse = np.linalg.norm(X_sample_knownevent - np.tile(X, (5000, 1, 1)), axis=2)\n",
    "y = np.mean(sse, axis=0)\n",
    "y_err = np.std(sse, axis=0)\n",
    "ax.plot(range(1, 26), y, 'g')\n",
    "ax.fill_between(range(1, 26), y+y_err, y-y_err, color='g', alpha=0.25, label='W/ Known Events')\n",
    "\n",
    "plt.legend()\n",
    "plt.ylabel('Error (SSE)')\n",
    "plt.xlabel('Scene')\n",
    "plt.title('Reconstruction Error across time')\n",
    "sns.despine(offset=5)\n",
    "plt.savefig('Divachi_reconstruction_sse.png', dpi=300, bbox_inches='tight')"
   ]
  },
  {
   "cell_type": "markdown",
   "metadata": {},
   "source": [
    "Repeate the above, but this time evaluate each point without respect to time"
   ]
  },
  {
   "cell_type": "code",
   "execution_count": 16,
   "metadata": {},
   "outputs": [],
   "source": [
    "def sse_no_time(sample):\n",
    "    y = []\n",
    "    y_err = []\n",
    "    for ii in range(0, N):\n",
    "        sse = np.linalg.norm(sample.reshape(-1, D) - X[ii, :].reshape(-1, D), axis=1)\n",
    "        y.append(sse.mean())\n",
    "        y_err.append(sse.std())\n",
    "    return np.array(y), np.array(y_err)\n",
    "    "
   ]
  },
  {
   "cell_type": "code",
   "execution_count": 17,
   "metadata": {},
   "outputs": [
    {
     "data": {
      "image/png": "[encoded data removed]",
      "text/plain": [
       "<matplotlib.figure.Figure at 0x130b17d50>"
      ]
     },
     "metadata": {},
     "output_type": "display_data"
    }
   ],
   "source": [
    "fig, ax = plt.subplots()\n",
    "\n",
    "# sse = np.linalg.norm(X_sample.reshapeape(-1, D) - X, axis=2)\n",
    "y, y_err = sse_no_time(X_sample)\n",
    "ax.plot(range(1, 26), y, 'r')\n",
    "ax.fill_between(range(1, 26), y+y_err, y-y_err, color='r', alpha=0.2, label='No Boundaries')\n",
    "\n",
    "y, y_err = sse_no_time(X_sample_uknbound)\n",
    "ax.plot(range(1, 26), y, 'b')\n",
    "ax.fill_between(range(1, 26), y+y_err, y-y_err, color='b', alpha=0.2, label='W/ Event Boundaries')\n",
    "\n",
    "y, y_err = sse_no_time(X_sample_knownevent)\n",
    "ax.plot(range(1, 26), y, 'g')\n",
    "ax.fill_between(range(1, 26), y+y_err, y-y_err, color='g', alpha=0.2, label='W/ Known Events')\n",
    "\n",
    "plt.legend()\n",
    "plt.ylabel('Error (SSE)')\n",
    "plt.xlabel('Scene')\n",
    "plt.title('Reconstruction Error')\n",
    "sns.despine(offset=5)"
   ]
  },
  {
   "cell_type": "markdown",
   "metadata": {},
   "source": [
    "okay great! as in the pettijohn simluations, the presense of event boundaries reduces the overall reconstruction error"
   ]
  },
  {
   "cell_type": "markdown",
   "metadata": {},
   "source": [
    "# Okay! Now we can look at memory stuff"
   ]
  },
  {
   "cell_type": "code",
   "execution_count": 21,
   "metadata": {},
   "outputs": [],
   "source": [
    "from sklearn.neighbors import KernelDensity\n",
    "\n",
    "def make_joint_density(X_sample, h=0.2):\n",
    "    # map the sample to sequential pairs (X_t-1, X_t) --> Y_t\n",
    "    Y_sample = np.concatenate([X_sample[:, 1:, :], X_sample[:, :-1, :]], axis=2\n",
    "                             ).reshape(-1, D*2)\n",
    "\n",
    "    kde = KernelDensity(kernel='gaussian', bandwidth=h).fit(Y_sample)\n",
    "    return kde\n",
    "\n",
    "def make_marginal_density(X_sample, h=0.2):\n",
    "    kde = KernelDensity(kernel='gaussian', bandwidth=h).fit(X_sample[:, 1:, :].reshape(-1, D))\n",
    "    return kde"
   ]
  },
  {
   "cell_type": "markdown",
   "metadata": {},
   "source": [
    "First, plot the joint distribution of items $\\mathbf{x}_{i}$ and $\\mathbf{x}_{i-1}$ as from t=1 (zero indexing) to N"
   ]
  },
  {
   "cell_type": "code",
   "execution_count": 22,
   "metadata": {},
   "outputs": [
    {
     "data": {
      "image/png": "[encoded data removed]",
      "text/plain": [
       "<matplotlib.figure.Figure at 0x130c0eed0>"
      ]
     },
     "metadata": {},
     "output_type": "display_data"
    }
   ],
   "source": [
    "pre_boundary_scenes = [4, 9, 14, 19]\n",
    "post_boundary_scenes = [5, 10, 15, 20]\n",
    "\n",
    "Y = np.concatenate([X[1:, :], X[:-1, :]], axis=1)\n",
    "\n",
    "\n",
    "h=0.4\n",
    "\n",
    "k_joint = make_joint_density(X_sample_uknbound, h=h)\n",
    "marginals_mult = [k_joint.score_samples(Y[ii, :].reshape(1, -1)) for ii in range(0, N-1)]\n",
    "plt.plot(range(1, N), marginals_mult, label='Known Boundary locations')\n",
    "\n",
    "# k_joint = make_joint_density(X_sample_knownevent, h=0.4)\n",
    "# marginals_mult = [k_joint.score_samples(Y[ii, :].reshape(1, -1)) for ii in range(0, N-1)]\n",
    "# plt.plot(range(1, N), marginals_mult, label='Known Events')\n",
    "\n",
    "k_joint = make_joint_density(X_sample, h=h)\n",
    "marginals_sing = [k_joint.score_samples(Y[ii, :].reshape(1, -1)) for ii in range(0, N-1)]\n",
    "plt.plot(range(1, N), marginals_sing, label='No-Event Boundaries')\n",
    "plt.legend(loc='center right', bbox_to_anchor=(1.5, 0.5))\n",
    "\n",
    "ax = plt.gca()\n",
    "ylb, yub = ax.get_ylim()\n",
    "for b in pre_boundary_scenes:\n",
    "    plt.plot([b, b], [ylb, yub], 'k:', alpha=0.5)\n",
    "\n",
    "for b in post_boundary_scenes:\n",
    "    plt.plot([b, b], [ylb, yub], 'k--', alpha=0.5)\n",
    "    \n",
    "ax.set_ylim(ylb, yub)\n",
    "\n",
    "ax.set_ylabel(r'log $k(\\mathbf{x}_{t}, \\mathbf{x}_{t-1})$')\n",
    "ax.set_xlabel(r'Scenes $\\mathbf{x}_t$')\n",
    "ax.set_title('Bandwidth = %.2f' % h)\n",
    "plt.savefig('Divachi_joint_distribution.png', dpi=300, bbox_inches='tight')"
   ]
  },
  {
   "cell_type": "markdown",
   "metadata": {},
   "source": [
    "Next, plot the conditional distribution of items $\\mathbf{x}_{i-1}|\\mathbf{x}_{i}$ and  as from t=1 (zero indexing) to N"
   ]
  },
  {
   "cell_type": "code",
   "execution_count": 23,
   "metadata": {},
   "outputs": [
    {
     "data": {
      "text/plain": [
       "Text(0.5,1,u'Bandwidth = 0.40')"
      ]
     },
     "execution_count": 23,
     "metadata": {},
     "output_type": "execute_result"
    },
    {
     "data": {
      "image/png": "[encoded data removed]",
      "text/plain": [
       "<matplotlib.figure.Figure at 0x13b79d350>"
      ]
     },
     "metadata": {},
     "output_type": "display_data"
    }
   ],
   "source": [
    "pre_boundary_scenes = [4, 9, 14, 19]\n",
    "post_boundary_scenes = [5, 10, 15, 20]\n",
    "\n",
    "h = 0.4\n",
    "\n",
    "k_joint = make_joint_density(X_sample_uknbound, h=h)\n",
    "k_margi = make_marginal_density(X_sample_uknbound, h=h)\n",
    "marginals_mult = [k_joint.score_samples(Y[ii, :].reshape(1, -1)) \n",
    "                  - k_margi.score_samples(X[ii-1, :].reshape(1, -1))\n",
    "                  for ii in range(0, N-1)]\n",
    "plt.plot(range(1, N), marginals_mult, label='Known Boundaries')\n",
    "\n",
    "\n",
    "k_joint = make_joint_density(X_sample, h=h)\n",
    "k_margi = make_marginal_density(X_sample, h=h)\n",
    "marginals_sing = [k_joint.score_samples(Y[ii, :].reshape(1, -1)) \n",
    "                  - k_margi.score_samples(X[ii-1, :].reshape(1, -1))\n",
    "                  for ii in range(0, N-1)]\n",
    "plt.plot(range(1, N), marginals_sing, label='One Event')\n",
    "plt.legend(loc='center right', bbox_to_anchor=(1.5, 0.5))\n",
    "\n",
    "ax = plt.gca()\n",
    "ylb, yub = ax.get_ylim()\n",
    "for b in pre_boundary_scenes:\n",
    "    plt.plot([b, b], [ylb, yub], 'k:', alpha=0.5)\n",
    "\n",
    "for b in post_boundary_scenes:\n",
    "    plt.plot([b, b], [ylb, yub], 'k--', alpha=0.5)\n",
    "    \n",
    "ax.set_ylim(ylb, yub)\n",
    "\n",
    "ax.set_ylabel(r'log $k(\\mathbf{x}_{t-1}|\\mathbf{x}_{t-1})$')\n",
    "ax.set_xlabel(r'Scenes $\\mathbf{x}_t$')\n",
    "ax.set_title('Bandwidth = %.2f' % h)"
   ]
  },
  {
   "cell_type": "markdown",
   "metadata": {},
   "source": [
    "## Joint Density as a function of Bandwidth"
   ]
  },
  {
   "cell_type": "code",
   "execution_count": 24,
   "metadata": {},
   "outputs": [
    {
     "data": {
      "text/plain": [
       "<matplotlib.legend.Legend at 0x13c8d4550>"
      ]
     },
     "execution_count": 24,
     "metadata": {},
     "output_type": "execute_result"
    },
    {
     "data": {
      "image/png": "[encoded data removed]",
      "text/plain": [
       "<matplotlib.figure.Figure at 0x13b79d250>"
      ]
     },
     "metadata": {},
     "output_type": "display_data"
    }
   ],
   "source": [
    "fig, axes = plt.subplots(1, 3, figsize=(9, 3))\n",
    "\n",
    "hs = np.arange(0.1, 0.51, 0.1)\n",
    "\n",
    "# create the map to Y\n",
    "\n",
    "def score_joint(sample, hs):\n",
    "    \n",
    "    score_pre = [None] * len(hs)\n",
    "    score_pst = [None] * len(hs)\n",
    "    \n",
    "    for jj, h in enumerate(hs):\n",
    "        # note! Y is a function from 1:N whereas everything else is a function of 0:N\n",
    "        # this is b/c Y_t is a concanation of x_t & x_{t-1}, which is undefined for t = 0\n",
    "\n",
    "        k_joint = make_joint_density(np.array(sample), h=h)\n",
    "\n",
    "        score_pre0 = [k_joint.score_samples(Y[ii + 1, :].reshape(1, -1)) for ii in pre_boundary_scenes]\n",
    "        score_pre[jj] = logsumexp(score_pre0) - np.log(len(score_pre0))\n",
    "\n",
    "        score_pst0 = [k_joint.score_samples(Y[ii + 1, :].reshape(1, -1)) for ii in post_boundary_scenes]\n",
    "        score_pst[jj] = logsumexp(score_pst0) - np.log(len(score_pst0))\n",
    "\n",
    "    return score_pre, score_pst\n",
    "\n",
    "#### one big event! ##\n",
    "\n",
    "ax = axes[0]\n",
    "\n",
    "score_pre, score_pst = score_joint(X_sample, hs)\n",
    "    \n",
    "ax.plot(hs, score_pre, label='Pre-Boundary')\n",
    "ax.plot(hs, score_pst, label='Post-Boundary')\n",
    "ax.set_title('No event boundaries')\n",
    "\n",
    "#### with event boundaries! ##\n",
    "\n",
    "ax = axes[1]\n",
    "\n",
    "score_pre, score_pst = score_joint(X_sample_uknbound, hs)\n",
    "\n",
    "ax.plot(hs, score_pre, label='Pre-Boundary')\n",
    "ax.plot(hs, score_pst, label='Post-Boundary')\n",
    "ax.set_title('Event Boundaries at \\ncategory switch')\n",
    "\n",
    "\n",
    "ax = axes[2]\n",
    "\n",
    "score_pre, score_pst = score_joint(X_sample_knownevent, hs)\n",
    "    \n",
    "ax.plot(hs, score_pre, label='Pre-Boundary')\n",
    "ax.plot(hs, score_pst, label='Post-Boundary')\n",
    "ax.set_title('Event Boundaries at \\ncategory switch \\n& Known Events')\n",
    "\n",
    "plt.legend(bbox_to_anchor=(1.5, 0.5), loc='center right')"
   ]
  },
  {
   "cell_type": "markdown",
   "metadata": {},
   "source": [
    "# Conditional Density as a function of Bandwidth"
   ]
  },
  {
   "cell_type": "code",
   "execution_count": 25,
   "metadata": {},
   "outputs": [
    {
     "data": {
      "text/plain": [
       "<matplotlib.legend.Legend at 0x13fc72910>"
      ]
     },
     "execution_count": 25,
     "metadata": {},
     "output_type": "execute_result"
    },
    {
     "data": {
      "image/png": "[encoded data removed]",
      "text/plain": [
       "<matplotlib.figure.Figure at 0x13fad2d50>"
      ]
     },
     "metadata": {},
     "output_type": "display_data"
    }
   ],
   "source": [
    "fig, axes = plt.subplots(1, 3, figsize=(9, 3))\n",
    "\n",
    "hs = np.arange(0.1, 0.51, 0.1)\n",
    "\n",
    "# create the map to Y\n",
    "Y = np.concatenate([X[1:, :], X[:-1, :]], axis=1)\n",
    "\n",
    "def score_marg(sample, hs):\n",
    "    \n",
    "    score_pre = [None] * len(hs)\n",
    "    score_pst = [None] * len(hs)\n",
    "    \n",
    "    for jj, h in enumerate(hs):\n",
    "        # note! Y is a function from 1:N whereas everything else is a function of 0:N\n",
    "        # this is b/c Y_t is a concanation of x_t & x_{t-1}, which is undefined for t = 0\n",
    "\n",
    "        k_joint = make_joint_density(np.array(sample), h=h)\n",
    "        k_margi = make_marginal_density(sample, h=h)\n",
    "\n",
    "        score_pre0 = [k_joint.score_samples(Y[ii + 1, :].reshape(1, -1)) \n",
    "                      - k_margi.score_samples(X[ii, ].reshape(1, -1))\n",
    "                      for ii in pre_boundary_scenes]\n",
    "        score_pre[jj] = logsumexp(score_pre0) - np.log(len(score_pre0))\n",
    "\n",
    "        score_pst0 = [\n",
    "            k_joint.score_samples(Y[ii + 1, :].reshape(1, -1)) \n",
    "            - k_margi.score_samples(X[ii, ].reshape(1, -1))\n",
    "            for ii in post_boundary_scenes]\n",
    "        score_pst[jj] = logsumexp(score_pst0) - np.log(len(score_pst0))\n",
    "\n",
    "    return score_pre, score_pst\n",
    "\n",
    "#### one big event! ##\n",
    "ax = axes[0]\n",
    "score_pre, score_pst = score_marg(X_sample, hs)\n",
    "ax.plot(hs, score_pre, label='Pre-Boundary')\n",
    "ax.plot(hs, score_pst, label='Post-Boundary')\n",
    "ax.set_title('No event boundaries')\n",
    "\n",
    "#### with event boundaries! ##\n",
    "ax = axes[1]\n",
    "score_pre, score_pst = score_marg(X_sample_uknbound, hs)\n",
    "ax.plot(hs, score_pre, label='Pre-Boundary')\n",
    "ax.plot(hs, score_pst, label='Post-Boundary')\n",
    "ax.set_title('Event Boundaries at \\ncategory switch')\n",
    "\n",
    "#### with event boundaries! ##\n",
    "ax = axes[2]\n",
    "score_pre, score_pst = score_marg(X_sample_knownevent, hs)\n",
    "ax.plot(hs, score_pre, label='Pre-Boundary')\n",
    "ax.plot(hs, score_pst, label='Post-Boundary')\n",
    "ax.set_title('Event Boundaries at \\ncategory switch \\n& Known Events')\n",
    "\n",
    "plt.legend(bbox_to_anchor=(1.5, 0.5), loc='center right')"
   ]
  },
  {
   "cell_type": "markdown",
   "metadata": {},
   "source": [
    "# Okay!!! Now batch the thing"
   ]
  },
  {
   "cell_type": "code",
   "execution_count": 27,
   "metadata": {},
   "outputs": [],
   "source": [
    "def batch(n_samples=500, hs=None):\n",
    "    if hs is None:\n",
    "        hs = np.arange(0.1, 0.51, 0.1)\n",
    "    \n",
    "    X = generate_experiment()\n",
    "\n",
    "    event_model = train_single_event(X)\n",
    "    X_sample = reconstruction_single_event(X_mem, event_model, n_samples=n_samples)\n",
    "    \n",
    "    events_token = [0] * 5 + [1] * 5 + [2] * 5 + [3] * 5 + [4] * 5\n",
    "\n",
    "    events_dict = segment_scenes(events_token)\n",
    "    \n",
    "    X_sample_uknbound = reconstruction_known_boundaries(X_mem, events_dict, events_token, n_samples=n_samples)\n",
    "    \n",
    "    # create the map to Y\n",
    "    Y = np.concatenate([X[1:, :], X[:-1, :]], axis=1)\n",
    "\n",
    "    def score_joint(sample, hs):\n",
    "\n",
    "        score_pre = [None] * len(hs)\n",
    "        score_pst = [None] * len(hs)\n",
    "\n",
    "        for jj, h in enumerate(hs):\n",
    "            # note! Y is a function from 1:N whereas everything else is a function of 0:N\n",
    "            # this is b/c Y_t is a concanation of x_t & x_{t-1}, which is undefined for t = 0\n",
    "\n",
    "            k_joint = make_joint_density(np.array(sample), h=h)\n",
    "\n",
    "            score_pre0 = [k_joint.score_samples(Y[ii + 1, :].reshape(1, -1)) for ii in pre_boundary_scenes]\n",
    "            score_pre[jj] = logsumexp(score_pre0) - np.log(len(score_pre0))\n",
    "\n",
    "            score_pst0 = [k_joint.score_samples(Y[ii + 1, :].reshape(1, -1)) for ii in post_boundary_scenes]\n",
    "            score_pst[jj] = logsumexp(score_pst0) - np.log(len(score_pst0))\n",
    "\n",
    "        return score_pre, score_pst\n",
    "    \n",
    "    def score_marg(sample, hs):\n",
    "    \n",
    "        score_pre = [None] * len(hs)\n",
    "        score_pst = [None] * len(hs)\n",
    "\n",
    "        for jj, h in enumerate(hs):\n",
    "            # note! Y is a function from 1:N whereas everything else is a function of 0:N\n",
    "            # this is b/c Y_t is a concanation of x_t & x_{t-1}, which is undefined for t = 0\n",
    "\n",
    "            k_joint = make_joint_density(np.array(sample), h=h)\n",
    "            k_margi = make_marginal_density(sample, h=h)\n",
    "\n",
    "            score_pre0 = [k_joint.score_samples(Y[ii + 1, :].reshape(1, -1)) \n",
    "                          - k_margi.score_samples(X[ii, ].reshape(1, -1))\n",
    "                          for ii in pre_boundary_scenes]\n",
    "            score_pre[jj] = logsumexp(score_pre0) - np.log(len(score_pre0))\n",
    "\n",
    "            score_pst0 = [\n",
    "                k_joint.score_samples(Y[ii + 1, :].reshape(1, -1)) \n",
    "                - k_margi.score_samples(X[ii, ].reshape(1, -1))\n",
    "                for ii in post_boundary_scenes]\n",
    "            score_pst[jj] = logsumexp(score_pst0) - np.log(len(score_pst0))\n",
    "\n",
    "        return score_pre, score_pst\n",
    "        \n",
    "    joint_density = {\n",
    "        'No-Boundaries': score_joint(X_sample, hs),\n",
    "        'Known-Boundaries': score_joint(X_sample_uknbound, hs),\n",
    "    }\n",
    "    marg_density = {\n",
    "        'No-Boundaries': score_marg(X_sample, hs),\n",
    "        'Known-Boundaries': score_marg(X_sample_uknbound, hs),\n",
    "    }\n",
    "    \n",
    "    return joint_density, marg_density"
   ]
  },
  {
   "cell_type": "code",
   "execution_count": 28,
   "metadata": {},
   "outputs": [
    {
     "data": {
      "application/vnd.jupyter.widget-view+json": {
       "model_id": "b06cbfe467654f75a85735032302a8bc",
       "version_major": 2,
       "version_minor": 0
      },
      "text/html": [
       "<p>Failed to display Jupyter Widget of type <code>HBox</code>.</p>\n",
       "<p>\n",
       "  If you're reading this message in the Jupyter Notebook or JupyterLab Notebook, it may mean\n",
       "  that the widgets JavaScript is still loading. If this message persists, it\n",
       "  likely means that the widgets JavaScript library is either not installed or\n",
       "  not enabled. See the <a href=\"https://ipywidgets.readthedocs.io/en/stable/user_install.html\">Jupyter\n",
       "  Widgets Documentation</a> for setup instructions.\n",
       "</p>\n",
       "<p>\n",
       "  If you're reading this message in another frontend (for example, a static\n",
       "  rendering on GitHub or <a href=\"https://nbviewer.jupyter.org/\">NBViewer</a>),\n",
       "  it may mean that your frontend doesn't currently support widgets.\n",
       "</p>\n"
      ],
      "text/plain": [
       "HBox(children=(IntProgress(value=0, max=25), HTML(value=u'')))"
      ]
     },
     "metadata": {},
     "output_type": "display_data"
    },
    {
     "data": {
      "application/vnd.jupyter.widget-view+json": {
       "model_id": "c69e6a8ab28d44ed953d75a63ffc4e5b",
       "version_major": 2,
       "version_minor": 0
      },
      "text/html": [
       "<p>Failed to display Jupyter Widget of type <code>HBox</code>.</p>\n",
       "<p>\n",
       "  If you're reading this message in the Jupyter Notebook or JupyterLab Notebook, it may mean\n",
       "  that the widgets JavaScript is still loading. If this message persists, it\n",
       "  likely means that the widgets JavaScript library is either not installed or\n",
       "  not enabled. See the <a href=\"https://ipywidgets.readthedocs.io/en/stable/user_install.html\">Jupyter\n",
       "  Widgets Documentation</a> for setup instructions.\n",
       "</p>\n",
       "<p>\n",
       "  If you're reading this message in another frontend (for example, a static\n",
       "  rendering on GitHub or <a href=\"https://nbviewer.jupyter.org/\">NBViewer</a>),\n",
       "  it may mean that your frontend doesn't currently support widgets.\n",
       "</p>\n"
      ],
      "text/plain": [
       "HBox(children=(IntProgress(value=0, description=u'Gibbs', max=5500), HTML(value=u'')))"
      ]
     },
     "metadata": {},
     "output_type": "display_data"
    },
    {
     "data": {
      "application/vnd.jupyter.widget-view+json": {
       "model_id": "8a0b844acccd46b6b1ef563b44d20890",
       "version_major": 2,
       "version_minor": 0
      },
      "text/html": [
       "<p>Failed to display Jupyter Widget of type <code>HBox</code>.</p>\n",
       "<p>\n",
       "  If you're reading this message in the Jupyter Notebook or JupyterLab Notebook, it may mean\n",
       "  that the widgets JavaScript is still loading. If this message persists, it\n",
       "  likely means that the widgets JavaScript library is either not installed or\n",
       "  not enabled. See the <a href=\"https://ipywidgets.readthedocs.io/en/stable/user_install.html\">Jupyter\n",
       "  Widgets Documentation</a> for setup instructions.\n",
       "</p>\n",
       "<p>\n",
       "  If you're reading this message in another frontend (for example, a static\n",
       "  rendering on GitHub or <a href=\"https://nbviewer.jupyter.org/\">NBViewer</a>),\n",
       "  it may mean that your frontend doesn't currently support widgets.\n",
       "</p>\n"
      ],
      "text/plain": [
       "HBox(children=(IntProgress(value=0, description=u'Gibbs', max=5500), HTML(value=u'')))"
      ]
     },
     "metadata": {},
     "output_type": "display_data"
    },
    {
     "name": "stderr",
     "output_type": "stream",
     "text": [
      "/anaconda2/envs/sem/lib/python2.7/site-packages/ipykernel_launcher.py:65: RuntimeWarning: divide by zero encountered in log\n"
     ]
    },
    {
     "data": {
      "application/vnd.jupyter.widget-view+json": {
       "model_id": "3c763f09456c4a51b0870aef788c95e9",
       "version_major": 2,
       "version_minor": 0
      },
      "text/html": [
       "<p>Failed to display Jupyter Widget of type <code>HBox</code>.</p>\n",
       "<p>\n",
       "  If you're reading this message in the Jupyter Notebook or JupyterLab Notebook, it may mean\n",
       "  that the widgets JavaScript is still loading. If this message persists, it\n",
       "  likely means that the widgets JavaScript library is either not installed or\n",
       "  not enabled. See the <a href=\"https://ipywidgets.readthedocs.io/en/stable/user_install.html\">Jupyter\n",
       "  Widgets Documentation</a> for setup instructions.\n",
       "</p>\n",
       "<p>\n",
       "  If you're reading this message in another frontend (for example, a static\n",
       "  rendering on GitHub or <a href=\"https://nbviewer.jupyter.org/\">NBViewer</a>),\n",
       "  it may mean that your frontend doesn't currently support widgets.\n",
       "</p>\n"
      ],
      "text/plain": [
       "HBox(children=(IntProgress(value=0, description=u'Gibbs', max=5500), HTML(value=u'')))"
      ]
     },
     "metadata": {},
     "output_type": "display_data"
    },
    {
     "data": {
      "application/vnd.jupyter.widget-view+json": {
       "model_id": "2d119940da1b409bab374c4159d31199",
       "version_major": 2,
       "version_minor": 0
      },
      "text/html": [
       "<p>Failed to display Jupyter Widget of type <code>HBox</code>.</p>\n",
       "<p>\n",
       "  If you're reading this message in the Jupyter Notebook or JupyterLab Notebook, it may mean\n",
       "  that the widgets JavaScript is still loading. If this message persists, it\n",
       "  likely means that the widgets JavaScript library is either not installed or\n",
       "  not enabled. See the <a href=\"https://ipywidgets.readthedocs.io/en/stable/user_install.html\">Jupyter\n",
       "  Widgets Documentation</a> for setup instructions.\n",
       "</p>\n",
       "<p>\n",
       "  If you're reading this message in another frontend (for example, a static\n",
       "  rendering on GitHub or <a href=\"https://nbviewer.jupyter.org/\">NBViewer</a>),\n",
       "  it may mean that your frontend doesn't currently support widgets.\n",
       "</p>\n"
      ],
      "text/plain": [
       "HBox(children=(IntProgress(value=0, description=u'Gibbs', max=5500), HTML(value=u'')))"
      ]
     },
     "metadata": {},
     "output_type": "display_data"
    },
    {
     "data": {
      "application/vnd.jupyter.widget-view+json": {
       "model_id": "403698e63d1e45dc986e3f66c4069386",
       "version_major": 2,
       "version_minor": 0
      },
      "text/html": [
       "<p>Failed to display Jupyter Widget of type <code>HBox</code>.</p>\n",
       "<p>\n",
       "  If you're reading this message in the Jupyter Notebook or JupyterLab Notebook, it may mean\n",
       "  that the widgets JavaScript is still loading. If this message persists, it\n",
       "  likely means that the widgets JavaScript library is either not installed or\n",
       "  not enabled. See the <a href=\"https://ipywidgets.readthedocs.io/en/stable/user_install.html\">Jupyter\n",
       "  Widgets Documentation</a> for setup instructions.\n",
       "</p>\n",
       "<p>\n",
       "  If you're reading this message in another frontend (for example, a static\n",
       "  rendering on GitHub or <a href=\"https://nbviewer.jupyter.org/\">NBViewer</a>),\n",
       "  it may mean that your frontend doesn't currently support widgets.\n",
       "</p>\n"
      ],
      "text/plain": [
       "HBox(children=(IntProgress(value=0, description=u'Gibbs', max=5500), HTML(value=u'')))"
      ]
     },
     "metadata": {},
     "output_type": "display_data"
    },
    {
     "data": {
      "application/vnd.jupyter.widget-view+json": {
       "model_id": "b2848f8882d4493fad15166a99b627f2",
       "version_major": 2,
       "version_minor": 0
      },
      "text/html": [
       "<p>Failed to display Jupyter Widget of type <code>HBox</code>.</p>\n",
       "<p>\n",
       "  If you're reading this message in the Jupyter Notebook or JupyterLab Notebook, it may mean\n",
       "  that the widgets JavaScript is still loading. If this message persists, it\n",
       "  likely means that the widgets JavaScript library is either not installed or\n",
       "  not enabled. See the <a href=\"https://ipywidgets.readthedocs.io/en/stable/user_install.html\">Jupyter\n",
       "  Widgets Documentation</a> for setup instructions.\n",
       "</p>\n",
       "<p>\n",
       "  If you're reading this message in another frontend (for example, a static\n",
       "  rendering on GitHub or <a href=\"https://nbviewer.jupyter.org/\">NBViewer</a>),\n",
       "  it may mean that your frontend doesn't currently support widgets.\n",
       "</p>\n"
      ],
      "text/plain": [
       "HBox(children=(IntProgress(value=0, description=u'Gibbs', max=5500), HTML(value=u'')))"
      ]
     },
     "metadata": {},
     "output_type": "display_data"
    },
    {
     "data": {
      "application/vnd.jupyter.widget-view+json": {
       "model_id": "a13d0cbefadf4d7d87bb02cc3de44240",
       "version_major": 2,
       "version_minor": 0
      },
      "text/html": [
       "<p>Failed to display Jupyter Widget of type <code>HBox</code>.</p>\n",
       "<p>\n",
       "  If you're reading this message in the Jupyter Notebook or JupyterLab Notebook, it may mean\n",
       "  that the widgets JavaScript is still loading. If this message persists, it\n",
       "  likely means that the widgets JavaScript library is either not installed or\n",
       "  not enabled. See the <a href=\"https://ipywidgets.readthedocs.io/en/stable/user_install.html\">Jupyter\n",
       "  Widgets Documentation</a> for setup instructions.\n",
       "</p>\n",
       "<p>\n",
       "  If you're reading this message in another frontend (for example, a static\n",
       "  rendering on GitHub or <a href=\"https://nbviewer.jupyter.org/\">NBViewer</a>),\n",
       "  it may mean that your frontend doesn't currently support widgets.\n",
       "</p>\n"
      ],
      "text/plain": [
       "HBox(children=(IntProgress(value=0, description=u'Gibbs', max=5500), HTML(value=u'')))"
      ]
     },
     "metadata": {},
     "output_type": "display_data"
    },
    {
     "data": {
      "application/vnd.jupyter.widget-view+json": {
       "model_id": "3c2afbcd19de4326aad55d22ba0c9dc2",
       "version_major": 2,
       "version_minor": 0
      },
      "text/html": [
       "<p>Failed to display Jupyter Widget of type <code>HBox</code>.</p>\n",
       "<p>\n",
       "  If you're reading this message in the Jupyter Notebook or JupyterLab Notebook, it may mean\n",
       "  that the widgets JavaScript is still loading. If this message persists, it\n",
       "  likely means that the widgets JavaScript library is either not installed or\n",
       "  not enabled. See the <a href=\"https://ipywidgets.readthedocs.io/en/stable/user_install.html\">Jupyter\n",
       "  Widgets Documentation</a> for setup instructions.\n",
       "</p>\n",
       "<p>\n",
       "  If you're reading this message in another frontend (for example, a static\n",
       "  rendering on GitHub or <a href=\"https://nbviewer.jupyter.org/\">NBViewer</a>),\n",
       "  it may mean that your frontend doesn't currently support widgets.\n",
       "</p>\n"
      ],
      "text/plain": [
       "HBox(children=(IntProgress(value=0, description=u'Gibbs', max=5500), HTML(value=u'')))"
      ]
     },
     "metadata": {},
     "output_type": "display_data"
    },
    {
     "data": {
      "application/vnd.jupyter.widget-view+json": {
       "model_id": "049446892d754e03ac7a07e541bef7cd",
       "version_major": 2,
       "version_minor": 0
      },
      "text/html": [
       "<p>Failed to display Jupyter Widget of type <code>HBox</code>.</p>\n",
       "<p>\n",
       "  If you're reading this message in the Jupyter Notebook or JupyterLab Notebook, it may mean\n",
       "  that the widgets JavaScript is still loading. If this message persists, it\n",
       "  likely means that the widgets JavaScript library is either not installed or\n",
       "  not enabled. See the <a href=\"https://ipywidgets.readthedocs.io/en/stable/user_install.html\">Jupyter\n",
       "  Widgets Documentation</a> for setup instructions.\n",
       "</p>\n",
       "<p>\n",
       "  If you're reading this message in another frontend (for example, a static\n",
       "  rendering on GitHub or <a href=\"https://nbviewer.jupyter.org/\">NBViewer</a>),\n",
       "  it may mean that your frontend doesn't currently support widgets.\n",
       "</p>\n"
      ],
      "text/plain": [
       "HBox(children=(IntProgress(value=0, description=u'Gibbs', max=5500), HTML(value=u'')))"
      ]
     },
     "metadata": {},
     "output_type": "display_data"
    },
    {
     "data": {
      "application/vnd.jupyter.widget-view+json": {
       "model_id": "9bf812edcf564e75abd39bb92d58f50e",
       "version_major": 2,
       "version_minor": 0
      },
      "text/html": [
       "<p>Failed to display Jupyter Widget of type <code>HBox</code>.</p>\n",
       "<p>\n",
       "  If you're reading this message in the Jupyter Notebook or JupyterLab Notebook, it may mean\n",
       "  that the widgets JavaScript is still loading. If this message persists, it\n",
       "  likely means that the widgets JavaScript library is either not installed or\n",
       "  not enabled. See the <a href=\"https://ipywidgets.readthedocs.io/en/stable/user_install.html\">Jupyter\n",
       "  Widgets Documentation</a> for setup instructions.\n",
       "</p>\n",
       "<p>\n",
       "  If you're reading this message in another frontend (for example, a static\n",
       "  rendering on GitHub or <a href=\"https://nbviewer.jupyter.org/\">NBViewer</a>),\n",
       "  it may mean that your frontend doesn't currently support widgets.\n",
       "</p>\n"
      ],
      "text/plain": [
       "HBox(children=(IntProgress(value=0, description=u'Gibbs', max=5500), HTML(value=u'')))"
      ]
     },
     "metadata": {},
     "output_type": "display_data"
    },
    {
     "data": {
      "application/vnd.jupyter.widget-view+json": {
       "model_id": "ce2dd4d1308a4d3f9073a33ffbc98106",
       "version_major": 2,
       "version_minor": 0
      },
      "text/html": [
       "<p>Failed to display Jupyter Widget of type <code>HBox</code>.</p>\n",
       "<p>\n",
       "  If you're reading this message in the Jupyter Notebook or JupyterLab Notebook, it may mean\n",
       "  that the widgets JavaScript is still loading. If this message persists, it\n",
       "  likely means that the widgets JavaScript library is either not installed or\n",
       "  not enabled. See the <a href=\"https://ipywidgets.readthedocs.io/en/stable/user_install.html\">Jupyter\n",
       "  Widgets Documentation</a> for setup instructions.\n",
       "</p>\n",
       "<p>\n",
       "  If you're reading this message in another frontend (for example, a static\n",
       "  rendering on GitHub or <a href=\"https://nbviewer.jupyter.org/\">NBViewer</a>),\n",
       "  it may mean that your frontend doesn't currently support widgets.\n",
       "</p>\n"
      ],
      "text/plain": [
       "HBox(children=(IntProgress(value=0, description=u'Gibbs', max=5500), HTML(value=u'')))"
      ]
     },
     "metadata": {},
     "output_type": "display_data"
    },
    {
     "data": {
      "application/vnd.jupyter.widget-view+json": {
       "model_id": "72b1fd085e7f431c88d59b9e5191a27c",
       "version_major": 2,
       "version_minor": 0
      },
      "text/html": [
       "<p>Failed to display Jupyter Widget of type <code>HBox</code>.</p>\n",
       "<p>\n",
       "  If you're reading this message in the Jupyter Notebook or JupyterLab Notebook, it may mean\n",
       "  that the widgets JavaScript is still loading. If this message persists, it\n",
       "  likely means that the widgets JavaScript library is either not installed or\n",
       "  not enabled. See the <a href=\"https://ipywidgets.readthedocs.io/en/stable/user_install.html\">Jupyter\n",
       "  Widgets Documentation</a> for setup instructions.\n",
       "</p>\n",
       "<p>\n",
       "  If you're reading this message in another frontend (for example, a static\n",
       "  rendering on GitHub or <a href=\"https://nbviewer.jupyter.org/\">NBViewer</a>),\n",
       "  it may mean that your frontend doesn't currently support widgets.\n",
       "</p>\n"
      ],
      "text/plain": [
       "HBox(children=(IntProgress(value=0, description=u'Gibbs', max=5500), HTML(value=u'')))"
      ]
     },
     "metadata": {},
     "output_type": "display_data"
    },
    {
     "data": {
      "application/vnd.jupyter.widget-view+json": {
       "model_id": "691f116f03694186b2d1dc5dc8aaf3c8",
       "version_major": 2,
       "version_minor": 0
      },
      "text/html": [
       "<p>Failed to display Jupyter Widget of type <code>HBox</code>.</p>\n",
       "<p>\n",
       "  If you're reading this message in the Jupyter Notebook or JupyterLab Notebook, it may mean\n",
       "  that the widgets JavaScript is still loading. If this message persists, it\n",
       "  likely means that the widgets JavaScript library is either not installed or\n",
       "  not enabled. See the <a href=\"https://ipywidgets.readthedocs.io/en/stable/user_install.html\">Jupyter\n",
       "  Widgets Documentation</a> for setup instructions.\n",
       "</p>\n",
       "<p>\n",
       "  If you're reading this message in another frontend (for example, a static\n",
       "  rendering on GitHub or <a href=\"https://nbviewer.jupyter.org/\">NBViewer</a>),\n",
       "  it may mean that your frontend doesn't currently support widgets.\n",
       "</p>\n"
      ],
      "text/plain": [
       "HBox(children=(IntProgress(value=0, description=u'Gibbs', max=5500), HTML(value=u'')))"
      ]
     },
     "metadata": {},
     "output_type": "display_data"
    },
    {
     "data": {
      "application/vnd.jupyter.widget-view+json": {
       "model_id": "d2e05c0ec0db477989b127faaa32e2f5",
       "version_major": 2,
       "version_minor": 0
      },
      "text/html": [
       "<p>Failed to display Jupyter Widget of type <code>HBox</code>.</p>\n",
       "<p>\n",
       "  If you're reading this message in the Jupyter Notebook or JupyterLab Notebook, it may mean\n",
       "  that the widgets JavaScript is still loading. If this message persists, it\n",
       "  likely means that the widgets JavaScript library is either not installed or\n",
       "  not enabled. See the <a href=\"https://ipywidgets.readthedocs.io/en/stable/user_install.html\">Jupyter\n",
       "  Widgets Documentation</a> for setup instructions.\n",
       "</p>\n",
       "<p>\n",
       "  If you're reading this message in another frontend (for example, a static\n",
       "  rendering on GitHub or <a href=\"https://nbviewer.jupyter.org/\">NBViewer</a>),\n",
       "  it may mean that your frontend doesn't currently support widgets.\n",
       "</p>\n"
      ],
      "text/plain": [
       "HBox(children=(IntProgress(value=0, description=u'Gibbs', max=5500), HTML(value=u'')))"
      ]
     },
     "metadata": {},
     "output_type": "display_data"
    },
    {
     "data": {
      "application/vnd.jupyter.widget-view+json": {
       "model_id": "e563af3b8d6141439c866066311e7d78",
       "version_major": 2,
       "version_minor": 0
      },
      "text/html": [
       "<p>Failed to display Jupyter Widget of type <code>HBox</code>.</p>\n",
       "<p>\n",
       "  If you're reading this message in the Jupyter Notebook or JupyterLab Notebook, it may mean\n",
       "  that the widgets JavaScript is still loading. If this message persists, it\n",
       "  likely means that the widgets JavaScript library is either not installed or\n",
       "  not enabled. See the <a href=\"https://ipywidgets.readthedocs.io/en/stable/user_install.html\">Jupyter\n",
       "  Widgets Documentation</a> for setup instructions.\n",
       "</p>\n",
       "<p>\n",
       "  If you're reading this message in another frontend (for example, a static\n",
       "  rendering on GitHub or <a href=\"https://nbviewer.jupyter.org/\">NBViewer</a>),\n",
       "  it may mean that your frontend doesn't currently support widgets.\n",
       "</p>\n"
      ],
      "text/plain": [
       "HBox(children=(IntProgress(value=0, description=u'Gibbs', max=5500), HTML(value=u'')))"
      ]
     },
     "metadata": {},
     "output_type": "display_data"
    },
    {
     "data": {
      "application/vnd.jupyter.widget-view+json": {
       "model_id": "8121aacd982240529409dee6505d5fc1",
       "version_major": 2,
       "version_minor": 0
      },
      "text/html": [
       "<p>Failed to display Jupyter Widget of type <code>HBox</code>.</p>\n",
       "<p>\n",
       "  If you're reading this message in the Jupyter Notebook or JupyterLab Notebook, it may mean\n",
       "  that the widgets JavaScript is still loading. If this message persists, it\n",
       "  likely means that the widgets JavaScript library is either not installed or\n",
       "  not enabled. See the <a href=\"https://ipywidgets.readthedocs.io/en/stable/user_install.html\">Jupyter\n",
       "  Widgets Documentation</a> for setup instructions.\n",
       "</p>\n",
       "<p>\n",
       "  If you're reading this message in another frontend (for example, a static\n",
       "  rendering on GitHub or <a href=\"https://nbviewer.jupyter.org/\">NBViewer</a>),\n",
       "  it may mean that your frontend doesn't currently support widgets.\n",
       "</p>\n"
      ],
      "text/plain": [
       "HBox(children=(IntProgress(value=0, description=u'Gibbs', max=5500), HTML(value=u'')))"
      ]
     },
     "metadata": {},
     "output_type": "display_data"
    },
    {
     "data": {
      "application/vnd.jupyter.widget-view+json": {
       "model_id": "24b3bffb4dc74579bc502ef83544f2f3",
       "version_major": 2,
       "version_minor": 0
      },
      "text/html": [
       "<p>Failed to display Jupyter Widget of type <code>HBox</code>.</p>\n",
       "<p>\n",
       "  If you're reading this message in the Jupyter Notebook or JupyterLab Notebook, it may mean\n",
       "  that the widgets JavaScript is still loading. If this message persists, it\n",
       "  likely means that the widgets JavaScript library is either not installed or\n",
       "  not enabled. See the <a href=\"https://ipywidgets.readthedocs.io/en/stable/user_install.html\">Jupyter\n",
       "  Widgets Documentation</a> for setup instructions.\n",
       "</p>\n",
       "<p>\n",
       "  If you're reading this message in another frontend (for example, a static\n",
       "  rendering on GitHub or <a href=\"https://nbviewer.jupyter.org/\">NBViewer</a>),\n",
       "  it may mean that your frontend doesn't currently support widgets.\n",
       "</p>\n"
      ],
      "text/plain": [
       "HBox(children=(IntProgress(value=0, description=u'Gibbs', max=5500), HTML(value=u'')))"
      ]
     },
     "metadata": {},
     "output_type": "display_data"
    },
    {
     "data": {
      "application/vnd.jupyter.widget-view+json": {
       "model_id": "2d516f3d76c34330830647bd7ef1f83b",
       "version_major": 2,
       "version_minor": 0
      },
      "text/html": [
       "<p>Failed to display Jupyter Widget of type <code>HBox</code>.</p>\n",
       "<p>\n",
       "  If you're reading this message in the Jupyter Notebook or JupyterLab Notebook, it may mean\n",
       "  that the widgets JavaScript is still loading. If this message persists, it\n",
       "  likely means that the widgets JavaScript library is either not installed or\n",
       "  not enabled. See the <a href=\"https://ipywidgets.readthedocs.io/en/stable/user_install.html\">Jupyter\n",
       "  Widgets Documentation</a> for setup instructions.\n",
       "</p>\n",
       "<p>\n",
       "  If you're reading this message in another frontend (for example, a static\n",
       "  rendering on GitHub or <a href=\"https://nbviewer.jupyter.org/\">NBViewer</a>),\n",
       "  it may mean that your frontend doesn't currently support widgets.\n",
       "</p>\n"
      ],
      "text/plain": [
       "HBox(children=(IntProgress(value=0, description=u'Gibbs', max=5500), HTML(value=u'')))"
      ]
     },
     "metadata": {},
     "output_type": "display_data"
    },
    {
     "data": {
      "application/vnd.jupyter.widget-view+json": {
       "model_id": "50c670e55bd940ebbaf3536ddb1eb54c",
       "version_major": 2,
       "version_minor": 0
      },
      "text/html": [
       "<p>Failed to display Jupyter Widget of type <code>HBox</code>.</p>\n",
       "<p>\n",
       "  If you're reading this message in the Jupyter Notebook or JupyterLab Notebook, it may mean\n",
       "  that the widgets JavaScript is still loading. If this message persists, it\n",
       "  likely means that the widgets JavaScript library is either not installed or\n",
       "  not enabled. See the <a href=\"https://ipywidgets.readthedocs.io/en/stable/user_install.html\">Jupyter\n",
       "  Widgets Documentation</a> for setup instructions.\n",
       "</p>\n",
       "<p>\n",
       "  If you're reading this message in another frontend (for example, a static\n",
       "  rendering on GitHub or <a href=\"https://nbviewer.jupyter.org/\">NBViewer</a>),\n",
       "  it may mean that your frontend doesn't currently support widgets.\n",
       "</p>\n"
      ],
      "text/plain": [
       "HBox(children=(IntProgress(value=0, description=u'Gibbs', max=5500), HTML(value=u'')))"
      ]
     },
     "metadata": {},
     "output_type": "display_data"
    },
    {
     "data": {
      "application/vnd.jupyter.widget-view+json": {
       "model_id": "73e6b328c4d343de8b872154173e613a",
       "version_major": 2,
       "version_minor": 0
      },
      "text/html": [
       "<p>Failed to display Jupyter Widget of type <code>HBox</code>.</p>\n",
       "<p>\n",
       "  If you're reading this message in the Jupyter Notebook or JupyterLab Notebook, it may mean\n",
       "  that the widgets JavaScript is still loading. If this message persists, it\n",
       "  likely means that the widgets JavaScript library is either not installed or\n",
       "  not enabled. See the <a href=\"https://ipywidgets.readthedocs.io/en/stable/user_install.html\">Jupyter\n",
       "  Widgets Documentation</a> for setup instructions.\n",
       "</p>\n",
       "<p>\n",
       "  If you're reading this message in another frontend (for example, a static\n",
       "  rendering on GitHub or <a href=\"https://nbviewer.jupyter.org/\">NBViewer</a>),\n",
       "  it may mean that your frontend doesn't currently support widgets.\n",
       "</p>\n"
      ],
      "text/plain": [
       "HBox(children=(IntProgress(value=0, description=u'Gibbs', max=5500), HTML(value=u'')))"
      ]
     },
     "metadata": {},
     "output_type": "display_data"
    },
    {
     "data": {
      "application/vnd.jupyter.widget-view+json": {
       "model_id": "ee7080b406f4413eae616f847a059b24",
       "version_major": 2,
       "version_minor": 0
      },
      "text/html": [
       "<p>Failed to display Jupyter Widget of type <code>HBox</code>.</p>\n",
       "<p>\n",
       "  If you're reading this message in the Jupyter Notebook or JupyterLab Notebook, it may mean\n",
       "  that the widgets JavaScript is still loading. If this message persists, it\n",
       "  likely means that the widgets JavaScript library is either not installed or\n",
       "  not enabled. See the <a href=\"https://ipywidgets.readthedocs.io/en/stable/user_install.html\">Jupyter\n",
       "  Widgets Documentation</a> for setup instructions.\n",
       "</p>\n",
       "<p>\n",
       "  If you're reading this message in another frontend (for example, a static\n",
       "  rendering on GitHub or <a href=\"https://nbviewer.jupyter.org/\">NBViewer</a>),\n",
       "  it may mean that your frontend doesn't currently support widgets.\n",
       "</p>\n"
      ],
      "text/plain": [
       "HBox(children=(IntProgress(value=0, description=u'Gibbs', max=5500), HTML(value=u'')))"
      ]
     },
     "metadata": {},
     "output_type": "display_data"
    },
    {
     "data": {
      "application/vnd.jupyter.widget-view+json": {
       "model_id": "608bea7384ad400ea8d9e2d8c6cedc38",
       "version_major": 2,
       "version_minor": 0
      },
      "text/html": [
       "<p>Failed to display Jupyter Widget of type <code>HBox</code>.</p>\n",
       "<p>\n",
       "  If you're reading this message in the Jupyter Notebook or JupyterLab Notebook, it may mean\n",
       "  that the widgets JavaScript is still loading. If this message persists, it\n",
       "  likely means that the widgets JavaScript library is either not installed or\n",
       "  not enabled. See the <a href=\"https://ipywidgets.readthedocs.io/en/stable/user_install.html\">Jupyter\n",
       "  Widgets Documentation</a> for setup instructions.\n",
       "</p>\n",
       "<p>\n",
       "  If you're reading this message in another frontend (for example, a static\n",
       "  rendering on GitHub or <a href=\"https://nbviewer.jupyter.org/\">NBViewer</a>),\n",
       "  it may mean that your frontend doesn't currently support widgets.\n",
       "</p>\n"
      ],
      "text/plain": [
       "HBox(children=(IntProgress(value=0, description=u'Gibbs', max=5500), HTML(value=u'')))"
      ]
     },
     "metadata": {},
     "output_type": "display_data"
    },
    {
     "data": {
      "application/vnd.jupyter.widget-view+json": {
       "model_id": "af6d2f6fd96949e6bf19f11da64c19d7",
       "version_major": 2,
       "version_minor": 0
      },
      "text/html": [
       "<p>Failed to display Jupyter Widget of type <code>HBox</code>.</p>\n",
       "<p>\n",
       "  If you're reading this message in the Jupyter Notebook or JupyterLab Notebook, it may mean\n",
       "  that the widgets JavaScript is still loading. If this message persists, it\n",
       "  likely means that the widgets JavaScript library is either not installed or\n",
       "  not enabled. See the <a href=\"https://ipywidgets.readthedocs.io/en/stable/user_install.html\">Jupyter\n",
       "  Widgets Documentation</a> for setup instructions.\n",
       "</p>\n",
       "<p>\n",
       "  If you're reading this message in another frontend (for example, a static\n",
       "  rendering on GitHub or <a href=\"https://nbviewer.jupyter.org/\">NBViewer</a>),\n",
       "  it may mean that your frontend doesn't currently support widgets.\n",
       "</p>\n"
      ],
      "text/plain": [
       "HBox(children=(IntProgress(value=0, description=u'Gibbs', max=5500), HTML(value=u'')))"
      ]
     },
     "metadata": {},
     "output_type": "display_data"
    },
    {
     "data": {
      "application/vnd.jupyter.widget-view+json": {
       "model_id": "a80e51675c484e91b4e498ec8b718051",
       "version_major": 2,
       "version_minor": 0
      },
      "text/html": [
       "<p>Failed to display Jupyter Widget of type <code>HBox</code>.</p>\n",
       "<p>\n",
       "  If you're reading this message in the Jupyter Notebook or JupyterLab Notebook, it may mean\n",
       "  that the widgets JavaScript is still loading. If this message persists, it\n",
       "  likely means that the widgets JavaScript library is either not installed or\n",
       "  not enabled. See the <a href=\"https://ipywidgets.readthedocs.io/en/stable/user_install.html\">Jupyter\n",
       "  Widgets Documentation</a> for setup instructions.\n",
       "</p>\n",
       "<p>\n",
       "  If you're reading this message in another frontend (for example, a static\n",
       "  rendering on GitHub or <a href=\"https://nbviewer.jupyter.org/\">NBViewer</a>),\n",
       "  it may mean that your frontend doesn't currently support widgets.\n",
       "</p>\n"
      ],
      "text/plain": [
       "HBox(children=(IntProgress(value=0, description=u'Gibbs', max=5500), HTML(value=u'')))"
      ]
     },
     "metadata": {},
     "output_type": "display_data"
    },
    {
     "data": {
      "application/vnd.jupyter.widget-view+json": {
       "model_id": "b922e489fe194015afbe226e2f5cf199",
       "version_major": 2,
       "version_minor": 0
      },
      "text/html": [
       "<p>Failed to display Jupyter Widget of type <code>HBox</code>.</p>\n",
       "<p>\n",
       "  If you're reading this message in the Jupyter Notebook or JupyterLab Notebook, it may mean\n",
       "  that the widgets JavaScript is still loading. If this message persists, it\n",
       "  likely means that the widgets JavaScript library is either not installed or\n",
       "  not enabled. See the <a href=\"https://ipywidgets.readthedocs.io/en/stable/user_install.html\">Jupyter\n",
       "  Widgets Documentation</a> for setup instructions.\n",
       "</p>\n",
       "<p>\n",
       "  If you're reading this message in another frontend (for example, a static\n",
       "  rendering on GitHub or <a href=\"https://nbviewer.jupyter.org/\">NBViewer</a>),\n",
       "  it may mean that your frontend doesn't currently support widgets.\n",
       "</p>\n"
      ],
      "text/plain": [
       "HBox(children=(IntProgress(value=0, description=u'Gibbs', max=5500), HTML(value=u'')))"
      ]
     },
     "metadata": {},
     "output_type": "display_data"
    },
    {
     "data": {
      "application/vnd.jupyter.widget-view+json": {
       "model_id": "8a3b30aa5a9747fd8aab30455c901f6a",
       "version_major": 2,
       "version_minor": 0
      },
      "text/html": [
       "<p>Failed to display Jupyter Widget of type <code>HBox</code>.</p>\n",
       "<p>\n",
       "  If you're reading this message in the Jupyter Notebook or JupyterLab Notebook, it may mean\n",
       "  that the widgets JavaScript is still loading. If this message persists, it\n",
       "  likely means that the widgets JavaScript library is either not installed or\n",
       "  not enabled. See the <a href=\"https://ipywidgets.readthedocs.io/en/stable/user_install.html\">Jupyter\n",
       "  Widgets Documentation</a> for setup instructions.\n",
       "</p>\n",
       "<p>\n",
       "  If you're reading this message in another frontend (for example, a static\n",
       "  rendering on GitHub or <a href=\"https://nbviewer.jupyter.org/\">NBViewer</a>),\n",
       "  it may mean that your frontend doesn't currently support widgets.\n",
       "</p>\n"
      ],
      "text/plain": [
       "HBox(children=(IntProgress(value=0, description=u'Gibbs', max=5500), HTML(value=u'')))"
      ]
     },
     "metadata": {},
     "output_type": "display_data"
    },
    {
     "data": {
      "application/vnd.jupyter.widget-view+json": {
       "model_id": "2940f311eb4c4201ada590f8a03e6b1f",
       "version_major": 2,
       "version_minor": 0
      },
      "text/html": [
       "<p>Failed to display Jupyter Widget of type <code>HBox</code>.</p>\n",
       "<p>\n",
       "  If you're reading this message in the Jupyter Notebook or JupyterLab Notebook, it may mean\n",
       "  that the widgets JavaScript is still loading. If this message persists, it\n",
       "  likely means that the widgets JavaScript library is either not installed or\n",
       "  not enabled. See the <a href=\"https://ipywidgets.readthedocs.io/en/stable/user_install.html\">Jupyter\n",
       "  Widgets Documentation</a> for setup instructions.\n",
       "</p>\n",
       "<p>\n",
       "  If you're reading this message in another frontend (for example, a static\n",
       "  rendering on GitHub or <a href=\"https://nbviewer.jupyter.org/\">NBViewer</a>),\n",
       "  it may mean that your frontend doesn't currently support widgets.\n",
       "</p>\n"
      ],
      "text/plain": [
       "HBox(children=(IntProgress(value=0, description=u'Gibbs', max=5500), HTML(value=u'')))"
      ]
     },
     "metadata": {},
     "output_type": "display_data"
    },
    {
     "data": {
      "application/vnd.jupyter.widget-view+json": {
       "model_id": "a74244ccbb2d4a9983f77a788d24a2e1",
       "version_major": 2,
       "version_minor": 0
      },
      "text/html": [
       "<p>Failed to display Jupyter Widget of type <code>HBox</code>.</p>\n",
       "<p>\n",
       "  If you're reading this message in the Jupyter Notebook or JupyterLab Notebook, it may mean\n",
       "  that the widgets JavaScript is still loading. If this message persists, it\n",
       "  likely means that the widgets JavaScript library is either not installed or\n",
       "  not enabled. See the <a href=\"https://ipywidgets.readthedocs.io/en/stable/user_install.html\">Jupyter\n",
       "  Widgets Documentation</a> for setup instructions.\n",
       "</p>\n",
       "<p>\n",
       "  If you're reading this message in another frontend (for example, a static\n",
       "  rendering on GitHub or <a href=\"https://nbviewer.jupyter.org/\">NBViewer</a>),\n",
       "  it may mean that your frontend doesn't currently support widgets.\n",
       "</p>\n"
      ],
      "text/plain": [
       "HBox(children=(IntProgress(value=0, description=u'Gibbs', max=5500), HTML(value=u'')))"
      ]
     },
     "metadata": {},
     "output_type": "display_data"
    },
    {
     "data": {
      "application/vnd.jupyter.widget-view+json": {
       "model_id": "f51f36980f9b43d7800ac291f403763b",
       "version_major": 2,
       "version_minor": 0
      },
      "text/html": [
       "<p>Failed to display Jupyter Widget of type <code>HBox</code>.</p>\n",
       "<p>\n",
       "  If you're reading this message in the Jupyter Notebook or JupyterLab Notebook, it may mean\n",
       "  that the widgets JavaScript is still loading. If this message persists, it\n",
       "  likely means that the widgets JavaScript library is either not installed or\n",
       "  not enabled. See the <a href=\"https://ipywidgets.readthedocs.io/en/stable/user_install.html\">Jupyter\n",
       "  Widgets Documentation</a> for setup instructions.\n",
       "</p>\n",
       "<p>\n",
       "  If you're reading this message in another frontend (for example, a static\n",
       "  rendering on GitHub or <a href=\"https://nbviewer.jupyter.org/\">NBViewer</a>),\n",
       "  it may mean that your frontend doesn't currently support widgets.\n",
       "</p>\n"
      ],
      "text/plain": [
       "HBox(children=(IntProgress(value=0, description=u'Gibbs', max=5500), HTML(value=u'')))"
      ]
     },
     "metadata": {},
     "output_type": "display_data"
    },
    {
     "data": {
      "application/vnd.jupyter.widget-view+json": {
       "model_id": "7cbd698a3fd6457287d112081cb3e288",
       "version_major": 2,
       "version_minor": 0
      },
      "text/html": [
       "<p>Failed to display Jupyter Widget of type <code>HBox</code>.</p>\n",
       "<p>\n",
       "  If you're reading this message in the Jupyter Notebook or JupyterLab Notebook, it may mean\n",
       "  that the widgets JavaScript is still loading. If this message persists, it\n",
       "  likely means that the widgets JavaScript library is either not installed or\n",
       "  not enabled. See the <a href=\"https://ipywidgets.readthedocs.io/en/stable/user_install.html\">Jupyter\n",
       "  Widgets Documentation</a> for setup instructions.\n",
       "</p>\n",
       "<p>\n",
       "  If you're reading this message in another frontend (for example, a static\n",
       "  rendering on GitHub or <a href=\"https://nbviewer.jupyter.org/\">NBViewer</a>),\n",
       "  it may mean that your frontend doesn't currently support widgets.\n",
       "</p>\n"
      ],
      "text/plain": [
       "HBox(children=(IntProgress(value=0, description=u'Gibbs', max=5500), HTML(value=u'')))"
      ]
     },
     "metadata": {},
     "output_type": "display_data"
    },
    {
     "data": {
      "application/vnd.jupyter.widget-view+json": {
       "model_id": "49b6517088dc44e28ce891d02f7dc253",
       "version_major": 2,
       "version_minor": 0
      },
      "text/html": [
       "<p>Failed to display Jupyter Widget of type <code>HBox</code>.</p>\n",
       "<p>\n",
       "  If you're reading this message in the Jupyter Notebook or JupyterLab Notebook, it may mean\n",
       "  that the widgets JavaScript is still loading. If this message persists, it\n",
       "  likely means that the widgets JavaScript library is either not installed or\n",
       "  not enabled. See the <a href=\"https://ipywidgets.readthedocs.io/en/stable/user_install.html\">Jupyter\n",
       "  Widgets Documentation</a> for setup instructions.\n",
       "</p>\n",
       "<p>\n",
       "  If you're reading this message in another frontend (for example, a static\n",
       "  rendering on GitHub or <a href=\"https://nbviewer.jupyter.org/\">NBViewer</a>),\n",
       "  it may mean that your frontend doesn't currently support widgets.\n",
       "</p>\n"
      ],
      "text/plain": [
       "HBox(children=(IntProgress(value=0, description=u'Gibbs', max=5500), HTML(value=u'')))"
      ]
     },
     "metadata": {},
     "output_type": "display_data"
    },
    {
     "data": {
      "application/vnd.jupyter.widget-view+json": {
       "model_id": "016e7dfd5fef416fbbfc97855b488585",
       "version_major": 2,
       "version_minor": 0
      },
      "text/html": [
       "<p>Failed to display Jupyter Widget of type <code>HBox</code>.</p>\n",
       "<p>\n",
       "  If you're reading this message in the Jupyter Notebook or JupyterLab Notebook, it may mean\n",
       "  that the widgets JavaScript is still loading. If this message persists, it\n",
       "  likely means that the widgets JavaScript library is either not installed or\n",
       "  not enabled. See the <a href=\"https://ipywidgets.readthedocs.io/en/stable/user_install.html\">Jupyter\n",
       "  Widgets Documentation</a> for setup instructions.\n",
       "</p>\n",
       "<p>\n",
       "  If you're reading this message in another frontend (for example, a static\n",
       "  rendering on GitHub or <a href=\"https://nbviewer.jupyter.org/\">NBViewer</a>),\n",
       "  it may mean that your frontend doesn't currently support widgets.\n",
       "</p>\n"
      ],
      "text/plain": [
       "HBox(children=(IntProgress(value=0, description=u'Gibbs', max=5500), HTML(value=u'')))"
      ]
     },
     "metadata": {},
     "output_type": "display_data"
    },
    {
     "data": {
      "application/vnd.jupyter.widget-view+json": {
       "model_id": "6a9541ae0c8543d1b99557293424adaa",
       "version_major": 2,
       "version_minor": 0
      },
      "text/html": [
       "<p>Failed to display Jupyter Widget of type <code>HBox</code>.</p>\n",
       "<p>\n",
       "  If you're reading this message in the Jupyter Notebook or JupyterLab Notebook, it may mean\n",
       "  that the widgets JavaScript is still loading. If this message persists, it\n",
       "  likely means that the widgets JavaScript library is either not installed or\n",
       "  not enabled. See the <a href=\"https://ipywidgets.readthedocs.io/en/stable/user_install.html\">Jupyter\n",
       "  Widgets Documentation</a> for setup instructions.\n",
       "</p>\n",
       "<p>\n",
       "  If you're reading this message in another frontend (for example, a static\n",
       "  rendering on GitHub or <a href=\"https://nbviewer.jupyter.org/\">NBViewer</a>),\n",
       "  it may mean that your frontend doesn't currently support widgets.\n",
       "</p>\n"
      ],
      "text/plain": [
       "HBox(children=(IntProgress(value=0, description=u'Gibbs', max=5500), HTML(value=u'')))"
      ]
     },
     "metadata": {},
     "output_type": "display_data"
    },
    {
     "data": {
      "application/vnd.jupyter.widget-view+json": {
       "model_id": "eb068e42f48e4423af2dac4b38302d8a",
       "version_major": 2,
       "version_minor": 0
      },
      "text/html": [
       "<p>Failed to display Jupyter Widget of type <code>HBox</code>.</p>\n",
       "<p>\n",
       "  If you're reading this message in the Jupyter Notebook or JupyterLab Notebook, it may mean\n",
       "  that the widgets JavaScript is still loading. If this message persists, it\n",
       "  likely means that the widgets JavaScript library is either not installed or\n",
       "  not enabled. See the <a href=\"https://ipywidgets.readthedocs.io/en/stable/user_install.html\">Jupyter\n",
       "  Widgets Documentation</a> for setup instructions.\n",
       "</p>\n",
       "<p>\n",
       "  If you're reading this message in another frontend (for example, a static\n",
       "  rendering on GitHub or <a href=\"https://nbviewer.jupyter.org/\">NBViewer</a>),\n",
       "  it may mean that your frontend doesn't currently support widgets.\n",
       "</p>\n"
      ],
      "text/plain": [
       "HBox(children=(IntProgress(value=0, description=u'Gibbs', max=5500), HTML(value=u'')))"
      ]
     },
     "metadata": {},
     "output_type": "display_data"
    },
    {
     "data": {
      "application/vnd.jupyter.widget-view+json": {
       "model_id": "4e11634279004b02b10ae789f9eb6638",
       "version_major": 2,
       "version_minor": 0
      },
      "text/html": [
       "<p>Failed to display Jupyter Widget of type <code>HBox</code>.</p>\n",
       "<p>\n",
       "  If you're reading this message in the Jupyter Notebook or JupyterLab Notebook, it may mean\n",
       "  that the widgets JavaScript is still loading. If this message persists, it\n",
       "  likely means that the widgets JavaScript library is either not installed or\n",
       "  not enabled. See the <a href=\"https://ipywidgets.readthedocs.io/en/stable/user_install.html\">Jupyter\n",
       "  Widgets Documentation</a> for setup instructions.\n",
       "</p>\n",
       "<p>\n",
       "  If you're reading this message in another frontend (for example, a static\n",
       "  rendering on GitHub or <a href=\"https://nbviewer.jupyter.org/\">NBViewer</a>),\n",
       "  it may mean that your frontend doesn't currently support widgets.\n",
       "</p>\n"
      ],
      "text/plain": [
       "HBox(children=(IntProgress(value=0, description=u'Gibbs', max=5500), HTML(value=u'')))"
      ]
     },
     "metadata": {},
     "output_type": "display_data"
    },
    {
     "data": {
      "application/vnd.jupyter.widget-view+json": {
       "model_id": "e14c963766bd44439336c8daff755042",
       "version_major": 2,
       "version_minor": 0
      },
      "text/html": [
       "<p>Failed to display Jupyter Widget of type <code>HBox</code>.</p>\n",
       "<p>\n",
       "  If you're reading this message in the Jupyter Notebook or JupyterLab Notebook, it may mean\n",
       "  that the widgets JavaScript is still loading. If this message persists, it\n",
       "  likely means that the widgets JavaScript library is either not installed or\n",
       "  not enabled. See the <a href=\"https://ipywidgets.readthedocs.io/en/stable/user_install.html\">Jupyter\n",
       "  Widgets Documentation</a> for setup instructions.\n",
       "</p>\n",
       "<p>\n",
       "  If you're reading this message in another frontend (for example, a static\n",
       "  rendering on GitHub or <a href=\"https://nbviewer.jupyter.org/\">NBViewer</a>),\n",
       "  it may mean that your frontend doesn't currently support widgets.\n",
       "</p>\n"
      ],
      "text/plain": [
       "HBox(children=(IntProgress(value=0, description=u'Gibbs', max=5500), HTML(value=u'')))"
      ]
     },
     "metadata": {},
     "output_type": "display_data"
    },
    {
     "data": {
      "application/vnd.jupyter.widget-view+json": {
       "model_id": "2ff09699069645d19fb3c4c50514ffc1",
       "version_major": 2,
       "version_minor": 0
      },
      "text/html": [
       "<p>Failed to display Jupyter Widget of type <code>HBox</code>.</p>\n",
       "<p>\n",
       "  If you're reading this message in the Jupyter Notebook or JupyterLab Notebook, it may mean\n",
       "  that the widgets JavaScript is still loading. If this message persists, it\n",
       "  likely means that the widgets JavaScript library is either not installed or\n",
       "  not enabled. See the <a href=\"https://ipywidgets.readthedocs.io/en/stable/user_install.html\">Jupyter\n",
       "  Widgets Documentation</a> for setup instructions.\n",
       "</p>\n",
       "<p>\n",
       "  If you're reading this message in another frontend (for example, a static\n",
       "  rendering on GitHub or <a href=\"https://nbviewer.jupyter.org/\">NBViewer</a>),\n",
       "  it may mean that your frontend doesn't currently support widgets.\n",
       "</p>\n"
      ],
      "text/plain": [
       "HBox(children=(IntProgress(value=0, description=u'Gibbs', max=5500), HTML(value=u'')))"
      ]
     },
     "metadata": {},
     "output_type": "display_data"
    },
    {
     "data": {
      "application/vnd.jupyter.widget-view+json": {
       "model_id": "ec9dcaa5cf4d46a7a3bf53f3f9a5459b",
       "version_major": 2,
       "version_minor": 0
      },
      "text/html": [
       "<p>Failed to display Jupyter Widget of type <code>HBox</code>.</p>\n",
       "<p>\n",
       "  If you're reading this message in the Jupyter Notebook or JupyterLab Notebook, it may mean\n",
       "  that the widgets JavaScript is still loading. If this message persists, it\n",
       "  likely means that the widgets JavaScript library is either not installed or\n",
       "  not enabled. See the <a href=\"https://ipywidgets.readthedocs.io/en/stable/user_install.html\">Jupyter\n",
       "  Widgets Documentation</a> for setup instructions.\n",
       "</p>\n",
       "<p>\n",
       "  If you're reading this message in another frontend (for example, a static\n",
       "  rendering on GitHub or <a href=\"https://nbviewer.jupyter.org/\">NBViewer</a>),\n",
       "  it may mean that your frontend doesn't currently support widgets.\n",
       "</p>\n"
      ],
      "text/plain": [
       "HBox(children=(IntProgress(value=0, description=u'Gibbs', max=5500), HTML(value=u'')))"
      ]
     },
     "metadata": {},
     "output_type": "display_data"
    },
    {
     "data": {
      "application/vnd.jupyter.widget-view+json": {
       "model_id": "ba6e2c1dac934fd4b8dc01cbb024a335",
       "version_major": 2,
       "version_minor": 0
      },
      "text/html": [
       "<p>Failed to display Jupyter Widget of type <code>HBox</code>.</p>\n",
       "<p>\n",
       "  If you're reading this message in the Jupyter Notebook or JupyterLab Notebook, it may mean\n",
       "  that the widgets JavaScript is still loading. If this message persists, it\n",
       "  likely means that the widgets JavaScript library is either not installed or\n",
       "  not enabled. See the <a href=\"https://ipywidgets.readthedocs.io/en/stable/user_install.html\">Jupyter\n",
       "  Widgets Documentation</a> for setup instructions.\n",
       "</p>\n",
       "<p>\n",
       "  If you're reading this message in another frontend (for example, a static\n",
       "  rendering on GitHub or <a href=\"https://nbviewer.jupyter.org/\">NBViewer</a>),\n",
       "  it may mean that your frontend doesn't currently support widgets.\n",
       "</p>\n"
      ],
      "text/plain": [
       "HBox(children=(IntProgress(value=0, description=u'Gibbs', max=5500), HTML(value=u'')))"
      ]
     },
     "metadata": {},
     "output_type": "display_data"
    },
    {
     "data": {
      "application/vnd.jupyter.widget-view+json": {
       "model_id": "269a7f14c0e54f3e8f12067db6bc1aa7",
       "version_major": 2,
       "version_minor": 0
      },
      "text/html": [
       "<p>Failed to display Jupyter Widget of type <code>HBox</code>.</p>\n",
       "<p>\n",
       "  If you're reading this message in the Jupyter Notebook or JupyterLab Notebook, it may mean\n",
       "  that the widgets JavaScript is still loading. If this message persists, it\n",
       "  likely means that the widgets JavaScript library is either not installed or\n",
       "  not enabled. See the <a href=\"https://ipywidgets.readthedocs.io/en/stable/user_install.html\">Jupyter\n",
       "  Widgets Documentation</a> for setup instructions.\n",
       "</p>\n",
       "<p>\n",
       "  If you're reading this message in another frontend (for example, a static\n",
       "  rendering on GitHub or <a href=\"https://nbviewer.jupyter.org/\">NBViewer</a>),\n",
       "  it may mean that your frontend doesn't currently support widgets.\n",
       "</p>\n"
      ],
      "text/plain": [
       "HBox(children=(IntProgress(value=0, description=u'Gibbs', max=5500), HTML(value=u'')))"
      ]
     },
     "metadata": {},
     "output_type": "display_data"
    },
    {
     "data": {
      "application/vnd.jupyter.widget-view+json": {
       "model_id": "b24d75025d554503ba8e3407c2b59ce5",
       "version_major": 2,
       "version_minor": 0
      },
      "text/html": [
       "<p>Failed to display Jupyter Widget of type <code>HBox</code>.</p>\n",
       "<p>\n",
       "  If you're reading this message in the Jupyter Notebook or JupyterLab Notebook, it may mean\n",
       "  that the widgets JavaScript is still loading. If this message persists, it\n",
       "  likely means that the widgets JavaScript library is either not installed or\n",
       "  not enabled. See the <a href=\"https://ipywidgets.readthedocs.io/en/stable/user_install.html\">Jupyter\n",
       "  Widgets Documentation</a> for setup instructions.\n",
       "</p>\n",
       "<p>\n",
       "  If you're reading this message in another frontend (for example, a static\n",
       "  rendering on GitHub or <a href=\"https://nbviewer.jupyter.org/\">NBViewer</a>),\n",
       "  it may mean that your frontend doesn't currently support widgets.\n",
       "</p>\n"
      ],
      "text/plain": [
       "HBox(children=(IntProgress(value=0, description=u'Gibbs', max=5500), HTML(value=u'')))"
      ]
     },
     "metadata": {},
     "output_type": "display_data"
    },
    {
     "data": {
      "application/vnd.jupyter.widget-view+json": {
       "model_id": "e315326f52a14ad19c27c57a333e2570",
       "version_major": 2,
       "version_minor": 0
      },
      "text/html": [
       "<p>Failed to display Jupyter Widget of type <code>HBox</code>.</p>\n",
       "<p>\n",
       "  If you're reading this message in the Jupyter Notebook or JupyterLab Notebook, it may mean\n",
       "  that the widgets JavaScript is still loading. If this message persists, it\n",
       "  likely means that the widgets JavaScript library is either not installed or\n",
       "  not enabled. See the <a href=\"https://ipywidgets.readthedocs.io/en/stable/user_install.html\">Jupyter\n",
       "  Widgets Documentation</a> for setup instructions.\n",
       "</p>\n",
       "<p>\n",
       "  If you're reading this message in another frontend (for example, a static\n",
       "  rendering on GitHub or <a href=\"https://nbviewer.jupyter.org/\">NBViewer</a>),\n",
       "  it may mean that your frontend doesn't currently support widgets.\n",
       "</p>\n"
      ],
      "text/plain": [
       "HBox(children=(IntProgress(value=0, description=u'Gibbs', max=5500), HTML(value=u'')))"
      ]
     },
     "metadata": {},
     "output_type": "display_data"
    },
    {
     "data": {
      "application/vnd.jupyter.widget-view+json": {
       "model_id": "87878f826395487f97ef490e89577578",
       "version_major": 2,
       "version_minor": 0
      },
      "text/html": [
       "<p>Failed to display Jupyter Widget of type <code>HBox</code>.</p>\n",
       "<p>\n",
       "  If you're reading this message in the Jupyter Notebook or JupyterLab Notebook, it may mean\n",
       "  that the widgets JavaScript is still loading. If this message persists, it\n",
       "  likely means that the widgets JavaScript library is either not installed or\n",
       "  not enabled. See the <a href=\"https://ipywidgets.readthedocs.io/en/stable/user_install.html\">Jupyter\n",
       "  Widgets Documentation</a> for setup instructions.\n",
       "</p>\n",
       "<p>\n",
       "  If you're reading this message in another frontend (for example, a static\n",
       "  rendering on GitHub or <a href=\"https://nbviewer.jupyter.org/\">NBViewer</a>),\n",
       "  it may mean that your frontend doesn't currently support widgets.\n",
       "</p>\n"
      ],
      "text/plain": [
       "HBox(children=(IntProgress(value=0, description=u'Gibbs', max=5500), HTML(value=u'')))"
      ]
     },
     "metadata": {},
     "output_type": "display_data"
    },
    {
     "data": {
      "application/vnd.jupyter.widget-view+json": {
       "model_id": "a54af9c733974e238f7209088761b0df",
       "version_major": 2,
       "version_minor": 0
      },
      "text/html": [
       "<p>Failed to display Jupyter Widget of type <code>HBox</code>.</p>\n",
       "<p>\n",
       "  If you're reading this message in the Jupyter Notebook or JupyterLab Notebook, it may mean\n",
       "  that the widgets JavaScript is still loading. If this message persists, it\n",
       "  likely means that the widgets JavaScript library is either not installed or\n",
       "  not enabled. See the <a href=\"https://ipywidgets.readthedocs.io/en/stable/user_install.html\">Jupyter\n",
       "  Widgets Documentation</a> for setup instructions.\n",
       "</p>\n",
       "<p>\n",
       "  If you're reading this message in another frontend (for example, a static\n",
       "  rendering on GitHub or <a href=\"https://nbviewer.jupyter.org/\">NBViewer</a>),\n",
       "  it may mean that your frontend doesn't currently support widgets.\n",
       "</p>\n"
      ],
      "text/plain": [
       "HBox(children=(IntProgress(value=0, description=u'Gibbs', max=5500), HTML(value=u'')))"
      ]
     },
     "metadata": {},
     "output_type": "display_data"
    },
    {
     "data": {
      "application/vnd.jupyter.widget-view+json": {
       "model_id": "153455b3b2944a3cb131a6a892222500",
       "version_major": 2,
       "version_minor": 0
      },
      "text/html": [
       "<p>Failed to display Jupyter Widget of type <code>HBox</code>.</p>\n",
       "<p>\n",
       "  If you're reading this message in the Jupyter Notebook or JupyterLab Notebook, it may mean\n",
       "  that the widgets JavaScript is still loading. If this message persists, it\n",
       "  likely means that the widgets JavaScript library is either not installed or\n",
       "  not enabled. See the <a href=\"https://ipywidgets.readthedocs.io/en/stable/user_install.html\">Jupyter\n",
       "  Widgets Documentation</a> for setup instructions.\n",
       "</p>\n",
       "<p>\n",
       "  If you're reading this message in another frontend (for example, a static\n",
       "  rendering on GitHub or <a href=\"https://nbviewer.jupyter.org/\">NBViewer</a>),\n",
       "  it may mean that your frontend doesn't currently support widgets.\n",
       "</p>\n"
      ],
      "text/plain": [
       "HBox(children=(IntProgress(value=0, description=u'Gibbs', max=5500), HTML(value=u'')))"
      ]
     },
     "metadata": {},
     "output_type": "display_data"
    },
    {
     "data": {
      "application/vnd.jupyter.widget-view+json": {
       "model_id": "53ec29fadafa4c449e465e043b21d8b6",
       "version_major": 2,
       "version_minor": 0
      },
      "text/html": [
       "<p>Failed to display Jupyter Widget of type <code>HBox</code>.</p>\n",
       "<p>\n",
       "  If you're reading this message in the Jupyter Notebook or JupyterLab Notebook, it may mean\n",
       "  that the widgets JavaScript is still loading. If this message persists, it\n",
       "  likely means that the widgets JavaScript library is either not installed or\n",
       "  not enabled. See the <a href=\"https://ipywidgets.readthedocs.io/en/stable/user_install.html\">Jupyter\n",
       "  Widgets Documentation</a> for setup instructions.\n",
       "</p>\n",
       "<p>\n",
       "  If you're reading this message in another frontend (for example, a static\n",
       "  rendering on GitHub or <a href=\"https://nbviewer.jupyter.org/\">NBViewer</a>),\n",
       "  it may mean that your frontend doesn't currently support widgets.\n",
       "</p>\n"
      ],
      "text/plain": [
       "HBox(children=(IntProgress(value=0, description=u'Gibbs', max=5500), HTML(value=u'')))"
      ]
     },
     "metadata": {},
     "output_type": "display_data"
    },
    {
     "data": {
      "application/vnd.jupyter.widget-view+json": {
       "model_id": "a424477d18c44ddeb13dfdbb1e999ca0",
       "version_major": 2,
       "version_minor": 0
      },
      "text/html": [
       "<p>Failed to display Jupyter Widget of type <code>HBox</code>.</p>\n",
       "<p>\n",
       "  If you're reading this message in the Jupyter Notebook or JupyterLab Notebook, it may mean\n",
       "  that the widgets JavaScript is still loading. If this message persists, it\n",
       "  likely means that the widgets JavaScript library is either not installed or\n",
       "  not enabled. See the <a href=\"https://ipywidgets.readthedocs.io/en/stable/user_install.html\">Jupyter\n",
       "  Widgets Documentation</a> for setup instructions.\n",
       "</p>\n",
       "<p>\n",
       "  If you're reading this message in another frontend (for example, a static\n",
       "  rendering on GitHub or <a href=\"https://nbviewer.jupyter.org/\">NBViewer</a>),\n",
       "  it may mean that your frontend doesn't currently support widgets.\n",
       "</p>\n"
      ],
      "text/plain": [
       "HBox(children=(IntProgress(value=0, description=u'Gibbs', max=5500), HTML(value=u'')))"
      ]
     },
     "metadata": {},
     "output_type": "display_data"
    },
    {
     "data": {
      "application/vnd.jupyter.widget-view+json": {
       "model_id": "46bd2a278ad84fd3a34b4b2343410c36",
       "version_major": 2,
       "version_minor": 0
      },
      "text/html": [
       "<p>Failed to display Jupyter Widget of type <code>HBox</code>.</p>\n",
       "<p>\n",
       "  If you're reading this message in the Jupyter Notebook or JupyterLab Notebook, it may mean\n",
       "  that the widgets JavaScript is still loading. If this message persists, it\n",
       "  likely means that the widgets JavaScript library is either not installed or\n",
       "  not enabled. See the <a href=\"https://ipywidgets.readthedocs.io/en/stable/user_install.html\">Jupyter\n",
       "  Widgets Documentation</a> for setup instructions.\n",
       "</p>\n",
       "<p>\n",
       "  If you're reading this message in another frontend (for example, a static\n",
       "  rendering on GitHub or <a href=\"https://nbviewer.jupyter.org/\">NBViewer</a>),\n",
       "  it may mean that your frontend doesn't currently support widgets.\n",
       "</p>\n"
      ],
      "text/plain": [
       "HBox(children=(IntProgress(value=0, description=u'Gibbs', max=5500), HTML(value=u'')))"
      ]
     },
     "metadata": {},
     "output_type": "display_data"
    },
    {
     "data": {
      "application/vnd.jupyter.widget-view+json": {
       "model_id": "e77d4838021e46c3bee3ed7fd477c11e",
       "version_major": 2,
       "version_minor": 0
      },
      "text/html": [
       "<p>Failed to display Jupyter Widget of type <code>HBox</code>.</p>\n",
       "<p>\n",
       "  If you're reading this message in the Jupyter Notebook or JupyterLab Notebook, it may mean\n",
       "  that the widgets JavaScript is still loading. If this message persists, it\n",
       "  likely means that the widgets JavaScript library is either not installed or\n",
       "  not enabled. See the <a href=\"https://ipywidgets.readthedocs.io/en/stable/user_install.html\">Jupyter\n",
       "  Widgets Documentation</a> for setup instructions.\n",
       "</p>\n",
       "<p>\n",
       "  If you're reading this message in another frontend (for example, a static\n",
       "  rendering on GitHub or <a href=\"https://nbviewer.jupyter.org/\">NBViewer</a>),\n",
       "  it may mean that your frontend doesn't currently support widgets.\n",
       "</p>\n"
      ],
      "text/plain": [
       "HBox(children=(IntProgress(value=0, description=u'Gibbs', max=5500), HTML(value=u'')))"
      ]
     },
     "metadata": {},
     "output_type": "display_data"
    },
    {
     "data": {
      "application/vnd.jupyter.widget-view+json": {
       "model_id": "79f60b1f86fc4a8190e55bb221034faf",
       "version_major": 2,
       "version_minor": 0
      },
      "text/html": [
       "<p>Failed to display Jupyter Widget of type <code>HBox</code>.</p>\n",
       "<p>\n",
       "  If you're reading this message in the Jupyter Notebook or JupyterLab Notebook, it may mean\n",
       "  that the widgets JavaScript is still loading. If this message persists, it\n",
       "  likely means that the widgets JavaScript library is either not installed or\n",
       "  not enabled. See the <a href=\"https://ipywidgets.readthedocs.io/en/stable/user_install.html\">Jupyter\n",
       "  Widgets Documentation</a> for setup instructions.\n",
       "</p>\n",
       "<p>\n",
       "  If you're reading this message in another frontend (for example, a static\n",
       "  rendering on GitHub or <a href=\"https://nbviewer.jupyter.org/\">NBViewer</a>),\n",
       "  it may mean that your frontend doesn't currently support widgets.\n",
       "</p>\n"
      ],
      "text/plain": [
       "HBox(children=(IntProgress(value=0, description=u'Gibbs', max=5500), HTML(value=u'')))"
      ]
     },
     "metadata": {},
     "output_type": "display_data"
    },
    {
     "name": "stdout",
     "output_type": "stream",
     "text": [
      "\n"
     ]
    }
   ],
   "source": [
    "n_batches = 25\n",
    "n_samples = 5000\n",
    "hs = np.arange(0.1, 0.5, 0.05)\n",
    "\n",
    "joint_no_bound_pre = np.zeros((n_batches, len(hs))) - np.inf\n",
    "joint_no_bound_pst = np.zeros((n_batches, len(hs))) - np.inf \n",
    "joint_known_bound_pre = np.zeros((n_batches, len(hs))) - np.inf\n",
    "joint_known_bound_pst = np.zeros((n_batches, len(hs))) - np.inf\n",
    "\n",
    "marg_no_bound_pre = np.zeros((n_batches, len(hs))) - np.inf\n",
    "marg_no_bound_pst = np.zeros((n_batches, len(hs))) - np.inf\n",
    "marg_known_bound_pre = np.zeros((n_batches, len(hs))) - np.inf\n",
    "marg_known_bound_pst = np.zeros((n_batches, len(hs))) - np.inf\n",
    "\n",
    "for ii in tnrange(n_batches):\n",
    "    joint_density, marg_density = batch(n_samples, hs=hs)\n",
    "    \n",
    "    joint_no_bound_pre[ii, :] = joint_density['No-Boundaries'][0]\n",
    "    joint_no_bound_pst[ii, :] = joint_density['No-Boundaries'][1]\n",
    "    joint_known_bound_pre[ii, :] = joint_density['Known-Boundaries'][0]\n",
    "    joint_known_bound_pst[ii, :] = joint_density['Known-Boundaries'][1]\n",
    "    marg_no_bound_pre[ii, :] = marg_density['No-Boundaries'][0]\n",
    "    marg_no_bound_pst[ii, :] = marg_density['No-Boundaries'][1]\n",
    "    marg_known_bound_pre[ii, :] = marg_density['Known-Boundaries'][0]\n",
    "    marg_known_bound_pst[ii, :] = marg_density['Known-Boundaries'][1]"
   ]
  },
  {
   "cell_type": "markdown",
   "metadata": {},
   "source": [
    "# Marginal Density comparisons"
   ]
  },
  {
   "cell_type": "markdown",
   "metadata": {},
   "source": [
    "## This is a direct comparison of the No Switch vs Switch via log Likelihood ratio"
   ]
  },
  {
   "cell_type": "code",
   "execution_count": 187,
   "metadata": {},
   "outputs": [
    {
     "data": {
      "image/png": "[encoded data removed]",
      "text/plain": [
       "<matplotlib.figure.Figure at 0x1ba836f10>"
      ]
     },
     "metadata": {},
     "output_type": "display_data"
    }
   ],
   "source": [
    "fig, axes = plt.subplots(1, 3, gridspec_kw={'width_ratios':[1, 2, 2], 'wspace':0.4}, figsize=(12, 3))\n",
    "\n",
    "h = 0.2\n",
    "sns.set_palette('tab10')\n",
    "\n",
    "def log_mean(x):\n",
    "    return logsumexp(x, axis=0) - np.log(np.shape(x)[0])\n",
    "\n",
    "df = pd.concat([\n",
    "    pd.DataFrame({\n",
    "        'Event Boundaries': [\"None\"] * n_batches,\n",
    "        'Switch': [False] * n_batches,\n",
    "        'Score': marg_no_bound_pre[:, idx],\n",
    "    }), pd.DataFrame({\n",
    "        'Event Boundaries': [\"None\"] * n_batches,\n",
    "        'Switch': [True] * n_batches,\n",
    "        'Score': marg_no_bound_pst[:, idx]\n",
    "    }), pd.DataFrame({\n",
    "        'Event Boundaries': [\"Yes\"] * n_batches,\n",
    "        'Switch': [False] * n_batches,\n",
    "        'Score': marg_known_bound_pre[:, idx]\n",
    "    }), pd.DataFrame({\n",
    "        'Event Boundaries': ['Yes'] * n_batches,\n",
    "        'Switch': [True] * n_batches,\n",
    "        'Score': marg_known_bound_pst[:, idx]\n",
    "    })\n",
    "    \n",
    "])\n",
    "\n",
    "\n",
    "sns.barplot(data=df, x='Event Boundaries', y='Score', hue='Switch', estimator=log_mean, ax=axes[0])\n",
    "axes[0].set_ylabel(r'Conditional Density')\n",
    "axes[0].set_title('Bandwidth = %0.2f' % h)\n",
    "\n",
    "\n",
    "df = []\n",
    "for ii, h in enumerate(hs):\n",
    "    df.append(pd.DataFrame({\n",
    "        'Switch': [False] * n_batches,\n",
    "        'Bandwidth': [h] * n_batches,\n",
    "        'Conditional Density': marg_no_bound_pre[:, ii]\n",
    "    }))\n",
    "    df.append(pd.DataFrame({\n",
    "        'Switch': [True] * n_batches,\n",
    "        'Bandwidth': [h] * n_batches,\n",
    "        'Conditional Density': marg_no_bound_pst[:, ii]\n",
    "    }))\n",
    "df = pd.concat(df)\n",
    "\n",
    "sns.pointplot(x='Bandwidth', y='Conditional Density', hue='Switch', \n",
    "                   estimator=log_mean, data=df, ax = axes[1])\n",
    "\n",
    "df = []\n",
    "for ii, h in enumerate(hs):\n",
    "    df.append(pd.DataFrame({\n",
    "        'Switch': [False] * n_batches,\n",
    "        'Bandwidth': [h] * n_batches,\n",
    "        'Conditional Density': marg_known_bound_pre[:, ii]\n",
    "    }))\n",
    "    df.append(pd.DataFrame({\n",
    "        'Switch': [True] * n_batches,\n",
    "        'Bandwidth': [h] * n_batches,\n",
    "        'Conditional Density': marg_known_bound_pst[:, ii]\n",
    "    }))\n",
    "df = pd.concat(df)\n",
    "\n",
    "sns.pointplot(x='Bandwidth', y='Conditional Density', hue='Switch', \n",
    "                   estimator=log_mean, data=df, ax = axes[2])\n",
    "axes[1].set_xticklabels(['%.2f' % h for h in hs])\n",
    "axes[2].set_xticklabels(['%.2f' % h for h in hs])\n",
    "\n",
    "axes[1].set_title('No Event Boundaries')\n",
    "axes[2].set_title('Event Boundaries')\n",
    "\n",
    "sns.despine()\n",
    "plt.savefig('Divachi_ConditionalDensity.png', dpi=300, bbox_inches='tight')"
   ]
  },
  {
   "cell_type": "code",
   "execution_count": 164,
   "metadata": {},
   "outputs": [
    {
     "data": {
      "image/png": "[encoded data removed]",
      "text/plain": [
       "<matplotlib.figure.Figure at 0x1b789ad90>"
      ]
     },
     "metadata": {},
     "output_type": "display_data"
    }
   ],
   "source": [
    "fig, axes = plt.subplots(1, 2, gridspec_kw={'width_ratios':[1, 2], 'wspace':0.4}, figsize=(8, 4))\n",
    "\n",
    "h = 0.2\n",
    "\n",
    "df = pd.concat([\n",
    "    pd.DataFrame({\n",
    "        'Event Boundaries': [\"None\"] * n_batches,\n",
    "        'Score': marg_no_bound_pre[:, idx] - marg_no_bound_pst[:, idx],\n",
    "    }), pd.DataFrame({\n",
    "        'Event Boundaries': [\"Known\"] * n_batches,\n",
    "        'Score': marg_known_bound_pre[:, idx] - marg_known_bound_pst[:, idx],\n",
    "    })\n",
    "])\n",
    "\n",
    "def log_mean(x):\n",
    "    return logsumexp(x, axis=0) - np.log(np.shape(x)[0])\n",
    "\n",
    "sns.barplot(data=df, x='Event Boundaries', y='Score', \n",
    "            estimator=log_mean, color=[0.5, 0.5, 0.5], ax=axes[0])\n",
    "axes[0].set_ylabel(u'Log Likelihood Ratio \\nSwitch vs. No Switch')\n",
    "axes[0].set_title('Bandwidth = %0.2f' % h)\n",
    "\n",
    "\n",
    "df = []\n",
    "for ii, h in enumerate(hs):\n",
    "    df.append(pd.DataFrame({\n",
    "        'Reconstruction': [\"No Boundaries\"] * n_batches,\n",
    "        'Bandwidth': [h] * n_batches,\n",
    "        'No Switch vs Switch': marg_no_bound_pre[:, ii] - marg_no_bound_pst[:, ii],\n",
    "    }))\n",
    "    df.append(pd.DataFrame({\n",
    "        'Reconstruction': [\"Event Boundaries':\"] * n_batches,\n",
    "        'Bandwidth': [h] * n_batches,\n",
    "        'No Switch vs Switch':marg_known_bound_pre[:, ii] - marg_known_bound_pst[:, ii]\n",
    "    }))\n",
    "df = pd.concat(df)\n",
    "\n",
    "sns.pointplot(x='Bandwidth', y='No Switch vs Switch', hue='Reconstruction', \n",
    "                   estimator=log_mean, data=df, ax = axes[1])\n",
    "axes[1].plot(axes[1].get_xlim(), [0, 0], 'k--')\n",
    "axes[1].set_xticklabels(['%.2f' % h for h in hs])\n",
    "\n",
    "sns.despine()"
   ]
  },
  {
   "cell_type": "code",
   "execution_count": 189,
   "metadata": {},
   "outputs": [
    {
     "data": {
      "image/png": "[encoded data removed]",
      "text/plain": [
       "<matplotlib.figure.Figure at 0x1baccd2d0>"
      ]
     },
     "metadata": {},
     "output_type": "display_data"
    }
   ],
   "source": [
    "fig, axes = plt.subplots(1, 2, gridspec_kw={'width_ratios':[1, 2], 'wspace':0.4}, figsize=(8, 4))\n",
    "\n",
    "h = 0.2\n",
    "\n",
    "cc = sns.color_palette('tab10')\n",
    "# sns.set_palette('viridis')\n",
    "\n",
    "\n",
    "df = pd.concat([\n",
    "    pd.DataFrame({\n",
    "        'Event Boundaries': [\"None\"] * n_batches,\n",
    "        'Score': marg_no_bound_pre[:, idx] - marg_no_bound_pst[:, idx],\n",
    "    }), pd.DataFrame({\n",
    "        'Event Boundaries': [\"Known\"] * n_batches,\n",
    "        'Score': marg_known_bound_pre[:, idx] - marg_known_bound_pst[:, idx],\n",
    "    })\n",
    "])\n",
    "\n",
    "def log_mean(x):\n",
    "    return logsumexp(x, axis=0) - np.log(np.shape(x)[0])\n",
    "\n",
    "sns.barplot(data=df, x='Event Boundaries', y='Score', \n",
    "            estimator=log_mean, palette=cc, ax=axes[0],)#color=[0.5, 0.5, 0.5], ax=axes[0])\n",
    "axes[0].set_ylabel(u'Log Likelihood Ratio \\nSwitch vs. No Switch')\n",
    "axes[0].set_title('Bandwidth = %0.2f' % h)\n",
    "\n",
    "ax = axes[1]\n",
    "y = log_mean(marg_no_bound_pre - marg_no_bound_pst)\n",
    "ax.plot(hs, y, color=cc[0], label='No Boundaries')\n",
    "\n",
    "y = log_mean(marg_known_bound_pre - marg_known_bound_pst)\n",
    "ax.plot(hs, y, color=cc[1], label='Known Boundary')\n",
    "\n",
    "# use bootstrapping to estimate a confidence interval\n",
    "boot_data = sns.algorithms.bootstrap(marg_no_bound_pre - marg_no_bound_pst,\n",
    "                                     func=log_mean)\n",
    "y_er_lb, y_er_ub = sns.utils.ci(boot_data, axis=0)\n",
    "ax.fill_between(hs, y_er_lb, y_er_ub, color=cc[0], alpha=0.25)\n",
    "\n",
    "boot_data = sns.algorithms.bootstrap(marg_known_bound_pre - marg_known_bound_pst,\n",
    "                                     func=log_mean)\n",
    "y_er_lb, y_er_ub = sns.utils.ci(boot_data, axis=0)\n",
    "ax.fill_between(hs, y_er_lb, y_er_ub, color=cc[1], alpha=0.25)\n",
    "axes[1].plot(axes[1].get_xlim(), [0, 0], 'k--')\n",
    "\n",
    "plt.legend()\n",
    "sns.despine(offset = 5)\n",
    "plt.savefig('Divachi_logLikelihoodRatio.png', dpi=300, bbox_inches='tight')"
   ]
  },
  {
   "cell_type": "markdown",
   "metadata": {},
   "source": [
    "# Joint Density -- Doen't really look as good but still kinda works"
   ]
  },
  {
   "cell_type": "code",
   "execution_count": 162,
   "metadata": {},
   "outputs": [
    {
     "data": {
      "image/png": "[encoded data removed]",
      "text/plain": [
       "<matplotlib.figure.Figure at 0x1b73a6d90>"
      ]
     },
     "metadata": {},
     "output_type": "display_data"
    }
   ],
   "source": [
    "fig, axes = plt.subplots(1, 3, gridspec_kw={'width_ratios':[1, 2, 2], 'wspace':0.4}, figsize=(12, 3))\n",
    "\n",
    "h = 0.2\n",
    "\n",
    "def log_mean(x):\n",
    "    return logsumexp(x, axis=0) - np.log(np.shape(x)[0])\n",
    "\n",
    "df = pd.concat([\n",
    "    pd.DataFrame({\n",
    "        'Event Boundaries': [\"None\"] * n_batches,\n",
    "        'Switch': [False] * n_batches,\n",
    "        'Score': joint_no_bound_pre[:, idx],\n",
    "    }), pd.DataFrame({\n",
    "        'Event Boundaries': [\"None\"] * n_batches,\n",
    "        'Switch': [True] * n_batches,\n",
    "        'Score': joint_no_bound_pst[:, idx]\n",
    "    }), pd.DataFrame({\n",
    "        'Event Boundaries': [\"Yes\"] * n_batches,\n",
    "        'Switch': [False] * n_batches,\n",
    "        'Score': joint_known_bound_pre[:, idx]\n",
    "    }), pd.DataFrame({\n",
    "        'Event Boundaries': ['Yes'] * n_batches,\n",
    "        'Switch': [True] * n_batches,\n",
    "        'Score': joint_known_bound_pst[:, idx]\n",
    "    })\n",
    "    \n",
    "])\n",
    "\n",
    "\n",
    "sns.barplot(data=df, x='Event Boundaries', y='Score', hue='Switch', estimator=log_mean, ax=axes[0])\n",
    "axes[0].set_ylabel(r'Joint Density')\n",
    "axes[0].set_title('Bandwidth = %0.2f' % h)\n",
    "\n",
    "\n",
    "df = []\n",
    "for ii, h in enumerate(hs):\n",
    "    df.append(pd.DataFrame({\n",
    "        'Switch': [False] * n_batches,\n",
    "        'Bandwidth': [h] * n_batches,\n",
    "        'Joint Density': joint_no_bound_pst[:, ii]\n",
    "    }))\n",
    "    df.append(pd.DataFrame({\n",
    "        'Switch': [True] * n_batches,\n",
    "        'Bandwidth': [h] * n_batches,\n",
    "        'Joint Density': joint_no_bound_pst[:, ii]\n",
    "    }))\n",
    "df = pd.concat(df)\n",
    "\n",
    "sns.pointplot(x='Bandwidth', y='Joint Density', hue='Switch', \n",
    "                   estimator=log_mean, data=df, ax = axes[1])\n",
    "\n",
    "df = []\n",
    "for ii, h in enumerate(hs):\n",
    "    df.append(pd.DataFrame({\n",
    "        'Switch': [False] * n_batches,\n",
    "        'Bandwidth': [h] * n_batches,\n",
    "        'Joint Density': joint_known_bound_pre[:, ii]\n",
    "    }))\n",
    "    df.append(pd.DataFrame({\n",
    "        'Switch': [True] * n_batches,\n",
    "        'Bandwidth': [h] * n_batches,\n",
    "        'Joint Density': joint_known_bound_pst[:, ii]\n",
    "    }))\n",
    "df = pd.concat(df)\n",
    "\n",
    "sns.pointplot(x='Bandwidth', y='Joint Density', hue='Switch', \n",
    "                   estimator=log_mean, data=df, ax = axes[2])\n",
    "axes[1].set_xticklabels(['%.2f' % h for h in hs])\n",
    "axes[2].set_xticklabels(['%.2f' % h for h in hs])\n",
    "\n",
    "axes[1].set_title('No Event Boundaries')\n",
    "axes[2].set_title('Event Boundaries')\n",
    "\n",
    "sns.despine()\n"
   ]
  },
  {
   "cell_type": "code",
   "execution_count": 163,
   "metadata": {},
   "outputs": [
    {
     "data": {
      "image/png": "[encoded data removed]",
      "text/plain": [
       "<matplotlib.figure.Figure at 0x1b771eb10>"
      ]
     },
     "metadata": {},
     "output_type": "display_data"
    }
   ],
   "source": [
    "fig, axes = plt.subplots(1, 2, gridspec_kw={'width_ratios':[1, 2], 'wspace':0.4}, figsize=(8, 4))\n",
    "\n",
    "h = 0.2\n",
    "\n",
    "df = pd.concat([\n",
    "    pd.DataFrame({\n",
    "        'Event Boundaries': [\"None\"] * n_batches,\n",
    "        'Score': joint_no_bound_pre[:, idx] - joint_no_bound_pst[:, idx],\n",
    "    }), pd.DataFrame({\n",
    "        'Event Boundaries': [\"Known\"] * n_batches,\n",
    "        'Score': joint_known_bound_pre[:, idx] - joint_known_bound_pst[:, idx],\n",
    "    })\n",
    "])\n",
    "\n",
    "def log_mean(x):\n",
    "    return logsumexp(x, axis=0) - np.log(np.shape(x)[0])\n",
    "\n",
    "sns.barplot(data=df, x='Event Boundaries', y='Score', estimator=log_mean, color=[0.5, 0.5, 0.5], ax=axes[0])\n",
    "axes[0].set_ylabel(u'Log Likelihood Ratio \\nSwitch vs. No Switch')\n",
    "axes[0].set_title('Bandwidth = %0.2f' % h)\n",
    "\n",
    "\n",
    "df = []\n",
    "for ii, h in enumerate(hs):\n",
    "    df.append(pd.DataFrame({\n",
    "        'Reconstruction': [\"No Boundaries\"] * n_batches,\n",
    "        'Bandwidth': [h] * n_batches,\n",
    "        'No Switch vs Switch': joint_no_bound_pre[:, ii] - joint_no_bound_pst[:, ii],\n",
    "    }))\n",
    "    df.append(pd.DataFrame({\n",
    "        'Reconstruction': [\"Event Boundaries':\"] * n_batches,\n",
    "        'Bandwidth': [h] * n_batches,\n",
    "        'No Switch vs Switch':joint_known_bound_pre[:, ii] - joint_known_bound_pst[:, ii]\n",
    "    }))\n",
    "df = pd.concat(df)\n",
    "\n",
    "sns.pointplot(x='Bandwidth', y='No Switch vs Switch', hue='Reconstruction', \n",
    "                   estimator=log_mean, data=df, ax = axes[1])\n",
    "axes[1].plot(axes[1].get_xlim(), [0, 0], 'k--')\n",
    "axes[1].set_xticklabels(['%.2f' % h for h in hs])\n",
    "\n",
    "sns.despine()\n",
    "# plt.savefig('Divachi_logLikelihoodRatio.png', dpi=300, bbox_inches='tight')"
   ]
  },
  {
   "cell_type": "code",
   "execution_count": 104,
   "metadata": {},
   "outputs": [
    {
     "name": "stdout",
     "output_type": "stream",
     "text": [
      "Help on method set in module seaborn.axisgrid:\n",
      "\n",
      "set(self, **kwargs) method of seaborn.axisgrid.FacetGrid instance\n",
      "    Set attributes on each subplot Axes.\n",
      "\n"
     ]
    }
   ],
   "source": [
    "help(g.set)"
   ]
  },
  {
   "cell_type": "code",
   "execution_count": null,
   "metadata": {},
   "outputs": [],
   "source": []
  },
  {
   "cell_type": "code",
   "execution_count": null,
   "metadata": {},
   "outputs": [],
   "source": [
    "raise(Exception)"
   ]
  },
  {
   "cell_type": "code",
   "execution_count": null,
   "metadata": {},
   "outputs": [],
   "source": []
  },
  {
   "cell_type": "code",
   "execution_count": null,
   "metadata": {},
   "outputs": [],
   "source": []
  }
 ],
 "metadata": {
  "kernelspec": {
   "display_name": "Python 2",
   "language": "python",
   "name": "python2"
  },
  "language_info": {
   "codemirror_mode": {
    "name": "ipython",
    "version": 2
   },
   "file_extension": ".py",
   "mimetype": "text/x-python",
   "name": "python",
   "nbconvert_exporter": "python",
   "pygments_lexer": "ipython2",
   "version": "2.7.14"
  }
 },
 "nbformat": 4,
 "nbformat_minor": 2
}
