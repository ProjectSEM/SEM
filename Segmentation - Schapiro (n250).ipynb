{
 "cells": [
  {
   "cell_type": "code",
   "execution_count": 1,
   "metadata": {},
   "outputs": [
    {
     "name": "stderr",
     "output_type": "stream",
     "text": [
      "Using TensorFlow backend.\n"
     ]
    },
    {
     "name": "stdout",
     "output_type": "stream",
     "text": [
      "TensorFlow Version: 1.9.0\n",
      "Keras      Version: 2.2.0\n"
     ]
    }
   ],
   "source": [
    "%matplotlib inline\n",
    "import numpy as np\n",
    "import matplotlib.pyplot as plt\n",
    "import tensorflow as tf\n",
    "import seaborn as sns\n",
    "from models import *\n",
    "from sklearn import metrics\n",
    "from scipy.stats import ttest_ind\n",
    "import keras as K\n",
    "\n",
    "import pandas as pd"
   ]
  },
  {
   "cell_type": "code",
   "execution_count": 2,
   "metadata": {},
   "outputs": [
    {
     "name": "stdout",
     "output_type": "stream",
     "text": [
      "Prior variance (mode): 0.333333333333\n"
     ]
    }
   ],
   "source": [
    "# SEM parameters\n",
    "df0 = 1\n",
    "scale0 = 1.0\n",
    "\n",
    "lmda = 10**5.\n",
    "alfa = 10**-2\n",
    "\n",
    "mode = df0 * scale0 / (df0 + 2)\n",
    "print(\"Prior variance (mode): {}\".format(mode))\n",
    "\n",
    "f_class=GRUEvent\n",
    "# f_class = KerasMultiLayerPerceptron\n",
    "f_opts=dict(var_scale0=scale0, var_df0=df0, n_epochs = 1, t=5, prior_log_prob=-10.5)"
   ]
  },
  {
   "cell_type": "code",
   "execution_count": null,
   "metadata": {},
   "outputs": [],
   "source": []
  },
  {
   "cell_type": "code",
   "execution_count": 3,
   "metadata": {},
   "outputs": [],
   "source": [
    "from scipy.special import logsumexp\n",
    "def logsumexp_mean(x):\n",
    "    return logsumexp(x) - np.log(len(x))\n",
    "\n",
    "def batch_experiment(n_train = 1400, n_test=600):\n",
    "\n",
    "    # define the graph structure for the experiment\n",
    "\n",
    "    g = np.array([\n",
    "        [0, 1, 1, 1, 1, 0, 0, 0, 0, 0, 0, 0, 0, 0, 0],\n",
    "        [1, 0, 1, 1, 1, 0, 0, 0, 0, 0, 0, 0, 0, 0, 0],\n",
    "        [1, 1, 0, 1, 1, 0, 0, 0, 0, 0, 0, 0, 0, 0, 0],\n",
    "        [1, 1, 1, 0, 0, 1, 0, 0, 0, 0, 0, 0, 0, 0, 0],\n",
    "        [1, 1, 1, 0, 0, 0, 0, 0, 0, 0, 0, 0, 0, 0, 1],\n",
    "        [0, 0, 0, 1, 0, 0, 1, 1, 1, 0, 0, 0, 0, 0, 0],\n",
    "        [0, 0, 0, 0, 0, 1, 0, 1, 1, 1, 0, 0, 0, 0, 0],\n",
    "        [0, 0, 0, 0, 0, 1, 1, 0, 1, 1, 0, 0, 0, 0, 0],\n",
    "        [0, 0, 0, 0, 0, 1, 1, 1, 0, 1, 0, 0, 0, 0, 0],\n",
    "        [0, 0, 0, 0, 0, 0, 1, 1, 1, 0, 1, 0, 0, 0, 0],\n",
    "        [0, 0, 0, 0, 0, 0, 0, 0, 0, 1, 0, 1, 1, 1, 0],\n",
    "        [0, 0, 0, 0, 0, 0, 0, 0, 0, 0, 1, 0, 1, 1, 1],\n",
    "        [0, 0, 0, 0, 0, 0, 0, 0, 0, 0, 1, 1, 0, 1, 1],\n",
    "        [0, 0, 0, 0, 0, 0, 0, 0, 0, 0, 1, 1, 1, 0, 1],\n",
    "        [0, 0, 0, 0, 1, 0, 0, 0, 0, 0, 0, 1, 1, 1, 0],\n",
    "    ], dtype=float)\n",
    "\n",
    "    # define the random vectors\n",
    "    d = 25\n",
    "    items = np.random.randn(15, d) / np.sqrt(d)\n",
    "\n",
    "\n",
    "    # draw random walks on the graph\n",
    "    def sample_pmf(pmf):\n",
    "        return np.sum(np.cumsum(pmf) < np.random.uniform(0, 1))\n",
    "\n",
    "    train_nodes = [np.random.randint(15)]\n",
    "    for _ in range(n_train-1):\n",
    "        train_nodes.append(sample_pmf(g[train_nodes[-1]] / g[train_nodes[-1]].sum()))\n",
    "        \n",
    "    # draw hamiltonian paths from the graph\n",
    "\n",
    "    # this graph defines the same thing but a preference order as well\n",
    "    # higher number are  c\n",
    "    preferred_nodes = np.array([\n",
    "        [1, 1, 1, 0, 0, 0, 1, 1, 1, 0, 0, 1, 1, 1, 0],\n",
    "    ], dtype=float)\n",
    "\n",
    "    def sample_hamilton(node0):\n",
    "        is_visited = np.zeros(15, dtype=bool)\n",
    "        counter = 0\n",
    "        nodes = []\n",
    "        while counter < (len(is_visited)):\n",
    "            p = g[node0] * ~is_visited * preferred_nodes\n",
    "            if np.sum(p) == 0:\n",
    "                p = g[node0] * ~is_visited\n",
    "\n",
    "            node0 = sample_pmf(p / np.sum(p))\n",
    "            nodes.append(node0)\n",
    "            is_visited[node0] = True\n",
    "            counter += 1\n",
    "        return nodes\n",
    "\n",
    "    test_nodes = []\n",
    "    node0 = np.random.randint(15)\n",
    "    for ii in range(n_test / 15):\n",
    "        test_nodes += sample_hamilton(node0)\n",
    "        node0 = test_nodes[-1]\n",
    "\n",
    "        \n",
    "    # embed the vectors\n",
    "    all_nodes = train_nodes + test_nodes\n",
    "    x = []\n",
    "    for node in all_nodes:\n",
    "        x.append(items[node])\n",
    "    x = np.array(x)\n",
    "    \n",
    "    sem_kwargs = dict(lmda=lmda, alfa=alfa, f_class=f_class, f_opts=f_opts)\n",
    "    sem_model = SEM(**sem_kwargs)\n",
    "    sem_model.run(x, progress_bar=True)\n",
    "\n",
    "    \n",
    "    # prepared diagnostic measures\n",
    "    clusters = [0, 0, 0, 0, 0, 1, 1, 1, 1, 1, 2, 2, 2, 2, 2]\n",
    "    node_cluster = []\n",
    "    for node in test_nodes:\n",
    "        node_cluster.append(clusters[node])\n",
    "    node_cluster = np.array(node_cluster)\n",
    "    \n",
    "    all_node_cluster = []\n",
    "    for node in all_nodes:\n",
    "        all_node_cluster.append(clusters[node])\n",
    "    all_node_cluster = np.array(all_node_cluster)\n",
    "    all_boundaries_true = np.concatenate([[False], (all_node_cluster[1:] != all_node_cluster[:-1])])\n",
    "    \n",
    "    test_boundaries = sem_model.results.e_hat[n_train-1:-1] != sem_model.results.e_hat[n_train:]\n",
    "    boundaries = sem_model.results.e_hat[:n_train-1] != sem_model.results.e_hat[1:n_train]\n",
    "    \n",
    "    test_bound_prob = sem_model.results.log_boundary_probability[n_train:]\n",
    "    bound_prob = sem_model.results.log_boundary_probability[1:n_train]\n",
    "    \n",
    "    # pull the prediction error (Bayesian Suprise)\n",
    "    \n",
    "    test_pe = sem_model.results.surprise[n_train:]\n",
    "    bound_pe = sem_model.results.surprise[1:n_train]\n",
    "    \n",
    "    # cache the correlation between log boundary probability and log surprise\n",
    "    r = np.corrcoef(\n",
    "        sem_model.results.log_boundary_probability, sem_model.results.surprise\n",
    "    )[0][1]\n",
    "\n",
    "    \n",
    "    output =  {\n",
    "#         'Community Transitions (Hamilton)': np.mean(test_boundaries[all_boundaries_true[n_train:]]),\n",
    "#         'Other Parse (Hamilton)': np.mean(test_boundaries[all_boundaries_true[n_train:]==False]),\n",
    "        'Community Transitions (Hamilton)': np.exp(logsumexp_mean(test_bound_prob[all_boundaries_true[1400:]])),\n",
    "        'Other Parse (Hamilton)': np.exp(logsumexp_mean(test_bound_prob[all_boundaries_true[1400:]==False])),\n",
    "        'Community Transitions (All Other Trials)': np.exp(logsumexp_mean(bound_prob[all_boundaries_true[1:n_train]])),\n",
    "        'Other Parse (All Other Trials)': np.exp(logsumexp_mean(bound_prob[all_boundaries_true[1:n_train]==False])),\n",
    "        'PE Community Transitions (Hamilton)': logsumexp_mean(test_pe[all_boundaries_true[1400:]]),\n",
    "        'PE Other Parse (Hamilton)': logsumexp_mean(test_pe[all_boundaries_true[1400:]==False]),\n",
    "        'PE Community Transitions (All Other Trials)': logsumexp_mean(bound_pe[all_boundaries_true[1:n_train]]),\n",
    "        'PE Other Parse (All Other Trials)': logsumexp_mean(bound_pe[all_boundaries_true[1:n_train]==False]),\n",
    "        'r':r\n",
    "    }\n",
    "    \n",
    "    sem_model.clear_event_models()    \n",
    "    del sem_model, test_pe, bound_pe, test_boundaries, boundaries, all_boundaries_true, x\n",
    "\n",
    "    return output\n",
    "# res = pd.DataFrame(batch_experiment())"
   ]
  },
  {
   "cell_type": "code",
   "execution_count": 4,
   "metadata": {},
   "outputs": [
    {
     "data": {
      "application/vnd.jupyter.widget-view+json": {
       "model_id": "81da45eb66634341a5dc6604c185c571",
       "version_major": 2,
       "version_minor": 0
      },
      "text/plain": [
       "HBox(children=(IntProgress(value=0, max=250), HTML(value=u'')))"
      ]
     },
     "metadata": {},
     "output_type": "display_data"
    },
    {
     "name": "stderr",
     "output_type": "stream",
     "text": [
      "Run SEM: 100%|██████████| 2000/2000 [00:25<00:00, 79.93it/s]\n",
      "Run SEM: 100%|██████████| 2000/2000 [00:24<00:00, 83.27it/s]\n",
      "Run SEM: 100%|██████████| 2000/2000 [00:22<00:00, 87.72it/s]\n",
      "Run SEM: 100%|██████████| 2000/2000 [00:22<00:00, 89.28it/s]\n",
      "Run SEM: 100%|██████████| 2000/2000 [00:23<00:00, 86.08it/s]\n",
      "Run SEM: 100%|██████████| 2000/2000 [00:32<00:00, 61.26it/s]\n",
      "Run SEM: 100%|██████████| 2000/2000 [00:25<00:00, 78.08it/s]\n",
      "Run SEM: 100%|██████████| 2000/2000 [00:24<00:00, 80.41it/s]\n",
      "Run SEM: 100%|██████████| 2000/2000 [00:25<00:00, 78.37it/s]\n",
      "Run SEM: 100%|██████████| 2000/2000 [00:24<00:00, 83.07it/s]\n",
      "Run SEM: 100%|██████████| 2000/2000 [00:25<00:00, 77.93it/s]\n",
      "Run SEM: 100%|██████████| 2000/2000 [00:23<00:00, 83.93it/s]\n",
      "Run SEM: 100%|██████████| 2000/2000 [00:22<00:00, 89.65it/s]\n",
      "Run SEM: 100%|██████████| 2000/2000 [00:22<00:00, 88.59it/s]\n",
      "Run SEM: 100%|██████████| 2000/2000 [00:22<00:00, 89.11it/s]\n",
      "Run SEM: 100%|██████████| 2000/2000 [00:21<00:00, 92.67it/s]\n",
      "Run SEM: 100%|██████████| 2000/2000 [00:22<00:00, 90.45it/s]\n",
      "Run SEM: 100%|██████████| 2000/2000 [00:21<00:00, 91.55it/s]\n",
      "Run SEM: 100%|██████████| 2000/2000 [00:22<00:00, 86.98it/s]\n",
      "Run SEM: 100%|██████████| 2000/2000 [00:21<00:00, 90.99it/s]\n",
      "Run SEM: 100%|██████████| 2000/2000 [00:21<00:00, 91.75it/s]\n",
      "Run SEM: 100%|██████████| 2000/2000 [00:21<00:00, 93.97it/s]\n",
      "Run SEM: 100%|██████████| 2000/2000 [00:21<00:00, 92.67it/s]\n",
      "Run SEM: 100%|██████████| 2000/2000 [00:23<00:00, 86.44it/s]\n",
      "Run SEM: 100%|██████████| 2000/2000 [00:22<00:00, 90.52it/s]\n",
      "Run SEM: 100%|██████████| 2000/2000 [00:21<00:00, 91.80it/s]\n",
      "Run SEM: 100%|██████████| 2000/2000 [00:22<00:00, 90.68it/s]\n",
      "Run SEM: 100%|██████████| 2000/2000 [00:22<00:00, 89.19it/s]\n",
      "Run SEM: 100%|██████████| 2000/2000 [00:23<00:00, 84.42it/s]\n",
      "Run SEM: 100%|██████████| 2000/2000 [00:22<00:00, 90.26it/s]\n",
      "Run SEM: 100%|██████████| 2000/2000 [00:22<00:00, 88.37it/s]\n",
      "Run SEM: 100%|██████████| 2000/2000 [00:22<00:00, 89.37it/s]\n",
      "Run SEM: 100%|██████████| 2000/2000 [00:22<00:00, 88.99it/s]\n",
      "Run SEM: 100%|██████████| 2000/2000 [00:21<00:00, 91.89it/s]\n",
      "Run SEM: 100%|██████████| 2000/2000 [00:22<00:00, 90.85it/s]\n",
      "Run SEM: 100%|██████████| 2000/2000 [00:22<00:00, 90.86it/s]\n",
      "Run SEM: 100%|██████████| 2000/2000 [00:21<00:00, 91.30it/s]\n",
      "Run SEM: 100%|██████████| 2000/2000 [00:22<00:00, 90.50it/s]\n",
      "Run SEM: 100%|██████████| 2000/2000 [00:22<00:00, 90.38it/s]\n",
      "Run SEM: 100%|██████████| 2000/2000 [00:21<00:00, 91.72it/s]\n",
      "Run SEM: 100%|██████████| 2000/2000 [00:21<00:00, 91.14it/s]\n",
      "Run SEM: 100%|██████████| 2000/2000 [00:21<00:00, 91.13it/s]\n",
      "Run SEM: 100%|██████████| 2000/2000 [00:22<00:00, 90.69it/s]\n",
      "Run SEM: 100%|██████████| 2000/2000 [00:22<00:00, 90.49it/s]\n",
      "Run SEM: 100%|██████████| 2000/2000 [00:22<00:00, 89.33it/s]\n",
      "Run SEM: 100%|██████████| 2000/2000 [00:21<00:00, 91.40it/s]\n",
      "Run SEM: 100%|██████████| 2000/2000 [00:21<00:00, 91.69it/s]\n",
      "Run SEM: 100%|██████████| 2000/2000 [00:22<00:00, 90.90it/s]\n",
      "Run SEM: 100%|██████████| 2000/2000 [00:21<00:00, 94.04it/s]\n",
      "Run SEM: 100%|██████████| 2000/2000 [00:21<00:00, 93.20it/s]\n",
      "Run SEM: 100%|██████████| 2000/2000 [00:21<00:00, 92.88it/s]\n",
      "Run SEM: 100%|██████████| 2000/2000 [00:21<00:00, 93.01it/s]\n",
      "Run SEM: 100%|██████████| 2000/2000 [00:21<00:00, 92.51it/s]\n",
      "Run SEM: 100%|██████████| 2000/2000 [00:24<00:00, 81.34it/s]\n",
      "Run SEM: 100%|██████████| 2000/2000 [00:26<00:00, 74.44it/s]\n",
      "Run SEM: 100%|██████████| 2000/2000 [00:26<00:00, 76.17it/s]\n",
      "Run SEM: 100%|██████████| 2000/2000 [00:23<00:00, 85.12it/s]\n",
      "Run SEM: 100%|██████████| 2000/2000 [00:23<00:00, 83.54it/s]\n",
      "Run SEM: 100%|██████████| 2000/2000 [00:24<00:00, 82.60it/s]\n",
      "Run SEM: 100%|██████████| 2000/2000 [00:24<00:00, 83.25it/s]\n",
      "Run SEM: 100%|██████████| 2000/2000 [00:24<00:00, 80.89it/s]\n",
      "Run SEM: 100%|██████████| 2000/2000 [00:25<00:00, 79.02it/s]\n",
      "Run SEM: 100%|██████████| 2000/2000 [00:23<00:00, 86.25it/s]\n",
      "Run SEM: 100%|██████████| 2000/2000 [00:22<00:00, 88.69it/s]\n",
      "Run SEM: 100%|██████████| 2000/2000 [00:24<00:00, 80.72it/s]\n",
      "Run SEM: 100%|██████████| 2000/2000 [00:24<00:00, 80.31it/s]\n",
      "Run SEM: 100%|██████████| 2000/2000 [00:26<00:00, 75.25it/s]\n",
      "Run SEM: 100%|██████████| 2000/2000 [00:25<00:00, 77.86it/s]\n",
      "Run SEM: 100%|██████████| 2000/2000 [00:23<00:00, 84.90it/s]\n",
      "Run SEM: 100%|██████████| 2000/2000 [00:24<00:00, 82.14it/s]\n",
      "Run SEM: 100%|██████████| 2000/2000 [00:26<00:00, 76.20it/s]\n",
      "Run SEM: 100%|██████████| 2000/2000 [00:28<00:00, 71.08it/s]\n",
      "Run SEM: 100%|██████████| 2000/2000 [00:23<00:00, 84.18it/s]\n",
      "Run SEM: 100%|██████████| 2000/2000 [00:25<00:00, 78.49it/s]\n",
      "Run SEM: 100%|██████████| 2000/2000 [00:23<00:00, 84.85it/s]\n",
      "Run SEM: 100%|██████████| 2000/2000 [00:23<00:00, 85.02it/s]\n",
      "Run SEM: 100%|██████████| 2000/2000 [00:22<00:00, 88.63it/s]\n",
      "Run SEM: 100%|██████████| 2000/2000 [00:22<00:00, 89.62it/s]\n",
      "Run SEM: 100%|██████████| 2000/2000 [00:22<00:00, 87.47it/s]\n",
      "Run SEM: 100%|██████████| 2000/2000 [00:22<00:00, 88.83it/s]\n",
      "Run SEM: 100%|██████████| 2000/2000 [00:22<00:00, 87.52it/s]\n",
      "Run SEM: 100%|██████████| 2000/2000 [00:22<00:00, 87.54it/s]\n",
      "Run SEM: 100%|██████████| 2000/2000 [00:22<00:00, 87.32it/s]\n",
      "Run SEM: 100%|██████████| 2000/2000 [00:22<00:00, 87.91it/s]\n",
      "Run SEM: 100%|██████████| 2000/2000 [00:22<00:00, 87.27it/s]\n",
      "Run SEM: 100%|██████████| 2000/2000 [00:22<00:00, 88.65it/s]\n",
      "Run SEM: 100%|██████████| 2000/2000 [00:24<00:00, 81.21it/s]\n",
      "Run SEM: 100%|██████████| 2000/2000 [00:23<00:00, 85.55it/s]\n",
      "Run SEM: 100%|██████████| 2000/2000 [00:22<00:00, 87.24it/s]\n",
      "Run SEM: 100%|██████████| 2000/2000 [00:23<00:00, 84.30it/s]\n",
      "Run SEM: 100%|██████████| 2000/2000 [00:23<00:00, 85.91it/s]\n",
      "Run SEM: 100%|██████████| 2000/2000 [00:22<00:00, 87.89it/s]\n",
      "Run SEM: 100%|██████████| 2000/2000 [00:23<00:00, 85.99it/s]\n",
      "Run SEM: 100%|██████████| 2000/2000 [00:22<00:00, 87.71it/s]\n",
      "Run SEM: 100%|██████████| 2000/2000 [00:23<00:00, 86.66it/s]\n",
      "Run SEM: 100%|██████████| 2000/2000 [00:23<00:00, 86.53it/s]\n",
      "Run SEM: 100%|██████████| 2000/2000 [00:23<00:00, 85.89it/s]\n",
      "Run SEM: 100%|██████████| 2000/2000 [00:23<00:00, 86.53it/s]\n",
      "Run SEM: 100%|██████████| 2000/2000 [00:22<00:00, 89.60it/s]\n",
      "Run SEM: 100%|██████████| 2000/2000 [00:22<00:00, 87.85it/s]\n",
      "Run SEM: 100%|██████████| 2000/2000 [00:22<00:00, 88.79it/s]\n",
      "Run SEM: 100%|██████████| 2000/2000 [00:22<00:00, 88.41it/s]\n",
      "Run SEM: 100%|██████████| 2000/2000 [00:22<00:00, 87.45it/s]\n",
      "Run SEM: 100%|██████████| 2000/2000 [00:22<00:00, 88.36it/s]\n",
      "Run SEM: 100%|██████████| 2000/2000 [00:23<00:00, 86.65it/s]\n",
      "Run SEM: 100%|██████████| 2000/2000 [00:22<00:00, 88.43it/s]\n",
      "Run SEM: 100%|██████████| 2000/2000 [00:22<00:00, 88.57it/s]\n",
      "Run SEM: 100%|██████████| 2000/2000 [00:23<00:00, 85.27it/s]\n",
      "Run SEM: 100%|██████████| 2000/2000 [00:23<00:00, 86.94it/s]\n",
      "Run SEM: 100%|██████████| 2000/2000 [00:22<00:00, 87.84it/s]\n",
      "Run SEM: 100%|██████████| 2000/2000 [00:22<00:00, 88.69it/s]\n",
      "Run SEM: 100%|██████████| 2000/2000 [00:22<00:00, 89.39it/s]\n",
      "Run SEM: 100%|██████████| 2000/2000 [00:22<00:00, 87.12it/s]\n",
      "Run SEM: 100%|██████████| 2000/2000 [00:22<00:00, 89.12it/s]\n",
      "Run SEM: 100%|██████████| 2000/2000 [00:22<00:00, 86.98it/s]\n",
      "Run SEM: 100%|██████████| 2000/2000 [00:22<00:00, 87.52it/s]\n",
      "Run SEM: 100%|██████████| 2000/2000 [00:22<00:00, 87.26it/s]\n",
      "Run SEM: 100%|██████████| 2000/2000 [00:22<00:00, 88.69it/s]\n",
      "Run SEM: 100%|██████████| 2000/2000 [00:22<00:00, 88.99it/s]\n",
      "Run SEM: 100%|██████████| 2000/2000 [00:23<00:00, 86.68it/s]\n",
      "Run SEM: 100%|██████████| 2000/2000 [00:23<00:00, 84.36it/s]\n",
      "Run SEM: 100%|██████████| 2000/2000 [00:23<00:00, 85.14it/s]\n",
      "Run SEM: 100%|██████████| 2000/2000 [00:24<00:00, 81.26it/s]\n",
      "Run SEM: 100%|██████████| 2000/2000 [00:23<00:00, 84.86it/s]\n",
      "Run SEM: 100%|██████████| 2000/2000 [00:23<00:00, 85.30it/s]\n",
      "Run SEM: 100%|██████████| 2000/2000 [00:24<00:00, 83.11it/s]\n",
      "Run SEM: 100%|██████████| 2000/2000 [00:22<00:00, 87.10it/s]\n",
      "Run SEM: 100%|██████████| 2000/2000 [00:23<00:00, 84.80it/s]\n",
      "Run SEM: 100%|██████████| 2000/2000 [00:23<00:00, 86.34it/s]\n",
      "Run SEM: 100%|██████████| 2000/2000 [00:25<00:00, 79.91it/s]\n",
      "Run SEM: 100%|██████████| 2000/2000 [00:27<00:00, 72.20it/s]\n",
      "Run SEM: 100%|██████████| 2000/2000 [00:24<00:00, 80.61it/s]\n",
      "Run SEM: 100%|██████████| 2000/2000 [00:24<00:00, 83.06it/s]\n",
      "Run SEM: 100%|██████████| 2000/2000 [00:23<00:00, 85.37it/s]\n",
      "Run SEM: 100%|██████████| 2000/2000 [00:23<00:00, 84.82it/s]\n",
      "Run SEM: 100%|██████████| 2000/2000 [00:22<00:00, 87.02it/s]\n",
      "Run SEM: 100%|██████████| 2000/2000 [00:24<00:00, 82.86it/s]\n",
      "Run SEM: 100%|██████████| 2000/2000 [00:24<00:00, 80.82it/s]\n",
      "Run SEM: 100%|██████████| 2000/2000 [00:24<00:00, 81.06it/s]\n",
      "Run SEM: 100%|██████████| 2000/2000 [00:24<00:00, 80.64it/s]\n",
      "Run SEM: 100%|██████████| 2000/2000 [00:24<00:00, 81.43it/s]\n",
      "Run SEM: 100%|██████████| 2000/2000 [00:32<00:00, 61.17it/s]\n",
      "Run SEM: 100%|██████████| 2000/2000 [00:24<00:00, 80.50it/s]\n",
      "Run SEM: 100%|██████████| 2000/2000 [00:24<00:00, 82.87it/s]\n",
      "Run SEM: 100%|██████████| 2000/2000 [00:23<00:00, 83.43it/s]\n",
      "Run SEM: 100%|██████████| 2000/2000 [00:23<00:00, 85.64it/s]\n",
      "Run SEM: 100%|██████████| 2000/2000 [00:22<00:00, 90.08it/s]\n",
      "Run SEM: 100%|██████████| 2000/2000 [00:22<00:00, 88.10it/s]\n",
      "Run SEM: 100%|██████████| 2000/2000 [00:22<00:00, 88.41it/s]\n",
      "Run SEM: 100%|██████████| 2000/2000 [00:24<00:00, 81.38it/s]\n",
      "Run SEM: 100%|██████████| 2000/2000 [00:23<00:00, 84.30it/s]\n",
      "Run SEM: 100%|██████████| 2000/2000 [00:23<00:00, 84.87it/s]\n",
      "Run SEM: 100%|██████████| 2000/2000 [00:23<00:00, 86.71it/s]\n",
      "Run SEM: 100%|██████████| 2000/2000 [00:23<00:00, 85.07it/s]\n",
      "Run SEM: 100%|██████████| 2000/2000 [00:24<00:00, 82.76it/s]\n",
      "Run SEM: 100%|██████████| 2000/2000 [00:23<00:00, 85.07it/s]\n",
      "Run SEM: 100%|██████████| 2000/2000 [00:23<00:00, 83.76it/s]\n",
      "Run SEM: 100%|██████████| 2000/2000 [00:25<00:00, 78.17it/s]\n",
      "Run SEM: 100%|██████████| 2000/2000 [00:25<00:00, 78.12it/s]\n",
      "Run SEM: 100%|██████████| 2000/2000 [00:23<00:00, 84.55it/s]\n",
      "Run SEM: 100%|██████████| 2000/2000 [00:22<00:00, 88.64it/s]\n",
      "Run SEM: 100%|██████████| 2000/2000 [00:23<00:00, 86.25it/s]\n",
      "Run SEM: 100%|██████████| 2000/2000 [00:23<00:00, 83.53it/s]\n",
      "Run SEM: 100%|██████████| 2000/2000 [00:25<00:00, 79.49it/s]\n",
      "Run SEM: 100%|██████████| 2000/2000 [00:23<00:00, 83.59it/s]\n",
      "Run SEM: 100%|██████████| 2000/2000 [00:24<00:00, 82.63it/s]\n",
      "Run SEM: 100%|██████████| 2000/2000 [00:24<00:00, 81.63it/s]\n",
      "Run SEM: 100%|██████████| 2000/2000 [00:24<00:00, 80.53it/s]\n",
      "Run SEM: 100%|██████████| 2000/2000 [00:25<00:00, 79.32it/s]\n",
      "Run SEM: 100%|██████████| 2000/2000 [00:23<00:00, 85.42it/s]\n",
      "Run SEM: 100%|██████████| 2000/2000 [00:24<00:00, 82.83it/s]\n",
      "Run SEM: 100%|██████████| 2000/2000 [00:27<00:00, 73.60it/s]\n",
      "Run SEM: 100%|██████████| 2000/2000 [00:24<00:00, 82.72it/s]\n",
      "Run SEM: 100%|██████████| 2000/2000 [00:24<00:00, 82.64it/s]\n",
      "Run SEM: 100%|██████████| 2000/2000 [00:27<00:00, 72.06it/s]\n",
      "Run SEM: 100%|██████████| 2000/2000 [00:25<00:00, 77.27it/s]\n",
      "Run SEM: 100%|██████████| 2000/2000 [00:25<00:00, 79.83it/s]\n",
      "Run SEM: 100%|██████████| 2000/2000 [00:25<00:00, 79.11it/s]\n",
      "Run SEM: 100%|██████████| 2000/2000 [00:27<00:00, 72.80it/s]\n",
      "Run SEM: 100%|██████████| 2000/2000 [00:25<00:00, 78.35it/s]\n",
      "Run SEM: 100%|██████████| 2000/2000 [00:24<00:00, 81.26it/s]\n",
      "Run SEM: 100%|██████████| 2000/2000 [00:24<00:00, 80.24it/s]\n",
      "Run SEM: 100%|██████████| 2000/2000 [00:23<00:00, 83.35it/s]\n",
      "Run SEM: 100%|██████████| 2000/2000 [00:24<00:00, 82.56it/s]\n",
      "Run SEM: 100%|██████████| 2000/2000 [00:23<00:00, 84.56it/s]\n",
      "Run SEM: 100%|██████████| 2000/2000 [00:24<00:00, 82.38it/s]\n",
      "Run SEM: 100%|██████████| 2000/2000 [00:23<00:00, 86.49it/s]\n",
      "Run SEM: 100%|██████████| 2000/2000 [00:26<00:00, 75.37it/s]\n",
      "Run SEM: 100%|██████████| 2000/2000 [00:24<00:00, 80.66it/s]\n",
      "Run SEM: 100%|██████████| 2000/2000 [00:24<00:00, 82.61it/s]\n",
      "Run SEM: 100%|██████████| 2000/2000 [00:24<00:00, 83.27it/s]\n",
      "Run SEM: 100%|██████████| 2000/2000 [00:25<00:00, 78.37it/s]\n",
      "Run SEM: 100%|██████████| 2000/2000 [00:25<00:00, 78.13it/s]\n",
      "Run SEM: 100%|██████████| 2000/2000 [00:23<00:00, 83.50it/s]\n",
      "Run SEM: 100%|██████████| 2000/2000 [00:23<00:00, 83.57it/s]\n",
      "Run SEM: 100%|██████████| 2000/2000 [00:24<00:00, 81.70it/s]\n",
      "Run SEM: 100%|██████████| 2000/2000 [00:24<00:00, 81.65it/s]\n",
      "Run SEM: 100%|██████████| 2000/2000 [00:22<00:00, 87.02it/s]\n",
      "Run SEM: 100%|██████████| 2000/2000 [00:23<00:00, 84.68it/s]\n",
      "Run SEM: 100%|██████████| 2000/2000 [00:24<00:00, 80.10it/s]\n",
      "Run SEM: 100%|██████████| 2000/2000 [00:24<00:00, 82.40it/s]\n",
      "Run SEM: 100%|██████████| 2000/2000 [00:24<00:00, 80.81it/s]\n",
      "Run SEM: 100%|██████████| 2000/2000 [00:24<00:00, 80.48it/s]\n",
      "Run SEM: 100%|██████████| 2000/2000 [00:24<00:00, 80.65it/s]\n",
      "Run SEM: 100%|██████████| 2000/2000 [00:25<00:00, 77.37it/s]\n",
      "Run SEM: 100%|██████████| 2000/2000 [00:26<00:00, 76.32it/s]\n",
      "Run SEM: 100%|██████████| 2000/2000 [00:24<00:00, 80.96it/s]\n",
      "Run SEM: 100%|██████████| 2000/2000 [00:25<00:00, 79.65it/s]\n",
      "Run SEM: 100%|██████████| 2000/2000 [00:24<00:00, 82.80it/s]\n",
      "Run SEM: 100%|██████████| 2000/2000 [00:23<00:00, 84.03it/s]\n",
      "Run SEM: 100%|██████████| 2000/2000 [00:24<00:00, 82.12it/s]\n",
      "Run SEM: 100%|██████████| 2000/2000 [00:23<00:00, 85.45it/s]\n",
      "Run SEM: 100%|██████████| 2000/2000 [00:26<00:00, 76.90it/s]\n",
      "Run SEM: 100%|██████████| 2000/2000 [00:26<00:00, 75.03it/s]\n",
      "Run SEM: 100%|██████████| 2000/2000 [00:27<00:00, 73.72it/s]\n",
      "Run SEM: 100%|██████████| 2000/2000 [00:27<00:00, 73.91it/s]\n",
      "Run SEM: 100%|██████████| 2000/2000 [00:26<00:00, 74.11it/s]\n",
      "Run SEM: 100%|██████████| 2000/2000 [00:26<00:00, 74.83it/s]\n",
      "Run SEM: 100%|██████████| 2000/2000 [00:27<00:00, 72.74it/s]\n",
      "Run SEM: 100%|██████████| 2000/2000 [00:26<00:00, 76.69it/s]\n",
      "Run SEM: 100%|██████████| 2000/2000 [00:23<00:00, 83.78it/s]\n",
      "Run SEM: 100%|██████████| 2000/2000 [00:23<00:00, 86.46it/s]\n",
      "Run SEM: 100%|██████████| 2000/2000 [00:24<00:00, 82.60it/s]\n",
      "Run SEM: 100%|██████████| 2000/2000 [00:23<00:00, 84.92it/s]\n",
      "Run SEM: 100%|██████████| 2000/2000 [00:23<00:00, 86.60it/s]\n",
      "Run SEM: 100%|██████████| 2000/2000 [00:24<00:00, 80.73it/s]\n",
      "Run SEM: 100%|██████████| 2000/2000 [00:25<00:00, 79.40it/s]\n",
      "Run SEM: 100%|██████████| 2000/2000 [00:26<00:00, 74.26it/s]\n",
      "Run SEM: 100%|██████████| 2000/2000 [00:24<00:00, 81.38it/s]\n",
      "Run SEM: 100%|██████████| 2000/2000 [00:22<00:00, 87.52it/s]\n",
      "Run SEM: 100%|██████████| 2000/2000 [00:21<00:00, 91.37it/s]\n",
      "Run SEM: 100%|██████████| 2000/2000 [00:26<00:00, 75.93it/s]\n",
      "Run SEM: 100%|██████████| 2000/2000 [00:24<00:00, 80.63it/s]\n",
      "Run SEM: 100%|██████████| 2000/2000 [00:26<00:00, 74.64it/s]\n",
      "Run SEM: 100%|██████████| 2000/2000 [00:24<00:00, 82.91it/s]\n",
      "Run SEM: 100%|██████████| 2000/2000 [00:23<00:00, 85.52it/s]\n",
      "Run SEM: 100%|██████████| 2000/2000 [00:26<00:00, 76.19it/s]\n",
      "Run SEM: 100%|██████████| 2000/2000 [00:24<00:00, 81.01it/s]\n",
      "Run SEM: 100%|██████████| 2000/2000 [00:25<00:00, 79.01it/s]\n",
      "Run SEM: 100%|██████████| 2000/2000 [00:27<00:00, 72.34it/s]\n",
      "Run SEM: 100%|██████████| 2000/2000 [00:33<00:00, 59.48it/s]\n",
      "Run SEM: 100%|██████████| 2000/2000 [00:25<00:00, 77.55it/s]\n",
      "Run SEM: 100%|██████████| 2000/2000 [00:26<00:00, 74.32it/s]\n",
      "Run SEM: 100%|██████████| 2000/2000 [00:23<00:00, 85.41it/s]\n",
      "Run SEM: 100%|██████████| 2000/2000 [00:27<00:00, 73.62it/s]\n",
      "Run SEM: 100%|██████████| 2000/2000 [00:29<00:00, 68.19it/s]\n",
      "Run SEM: 100%|██████████| 2000/2000 [00:26<00:00, 76.02it/s]\n",
      "Run SEM: 100%|██████████| 2000/2000 [00:25<00:00, 78.48it/s]\n",
      "Run SEM: 100%|██████████| 2000/2000 [00:29<00:00, 66.74it/s]\n",
      "Run SEM: 100%|██████████| 2000/2000 [00:29<00:00, 67.87it/s]\n"
     ]
    },
    {
     "name": "stdout",
     "output_type": "stream",
     "text": [
      "\n"
     ]
    }
   ],
   "source": [
    "from tqdm import tnrange\n",
    "n_batch = 250\n",
    "res = []\n",
    "for ii in tnrange(n_batch):\n",
    "    res.append(batch_experiment())\n",
    "res = pd.DataFrame(res)"
   ]
  },
  {
   "cell_type": "code",
   "execution_count": 5,
   "metadata": {},
   "outputs": [
    {
     "data": {
      "text/plain": [
       "Community Transitions (All Other Trials)        0.217656\n",
       "Community Transitions (Hamilton)                0.228951\n",
       "Other Parse (All Other Trials)                  0.190051\n",
       "Other Parse (Hamilton)                          0.206153\n",
       "PE Community Transitions (All Other Trials)    17.922180\n",
       "PE Community Transitions (Hamilton)            19.638469\n",
       "PE Other Parse (All Other Trials)              20.076024\n",
       "PE Other Parse (Hamilton)                      20.050943\n",
       "r                                              -0.444939\n",
       "dtype: float64"
      ]
     },
     "execution_count": 5,
     "metadata": {},
     "output_type": "execute_result"
    }
   ],
   "source": [
    "res.mean()"
   ]
  },
  {
   "cell_type": "code",
   "execution_count": 6,
   "metadata": {},
   "outputs": [
    {
     "data": {
      "text/plain": [
       "Community Transitions (All Other Trials)       0.026834\n",
       "Community Transitions (Hamilton)               0.030575\n",
       "Other Parse (All Other Trials)                 0.009477\n",
       "Other Parse (Hamilton)                         0.011814\n",
       "PE Community Transitions (All Other Trials)    0.633131\n",
       "PE Community Transitions (Hamilton)            0.637052\n",
       "PE Other Parse (All Other Trials)              0.351863\n",
       "PE Other Parse (Hamilton)                      0.426407\n",
       "r                                              0.026791\n",
       "dtype: float64"
      ]
     },
     "execution_count": 6,
     "metadata": {},
     "output_type": "execute_result"
    }
   ],
   "source": [
    "res.std() / np.sqrt(25)"
   ]
  },
  {
   "cell_type": "code",
   "execution_count": 7,
   "metadata": {},
   "outputs": [
    {
     "name": "stderr",
     "output_type": "stream",
     "text": [
      "/anaconda3/envs/sem/lib/python2.7/site-packages/scipy/stats/stats.py:1713: FutureWarning: Using a non-tuple sequence for multidimensional indexing is deprecated; use `arr[tuple(seq)]` instead of `arr[seq]`. In the future this will be interpreted as an array index, `arr[np.array(seq)]`, which will result either in an error or a different result.\n",
      "  return np.add.reduce(sorted[indexer] * weights, axis=axis) / sumval\n"
     ]
    },
    {
     "data": {
      "image/png": "[encoded data removed]",
      "text/plain": [
       "<Figure size 308.175x216 with 1 Axes>"
      ]
     },
     "metadata": {},
     "output_type": "display_data"
    }
   ],
   "source": [
    "sns.set_context('paper')\n",
    "columns = ['Community Transitions (Hamilton)','Other Parse (Hamilton)',\n",
    "           'Community Transitions (All Other Trials)','Other Parse (All Other Trials)']\n",
    "                                                  \n",
    "results = pd.melt(res[columns], var_name='group', value_name='Probability of Parse')\n",
    "all_trials = [s.find('All Other Trials') > -1 for s in results.group.values]\n",
    "community_tranistion = [s.find('Community') > -1 for s in results.group.values]\n",
    "results['Transition'] = ['Other Parse'] * len(results)\n",
    "results.loc[community_tranistion, 'Transition'] = 'Community\\ntransition parse'\n",
    "\n",
    "results['Trials'] = ['Hamiltonian paths'] * len(results)\n",
    "results.loc[all_trials, 'Trials'] = 'All Others'\n",
    "sns.factorplot(data=results, y='Probability of Parse', x='Trials', hue='Transition', kind='bar', \n",
    "               palette=[[0.5, 0.5, 0.5], [0.75, 0.75, 0.75]], size=3)\n",
    "\n",
    "plt.savefig('Shapiro250.png', dpi=300, bbox_inches='tight')"
   ]
  },
  {
   "cell_type": "code",
   "execution_count": 8,
   "metadata": {},
   "outputs": [
    {
     "data": {
      "text/plain": [
       "Ttest_indResult(statistic=2.199493901916341, pvalue=0.0285538174847983)"
      ]
     },
     "execution_count": 8,
     "metadata": {},
     "output_type": "execute_result"
    }
   ],
   "source": [
    "from scipy.stats import ttest_ind\n",
    "ttest_ind(res['Community Transitions (Hamilton)'], res['Other Parse (Hamilton)'], equal_var=False)"
   ]
  },
  {
   "cell_type": "code",
   "execution_count": 9,
   "metadata": {},
   "outputs": [
    {
     "data": {
      "text/plain": [
       "Ttest_indResult(statistic=3.067452695556412, pvalue=0.0023492087271380774)"
      ]
     },
     "execution_count": 9,
     "metadata": {},
     "output_type": "execute_result"
    }
   ],
   "source": [
    "ttest_ind(res['Community Transitions (All Other Trials)'], res['Other Parse (All Other Trials)'], equal_var=False)"
   ]
  },
  {
   "cell_type": "code",
   "execution_count": 62,
   "metadata": {},
   "outputs": [
    {
     "data": {
      "image/png": "[encoded data removed]",
      "text/plain": [
       "<Figure size 291.55x216 with 1 Axes>"
      ]
     },
     "metadata": {},
     "output_type": "display_data"
    }
   ],
   "source": [
    "sns.set_context('paper')\n",
    "columns = ['PE Community Transitions (Hamilton)',\n",
    "           'PE Other Parse (Hamilton)',\n",
    "           'PE Community Transitions (All Other Trials)',\n",
    "           'PE Other Parse (All Other Trials)']\n",
    "                                                  \n",
    "results = pd.melt(res[columns], var_name='group', value_name='Probability of Parse')\n",
    "all_trials = [s.find('All Other Trials') > -1 for s in results.group.values]\n",
    "community_tranistion = [s.find('Community') > -1 for s in results.group.values]\n",
    "results['Transition'] = ['Other'] * len(results)\n",
    "results.loc[community_tranistion, 'Transition'] = 'Community\\ntransition'\n",
    "\n",
    "def exp_logsumexp_mean(x):\n",
    "    return np.exp(logsumexp_mean(x))\n",
    "\n",
    "\n",
    "results['Trials'] = ['Hamiltonian paths'] * len(results)\n",
    "results.loc[all_trials, 'Trials'] = 'All Others'\n",
    "sns.factorplot(data=results, y='Probability of Parse', x='Trials', hue='Transition', kind='bar', \n",
    "               palette=[[0.5, 0.5, 0.5], [0.75, 0.75, 0.75]], size=3, estimator=np.mean)\n",
    "plt.ylabel('Log Posterior Predictive Density')\n",
    "plt.savefig('Shapiro_pe.png', dpi=300, bbox_inches='tight')"
   ]
  },
  {
   "cell_type": "code",
   "execution_count": 63,
   "metadata": {},
   "outputs": [
    {
     "data": {
      "text/plain": [
       "Ttest_indResult(statistic=-1.7015086633108654, pvalue=0.0895623753593561)"
      ]
     },
     "execution_count": 63,
     "metadata": {},
     "output_type": "execute_result"
    }
   ],
   "source": [
    "ttest_ind(res['PE Community Transitions (Hamilton)'],\n",
    "          res['PE Other Parse (Hamilton)'], equal_var=False)"
   ]
  },
  {
   "cell_type": "code",
   "execution_count": 64,
   "metadata": {},
   "outputs": [
    {
     "data": {
      "text/plain": [
       "RanksumsResult(statistic=-1.2913562104529677, pvalue=0.19658018754647977)"
      ]
     },
     "execution_count": 64,
     "metadata": {},
     "output_type": "execute_result"
    }
   ],
   "source": [
    "from scipy.stats import ranksums\n",
    "ranksums(res['PE Community Transitions (Hamilton)'],\n",
    "          res['PE Other Parse (Hamilton)'])"
   ]
  },
  {
   "cell_type": "code",
   "execution_count": 65,
   "metadata": {},
   "outputs": [
    {
     "data": {
      "text/plain": [
       "Ttest_indResult(statistic=-9.4031650872153, pvalue=4.628118465310014e-19)"
      ]
     },
     "execution_count": 65,
     "metadata": {},
     "output_type": "execute_result"
    }
   ],
   "source": [
    "ttest_ind(res['PE Community Transitions (All Other Trials)'],\n",
    "          res['PE Other Parse (All Other Trials)'], equal_var=False)"
   ]
  },
  {
   "cell_type": "code",
   "execution_count": 66,
   "metadata": {},
   "outputs": [
    {
     "data": {
      "text/plain": [
       "RanksumsResult(statistic=-8.620390810430285, pvalue=6.672598421574155e-18)"
      ]
     },
     "execution_count": 66,
     "metadata": {},
     "output_type": "execute_result"
    }
   ],
   "source": [
    "ranksums(res['PE Community Transitions (All Other Trials)'],\n",
    "          res['PE Other Parse (All Other Trials)'])"
   ]
  },
  {
   "cell_type": "code",
   "execution_count": 55,
   "metadata": {},
   "outputs": [
    {
     "name": "stderr",
     "output_type": "stream",
     "text": [
      "/anaconda3/envs/sem/lib/python2.7/site-packages/matplotlib/axes/_axes.py:6462: UserWarning: The 'normed' kwarg is deprecated, and has been replaced by the 'density' kwarg.\n",
      "  warnings.warn(\"The 'normed' kwarg is deprecated, and has been \"\n"
     ]
    },
    {
     "name": "stdout",
     "output_type": "stream",
     "text": [
      "-0.4449393968927544\n",
      "Ttest_1sampResult(statistic=-52.51855575330427, pvalue=1.0414795819628994e-136)\n"
     ]
    },
    {
     "data": {
      "image/png": "[encoded data removed]",
      "text/plain": [
       "<Figure size 216x216 with 1 Axes>"
      ]
     },
     "metadata": {},
     "output_type": "display_data"
    }
   ],
   "source": [
    "from scipy.stats import ttest_1samp\n",
    "\n",
    "plt.figure(figsize=(3, 3))\n",
    "sns.distplot(res['r'],  norm_hist=True, vertical=False)\n",
    "print np.mean(res['r'])\n",
    "print ttest_1samp(res['r'], 0)\n",
    "plt.plot([0, 0], [0, 3], c='r', ls=':')\n",
    "sns.despine()\n",
    "plt.xlabel('Correlation Coefficient (r)')\n",
    "plt.ylabel('Density')\n",
    "\n",
    "plt.savefig('Schapiro_r.png', dpi=300, bbox_inches='tight')"
   ]
  },
  {
   "cell_type": "code",
   "execution_count": 44,
   "metadata": {},
   "outputs": [
    {
     "name": "stdout",
     "output_type": "stream",
     "text": [
      "Help on function distplot in module seaborn.distributions:\n",
      "\n",
      "distplot(a, bins=None, hist=True, kde=True, rug=False, fit=None, hist_kws=None, kde_kws=None, rug_kws=None, fit_kws=None, color=None, vertical=False, norm_hist=False, axlabel=None, label=None, ax=None)\n",
      "    Flexibly plot a univariate distribution of observations.\n",
      "    \n",
      "    This function combines the matplotlib ``hist`` function (with automatic\n",
      "    calculation of a good default bin size) with the seaborn :func:`kdeplot`\n",
      "    and :func:`rugplot` functions. It can also fit ``scipy.stats``\n",
      "    distributions and plot the estimated PDF over the data.\n",
      "    \n",
      "    Parameters\n",
      "    ----------\n",
      "    \n",
      "    a : Series, 1d-array, or list.\n",
      "        Observed data. If this is a Series object with a ``name`` attribute,\n",
      "        the name will be used to label the data axis.\n",
      "    bins : argument for matplotlib hist(), or None, optional\n",
      "        Specification of hist bins, or None to use Freedman-Diaconis rule.\n",
      "    hist : bool, optional\n",
      "        Whether to plot a (normed) histogram.\n",
      "    kde : bool, optional\n",
      "        Whether to plot a gaussian kernel density estimate.\n",
      "    rug : bool, optional\n",
      "        Whether to draw a rugplot on the support axis.\n",
      "    fit : random variable object, optional\n",
      "        An object with `fit` method, returning a tuple that can be passed to a\n",
      "        `pdf` method a positional arguments following an grid of values to\n",
      "        evaluate the pdf on.\n",
      "    {hist, kde, rug, fit}_kws : dictionaries, optional\n",
      "        Keyword arguments for underlying plotting functions.\n",
      "    color : matplotlib color, optional\n",
      "        Color to plot everything but the fitted curve in.\n",
      "    vertical : bool, optional\n",
      "        If True, oberved values are on y-axis.\n",
      "    norm_hist : bool, optional\n",
      "        If True, the histogram height shows a density rather than a count.\n",
      "        This is implied if a KDE or fitted density is plotted.\n",
      "    axlabel : string, False, or None, optional\n",
      "        Name for the support axis label. If None, will try to get it\n",
      "        from a.namel if False, do not set a label.\n",
      "    label : string, optional\n",
      "        Legend label for the relevent component of the plot\n",
      "    ax : matplotlib axis, optional\n",
      "        if provided, plot on this axis\n",
      "    \n",
      "    Returns\n",
      "    -------\n",
      "    ax : matplotlib Axes\n",
      "        Returns the Axes object with the plot for further tweaking.\n",
      "    \n",
      "    See Also\n",
      "    --------\n",
      "    kdeplot : Show a univariate or bivariate distribution with a kernel\n",
      "              density estimate.\n",
      "    rugplot : Draw small vertical lines to show each observation in a\n",
      "              distribution.\n",
      "    \n",
      "    Examples\n",
      "    --------\n",
      "    \n",
      "    Show a default plot with a kernel density estimate and histogram with bin\n",
      "    size determined automatically with a reference rule:\n",
      "    \n",
      "    .. plot::\n",
      "        :context: close-figs\n",
      "    \n",
      "        >>> import seaborn as sns, numpy as np\n",
      "        >>> sns.set(); np.random.seed(0)\n",
      "        >>> x = np.random.randn(100)\n",
      "        >>> ax = sns.distplot(x)\n",
      "    \n",
      "    Use Pandas objects to get an informative axis label:\n",
      "    \n",
      "    .. plot::\n",
      "        :context: close-figs\n",
      "    \n",
      "        >>> import pandas as pd\n",
      "        >>> x = pd.Series(x, name=\"x variable\")\n",
      "        >>> ax = sns.distplot(x)\n",
      "    \n",
      "    Plot the distribution with a kenel density estimate and rug plot:\n",
      "    \n",
      "    .. plot::\n",
      "        :context: close-figs\n",
      "    \n",
      "        >>> ax = sns.distplot(x, rug=True, hist=False)\n",
      "    \n",
      "    Plot the distribution with a histogram and maximum likelihood gaussian\n",
      "    distribution fit:\n",
      "    \n",
      "    .. plot::\n",
      "        :context: close-figs\n",
      "    \n",
      "        >>> from scipy.stats import norm\n",
      "        >>> ax = sns.distplot(x, fit=norm, kde=False)\n",
      "    \n",
      "    Plot the distribution on the vertical axis:\n",
      "    \n",
      "    .. plot::\n",
      "        :context: close-figs\n",
      "    \n",
      "        >>> ax = sns.distplot(x, vertical=True)\n",
      "    \n",
      "    Change the color of all the plot elements:\n",
      "    \n",
      "    .. plot::\n",
      "        :context: close-figs\n",
      "    \n",
      "        >>> sns.set_color_codes()\n",
      "        >>> ax = sns.distplot(x, color=\"y\")\n",
      "    \n",
      "    Pass specific parameters to the underlying plot functions:\n",
      "    \n",
      "    .. plot::\n",
      "        :context: close-figs\n",
      "    \n",
      "        >>> ax = sns.distplot(x, rug=True, rug_kws={\"color\": \"g\"},\n",
      "        ...                   kde_kws={\"color\": \"k\", \"lw\": 3, \"label\": \"KDE\"},\n",
      "        ...                   hist_kws={\"histtype\": \"step\", \"linewidth\": 3,\n",
      "        ...                             \"alpha\": 1, \"color\": \"g\"})\n",
      "\n"
     ]
    }
   ],
   "source": [
    "help(sns.distplot)"
   ]
  },
  {
   "cell_type": "code",
   "execution_count": null,
   "metadata": {},
   "outputs": [],
   "source": [
    "sns.set_context('paper')\n",
    "columns = ['Community Transitions (Hamilton)','Other Parse (Hamilton)',\n",
    "           'Community Transitions (All Other Trials)','Other Parse (All Other Trials)']\n",
    "                                                  \n",
    "results = pd.melt(res[columns], var_name='group', value_name='Probability of Parse')\n",
    "all_trials = [s.find('All Other Trials') > -1 for s in results.group.values]\n",
    "community_tranistion = [s.find('Community') > -1 for s in results.group.values]\n",
    "results['Transition'] = ['Other Parse'] * len(results)\n",
    "results.loc[community_tranistion, 'Transition'] = 'Community\\ntransition parse'\n",
    "\n",
    "results['Trials'] = ['Hamiltonian paths'] * len(results)\n",
    "results.loc[all_trials, 'Trials'] = 'All Others'\n",
    "sns.factorplot(data=results, y='Probability of Parse', x='Trials', hue='Transition', kind='bar', \n",
    "               palette=[[0.5, 0.5, 0.5], [0.75, 0.75, 0.75]], size=3)\n",
    "\n",
    "# plt.savefig('Shapiro250.png', dpi=300, bbox_inches='tight')"
   ]
  },
  {
   "cell_type": "code",
   "execution_count": 26,
   "metadata": {},
   "outputs": [
    {
     "data": {
      "text/plain": [
       "17.922179600072326"
      ]
     },
     "execution_count": 26,
     "metadata": {},
     "output_type": "execute_result"
    }
   ],
   "source": [
    "res['PE Community Transitions (All Other Trials)'].mean()"
   ]
  },
  {
   "cell_type": "code",
   "execution_count": 25,
   "metadata": {},
   "outputs": [
    {
     "data": {
      "text/plain": [
       "20.076023506877892"
      ]
     },
     "execution_count": 25,
     "metadata": {},
     "output_type": "execute_result"
    }
   ],
   "source": [
    " res['PE Other Parse (All Other Trials)'].mean()"
   ]
  },
  {
   "cell_type": "code",
   "execution_count": 27,
   "metadata": {},
   "outputs": [
    {
     "data": {
      "text/plain": [
       "19.638468525150156"
      ]
     },
     "execution_count": 27,
     "metadata": {},
     "output_type": "execute_result"
    }
   ],
   "source": [
    "res['PE Community Transitions (Hamilton)'].mean()"
   ]
  },
  {
   "cell_type": "code",
   "execution_count": 28,
   "metadata": {},
   "outputs": [
    {
     "data": {
      "text/plain": [
       "20.05094260153944"
      ]
     },
     "execution_count": 28,
     "metadata": {},
     "output_type": "execute_result"
    }
   ],
   "source": [
    " res['PE Other Parse (Hamilton)'].mean()"
   ]
  },
  {
   "cell_type": "code",
   "execution_count": null,
   "metadata": {},
   "outputs": [],
   "source": []
  }
 ],
 "metadata": {
  "kernelspec": {
   "display_name": "Python 2",
   "language": "python",
   "name": "python2"
  },
  "language_info": {
   "codemirror_mode": {
    "name": "ipython",
    "version": 2
   },
   "file_extension": ".py",
   "mimetype": "text/x-python",
   "name": "python",
   "nbconvert_exporter": "python",
   "pygments_lexer": "ipython2",
   "version": "2.7.15"
  }
 },
 "nbformat": 4,
 "nbformat_minor": 2
}
