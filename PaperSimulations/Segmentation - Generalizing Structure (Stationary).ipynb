{
 "cells": [
  {
   "cell_type": "code",
   "execution_count": null,
   "metadata": {},
   "outputs": [],
   "source": [
    "## comment out if running in colab\n",
    "\n",
    "import os\n",
    "os.chdir('../')\n",
    "\n",
    "# ## if useing Google colab, uncomment the following code\n",
    "\n",
    "# !git clone https://github.com/nicktfranklin/SEM.git\n",
    "# import os\n",
    "# os.chdir('./SEM/')\n",
    "\n",
    "# !pip install tensorflow==1.9\n",
    "# !pip install keras==2.2"
   ]
  },
  {
   "cell_type": "code",
   "execution_count": 1,
   "metadata": {},
   "outputs": [
    {
     "name": "stderr",
     "output_type": "stream",
     "text": [
      "Using TensorFlow backend.\n"
     ]
    },
    {
     "name": "stdout",
     "output_type": "stream",
     "text": [
      "TensorFlow Version: 1.9.0\n",
      "Keras      Version: 2.2.0\n",
      "TensorFlow Check Passed\n"
     ]
    }
   ],
   "source": [
    "%matplotlib inline\n",
    "import numpy as np\n",
    "import matplotlib.pyplot as plt\n",
    "import pandas as pd\n",
    "import seaborn as sns\n",
    "from models import *\n",
    "from opt import encode\n",
    "from tqdm import tnrange\n",
    "\n",
    "sns.set_context('paper', font_scale=1.5)"
   ]
  },
  {
   "cell_type": "code",
   "execution_count": 2,
   "metadata": {},
   "outputs": [
    {
     "name": "stdout",
     "output_type": "stream",
     "text": [
      "266\n"
     ]
    }
   ],
   "source": [
    "np.random.seed(0)\n",
    "\n",
    "# figure out how many dimensions we need using plates formula\n",
    "n = 18   # number of atomic values in the language\n",
    "k = 6;      # maximum number of terms to be combined\n",
    "err = 0.02; # error probability\n",
    "\n",
    "from opt import plate_formula, embed, encode, decode, embed_onehot\n",
    "d = plate_formula(n, k, err)\n",
    "print d\n",
    "\n",
    "def embed(d):\n",
    "    return np.random.randn(1, d) / np.sqrt(d)\n",
    "\n",
    "verb_property = embed(d) * 1.00\n",
    "noun_property = embed(d) * 1.00\n",
    "\n",
    "words = {\n",
    "    'Ask': embed(d),\n",
    "    'Answer':  embed(d),\n",
    "    'Chase': embed(d),\n",
    "    'Tom': (embed(d) + noun_property),\n",
    "    'Charan':(embed(d) + noun_property),\n",
    "    'Jill': (embed(d) + noun_property),\n",
    "    'Talia': (embed(d) + noun_property),\n",
    "    'Tony': (embed(d) + noun_property),\n",
    "    'Clarisa': (embed(d) + noun_property),\n",
    "    'Bruce': (embed(d) + noun_property),\n",
    "    'Dick': (embed(d) + noun_property),\n",
    "    'Dog': (embed(d) + noun_property),\n",
    "    'Cat': (embed(d) + noun_property),\n",
    "}\n",
    "\n",
    "roles = {\n",
    "    'Agent': embed(d),\n",
    "    'Patient': embed(d),\n",
    "    'Verb': embed(d)\n",
    "}\n"
   ]
  },
  {
   "cell_type": "code",
   "execution_count": 3,
   "metadata": {},
   "outputs": [
    {
     "name": "stdout",
     "output_type": "stream",
     "text": [
      "['Answer', 'Ask', 'Bruce', 'Cat', 'Charan', 'Chase', 'Clarisa', 'Dick', 'Dog', 'Jill', 'Talia', 'Tom', 'Tony']\n"
     ]
    },
    {
     "data": {
      "text/plain": [
       "<matplotlib.axes._subplots.AxesSubplot at 0x1a411bfbd0>"
      ]
     },
     "execution_count": 3,
     "metadata": {},
     "output_type": "execute_result"
    },
    {
     "data": {
      "image/png": "[encoded data removed]",
      "text/plain": [
       "<Figure size 432x288 with 2 Axes>"
      ]
     },
     "metadata": {
      "needs_background": "light"
     },
     "output_type": "display_data"
    }
   ],
   "source": [
    "from sklearn.metrics.pairwise import cosine_distances, euclidean_distances\n",
    "\n",
    "keys =  words.keys()\n",
    "keys.sort()\n",
    "print keys\n",
    "sns.heatmap(cosine_distances([words[w].reshape(-1) for w in keys]))"
   ]
  },
  {
   "cell_type": "code",
   "execution_count": 4,
   "metadata": {},
   "outputs": [
    {
     "name": "stdout",
     "output_type": "stream",
     "text": [
      "['Answer', 'Ask', 'Bruce', 'Cat', 'Charan', 'Chase', 'Clarisa', 'Dick', 'Dog', 'Jill', 'Talia', 'Tom', 'Tony']\n"
     ]
    },
    {
     "data": {
      "text/plain": [
       "<matplotlib.axes._subplots.AxesSubplot at 0x1a41af0e50>"
      ]
     },
     "execution_count": 4,
     "metadata": {},
     "output_type": "execute_result"
    },
    {
     "data": {
      "image/png": "[encoded data removed]",
      "text/plain": [
       "<Figure size 432x288 with 2 Axes>"
      ]
     },
     "metadata": {
      "needs_background": "light"
     },
     "output_type": "display_data"
    }
   ],
   "source": [
    "keys =  words.keys()\n",
    "keys.sort()\n",
    "print keys\n",
    "sns.heatmap(euclidean_distances([words[w].reshape(-1) for w in keys]))"
   ]
  },
  {
   "cell_type": "code",
   "execution_count": 5,
   "metadata": {},
   "outputs": [],
   "source": [
    "sentences = [\n",
    "    ['Ask', 'Tom', 'Charan'], ['Answer', 'Charan', 'Tom'],\n",
    "#     ['Ask', 'Tom', 'Jill'],  ['Answer', 'Jill', 'Tom'],\n",
    "#     ['Ask', 'Tom', 'Talia'],  ['Answer', 'Talia', 'Tom'],\n",
    "#     ['Ask', 'Tom', 'Tony'],  ['Answer', 'Tony', 'Tom'],\n",
    "#     ['Ask', 'Tom', 'Clarisa'],  ['Answer', 'Clarisa', 'Tom'],\n",
    "\n",
    "#     ['Ask', 'Charan', 'Tom'], ['Answer', 'Tom', 'Charan'],\n",
    "#     ['Ask', 'Charan', 'Jill'],  ['Answer', 'Jill', 'Charan'],\n",
    "#     ['Ask', 'Charan', 'Talia'],  ['Answer', 'Talia', 'Charan'],\n",
    "#     ['Ask', 'Charan', 'Tony'],  ['Answer', 'Tony', 'Charan'],\n",
    "#     ['Ask', 'Charan', 'Clarisa'],  ['Answer', 'Clarisa', 'Charan'],\n",
    "\n",
    "    ['Ask', 'Jill', 'Talia'], ['Answer', 'Talia', 'Jill'],\n",
    "#     ['Ask', 'Jill', 'Tom'], ['Answer', 'Tom', 'Jill'],\n",
    "#     ['Ask', 'Jill', 'Charan'], ['Answer', 'Charan', 'Jill'],\n",
    "#     ['Ask', 'Jill', 'Tony'], ['Answer', 'Tony', 'Jill'],\n",
    "#     ['Ask', 'Jill', 'Clarisa'],  ['Answer', 'Charan', 'Jill'],\n",
    "\n",
    "#     ['Ask', 'Talia', 'Tom'],  ['Answer', 'Tom', 'Talia'],\n",
    "#     ['Ask', 'Talia', 'Jill'], ['Answer', 'Jill', 'Talia'],\n",
    "#     ['Ask', 'Talia', 'Charan'],  ['Answer', 'Charan', 'Talia'],\n",
    "#     ['Ask', 'Talia', 'Tony'],  ['Answer', 'Tony', 'Talia'],\n",
    "#     ['Ask', 'Talia', 'Clarisa'],  ['Answer', 'Clarisa', 'Talia'],\n",
    "\n",
    "#     ['Ask', 'Tony', 'Tom'], ['Answer', 'Tom', 'Tony'],\n",
    "#     ['Ask', 'Tony', 'Jill'], ['Answer', 'Jill', 'Tony'],\n",
    "#     ['Ask', 'Tony', 'Charan'],  ['Answer', 'Charan', 'Tony'],\n",
    "#     ['Ask', 'Tony', 'Talia'],  ['Answer', 'Talia', 'Tony'],\n",
    "    ['Ask', 'Tony', 'Clarisa'],  ['Answer', 'Clarisa', 'Tony'],\n",
    "    \n",
    "#     ['Ask', 'Clarisa', 'Tom'], ['Answer', 'Tom', 'Clarisa'],\n",
    "#     ['Ask', 'Clarisa', 'Jill'], ['Answer', 'Jill', 'Clarisa'],\n",
    "#     ['Ask', 'Clarisa', 'Charan'],  ['Answer', 'Charan', 'Clarisa'],\n",
    "#     ['Ask', 'Clarisa', 'Talia'],  ['Answer', 'Talia', 'Clarisa'],\n",
    "#     ['Ask', 'Clarisa', 'Tony'],  ['Answer', 'Tony', 'Clarisa'],\n",
    "]\n",
    "\n",
    "x_train = []\n",
    "for s in sentences:\n",
    "    x_train.append(\n",
    "        encode(words[s[0]], roles['Verb']) \n",
    "            + encode(words[s[1]], roles['Agent']) \n",
    "            + encode(words[s[2]], roles['Patient'])\n",
    "    )\n",
    "    \n",
    "test_a = [\n",
    "    encode(words['Ask'], roles['Verb']) \n",
    "        + encode(words['Tom'], roles['Agent']) \n",
    "        + encode(words['Charan'], roles['Patient']),\n",
    "    encode(words['Answer'], roles['Verb']) \n",
    "        + encode(words['Charan'], roles['Agent']) \n",
    "        + encode(words['Tom'], roles['Patient']),\n",
    "]\n",
    "\n",
    "\n",
    "test_b = [\n",
    "    encode(words['Ask'], roles['Verb']) \n",
    "        + encode(words['Bruce'], roles['Agent']) \n",
    "        + encode(words['Dick'], roles['Patient']),\n",
    "    encode(words['Answer'], roles['Verb']) \n",
    "        + encode(words['Dick'], roles['Agent']) \n",
    "        + encode(words['Bruce'], roles['Patient'])  \n",
    "]\n",
    "\n",
    "test_c = [\n",
    "    encode(words['Ask'], roles['Verb']) \n",
    "        + encode(words['Tom'], roles['Agent']) \n",
    "        + encode(words['Charan'], roles['Patient']),\n",
    "    encode(words['Chase'], roles['Verb']) \n",
    "        + encode(words['Dog'], roles['Agent']) \n",
    "        + encode(words['Cat'], roles['Patient']),\n",
    "]\n",
    "\n",
    "test_d = [\n",
    "    encode(words['Ask'], roles['Verb']) \n",
    "        + encode(words['Tom'], roles['Agent']) \n",
    "        + encode(words['Charan'], roles['Patient']),\n",
    "    encode(words['Ask'], roles['Verb']) \n",
    "        + encode(words['Tom'], roles['Agent']) \n",
    "        + encode(words['Charan'], roles['Patient']),\n",
    "]\n",
    "\n",
    "test_e = [\n",
    "    encode(words['Ask'], roles['Verb']) \n",
    "        + encode(words['Tom'], roles['Agent']) \n",
    "        + encode(words['Charan'], roles['Patient']),\n",
    "    encode(words['Ask'], roles['Verb']) \n",
    "        + encode(words['Bruce'], roles['Agent']) \n",
    "        + encode(words['Dick'], roles['Patient']),\n",
    "]\n"
   ]
  },
  {
   "cell_type": "code",
   "execution_count": 6,
   "metadata": {},
   "outputs": [
    {
     "name": "stdout",
     "output_type": "stream",
     "text": [
      "[[0.53242548]]\n",
      "[[0.48624008]]\n",
      "[[0.38575729]]\n",
      "[[1.]]\n",
      "[[0.66631505]]\n"
     ]
    }
   ],
   "source": [
    "def angle_cos(x, y):\n",
    "    return np.dot(x, y.T) / (np.linalg.norm(x) * np.linalg.norm(y))\n",
    "\n",
    "print angle_cos(test_a[0], test_a[1])\n",
    "print angle_cos(test_a[0], test_b[1])\n",
    "print angle_cos(test_a[0], test_c[1])\n",
    "print angle_cos(test_a[0], test_d[1])\n",
    "print angle_cos(test_a[0], test_e[1])"
   ]
  },
  {
   "cell_type": "code",
   "execution_count": 7,
   "metadata": {},
   "outputs": [
    {
     "data": {
      "text/plain": [
       "array([2.63482798])"
      ]
     },
     "execution_count": 7,
     "metadata": {},
     "output_type": "execute_result"
    }
   ],
   "source": [
    "np.linalg.norm(np.dot(test_a[0], test_b[1].T), axis=1)"
   ]
  },
  {
   "cell_type": "code",
   "execution_count": 8,
   "metadata": {},
   "outputs": [
    {
     "data": {
      "text/plain": [
       "array([2.02766492])"
      ]
     },
     "execution_count": 8,
     "metadata": {},
     "output_type": "execute_result"
    }
   ],
   "source": [
    "np.linalg.norm(np.dot(test_a[0], test_c[1].T), axis=1)"
   ]
  },
  {
   "cell_type": "code",
   "execution_count": null,
   "metadata": {},
   "outputs": [],
   "source": []
  },
  {
   "cell_type": "code",
   "execution_count": 9,
   "metadata": {},
   "outputs": [
    {
     "name": "stdout",
     "output_type": "stream",
     "text": [
      "0.3111\n"
     ]
    }
   ],
   "source": [
    "# SEM parameters\n",
    "# df0 = 1.0\n",
    "# mode = 0.15\n",
    "df0 = 100.0\n",
    "mode = 0.305\n",
    "scale0 = (mode * (df0 + 2)) / df0\n",
    "print scale0\n",
    "\n",
    "lmda = 1.0  # stickyness parameter\n",
    "alfa = 2.  # concentration parameter\n",
    "\n",
    "\n",
    "f_class = StationaryEvent\n",
    "# f_class = LinearDynamicSystem\n",
    "f_opts=dict(var_scale0=scale0, var_df0=df0, \n",
    "#             dropout=0.5,\n",
    "#             n_hidden = d, \n",
    "            n_epochs=100,\n",
    "           prior_log_prob=-5.0)\n",
    "\n",
    "sem_kwargs = dict(lmda=lmda, alfa=alfa, f_class=f_class, f_opts=f_opts)\n",
    "\n",
    "_x = np.concatenate(x_train, axis=0)\n",
    "event_types = np.array([0] * len(x_train))\n",
    "event_boundaries = np.array([1, 0] * len(x_train))\n",
    "\n",
    "sem_model = SEM(**sem_kwargs)"
   ]
  },
  {
   "cell_type": "code",
   "execution_count": 10,
   "metadata": {},
   "outputs": [],
   "source": [
    "def print_evalute(x, event_model, metric=euclidean_distances):\n",
    "    print \"t=0, f0={}, origin={}\".format(\n",
    "        metric(event_model.predict_f0(), x[0])[0][0], metric(np.zeros((1, d)), x[0])[0][0])\n",
    "    print \"t=1, f(x)={}, f0={}, origin={}\".format(\n",
    "        metric(event_model.predict_next_generative(x[0]), x[1])[0][0],\n",
    "        metric(event_model.predict_f0(), x[1])[0][0],\n",
    "        metric(np.zeros((1, d)), x[1])[0][0])\n",
    "    \n",
    "def print_models_likelihood(x, event_model_0, event_model_1):\n",
    "    print \"t=0, p(f0_a)={}, p(f0_a)={}\".format(\n",
    "        event_model_0.log_likelihood_f0(x[0]),\n",
    "        event_model_1.log_likelihood_f0(x[0])\n",
    "    )\n",
    "    print \"t=1, p(f(x)_a)={}, p(f0_a)={}, p(f0_b)={}\".format(\n",
    "        event_model_0.log_likelihood_sequence(x[0], x[1]), \n",
    "        event_model_0.log_likelihood_f0(x[1]),\n",
    "        event_model_1.log_likelihood_f0(x[1])\n",
    "    )\n"
   ]
  },
  {
   "cell_type": "markdown",
   "metadata": {},
   "source": [
    "# Test Case A"
   ]
  },
  {
   "cell_type": "code",
   "execution_count": 11,
   "metadata": {},
   "outputs": [
    {
     "name": "stderr",
     "output_type": "stream",
     "text": [
      "Pretraining: 100%|██████████| 6/6 [00:08<00:00,  1.37s/it]\n",
      "Run SEM:   0%|          | 0/2 [00:00<?, ?it/s]"
     ]
    },
    {
     "name": "stdout",
     "output_type": "stream",
     "text": [
      "0.146774677909497\n"
     ]
    },
    {
     "name": "stderr",
     "output_type": "stream",
     "text": [
      "Run SEM: 100%|██████████| 2/2 [00:01<00:00,  1.05it/s]"
     ]
    },
    {
     "name": "stdout",
     "output_type": "stream",
     "text": [
      "[1.        0.4841663]\n",
      "[0 0]\n"
     ]
    },
    {
     "name": "stderr",
     "output_type": "stream",
     "text": [
      "\n"
     ]
    }
   ],
   "source": [
    "# Ask(Tom, Charan) -> Answer(Charan, Tom)\n",
    "sem_model = SEM(**sem_kwargs)\n",
    "sem_model.pretrain(_x, event_types, event_boundaries)\n",
    "print sem_model.event_models[0].Sigma.mean()\n",
    "sem_model._update_state(np.concatenate(test_a), 3)\n",
    "sem_model.run(np.concatenate(test_a), compile_model=False)\n",
    "\n",
    "results = [\n",
    "    {\n",
    "        'Test Case': 'Answer(Charan,Tom)',\n",
    "        'Boundary': np.exp(sem_model.results.log_boundary_probability)[1],\n",
    "        'New Event': 1-sem_model.results.post[1, 0]\n",
    "    }\n",
    "]\n",
    "\n",
    "print np.exp(sem_model.results.log_boundary_probability)\n",
    "print sem_model.results.e_hat"
   ]
  },
  {
   "cell_type": "code",
   "execution_count": 12,
   "metadata": {},
   "outputs": [
    {
     "name": "stdout",
     "output_type": "stream",
     "text": [
      "[0.        0.0328118]\n"
     ]
    },
    {
     "data": {
      "image/png": "[encoded data removed]",
      "text/plain": [
       "<Figure size 216x144 with 1 Axes>"
      ]
     },
     "metadata": {
      "needs_background": "light"
     },
     "output_type": "display_data"
    }
   ],
   "source": [
    "sns.set_context('paper', font_scale=1.0)\n",
    "\n",
    "def plot_results(results, x_labels):\n",
    "    fig, ax = plt.subplots(1, 1, figsize=(3.0, 2.0), sharey=True)\n",
    "    w = 0.4\n",
    "    \n",
    "    y = np.exp(sem_model.results.log_boundary_probability)\n",
    "    ax.bar([0-w/2., 1.-w/2.], y, facecolor=[0.65, 0.65, 0.65], width=w, edgecolor='k', lw=1, label='Boundary')\n",
    "    ax.set_ylabel('Probability')\n",
    "    ax.set_title('Boundary')\n",
    "    ax.set_title('New Event')\n",
    "    \n",
    "    \n",
    "    ax.set_xticks([0, 1])\n",
    "    ax.set_xticklabels(x_labels, rotation=0)\n",
    "    \n",
    "    y = 1-results.post[:, 0]\n",
    "    print y\n",
    "    ax.bar([0+w/2., 1.+w/2.], y, facecolor=[0.35, 0.35, 0.35], width=w, edgecolor='k', lw=1, label='New Event')\n",
    "\n",
    "\n",
    "    plt.legend(loc='center right', bbox_to_anchor=(1.5, 0.5))\n",
    "    sns.despine()\n",
    "    \n",
    "plot_results(sem_model.results, 'Ask(Tom,Charan) Answer(Charan,Tom)'.split(' '))\n",
    "# plt.savefig('generalization_test_case_a.png', dpi=300, bbox_inches='tight')"
   ]
  },
  {
   "cell_type": "code",
   "execution_count": 13,
   "metadata": {},
   "outputs": [
    {
     "data": {
      "text/plain": [
       "{0: <models.event_models.StationaryEvent at 0x1a41d00f90>,\n",
       " 1: <models.event_models.StationaryEvent at 0x1a41d0ba90>}"
      ]
     },
     "execution_count": 13,
     "metadata": {},
     "output_type": "execute_result"
    }
   ],
   "source": [
    "sem_model.event_models"
   ]
  },
  {
   "cell_type": "code",
   "execution_count": 14,
   "metadata": {},
   "outputs": [
    {
     "name": "stdout",
     "output_type": "stream",
     "text": [
      "-1.685388108867395 -1.5518567162428725\n"
     ]
    }
   ],
   "source": [
    "print sem_model.results.restart_prob, sem_model.results.repeat_prob"
   ]
  },
  {
   "cell_type": "code",
   "execution_count": 15,
   "metadata": {},
   "outputs": [
    {
     "name": "stdout",
     "output_type": "stream",
     "text": [
      "[[ 0.                -inf        -inf]\n",
      " [-2.93815108 -5.                -inf]]\n"
     ]
    }
   ],
   "source": [
    "print sem_model.results.log_like"
   ]
  },
  {
   "cell_type": "code",
   "execution_count": 16,
   "metadata": {},
   "outputs": [
    {
     "name": "stdout",
     "output_type": "stream",
     "text": [
      "[[2.               -inf       -inf]\n",
      " [2.01490302 0.69314718       -inf]]\n"
     ]
    }
   ],
   "source": [
    "print sem_model.results.log_prior"
   ]
  },
  {
   "cell_type": "code",
   "execution_count": 17,
   "metadata": {},
   "outputs": [
    {
     "name": "stdout",
     "output_type": "stream",
     "text": [
      "t=0, f0=0.819048095041, origin=2.48438221807\n",
      "t=1, f(x)=2.1348106113, f0=2.13247095053, origin=2.41267799517\n"
     ]
    }
   ],
   "source": [
    "print_evalute(test_a, sem_model.event_models[0])"
   ]
  },
  {
   "cell_type": "code",
   "execution_count": 18,
   "metadata": {},
   "outputs": [
    {
     "name": "stdout",
     "output_type": "stream",
     "text": [
      "t=0, p(f0_a)=10.9137183609, p(f0_a)=-5.0\n",
      "t=1, p(f(x)_a)=-2.57501010142, p(f0_a)=-2.54033264691, p(f0_b)=-5.0\n"
     ]
    }
   ],
   "source": [
    "print_models_likelihood(test_a, sem_model.event_models[0], sem_model.event_models[1])"
   ]
  },
  {
   "cell_type": "code",
   "execution_count": 19,
   "metadata": {},
   "outputs": [
    {
     "data": {
      "image/png": "[encoded data removed]",
      "text/plain": [
       "<Figure size 468x144 with 3 Axes>"
      ]
     },
     "metadata": {
      "needs_background": "light"
     },
     "output_type": "display_data"
    },
    {
     "data": {
      "text/plain": [
       "<Figure size 432x288 with 0 Axes>"
      ]
     },
     "metadata": {},
     "output_type": "display_data"
    }
   ],
   "source": [
    "# check the decoding here\n",
    "from opt import decode\n",
    "from scipy.linalg import norm\n",
    "from scipy.special import logsumexp\n",
    "\n",
    "gamma = 50.0\n",
    "\n",
    "agent = decode(sem_model.results.x_hat[1], roles['Agent'])\n",
    "patient = decode(sem_model.results.x_hat[1], roles['Patient'])\n",
    "verb = decode(sem_model.results.x_hat[1], roles['Verb'])\n",
    "\n",
    "\n",
    "_df = []\n",
    "for w in words.keys():\n",
    "    _df.append({\n",
    "        'Word': w,\n",
    "        'Agent Prob': gamma * -cosine_distances(agent, words[w])[0][0],\n",
    "        'Patient Prob': gamma * -cosine_distances(patient, words[w])[0][0],\n",
    "        'Verb Prob': gamma * -cosine_distances(verb, words[w])[0][0],\n",
    "    }) \n",
    "_df = pd.DataFrame(_df)\n",
    "_df['Agent Prob'] =np.exp( _df['Agent Prob'] - logsumexp(_df['Agent Prob']))\n",
    "_df['Patient Prob'] =np.exp( _df['Patient Prob'] - logsumexp(_df['Patient Prob']))\n",
    "_df['Verb Prob'] =np.exp( _df['Verb Prob'] - logsumexp(_df['Verb Prob']))\n",
    "\n",
    "# plot\n",
    "fig, axes = plt.subplots(1, 3, figsize=(6.5, 2.0), sharey=True)\n",
    "_df.sort_values('Agent Prob', inplace=True)\n",
    "_df.plot(x='Word', y='Agent Prob', kind='barh', color='grey', ax=axes[0], legend=None, title='Agent')\n",
    "_df.plot(x='Word', y='Patient Prob', kind='barh', color='grey', ax=axes[1], legend=None, title='Patient')\n",
    "_df.plot(x='Word', y='Verb Prob', kind='barh', color='grey', ax=axes[2], legend=None, title='Verb')\n",
    "\n",
    "for ax in axes:\n",
    "    ax.plot([1. / len(_df), 1. / len(_df)], plt.gca().get_ylim(), c='r', ls='--')\n",
    "    ax.set_xlabel('Decoding Probability')\n",
    "plt.show()\n",
    "plt.savefig('DecodingA.png', dpi=300, bbox_iunches='tight')"
   ]
  },
  {
   "cell_type": "code",
   "execution_count": 20,
   "metadata": {},
   "outputs": [
    {
     "name": "stdout",
     "output_type": "stream",
     "text": [
      "-2.5403326469076273\n",
      "-1.124218948842671\n"
     ]
    }
   ],
   "source": [
    "from scipy.stats import multivariate_normal\n",
    "\n",
    "\n",
    "print multivariate_normal.logpdf(test_a[1].reshape(-1), mean=sem_model.results.x_hat[1].reshape(-1), cov=np.diag(sem_model.event_models[0].Sigma))\n",
    "print multivariate_normal.logpdf(test_b[1].reshape(-1), mean=sem_model.results.x_hat[1].reshape(-1), cov=np.diag(sem_model.event_models[0].Sigma))"
   ]
  },
  {
   "cell_type": "code",
   "execution_count": 21,
   "metadata": {},
   "outputs": [
    {
     "name": "stdout",
     "output_type": "stream",
     "text": [
      "0.19527155617635036 0.8047284438236497\n",
      "0.24265521826036346\n"
     ]
    }
   ],
   "source": [
    "a = multivariate_normal.logpdf(test_a[1].reshape(-1), mean=sem_model.results.x_hat[1].reshape(-1), cov=np.diag(sem_model.event_models[0].Sigma))\n",
    "b = multivariate_normal.logpdf(test_b[1].reshape(-1), mean=sem_model.results.x_hat[1].reshape(-1), cov=np.diag(sem_model.event_models[0].Sigma))\n",
    "z = logsumexp([a, b])\n",
    "print np.exp(a - z), np.exp(b - z)\n",
    "print np.exp(a - b)"
   ]
  },
  {
   "cell_type": "markdown",
   "metadata": {},
   "source": [
    "# Test Case B"
   ]
  },
  {
   "cell_type": "code",
   "execution_count": 22,
   "metadata": {},
   "outputs": [
    {
     "name": "stderr",
     "output_type": "stream",
     "text": [
      "Pretraining: 100%|██████████| 6/6 [00:08<00:00,  1.41s/it]\n",
      "Run SEM: 100%|██████████| 2/2 [00:01<00:00,  1.42it/s]"
     ]
    },
    {
     "name": "stdout",
     "output_type": "stream",
     "text": [
      "[1.         0.46756525]\n",
      "[0 0]\n"
     ]
    },
    {
     "name": "stderr",
     "output_type": "stream",
     "text": [
      "\n"
     ]
    }
   ],
   "source": [
    "# Ask(Bruce, Dick) -> Answer(Dick, Bruce)\n",
    "sem_model = SEM(**sem_kwargs)\n",
    "sem_model.pretrain(_x, event_types, event_boundaries)\n",
    "sem_model._update_state(np.concatenate(test_b), 3)\n",
    "sem_model.run(np.concatenate(test_b), compile_model=False)\n",
    "\n",
    "results.append(\n",
    "    {\n",
    "        'Test Case': 'Answer(Dick,Bruce)',\n",
    "        'Boundary': np.exp(sem_model.results.log_boundary_probability)[1],\n",
    "        'New Event': 1-sem_model.results.post[1, 0]\n",
    "    }\n",
    ")\n",
    "\n",
    "print np.exp(sem_model.results.log_boundary_probability)\n",
    "print sem_model.results.e_hat"
   ]
  },
  {
   "cell_type": "code",
   "execution_count": 23,
   "metadata": {},
   "outputs": [
    {
     "name": "stdout",
     "output_type": "stream",
     "text": [
      "[0.         0.00168484]\n"
     ]
    },
    {
     "data": {
      "image/png": "[encoded data removed]",
      "text/plain": [
       "<Figure size 216x144 with 1 Axes>"
      ]
     },
     "metadata": {
      "needs_background": "light"
     },
     "output_type": "display_data"
    }
   ],
   "source": [
    "plot_results(sem_model.results, 'Ask(Bruce,Dick) Answer(Dick,Bruce)'.split(' '))\n",
    "# plt.savefig('generalization_test_case_b.png', dpi=300, bbox_inches='tight')"
   ]
  },
  {
   "cell_type": "code",
   "execution_count": 24,
   "metadata": {},
   "outputs": [
    {
     "data": {
      "text/plain": [
       "array([[ 0.        ,        -inf,        -inf],\n",
       "       [ 0.06264119, -5.        ,        -inf]])"
      ]
     },
     "execution_count": 24,
     "metadata": {},
     "output_type": "execute_result"
    }
   ],
   "source": [
    "sem_model.results.log_like"
   ]
  },
  {
   "cell_type": "code",
   "execution_count": 25,
   "metadata": {},
   "outputs": [
    {
     "name": "stdout",
     "output_type": "stream",
     "text": [
      "1.3154041571467496 1.4489355497712721\n"
     ]
    }
   ],
   "source": [
    "print sem_model.results.restart_prob, sem_model.results.repeat_prob"
   ]
  },
  {
   "cell_type": "code",
   "execution_count": 26,
   "metadata": {},
   "outputs": [
    {
     "name": "stdout",
     "output_type": "stream",
     "text": [
      "t=0, f0=1.13759305241, origin=2.26451490236\n",
      "t=1, f(x)=1.92764981979, f0=1.91628625718, origin=2.18113776608\n"
     ]
    }
   ],
   "source": [
    "print_evalute(test_b, sem_model.event_models[0])"
   ]
  },
  {
   "cell_type": "code",
   "execution_count": 27,
   "metadata": {},
   "outputs": [
    {
     "name": "stdout",
     "output_type": "stream",
     "text": [
      "t=0, p(f0_a)=8.74116716026, p(f0_a)=-5.0\n",
      "t=1, p(f(x)_a)=0.336131541371, p(f0_a)=0.487789333093, p(f0_b)=-5.0\n"
     ]
    }
   ],
   "source": [
    "print_models_likelihood(test_b, sem_model.event_models[0], sem_model.event_models[1])"
   ]
  },
  {
   "cell_type": "code",
   "execution_count": 28,
   "metadata": {},
   "outputs": [
    {
     "data": {
      "image/png": "[encoded data removed]",
      "text/plain": [
       "<Figure size 468x144 with 3 Axes>"
      ]
     },
     "metadata": {
      "needs_background": "light"
     },
     "output_type": "display_data"
    },
    {
     "data": {
      "text/plain": [
       "<Figure size 432x288 with 0 Axes>"
      ]
     },
     "metadata": {},
     "output_type": "display_data"
    }
   ],
   "source": [
    "# check the decoding here\n",
    "from opt import decode\n",
    "from scipy.linalg import norm\n",
    "from scipy.special import logsumexp\n",
    "\n",
    "agent = decode(sem_model.results.x_hat[1], roles['Agent'])\n",
    "patient = decode(sem_model.results.x_hat[1], roles['Patient'])\n",
    "verb = decode(sem_model.results.x_hat[1], roles['Verb'])\n",
    "\n",
    "\n",
    "_df = []\n",
    "for w in words.keys():\n",
    "    _df.append({\n",
    "        'Word': w,\n",
    "        'Agent Prob': -gamma * cosine_distances(agent, words[w])[0][0],\n",
    "        'Patient Prob': -gamma * cosine_distances(patient, words[w])[0][0],\n",
    "        'Verb Prob': -gamma * cosine_distances(verb, words[w])[0][0],\n",
    "    }) \n",
    "_df = pd.DataFrame(_df)\n",
    "_df['Agent Prob'] =np.exp( _df['Agent Prob'] - logsumexp(_df['Agent Prob']))\n",
    "_df['Patient Prob'] =np.exp( _df['Patient Prob'] - logsumexp(_df['Patient Prob']))\n",
    "_df['Verb Prob'] =np.exp( _df['Verb Prob'] - logsumexp(_df['Verb Prob']))\n",
    "\n",
    "# plot\n",
    "fig, axes = plt.subplots(1, 3, figsize=(6.5, 2.0), sharey=True)\n",
    "_df.sort_values('Agent Prob', inplace=True)\n",
    "_df.plot(x='Word', y='Agent Prob', kind='barh', color='grey', ax=axes[0], legend=None, title='Agent')\n",
    "_df.plot(x='Word', y='Patient Prob', kind='barh', color='grey', ax=axes[1], legend=None, title='Patient')\n",
    "_df.plot(x='Word', y='Verb Prob', kind='barh', color='grey', ax=axes[2], legend=None, title='Verb')\n",
    "\n",
    "for ax in axes:\n",
    "    ax.plot([1. / len(_df), 1. / len(_df)], plt.gca().get_ylim(), c='r', ls='--')\n",
    "    ax.set_xlabel('Decoding Probability')\n",
    "plt.show()\n",
    "plt.savefig('DecodingB.png', dpi=300, bbox_iunches='tight')"
   ]
  },
  {
   "cell_type": "code",
   "execution_count": 29,
   "metadata": {},
   "outputs": [
    {
     "name": "stdout",
     "output_type": "stream",
     "text": [
      "0.030493725020596708 0.15223956579434716 0.817266709185056\n",
      "0.20030091955063217 0.18627892716461444\n"
     ]
    }
   ],
   "source": [
    "b_foil = encode(words['Answer'], roles['Verb']) \\\n",
    "        + encode(words['Bruce'], roles['Agent']) \\\n",
    "        + encode(words['Dick'], roles['Patient'])  \n",
    "        \n",
    "a = multivariate_normal.logpdf(test_a[1].reshape(-1), mean=sem_model.results.x_hat[1].reshape(-1), cov=np.diag(sem_model.event_models[0].Sigma))\n",
    "b = multivariate_normal.logpdf(test_b[1].reshape(-1), mean=sem_model.results.x_hat[1].reshape(-1), cov=np.diag(sem_model.event_models[0].Sigma))\n",
    "b0 = multivariate_normal.logpdf(b_foil.reshape(-1), mean=sem_model.results.x_hat[1].reshape(-1), cov=np.diag(sem_model.event_models[0].Sigma))\n",
    "\n",
    "\n",
    "z = logsumexp([a, b, b0])\n",
    "print np.exp(a - z), np.exp(b - z), np.exp(b0 - z)\n",
    "print np.exp(a - b), np.exp(b - b0)"
   ]
  },
  {
   "cell_type": "code",
   "execution_count": 30,
   "metadata": {},
   "outputs": [
    {
     "data": {
      "text/plain": [
       "array([ 0.        , -0.76021637])"
      ]
     },
     "execution_count": 30,
     "metadata": {},
     "output_type": "execute_result"
    }
   ],
   "source": [
    "sem_model.results.log_boundary_probability"
   ]
  },
  {
   "cell_type": "markdown",
   "metadata": {},
   "source": [
    "# Test Case C"
   ]
  },
  {
   "cell_type": "code",
   "execution_count": 31,
   "metadata": {},
   "outputs": [
    {
     "name": "stderr",
     "output_type": "stream",
     "text": [
      "Pretraining: 100%|██████████| 6/6 [00:07<00:00,  1.24s/it]\n",
      "Run SEM: 100%|██████████| 2/2 [00:02<00:00,  1.10s/it]"
     ]
    },
    {
     "name": "stdout",
     "output_type": "stream",
     "text": [
      "[1.        0.5675739]\n",
      "[0 0]\n"
     ]
    },
    {
     "name": "stderr",
     "output_type": "stream",
     "text": [
      "\n"
     ]
    }
   ],
   "source": [
    "# Ask(Tom, Charan) -> Chase(Dog, Cat)\n",
    "sem_model = SEM(**sem_kwargs)\n",
    "sem_model.pretrain(_x, event_types, event_boundaries)\n",
    "sem_model._update_state(np.concatenate(test_c), 3)\n",
    "sem_model.run(np.concatenate(test_c), compile_model=False)\n",
    "\n",
    "results.append(\n",
    "    {\n",
    "        'Test Case': 'Chase(Dog,Cat)',\n",
    "        'Boundary': np.exp(sem_model.results.log_boundary_probability)[1],\n",
    "        'New Event': 1-sem_model.results.post[1, 0]\n",
    "    }\n",
    ")\n",
    "\n",
    "print np.exp(sem_model.results.log_boundary_probability)\n",
    "print sem_model.results.e_hat"
   ]
  },
  {
   "cell_type": "code",
   "execution_count": 32,
   "metadata": {},
   "outputs": [
    {
     "name": "stdout",
     "output_type": "stream",
     "text": [
      "[0.         0.18920107]\n"
     ]
    },
    {
     "data": {
      "image/png": "[encoded data removed]",
      "text/plain": [
       "<Figure size 216x144 with 1 Axes>"
      ]
     },
     "metadata": {
      "needs_background": "light"
     },
     "output_type": "display_data"
    }
   ],
   "source": [
    "plot_results(sem_model.results, 'Ask(Tom,Charan) Chase(Dog,Cat)'.split(' '))\n",
    "# plt.savefig('generalization_test_case_c.png', dpi=300, bbox_inches='tight')"
   ]
  },
  {
   "cell_type": "code",
   "execution_count": 33,
   "metadata": {},
   "outputs": [
    {
     "data": {
      "text/plain": [
       "array([[ 0.        ,        -inf,        -inf],\n",
       "       [-4.86654606, -5.        ,        -inf]])"
      ]
     },
     "execution_count": 33,
     "metadata": {},
     "output_type": "execute_result"
    }
   ],
   "source": [
    "sem_model.results.log_like"
   ]
  },
  {
   "cell_type": "code",
   "execution_count": 34,
   "metadata": {},
   "outputs": [
    {
     "name": "stdout",
     "output_type": "stream",
     "text": [
      "t=0, f0=0.895916817491, origin=2.48438221807\n",
      "t=1, f(x)=2.26030838586, f0=2.25961122183, origin=2.11574650794\n"
     ]
    }
   ],
   "source": [
    "print_evalute(test_c, sem_model.event_models[0])"
   ]
  },
  {
   "cell_type": "code",
   "execution_count": 35,
   "metadata": {},
   "outputs": [
    {
     "name": "stdout",
     "output_type": "stream",
     "text": [
      "t=0, p(f0_a)=10.4191813425, p(f0_a)=-5.0\n",
      "t=1, p(f(x)_a)=-4.52091358363, p(f0_a)=-4.51001255686, p(f0_b)=-5.0\n"
     ]
    }
   ],
   "source": [
    "print_models_likelihood(test_c, sem_model.event_models[0], sem_model.event_models[1])"
   ]
  },
  {
   "cell_type": "markdown",
   "metadata": {},
   "source": [
    "# Test Case D"
   ]
  },
  {
   "cell_type": "code",
   "execution_count": 36,
   "metadata": {},
   "outputs": [
    {
     "name": "stderr",
     "output_type": "stream",
     "text": [
      "Pretraining: 100%|██████████| 6/6 [00:07<00:00,  1.20s/it]\n",
      "Run SEM: 100%|██████████| 2/2 [00:02<00:00,  1.21s/it]"
     ]
    },
    {
     "name": "stdout",
     "output_type": "stream",
     "text": [
      "[1.         0.46666674]\n",
      "[0 0]\n"
     ]
    },
    {
     "name": "stderr",
     "output_type": "stream",
     "text": [
      "\n"
     ]
    }
   ],
   "source": [
    "# Ask(Tom, Charan) -> Ask(Tom, Charan)\n",
    "sem_model = SEM(**sem_kwargs)\n",
    "sem_model.pretrain(_x, event_types, event_boundaries)\n",
    "sem_model._update_state(np.concatenate(test_d), 3)\n",
    "sem_model.run(np.concatenate(test_d), compile_model=False)\n",
    "\n",
    "results.append(\n",
    "    {\n",
    "        'Test Case': 'Ask(Tom,Charan)',\n",
    "        'Boundary': np.exp(sem_model.results.log_boundary_probability)[1],\n",
    "        'New Event': 1-sem_model.results.post[1, 0]\n",
    "    }\n",
    ")\n",
    "\n",
    "print np.exp(sem_model.results.log_boundary_probability)\n",
    "print sem_model.results.e_hat"
   ]
  },
  {
   "cell_type": "code",
   "execution_count": 37,
   "metadata": {},
   "outputs": [
    {
     "name": "stdout",
     "output_type": "stream",
     "text": [
      "[0.00000000e+00 1.42791907e-07]\n"
     ]
    },
    {
     "data": {
      "image/png": "[encoded data removed]",
      "text/plain": [
       "<Figure size 216x144 with 1 Axes>"
      ]
     },
     "metadata": {
      "needs_background": "light"
     },
     "output_type": "display_data"
    }
   ],
   "source": [
    "plot_results(sem_model.results, 'Ask(Tom,Charan) Ask(Tom,Charan)'.split(' '))\n",
    "# plt.savefig('generalization_test_case_d.png', dpi=300, bbox_inches='tight')"
   ]
  },
  {
   "cell_type": "markdown",
   "metadata": {},
   "source": [
    "## Test Case E"
   ]
  },
  {
   "cell_type": "code",
   "execution_count": 38,
   "metadata": {},
   "outputs": [
    {
     "name": "stderr",
     "output_type": "stream",
     "text": [
      "Pretraining: 100%|██████████| 6/6 [00:08<00:00,  1.34s/it]\n",
      "Run SEM: 100%|██████████| 2/2 [00:02<00:00,  1.20s/it]"
     ]
    },
    {
     "name": "stdout",
     "output_type": "stream",
     "text": [
      "[1.         0.46668583]\n",
      "[0 0]\n"
     ]
    },
    {
     "name": "stderr",
     "output_type": "stream",
     "text": [
      "\n"
     ]
    }
   ],
   "source": [
    "# Ask(Tom, Charan) -> Ask(Tom, Charan)\n",
    "sem_model = SEM(**sem_kwargs)\n",
    "sem_model.pretrain(_x, event_types, event_boundaries)\n",
    "sem_model._update_state(np.concatenate(test_e), 3)\n",
    "sem_model.run(np.concatenate(test_e), compile_model=False)\n",
    "\n",
    "results.append(\n",
    "    {\n",
    "        'Test Case': 'Ask(Bruce, Dick)',\n",
    "        'Boundary': np.exp(sem_model.results.log_boundary_probability)[1],\n",
    "        'New Event': 1-sem_model.results.post[1, 0]\n",
    "    }\n",
    ")\n",
    "\n",
    "print np.exp(sem_model.results.log_boundary_probability)\n",
    "print sem_model.results.e_hat"
   ]
  },
  {
   "cell_type": "code",
   "execution_count": 39,
   "metadata": {},
   "outputs": [
    {
     "name": "stdout",
     "output_type": "stream",
     "text": [
      "[0.00000000e+00 3.59270446e-05]\n"
     ]
    },
    {
     "data": {
      "image/png": "[encoded data removed]",
      "text/plain": [
       "<Figure size 216x144 with 1 Axes>"
      ]
     },
     "metadata": {
      "needs_background": "light"
     },
     "output_type": "display_data"
    }
   ],
   "source": [
    "plot_results(sem_model.results, 'Ask(Tom,Charan) Ask(Tom,Charan)'.split(' '))\n",
    "# plt.savefig('generalization_test_case_d.png', dpi=300, bbox_inches='tight')"
   ]
  },
  {
   "cell_type": "markdown",
   "metadata": {},
   "source": [
    "# All test cases"
   ]
  },
  {
   "cell_type": "code",
   "execution_count": 40,
   "metadata": {},
   "outputs": [],
   "source": [
    "results = pd.DataFrame(results)\n",
    "results = results.loc[[0, 2, 1, 3, 4], ]\n",
    "results.index = range(5)"
   ]
  },
  {
   "cell_type": "code",
   "execution_count": 41,
   "metadata": {},
   "outputs": [
    {
     "data": {
      "text/html": [
       "<div>\n",
       "<style scoped>\n",
       "    .dataframe tbody tr th:only-of-type {\n",
       "        vertical-align: middle;\n",
       "    }\n",
       "\n",
       "    .dataframe tbody tr th {\n",
       "        vertical-align: top;\n",
       "    }\n",
       "\n",
       "    .dataframe thead th {\n",
       "        text-align: right;\n",
       "    }\n",
       "</style>\n",
       "<table border=\"1\" class=\"dataframe\">\n",
       "  <thead>\n",
       "    <tr style=\"text-align: right;\">\n",
       "      <th></th>\n",
       "      <th>Boundary</th>\n",
       "      <th>New Event</th>\n",
       "      <th>Test Case</th>\n",
       "    </tr>\n",
       "  </thead>\n",
       "  <tbody>\n",
       "    <tr>\n",
       "      <th>0</th>\n",
       "      <td>0.484166</td>\n",
       "      <td>3.281180e-02</td>\n",
       "      <td>Answer(Charan,Tom)</td>\n",
       "    </tr>\n",
       "    <tr>\n",
       "      <th>1</th>\n",
       "      <td>0.567574</td>\n",
       "      <td>1.892011e-01</td>\n",
       "      <td>Chase(Dog,Cat)</td>\n",
       "    </tr>\n",
       "    <tr>\n",
       "      <th>2</th>\n",
       "      <td>0.467565</td>\n",
       "      <td>1.684842e-03</td>\n",
       "      <td>Answer(Dick,Bruce)</td>\n",
       "    </tr>\n",
       "    <tr>\n",
       "      <th>3</th>\n",
       "      <td>0.466667</td>\n",
       "      <td>1.427919e-07</td>\n",
       "      <td>Ask(Tom,Charan)</td>\n",
       "    </tr>\n",
       "    <tr>\n",
       "      <th>4</th>\n",
       "      <td>0.466686</td>\n",
       "      <td>3.592704e-05</td>\n",
       "      <td>Ask(Bruce, Dick)</td>\n",
       "    </tr>\n",
       "  </tbody>\n",
       "</table>\n",
       "</div>"
      ],
      "text/plain": [
       "   Boundary     New Event           Test Case\n",
       "0  0.484166  3.281180e-02  Answer(Charan,Tom)\n",
       "1  0.567574  1.892011e-01      Chase(Dog,Cat)\n",
       "2  0.467565  1.684842e-03  Answer(Dick,Bruce)\n",
       "3  0.466667  1.427919e-07     Ask(Tom,Charan)\n",
       "4  0.466686  3.592704e-05    Ask(Bruce, Dick)"
      ]
     },
     "execution_count": 41,
     "metadata": {},
     "output_type": "execute_result"
    }
   ],
   "source": [
    "results"
   ]
  },
  {
   "cell_type": "code",
   "execution_count": 42,
   "metadata": {},
   "outputs": [],
   "source": [
    "x_labels = results['Test Case'].copy()\n"
   ]
  },
  {
   "cell_type": "code",
   "execution_count": null,
   "metadata": {},
   "outputs": [],
   "source": []
  },
  {
   "cell_type": "code",
   "execution_count": 43,
   "metadata": {},
   "outputs": [
    {
     "data": {
      "image/png": "[encoded data removed]",
      "text/plain": [
       "<Figure size 180x144 with 1 Axes>"
      ]
     },
     "metadata": {
      "needs_background": "light"
     },
     "output_type": "display_data"
    }
   ],
   "source": [
    "with sns.plotting_context('paper', font_scale=0.8):\n",
    "\n",
    "    fig, ax = plt.subplots(1, 1, figsize=(2.5, 2.0), sharey=True)\n",
    "    w = 0.35\n",
    "\n",
    "    y = results.Boundary[:2]\n",
    "    x = [x0 - w/2. for x0 in results.index][:2]\n",
    "    ax.bar(x, y, facecolor=[0.65, 0.65, 0.65], width=w, edgecolor='k', lw=1, label='Boundary')\n",
    "    ax.set_ylabel('Probability')\n",
    "\n",
    "    ax.set_xticks(results.index)\n",
    "    ax.set_xticklabels(x_labels, rotation=0)\n",
    "\n",
    "    y = results['New Event'][:2]\n",
    "    x = [x0 + w/2. for x0 in results.index][:2]\n",
    "    ax.bar(x, y, facecolor=[0.35, 0.35, 0.35], width=w, edgecolor='k', lw=1, label='New Event')\n",
    "    \n",
    "    ax.axhline(y=0.5, ls=':', c='k')\n",
    "    ax.set_ylim(0, 1)\n",
    "\n",
    "\n",
    "    plt.legend(loc='upper left')\n",
    "    sns.despine()\n",
    "    plt.savefig('generalization_demo_results_stationary.png', dpi=300, bbox_inches='tight')"
   ]
  },
  {
   "cell_type": "code",
   "execution_count": 44,
   "metadata": {},
   "outputs": [
    {
     "data": {
      "text/plain": [
       "0    0.032812\n",
       "1    0.189201\n",
       "Name: New Event, dtype: float64"
      ]
     },
     "execution_count": 44,
     "metadata": {},
     "output_type": "execute_result"
    }
   ],
   "source": [
    "y"
   ]
  },
  {
   "cell_type": "code",
   "execution_count": 45,
   "metadata": {},
   "outputs": [
    {
     "data": {
      "image/png": "[encoded data removed]",
      "text/plain": [
       "<Figure size 432x288 with 1 Axes>"
      ]
     },
     "metadata": {
      "needs_background": "light"
     },
     "output_type": "display_data"
    }
   ],
   "source": [
    "cases = (results['Test Case'] == 'Answer(Dick,Bruce)') | (results['Test Case'] ==  'Chase(Dog,Cat)') | (results['Test Case'] ==  'Answer(Charan,Tom)')\n",
    "# results.loc[cases]\n",
    "\n",
    "res_ = results.loc[cases].copy()\n",
    "res_ = res_.loc[[0, 2, 1], :]\n",
    "\n",
    "y = res_.Boundary\n",
    "x = range(3)\n",
    "\n",
    "with sns.plotting_context('talk'):\n",
    "#     fig, ax = plt.subplots(1, 1, figsize=(7.5, 2.0), sharey=True)\n",
    "    fig, ax = plt.subplots(1, 1)\n",
    "    ax.bar(x, y, facecolor=[0.65, 0.65, 0.65],  edgecolor='k', lw=1, label='Boundary')\n",
    "    ax.set_ylabel('Probability')\n",
    "    ax.set_xticks(x)\n",
    "    ax.set_xticklabels(['Previously\\nExperienced', 'Repeat\\nStructure', 'Violate\\nStructure'], rotation=0)\n",
    "    sns.despine()\n",
    "#     plt.savefig('StructureTalk.png', dpi=300, bbox_inches='tight')"
   ]
  },
  {
   "cell_type": "code",
   "execution_count": 46,
   "metadata": {},
   "outputs": [
    {
     "data": {
      "text/html": [
       "<div>\n",
       "<style scoped>\n",
       "    .dataframe tbody tr th:only-of-type {\n",
       "        vertical-align: middle;\n",
       "    }\n",
       "\n",
       "    .dataframe tbody tr th {\n",
       "        vertical-align: top;\n",
       "    }\n",
       "\n",
       "    .dataframe thead th {\n",
       "        text-align: right;\n",
       "    }\n",
       "</style>\n",
       "<table border=\"1\" class=\"dataframe\">\n",
       "  <thead>\n",
       "    <tr style=\"text-align: right;\">\n",
       "      <th></th>\n",
       "      <th>Boundary</th>\n",
       "      <th>New Event</th>\n",
       "      <th>Test Case</th>\n",
       "    </tr>\n",
       "  </thead>\n",
       "  <tbody>\n",
       "    <tr>\n",
       "      <th>0</th>\n",
       "      <td>0.484166</td>\n",
       "      <td>0.032812</td>\n",
       "      <td>Answer(Charan,Tom)</td>\n",
       "    </tr>\n",
       "    <tr>\n",
       "      <th>2</th>\n",
       "      <td>0.467565</td>\n",
       "      <td>0.001685</td>\n",
       "      <td>Answer(Dick,Bruce)</td>\n",
       "    </tr>\n",
       "    <tr>\n",
       "      <th>1</th>\n",
       "      <td>0.567574</td>\n",
       "      <td>0.189201</td>\n",
       "      <td>Chase(Dog,Cat)</td>\n",
       "    </tr>\n",
       "  </tbody>\n",
       "</table>\n",
       "</div>"
      ],
      "text/plain": [
       "   Boundary  New Event           Test Case\n",
       "0  0.484166   0.032812  Answer(Charan,Tom)\n",
       "2  0.467565   0.001685  Answer(Dick,Bruce)\n",
       "1  0.567574   0.189201      Chase(Dog,Cat)"
      ]
     },
     "execution_count": 46,
     "metadata": {},
     "output_type": "execute_result"
    }
   ],
   "source": [
    "res_"
   ]
  },
  {
   "cell_type": "raw",
   "metadata": {},
   "source": [
    "results.loc[cases].index"
   ]
  }
 ],
 "metadata": {
  "kernelspec": {
   "display_name": "Python 2",
   "language": "python",
   "name": "python2"
  },
  "language_info": {
   "codemirror_mode": {
    "name": "ipython",
    "version": 2
   },
   "file_extension": ".py",
   "mimetype": "text/x-python",
   "name": "python",
   "nbconvert_exporter": "python",
   "pygments_lexer": "ipython2",
   "version": "2.7.15"
  }
 },
 "nbformat": 4,
 "nbformat_minor": 2
}
