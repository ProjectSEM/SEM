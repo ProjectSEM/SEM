{
 "cells": [
  {
   "cell_type": "code",
   "execution_count": 1,
   "metadata": {
    "collapsed": true
   },
   "outputs": [],
   "source": [
    "%matplotlib inline\n",
    "import numpy as np\n",
    "import matplotlib.pyplot as plt\n",
    "import tensorflow as tf\n",
    "import seaborn as sns\n",
    "import edward as ed\n",
    "from edward.models import Normal, MultivariateNormalDiag\n",
    "from scipy.stats import multivariate_normal\n",
    "from scipy.misc import logsumexp"
   ]
  },
  {
   "cell_type": "markdown",
   "metadata": {},
   "source": [
    "Here, I'm defining the event segmentation model and a linear dymanic system that is used as the event model. See SEM project notes for details, but it's what's proposed\n"
   ]
  },
  {
   "cell_type": "code",
   "execution_count": 2,
   "metadata": {},
   "outputs": [
    {
     "data": {
      "text/plain": [
       "<matplotlib.collections.PathCollection at 0x11ae37d50>"
      ]
     },
     "execution_count": 2,
     "metadata": {},
     "output_type": "execute_result"
    },
    {
     "data": {
      "image/png": "[encoded data removed]",
      "text/plain": [
       "<matplotlib.figure.Figure at 0x117a9bbd0>"
      ]
     },
     "metadata": {},
     "output_type": "display_data"
    }
   ],
   "source": [
    "def build_2d_data(N, beta=0.1):\n",
    "    \"\"\" \n",
    "    2d, Mulitvariate Guassian data\n",
    "    \"\"\"\n",
    "    mu = [1, 1]\n",
    "    Sigma = np.eye(2) * beta\n",
    "    x = np.zeros((N, 2), dtype=np.float32)\n",
    "    for n in range(N):\n",
    "        x[n, :] = np.random.multivariate_normal(mu, Sigma)\n",
    "        \n",
    "    return x\n",
    "X = build_2d_data(100)\n",
    "plt.figure(figsize=(3,3))\n",
    "plt.scatter(X[:,0], X[:, 1])"
   ]
  },
  {
   "cell_type": "code",
   "execution_count": 3,
   "metadata": {},
   "outputs": [],
   "source": [
    "D = 2\n",
    "X_train = X[0:-1]; y_train = X[1:]\n"
   ]
  },
  {
   "cell_type": "code",
   "execution_count": 166,
   "metadata": {
    "collapsed": true
   },
   "outputs": [],
   "source": [
    "\n",
    "\n",
    "class EdwardLinearDynamicSystem(object):\n",
    "    \n",
    "    def __init__(self, D, n_samples=100):\n",
    "        \"\"\"\n",
    "        Parameters:\n",
    "        -----------\n",
    "        \n",
    "        D: int\n",
    "            dimensions of the data set\n",
    "        \n",
    "        n_samples: int\n",
    "            number of samples to draw of the posterior\n",
    "            \n",
    "        \"\"\"\n",
    "        self.D = D\n",
    "        self.x_train = np.zeros((0, self.D))  # initailize empty arrays\n",
    "        self.y_train = np.zeros((0, self.D))\n",
    "        \n",
    "        \n",
    "        # initialize samples, for untrained (new) models, predict X'_hat = X\n",
    "        self.n_samples = n_samples\n",
    "        self.w_samples = np.reshape(np.eye(D), (1, D, D))\n",
    "        self.b_samples = np.zeros((1, D))\n",
    "        \n",
    "    def _initialize_model(self, N):\n",
    "        \"\"\"\n",
    "        Parameters:\n",
    "        -----------\n",
    "        N: int\n",
    "            training sample size\n",
    "        \"\"\"\n",
    "        \n",
    "        self.W_0 = Normal(loc=tf.zeros([self.D, self.D]), scale=tf.ones([self.D, self.D]), name=\"W_0\")\n",
    "        self.b_0 = Normal(loc=tf.zeros(self.D), scale=tf.ones(self.D), name=\"b_0\")\n",
    "        \n",
    "        self.X = tf.placeholder(tf.float32, [N, self.D], name=\"X\")\n",
    "        \n",
    "        self.y = MultivariateNormalDiag(\n",
    "            loc=tf.matmul(self.X, self.W_0) + self.b_0, \n",
    "            scale_diag=0.1 * tf.ones(self.D), \n",
    "            name=\"y\"\n",
    "        )\n",
    "\n",
    "        self.qW_0 = Normal(loc=tf.Variable(tf.random_normal([self.D, self.D]), name=\"loc\"),\n",
    "                           scale=tf.nn.softplus(tf.Variable(tf.random_normal([self.D, self.D]), name=\"scale\")))        \n",
    "        \n",
    "        self.qb = Normal(loc=tf.Variable(tf.random_normal([self.D])),\n",
    "                    scale=tf.nn.softplus(tf.Variable(tf.random_normal([self.D]))))\n",
    "        \n",
    "    def _train(self, x_train, y_train):\n",
    "        \"\"\"\n",
    "        Parameters\n",
    "        ----------\n",
    "        \n",
    "        x_train: NxD array\n",
    "            N examplars of D-dimensional states\n",
    "            \n",
    "        y_train: NxD array\n",
    "            N examplars of D-dimensional sucessor states\n",
    "        \n",
    "        \"\"\"\n",
    "        inference = ed.KLqp({self.W_0: self.qW_0, self.b_0: self.qb}, \n",
    "                            data={self.X: x_train, self.y: y_train})\n",
    "        #inference.run(n_samples=5, n_iter=1000)\n",
    "        inference.run(logdir='log')\n",
    "\n",
    "    def update(self, X, Y, estimate=True):\n",
    "        \"\"\"\n",
    "        Parameters\n",
    "        ----------\n",
    "        \n",
    "        X: np.array, length D\n",
    "            observed state vector\n",
    "            \n",
    "        Y: np.array, length D\n",
    "            observed sucessor state vector\n",
    "        \"\"\"        \n",
    "        self.x_train = np.concatenate([self.x_train, np.reshape(X, newshape=(1, 2))])\n",
    "        self.y_train = np.concatenate([self.y_train, np.reshape(Y, newshape=(1, 2))])\n",
    "        \n",
    "        if estimate:\n",
    "            # initialize and train the edward model\n",
    "            N, D = self.x_train.shape\n",
    "            self._initialize_model(N)\n",
    "            self._train(self.x_train, self.y_train)\n",
    "            \n",
    "        # cache parameter samples for prediction\n",
    "\n",
    "        # posterior predictive distribution\n",
    "        y_post = ed.copy(self.y, {self.W_0: self.qW_0, self.b_0: self.qb})\n",
    "        \n",
    "        # try sampling from the posterior\n",
    "        self.w_samples = self.W_0.sample(self.n_samples).eval()\n",
    "        self.b_samples = self.b_0.sample(self.n_samples).eval()\n",
    "            \n",
    "        \n",
    "    def log_likelihood(self, X, Y, Sigma):\n",
    "        \"\"\"\n",
    "        Calculate a normal likelihood\n",
    "        \n",
    "        Parameters\n",
    "        ----------\n",
    "        X: np.array length D\n",
    "            starting state vector\n",
    "        \n",
    "        Y: np.array length D\n",
    "            sucessor state vector\n",
    "            \n",
    "        Sigma: DxD array\n",
    "            covariance matrix for normal likelihood\n",
    "            \n",
    "        Returns\n",
    "        -------\n",
    "        \n",
    "        ll: float\n",
    "            log likelihood\n",
    "        \"\"\"\n",
    "        \n",
    "        \n",
    "        Y_hat = self.predict(X)\n",
    "        \n",
    "        n = Y_hat.shape[0]  # number of samples\n",
    "        LL = 0  # initialize log likelihood at zero\n",
    "        \n",
    "        for ii in range(n):\n",
    "            LL += np.log(multivariate_normal.pdf(Y - Y_hat[ii, :], mean=np.zeros(self.D), cov=Sigma))\n",
    "            \n",
    "        return LL\n",
    "        \n",
    "                \n",
    "\n",
    "                \n",
    "    def predict(self, X):\n",
    "        \"\"\"\n",
    "        Parameters\n",
    "        ----------\n",
    "        \n",
    "        X: np.array, length D\n",
    "            state vector\n",
    "            \n",
    "        Returns\n",
    "        -------\n",
    "        \n",
    "        Y_hat: np.array, n_samples x D\n",
    "            sample of predicted sucessors states\n",
    "        \"\"\"\n",
    "        \n",
    "        \n",
    "        # reshape the scene vector\n",
    "        n = self.w_samples.shape[0]  # number of samples stored\n",
    "        X_test = np.tile(X, (n, 1))\n",
    "        X_test = np.reshape(X_test, newshape=(n, 1, self.D))\n",
    "        Y_hat = np.reshape(np.matmul(X_test, self.w_samples), newshape=(n, D)) + self.b_samples\n",
    "    \n",
    "        return np.reshape(Y_hat, newshape=(n, 1, D))\n",
    "\n",
    "\n",
    "    \n",
    "ed_model = EdwardLinearDynamicSystem(D)\n"
   ]
  },
  {
   "cell_type": "code",
   "execution_count": 167,
   "metadata": {},
   "outputs": [],
   "source": [
    "class LinearDynamicSystem(object):\n",
    "\n",
    "    def __init__(self, D, eta=0.01):\n",
    "        \"\"\"\n",
    "        Parameters\n",
    "        ----------\n",
    "        D: int\n",
    "            dimensions of the vector space of interest\n",
    "            \n",
    "        eta: float\n",
    "            learning rate\n",
    "        \"\"\"\n",
    "        \n",
    "        self.beta = np.zeros(D).flatten()\n",
    "        self.W = np.eye(D).flatten()\n",
    "        self.eta = eta\n",
    "        self.D = D\n",
    "        \n",
    "    def predict(self, X):\n",
    "        \"\"\"\n",
    "        Parameters\n",
    "        ----------\n",
    "        X: np.array of length D\n",
    "            vector at time t\n",
    "        \n",
    "        Returns\n",
    "        -------\n",
    "        Y_hat: np.array of length D\n",
    "            prediction of vector at time t+1\n",
    "        \"\"\"\n",
    "        Y_hat = self.beta + np.matmul(X, np.reshape(self.W , (self.D, self.D)))\n",
    "        return Y_hat\n",
    "    \n",
    "    def log_likelihood(self, X, Y, Sigma):\n",
    "        \"\"\"\n",
    "        Calculate a normal likelihood\n",
    "        \n",
    "        Parameters\n",
    "        ----------\n",
    "        X: np.array length D\n",
    "            starting state vector\n",
    "        \n",
    "        Y: np.array length D\n",
    "            sucessor state vector\n",
    "            \n",
    "        Sigma: DxD array\n",
    "            covariance matrix for normal likelihood\n",
    "            \n",
    "        Returns\n",
    "        -------\n",
    "        \n",
    "        ll: float\n",
    "            log likelihood\n",
    "        \"\"\"\n",
    "        \n",
    "        Y_hat = self.predict(X)\n",
    "        return multivariate_normal.pdf(Y - Y_hat, mean=np.zeros(self.D), cov=Sigma)\n",
    "        \n",
    "    def update(self, X, Y):\n",
    "        \"\"\"\n",
    "        Parameters\n",
    "        ----------\n",
    "        \n",
    "        X: np.array, length D\n",
    "            observed state vector\n",
    "            \n",
    "        Y: np.array, length D\n",
    "            observed sucessor state vector\n",
    "        \"\"\"\n",
    "        Y_hat = self.predict(X)\n",
    "        \n",
    "        \n",
    "        # needed for updating logic\n",
    "        dXdb = np.eye(self.D)\n",
    "        dXdW = np.tile((np.tile(X, (1, self.D))), (self.D, 1))\n",
    "        g = np.concatenate([dXdb, dXdW], axis=1)\n",
    "        \n",
    "        # vectorize the parameters\n",
    "        theta = np.concatenate([self.beta, self.W.flatten()])\n",
    "        theta += self.eta * np.matmul(Y - Y_hat, g)\n",
    "        \n",
    "        # store the updated parameters\n",
    "        self.beta = theta[:np.shape(X)[0]]\n",
    "        self.W = theta[np.shape(X)[0]:]\n",
    "        \n",
    "        \n",
    "    \n",
    "class SEM(object):\n",
    "    \"\"\"\n",
    "    This port of SAM's code (done with a different programming logic)\n",
    "    in python. More documation to come!\n",
    "    \"\"\"\n",
    "    \n",
    "    def __init__(self, lmda=1., alfa=10.0, beta=0.1, f_class=None, f_opts=None):\n",
    "        \"\"\"\n",
    "        Parameters\n",
    "        ----------\n",
    "        \n",
    "        lmbda: float\n",
    "            sCRP stickyness parameter\n",
    "        \n",
    "        alfa: float\n",
    "            sCRP concentration parameter\n",
    "        \n",
    "        beta: float\n",
    "            gaussian noise parameter\n",
    "            \n",
    "        f_class: class\n",
    "            object class that has the functions \"predict\" and \"update\".\n",
    "            used as the event model\n",
    "            \n",
    "        f_opts: dictionary\n",
    "            kwargs for initializing f_class\n",
    "        \"\"\"\n",
    "        self.lmda = lmda\n",
    "        self.alfa = alfa\n",
    "        self.beta = beta\n",
    "        \n",
    "        if f_class is None:\n",
    "            self.f_class = LinearDynamicSystem\n",
    "        else:\n",
    "            self.f_class = f_class\n",
    "        if f_opts is None:\n",
    "            self.f_opts = {'eta': 0.01}\n",
    "        else:\n",
    "            self.f_opts = f_opts\n",
    "\n",
    "            \n",
    "    def run(self, X, K=None):\n",
    "        \"\"\"\n",
    "        Parameters\n",
    "        ----------\n",
    "        X: N x D array of \n",
    "        \n",
    "        K: int\n",
    "            maximum number of clusters\n",
    "        \n",
    "        Return\n",
    "        ------\n",
    "        post: N by K array of posterior probabilites\n",
    "        \"\"\"\n",
    "        \n",
    "        [N, D] = np.shape(X)\n",
    "        \n",
    "        Sigma = np.eye(D) * self.beta  # noise for multivariate gaussian likelihood\n",
    "\n",
    "        if K is None:\n",
    "            K = N\n",
    "        \n",
    "        C = np.zeros(K)  # running count of the clustering process\n",
    "        prior = C.copy()\n",
    "        \n",
    "        event_models = dict()  # initialize an empty event model space\n",
    "        \n",
    "        x_prev = np.zeros(D)  # need a starting location as is sequential model\n",
    "        post = np.zeros((N, K))\n",
    "        \n",
    "        for n in range(N):\n",
    "            # calculate sCRP prior\n",
    "            prior = C.copy()\n",
    "            idx =  len(np.nonzero(C)[0])  # get number of visited clusters\n",
    "            \n",
    "            if idx < K:\n",
    "                prior[idx] = self.alfa  # set new cluster probability to alpha\n",
    "\n",
    "            # add stickyness parameter for n>0\n",
    "            if n > 0: \n",
    "                prior[np.argmax(post[n, :])] + self.lmda \n",
    "\n",
    "            prior /= np.sum(prior)\n",
    "            \n",
    "            # likelihood\n",
    "            active = np.nonzero(prior)[0]\n",
    "            lik = np.zeros(len(active))\n",
    "            \n",
    "            for k in active:\n",
    "                if k not in event_models.keys():\n",
    "                    event_models[k] = self.f_class(D, **self.f_opts)\n",
    "                \n",
    "                # get the log likelihood for each event model\n",
    "                model = event_models[k]\n",
    "                lik[k] = model.log_likelihood(x_prev, X[n, :], Sigma)\n",
    "                \n",
    "                \n",
    "            # posterior\n",
    "            p = np.log(prior[:len(active)]) + lik\n",
    "            post[n, :len(active)] = np.exp(p - logsumexp(p))\n",
    "\n",
    "            # update \n",
    "            k = np.argmax(post[n, :]) # MAP cluster\n",
    "            C[k] += 1 # update counts\n",
    "            event_models[k].update(x_prev, X[n, :])  # update event model\n",
    "            \n",
    "            x_prev = X[0, :].copy()  # store the current vector for next trial\n",
    "        \n",
    "        return post"
   ]
  },
  {
   "cell_type": "markdown",
   "metadata": {},
   "source": [
    "Now, we define some toy problem"
   ]
  },
  {
   "cell_type": "code",
   "execution_count": 168,
   "metadata": {},
   "outputs": [
    {
     "data": {
      "text/plain": [
       "[<matplotlib.lines.Line2D at 0x13f2f6410>]"
      ]
     },
     "execution_count": 168,
     "metadata": {},
     "output_type": "execute_result"
    },
    {
     "data": {
      "image/png": "[encoded data removed]",
      "text/plain": [
       "<matplotlib.figure.Figure at 0x12c306b50>"
      ]
     },
     "metadata": {},
     "output_type": "display_data"
    }
   ],
   "source": [
    "# first demo -- gaussian mixture defined by the CRP\n",
    "\n",
    "def build_static_dataset(N, beta=0.1):\n",
    "    \"\"\" \n",
    "    2 events, modeled as gaussians with different means\n",
    "    \"\"\"\n",
    "    \n",
    "    pi = np.array([0.4, 0.6])\n",
    "    mus = [[1, 1], [-1, -1]]\n",
    "    stds = np.ones((2, 2)) * beta\n",
    "    x = np.zeros((N, 2), dtype=np.float32)\n",
    "    for n in range(N/2):\n",
    "        x[n, :] = np.random.multivariate_normal(mus[0], np.diag(stds[0]))\n",
    "    for n in range(N/2, N):\n",
    "        x[n, :] = np.random.multivariate_normal(mus[1], np.diag(stds[1]))\n",
    "        \n",
    "    return x\n",
    "\n",
    "x_train = build_static_dataset(100, 0.01)\n",
    "plt.plot(x_train[:, 0], x_train[:, 1])"
   ]
  },
  {
   "cell_type": "code",
   "execution_count": 169,
   "metadata": {},
   "outputs": [],
   "source": [
    "K = 20  # maximum number of event types\n",
    "lmda = 1  # stickyness parameter\n",
    "alfa = 10.0  # concentration parameter\n",
    "beta = 0.01 # transition noise\n",
    "eta =  0.1  # learning rate\n",
    "\n",
    "sem_kwargs = dict(lmda=lmda, alfa=alfa, beta=beta, \n",
    "                  f_class=LinearDynamicSystem, f_opts=dict(eta=eta))\n",
    "\n",
    "sem = SEM(**sem_kwargs)\n",
    "post = sem.run(x_train, K=K)"
   ]
  },
  {
   "cell_type": "code",
   "execution_count": null,
   "metadata": {},
   "outputs": [],
   "source": [
    "def plot_segmentation(post):\n",
    "    cluster_id = np.argmax(post, axis=1)\n",
    "    import seaborn as sns\n",
    "    cc = sns.color_palette('Dark2', post.shape[1])\n",
    "    for clt in cluster_id:\n",
    "        idx = np.nonzero(cluster_id == clt)[0]\n",
    "        plt.scatter(x_train[idx, 0], x_train[idx, 1], color=cc[clt])\n",
    "        \n",
    "plot_segmentation(post)"
   ]
  },
  {
   "cell_type": "code",
   "execution_count": 162,
   "metadata": {},
   "outputs": [
    {
     "name": "stdout",
     "output_type": "stream",
     "text": [
      "[[ 0.97447973  1.01005268]]\n",
      "1000/1000 [100%] ██████████████████████████████ Elapsed: 51s | Loss: 2.01416s | \n",
      "[[ 0.51654506  0.0089559 ]]\n",
      "[[ 2.31964874 -0.46118236]]\n",
      "[[ 0.09249008  0.94154739]]\n",
      "[[ 0.91691601 -1.56048191]]\n",
      "[[ 1.65985131  0.63482988]]\n",
      "[[ 3.30836678  2.18158054]]\n",
      "[[ 2.24679422  3.50939417]]\n",
      "[[-1.46891868 -1.9980303 ]]\n",
      "[[ 1.73389506  5.25835848]]\n",
      "[[-0.58198488  2.30550528]]\n",
      "[[ 0.3497411   1.22721732]]\n",
      "[[-2.15078926  2.40633488]]\n",
      "[[-1.74228585 -0.21175253]]\n",
      "[[ 0.58806854  2.69222593]]\n",
      "[[-1.59922636  4.76879787]]\n",
      "[[-0.38127398 -2.71909857]]\n",
      "[[ 0.86023378 -1.85055149]]\n",
      "[[ 0.63379979 -2.33536673]]\n",
      "[[-0.20542204  2.91986704]]\n",
      "[[ 1.93136811  0.39139807]]\n",
      "[[ 3.0027163  -1.18659508]]\n",
      "[[ 0.33761466  0.8920635 ]]\n",
      "[[ 0.1828326  -1.25385797]]\n",
      "[[ 1.22231138 -1.77943552]]\n",
      "[[ 2.06023002  2.00252628]]\n",
      "[[ 0.9525314   2.39353943]]\n",
      "[[ 3.5431242   2.63133955]]\n",
      "[[ 0.00717568  0.14900613]]\n",
      "[[-2.256598    0.15104109]]\n",
      "[[ 1.63977432  0.38474822]]\n",
      "[[ 0.81772947  0.99483168]]\n",
      "[[ 2.63081932  1.16563678]]\n",
      "[[-1.14171946  0.43375385]]\n",
      "[[ 0.87770414  1.53916287]]\n",
      "[[-0.74064362  0.83685184]]\n",
      "[[ 2.82300901 -0.19388425]]\n",
      "[[-0.94622099 -1.26426017]]\n",
      "[[ 1.40321445  4.15835714]]\n",
      "[[ 0.70994484  0.8061319 ]]\n",
      "[[-1.88165247  1.51393032]]\n",
      "[[ 0.46867931  0.78728104]]\n",
      "[[ 2.35914087  1.37532675]]\n",
      "[[-0.18401361 -0.80349457]]\n",
      "[[ 2.31970453  2.11436844]]\n",
      "[[ 1.60407126 -0.61219335]]\n",
      "[[-0.26334465 -1.85056722]]\n",
      "[[ 3.33690929  0.6287871 ]]\n",
      "[[ 1.13947368  3.11418295]]\n",
      "[[ 0.90592825  1.11167407]]\n",
      "[[ 0.84261024  2.37698841]]\n",
      "[[-0.54098606 -0.06418121]]\n",
      "[[-0.32126057  1.15922284]]\n",
      "[[ 3.1694088  -1.79604352]]\n",
      "[[ 1.1225872   0.16259027]]\n",
      "[[ 1.73156929  1.02330482]]\n",
      "[[ 0.00404608  0.60957986]]\n",
      "[[ 1.13132024  1.5086453 ]]\n",
      "[[ 2.00677586  2.07335591]]\n",
      "[[-0.83317029  1.28546214]]\n",
      "[[ 1.07617939 -0.97442663]]\n",
      "[[ 1.17574525 -0.63000238]]\n",
      "[[-3.63427258  0.28523409]]\n",
      "[[ 2.07498407 -1.0300355 ]]\n",
      "[[ 5.77794218 -0.30859721]]\n",
      "[[ 3.17935181  2.58802843]]\n",
      "[[ 0.24534303  0.28593427]]\n",
      "[[ 2.23651314  2.55110359]]\n",
      "[[ 2.34960651 -0.17404163]]\n",
      "[[ 2.53818679 -0.42906153]]\n",
      "[[ 1.97384334  2.24783134]]\n",
      "[[ 1.93465185  1.5874033 ]]\n",
      "[[ 1.75673354  1.51286256]]\n",
      "[[-1.77395427  1.70189357]]\n",
      "[[ 1.83662891  1.98474395]]\n",
      "[[ 2.15897226 -0.16550255]]\n",
      "[[ 3.83609915  0.03004742]]\n",
      "[[ 0.88561618 -1.82605803]]\n",
      "[[-0.55662262  0.10856694]]\n",
      "[[ 3.83214664 -0.43567359]]\n",
      "[[ 3.41162729  3.47889185]]\n",
      "[[-2.89606142 -0.58810472]]\n",
      "[[ 0.13301647  1.16155005]]\n",
      "[[ 1.27221823 -1.82136786]]\n",
      "[[ 1.46723902  0.27390552]]\n",
      "[[ 0.53412884  2.21040249]]\n",
      "[[-0.13031733  1.66729546]]\n",
      "[[ 0.16641784  2.36306906]]\n",
      "[[ 2.9968152   0.87181616]]\n",
      "[[ 1.56953859  2.48695183]]\n",
      "[[-4.0831089  -0.85180748]]\n",
      "[[ 2.67579651  1.92155504]]\n",
      "[[ 0.57591307  3.74035692]]\n",
      "[[ 1.16039157  3.75336695]]\n",
      "[[ 2.43323088  1.55966139]]\n",
      "[[ 2.27271318  4.76377439]]\n",
      "[[ 3.22224522  2.21311259]]\n",
      "[[ 1.6116879   2.42389536]]\n",
      "[[ 3.03860903  1.99021876]]\n",
      "[[ 1.13638258  2.81140709]]\n",
      "[[ 3.81767797  0.60535055]]\n",
      "[[ 0.03709322 -0.07250655]]\n"
     ]
    },
    {
     "name": "stderr",
     "output_type": "stream",
     "text": [
      "/Users/nickfranklin/anaconda/envs/tensorflow/lib/python2.7/site-packages/ipykernel_launcher.py:128: RuntimeWarning: divide by zero encountered in log\n"
     ]
    },
    {
     "ename": "KeyboardInterrupt",
     "evalue": "",
     "output_type": "error",
     "traceback": [
      "\u001b[0;31m---------------------------------------------------------------------------\u001b[0m",
      "\u001b[0;31mKeyboardInterrupt\u001b[0m                         Traceback (most recent call last)",
      "\u001b[0;32m<ipython-input-162-07fe13519efe>\u001b[0m in \u001b[0;36m<module>\u001b[0;34m()\u001b[0m\n\u001b[1;32m      9\u001b[0m \u001b[0;34m\u001b[0m\u001b[0m\n\u001b[1;32m     10\u001b[0m \u001b[0msem2\u001b[0m \u001b[0;34m=\u001b[0m \u001b[0mSEM\u001b[0m\u001b[0;34m(\u001b[0m\u001b[0;34m**\u001b[0m\u001b[0msem_kwargs\u001b[0m\u001b[0;34m)\u001b[0m\u001b[0;34m\u001b[0m\u001b[0m\n\u001b[0;32m---> 11\u001b[0;31m \u001b[0mpost\u001b[0m \u001b[0;34m=\u001b[0m \u001b[0msem2\u001b[0m\u001b[0;34m.\u001b[0m\u001b[0mrun\u001b[0m\u001b[0;34m(\u001b[0m\u001b[0mx_train\u001b[0m\u001b[0;34m,\u001b[0m \u001b[0mK\u001b[0m\u001b[0;34m=\u001b[0m\u001b[0mK\u001b[0m\u001b[0;34m)\u001b[0m\u001b[0;34m\u001b[0m\u001b[0m\n\u001b[0m",
      "\u001b[0;32m<ipython-input-156-0e0b617a5540>\u001b[0m in \u001b[0;36mrun\u001b[0;34m(self, X, K)\u001b[0m\n\u001b[1;32m    190\u001b[0m             \u001b[0mk\u001b[0m \u001b[0;34m=\u001b[0m \u001b[0mnp\u001b[0m\u001b[0;34m.\u001b[0m\u001b[0margmax\u001b[0m\u001b[0;34m(\u001b[0m\u001b[0mpost\u001b[0m\u001b[0;34m[\u001b[0m\u001b[0mn\u001b[0m\u001b[0;34m,\u001b[0m \u001b[0;34m:\u001b[0m\u001b[0;34m]\u001b[0m\u001b[0;34m)\u001b[0m \u001b[0;31m# MAP cluster\u001b[0m\u001b[0;34m\u001b[0m\u001b[0m\n\u001b[1;32m    191\u001b[0m             \u001b[0mC\u001b[0m\u001b[0;34m[\u001b[0m\u001b[0mk\u001b[0m\u001b[0;34m]\u001b[0m \u001b[0;34m+=\u001b[0m \u001b[0;36m1\u001b[0m \u001b[0;31m# update counts\u001b[0m\u001b[0;34m\u001b[0m\u001b[0m\n\u001b[0;32m--> 192\u001b[0;31m             \u001b[0mevent_models\u001b[0m\u001b[0;34m[\u001b[0m\u001b[0mk\u001b[0m\u001b[0;34m]\u001b[0m\u001b[0;34m.\u001b[0m\u001b[0mupdate\u001b[0m\u001b[0;34m(\u001b[0m\u001b[0mx_prev\u001b[0m\u001b[0;34m,\u001b[0m \u001b[0mX\u001b[0m\u001b[0;34m[\u001b[0m\u001b[0mn\u001b[0m\u001b[0;34m,\u001b[0m \u001b[0;34m:\u001b[0m\u001b[0;34m]\u001b[0m\u001b[0;34m)\u001b[0m  \u001b[0;31m# update event model\u001b[0m\u001b[0;34m\u001b[0m\u001b[0m\n\u001b[0m\u001b[1;32m    193\u001b[0m \u001b[0;34m\u001b[0m\u001b[0m\n\u001b[1;32m    194\u001b[0m             \u001b[0mx_prev\u001b[0m \u001b[0;34m=\u001b[0m \u001b[0mX\u001b[0m\u001b[0;34m[\u001b[0m\u001b[0;36m0\u001b[0m\u001b[0;34m,\u001b[0m \u001b[0;34m:\u001b[0m\u001b[0;34m]\u001b[0m\u001b[0;34m.\u001b[0m\u001b[0mcopy\u001b[0m\u001b[0;34m(\u001b[0m\u001b[0;34m)\u001b[0m  \u001b[0;31m# store the current vector for next trial\u001b[0m\u001b[0;34m\u001b[0m\u001b[0m\n",
      "\u001b[0;32m<ipython-input-161-a29001a21818>\u001b[0m in \u001b[0;36mupdate\u001b[0;34m(self, X, Y, estimate)\u001b[0m\n\u001b[1;32m     84\u001b[0m             \u001b[0mN\u001b[0m\u001b[0;34m,\u001b[0m \u001b[0mD\u001b[0m \u001b[0;34m=\u001b[0m \u001b[0mself\u001b[0m\u001b[0;34m.\u001b[0m\u001b[0mx_train\u001b[0m\u001b[0;34m.\u001b[0m\u001b[0mshape\u001b[0m\u001b[0;34m\u001b[0m\u001b[0m\n\u001b[1;32m     85\u001b[0m             \u001b[0mself\u001b[0m\u001b[0;34m.\u001b[0m\u001b[0m_initialize_model\u001b[0m\u001b[0;34m(\u001b[0m\u001b[0mN\u001b[0m\u001b[0;34m)\u001b[0m\u001b[0;34m\u001b[0m\u001b[0m\n\u001b[0;32m---> 86\u001b[0;31m             \u001b[0mself\u001b[0m\u001b[0;34m.\u001b[0m\u001b[0m_train\u001b[0m\u001b[0;34m(\u001b[0m\u001b[0mself\u001b[0m\u001b[0;34m.\u001b[0m\u001b[0mx_train\u001b[0m\u001b[0;34m,\u001b[0m \u001b[0mself\u001b[0m\u001b[0;34m.\u001b[0m\u001b[0my_train\u001b[0m\u001b[0;34m)\u001b[0m\u001b[0;34m\u001b[0m\u001b[0m\n\u001b[0m\u001b[1;32m     87\u001b[0m \u001b[0;34m\u001b[0m\u001b[0m\n\u001b[1;32m     88\u001b[0m         \u001b[0;31m# cache parameter samples for prediction\u001b[0m\u001b[0;34m\u001b[0m\u001b[0;34m\u001b[0m\u001b[0m\n",
      "\u001b[0;32m<ipython-input-161-a29001a21818>\u001b[0m in \u001b[0;36m_train\u001b[0;34m(self, x_train, y_train)\u001b[0m\n\u001b[1;32m     64\u001b[0m                             data={self.X: x_train, self.y: y_train})\n\u001b[1;32m     65\u001b[0m         \u001b[0;31m#inference.run(n_samples=5, n_iter=1000)\u001b[0m\u001b[0;34m\u001b[0m\u001b[0;34m\u001b[0m\u001b[0m\n\u001b[0;32m---> 66\u001b[0;31m         \u001b[0minference\u001b[0m\u001b[0;34m.\u001b[0m\u001b[0mrun\u001b[0m\u001b[0;34m(\u001b[0m\u001b[0mlogdir\u001b[0m\u001b[0;34m=\u001b[0m\u001b[0;34m'log'\u001b[0m\u001b[0;34m)\u001b[0m\u001b[0;34m\u001b[0m\u001b[0m\n\u001b[0m\u001b[1;32m     67\u001b[0m \u001b[0;34m\u001b[0m\u001b[0m\n\u001b[1;32m     68\u001b[0m     \u001b[0;32mdef\u001b[0m \u001b[0mupdate\u001b[0m\u001b[0;34m(\u001b[0m\u001b[0mself\u001b[0m\u001b[0;34m,\u001b[0m \u001b[0mX\u001b[0m\u001b[0;34m,\u001b[0m \u001b[0mY\u001b[0m\u001b[0;34m,\u001b[0m \u001b[0mestimate\u001b[0m\u001b[0;34m=\u001b[0m\u001b[0mTrue\u001b[0m\u001b[0;34m)\u001b[0m\u001b[0;34m:\u001b[0m\u001b[0;34m\u001b[0m\u001b[0m\n",
      "\u001b[0;32m/Users/nickfranklin/anaconda/envs/tensorflow/lib/python2.7/site-packages/edward/inferences/inference.pyc\u001b[0m in \u001b[0;36mrun\u001b[0;34m(self, variables, use_coordinator, *args, **kwargs)\u001b[0m\n\u001b[1;32m    121\u001b[0m       \u001b[0mPassed\u001b[0m \u001b[0minto\u001b[0m \u001b[0;34m`\u001b[0m\u001b[0;34m`\u001b[0m\u001b[0minitialize\u001b[0m\u001b[0;34m`\u001b[0m\u001b[0;34m`\u001b[0m\u001b[0;34m.\u001b[0m\u001b[0;34m\u001b[0m\u001b[0m\n\u001b[1;32m    122\u001b[0m     \"\"\"\n\u001b[0;32m--> 123\u001b[0;31m     \u001b[0mself\u001b[0m\u001b[0;34m.\u001b[0m\u001b[0minitialize\u001b[0m\u001b[0;34m(\u001b[0m\u001b[0;34m*\u001b[0m\u001b[0margs\u001b[0m\u001b[0;34m,\u001b[0m \u001b[0;34m**\u001b[0m\u001b[0mkwargs\u001b[0m\u001b[0;34m)\u001b[0m\u001b[0;34m\u001b[0m\u001b[0m\n\u001b[0m\u001b[1;32m    124\u001b[0m \u001b[0;34m\u001b[0m\u001b[0m\n\u001b[1;32m    125\u001b[0m     \u001b[0;32mif\u001b[0m \u001b[0mvariables\u001b[0m \u001b[0;32mis\u001b[0m \u001b[0mNone\u001b[0m\u001b[0;34m:\u001b[0m\u001b[0;34m\u001b[0m\u001b[0m\n",
      "\u001b[0;32m/Users/nickfranklin/anaconda/envs/tensorflow/lib/python2.7/site-packages/edward/inferences/klqp.pyc\u001b[0m in \u001b[0;36minitialize\u001b[0;34m(self, n_samples, kl_scaling, *args, **kwargs)\u001b[0m\n\u001b[1;32m     84\u001b[0m     \u001b[0mself\u001b[0m\u001b[0;34m.\u001b[0m\u001b[0mn_samples\u001b[0m \u001b[0;34m=\u001b[0m \u001b[0mn_samples\u001b[0m\u001b[0;34m\u001b[0m\u001b[0m\n\u001b[1;32m     85\u001b[0m     \u001b[0mself\u001b[0m\u001b[0;34m.\u001b[0m\u001b[0mkl_scaling\u001b[0m \u001b[0;34m=\u001b[0m \u001b[0mkl_scaling\u001b[0m\u001b[0;34m\u001b[0m\u001b[0m\n\u001b[0;32m---> 86\u001b[0;31m     \u001b[0;32mreturn\u001b[0m \u001b[0msuper\u001b[0m\u001b[0;34m(\u001b[0m\u001b[0mKLqp\u001b[0m\u001b[0;34m,\u001b[0m \u001b[0mself\u001b[0m\u001b[0;34m)\u001b[0m\u001b[0;34m.\u001b[0m\u001b[0minitialize\u001b[0m\u001b[0;34m(\u001b[0m\u001b[0;34m*\u001b[0m\u001b[0margs\u001b[0m\u001b[0;34m,\u001b[0m \u001b[0;34m**\u001b[0m\u001b[0mkwargs\u001b[0m\u001b[0;34m)\u001b[0m\u001b[0;34m\u001b[0m\u001b[0m\n\u001b[0m\u001b[1;32m     87\u001b[0m \u001b[0;34m\u001b[0m\u001b[0m\n\u001b[1;32m     88\u001b[0m   \u001b[0;32mdef\u001b[0m \u001b[0mbuild_loss_and_gradients\u001b[0m\u001b[0;34m(\u001b[0m\u001b[0mself\u001b[0m\u001b[0;34m,\u001b[0m \u001b[0mvar_list\u001b[0m\u001b[0;34m)\u001b[0m\u001b[0;34m:\u001b[0m\u001b[0;34m\u001b[0m\u001b[0m\n",
      "\u001b[0;32m/Users/nickfranklin/anaconda/envs/tensorflow/lib/python2.7/site-packages/edward/inferences/variational_inference.pyc\u001b[0m in \u001b[0;36minitialize\u001b[0;34m(self, optimizer, var_list, use_prettytensor, global_step, *args, **kwargs)\u001b[0m\n\u001b[1;32m     54\u001b[0m       \u001b[0mA\u001b[0m \u001b[0mTensorFlow\u001b[0m \u001b[0mvariable\u001b[0m \u001b[0mto\u001b[0m \u001b[0mhold\u001b[0m \u001b[0mthe\u001b[0m \u001b[0;32mglobal\u001b[0m \u001b[0mstep\u001b[0m\u001b[0;34m.\u001b[0m\u001b[0;34m\u001b[0m\u001b[0m\n\u001b[1;32m     55\u001b[0m     \"\"\"\n\u001b[0;32m---> 56\u001b[0;31m     \u001b[0msuper\u001b[0m\u001b[0;34m(\u001b[0m\u001b[0mVariationalInference\u001b[0m\u001b[0;34m,\u001b[0m \u001b[0mself\u001b[0m\u001b[0;34m)\u001b[0m\u001b[0;34m.\u001b[0m\u001b[0minitialize\u001b[0m\u001b[0;34m(\u001b[0m\u001b[0;34m*\u001b[0m\u001b[0margs\u001b[0m\u001b[0;34m,\u001b[0m \u001b[0;34m**\u001b[0m\u001b[0mkwargs\u001b[0m\u001b[0;34m)\u001b[0m\u001b[0;34m\u001b[0m\u001b[0m\n\u001b[0m\u001b[1;32m     57\u001b[0m \u001b[0;34m\u001b[0m\u001b[0m\n\u001b[1;32m     58\u001b[0m     \u001b[0;32mif\u001b[0m \u001b[0mvar_list\u001b[0m \u001b[0;32mis\u001b[0m \u001b[0mNone\u001b[0m\u001b[0;34m:\u001b[0m\u001b[0;34m\u001b[0m\u001b[0m\n",
      "\u001b[0;32m/Users/nickfranklin/anaconda/envs/tensorflow/lib/python2.7/site-packages/edward/inferences/inference.pyc\u001b[0m in \u001b[0;36minitialize\u001b[0;34m(self, n_iter, n_print, scale, logdir, log_timestamp, log_vars, debug)\u001b[0m\n\u001b[1;32m    219\u001b[0m \u001b[0;34m\u001b[0m\u001b[0m\n\u001b[1;32m    220\u001b[0m       \u001b[0mself\u001b[0m\u001b[0;34m.\u001b[0m\u001b[0m_set_log_variables\u001b[0m\u001b[0;34m(\u001b[0m\u001b[0mlog_vars\u001b[0m\u001b[0;34m)\u001b[0m\u001b[0;34m\u001b[0m\u001b[0m\n\u001b[0;32m--> 221\u001b[0;31m       \u001b[0mself\u001b[0m\u001b[0;34m.\u001b[0m\u001b[0mtrain_writer\u001b[0m \u001b[0;34m=\u001b[0m \u001b[0mtf\u001b[0m\u001b[0;34m.\u001b[0m\u001b[0msummary\u001b[0m\u001b[0;34m.\u001b[0m\u001b[0mFileWriter\u001b[0m\u001b[0;34m(\u001b[0m\u001b[0mlogdir\u001b[0m\u001b[0;34m,\u001b[0m \u001b[0mtf\u001b[0m\u001b[0;34m.\u001b[0m\u001b[0mget_default_graph\u001b[0m\u001b[0;34m(\u001b[0m\u001b[0;34m)\u001b[0m\u001b[0;34m)\u001b[0m\u001b[0;34m\u001b[0m\u001b[0m\n\u001b[0m\u001b[1;32m    222\u001b[0m       \u001b[0mself\u001b[0m\u001b[0;34m.\u001b[0m\u001b[0msummarize\u001b[0m \u001b[0;34m=\u001b[0m \u001b[0mtf\u001b[0m\u001b[0;34m.\u001b[0m\u001b[0msummary\u001b[0m\u001b[0;34m.\u001b[0m\u001b[0mmerge_all\u001b[0m\u001b[0;34m(\u001b[0m\u001b[0;34m)\u001b[0m\u001b[0;34m\u001b[0m\u001b[0m\n\u001b[1;32m    223\u001b[0m     \u001b[0;32melse\u001b[0m\u001b[0;34m:\u001b[0m\u001b[0;34m\u001b[0m\u001b[0m\n",
      "\u001b[0;32m/Users/nickfranklin/anaconda/envs/tensorflow/lib/python2.7/site-packages/tensorflow/python/summary/writer/writer.pyc\u001b[0m in \u001b[0;36m__init__\u001b[0;34m(self, logdir, graph, max_queue, flush_secs, graph_def, filename_suffix)\u001b[0m\n\u001b[1;32m    335\u001b[0m     event_writer = EventFileWriter(logdir, max_queue, flush_secs,\n\u001b[1;32m    336\u001b[0m                                    filename_suffix)\n\u001b[0;32m--> 337\u001b[0;31m     \u001b[0msuper\u001b[0m\u001b[0;34m(\u001b[0m\u001b[0mFileWriter\u001b[0m\u001b[0;34m,\u001b[0m \u001b[0mself\u001b[0m\u001b[0;34m)\u001b[0m\u001b[0;34m.\u001b[0m\u001b[0m__init__\u001b[0m\u001b[0;34m(\u001b[0m\u001b[0mevent_writer\u001b[0m\u001b[0;34m,\u001b[0m \u001b[0mgraph\u001b[0m\u001b[0;34m,\u001b[0m \u001b[0mgraph_def\u001b[0m\u001b[0;34m)\u001b[0m\u001b[0;34m\u001b[0m\u001b[0m\n\u001b[0m\u001b[1;32m    338\u001b[0m \u001b[0;34m\u001b[0m\u001b[0m\n\u001b[1;32m    339\u001b[0m   \u001b[0;32mdef\u001b[0m \u001b[0mget_logdir\u001b[0m\u001b[0;34m(\u001b[0m\u001b[0mself\u001b[0m\u001b[0;34m)\u001b[0m\u001b[0;34m:\u001b[0m\u001b[0;34m\u001b[0m\u001b[0m\n",
      "\u001b[0;32m/Users/nickfranklin/anaconda/envs/tensorflow/lib/python2.7/site-packages/tensorflow/python/summary/writer/writer.pyc\u001b[0m in \u001b[0;36m__init__\u001b[0;34m(self, event_writer, graph, graph_def)\u001b[0m\n\u001b[1;32m     78\u001b[0m     \u001b[0;32mif\u001b[0m \u001b[0mgraph\u001b[0m \u001b[0;32mis\u001b[0m \u001b[0;32mnot\u001b[0m \u001b[0mNone\u001b[0m \u001b[0;32mor\u001b[0m \u001b[0mgraph_def\u001b[0m \u001b[0;32mis\u001b[0m \u001b[0;32mnot\u001b[0m \u001b[0mNone\u001b[0m\u001b[0;34m:\u001b[0m\u001b[0;34m\u001b[0m\u001b[0m\n\u001b[1;32m     79\u001b[0m       \u001b[0;31m# Calling it with both graph and graph_def for backward compatibility.\u001b[0m\u001b[0;34m\u001b[0m\u001b[0;34m\u001b[0m\u001b[0m\n\u001b[0;32m---> 80\u001b[0;31m       \u001b[0mself\u001b[0m\u001b[0;34m.\u001b[0m\u001b[0madd_graph\u001b[0m\u001b[0;34m(\u001b[0m\u001b[0mgraph\u001b[0m\u001b[0;34m=\u001b[0m\u001b[0mgraph\u001b[0m\u001b[0;34m,\u001b[0m \u001b[0mgraph_def\u001b[0m\u001b[0;34m=\u001b[0m\u001b[0mgraph_def\u001b[0m\u001b[0;34m)\u001b[0m\u001b[0;34m\u001b[0m\u001b[0m\n\u001b[0m\u001b[1;32m     81\u001b[0m       \u001b[0;31m# Also export the meta_graph_def in this case.\u001b[0m\u001b[0;34m\u001b[0m\u001b[0;34m\u001b[0m\u001b[0m\n\u001b[1;32m     82\u001b[0m       \u001b[0;31m# graph may itself be a graph_def due to positional arguments\u001b[0m\u001b[0;34m\u001b[0m\u001b[0;34m\u001b[0m\u001b[0m\n",
      "\u001b[0;32m/Users/nickfranklin/anaconda/envs/tensorflow/lib/python2.7/site-packages/tensorflow/python/summary/writer/writer.pyc\u001b[0m in \u001b[0;36madd_graph\u001b[0;34m(self, graph, global_step, graph_def)\u001b[0m\n\u001b[1;32m    188\u001b[0m \u001b[0;34m\u001b[0m\u001b[0m\n\u001b[1;32m    189\u001b[0m       \u001b[0;31m# Serialize the graph with additional info.\u001b[0m\u001b[0;34m\u001b[0m\u001b[0;34m\u001b[0m\u001b[0m\n\u001b[0;32m--> 190\u001b[0;31m       \u001b[0mtrue_graph_def\u001b[0m \u001b[0;34m=\u001b[0m \u001b[0mgraph\u001b[0m\u001b[0;34m.\u001b[0m\u001b[0mas_graph_def\u001b[0m\u001b[0;34m(\u001b[0m\u001b[0madd_shapes\u001b[0m\u001b[0;34m=\u001b[0m\u001b[0mTrue\u001b[0m\u001b[0;34m)\u001b[0m\u001b[0;34m\u001b[0m\u001b[0m\n\u001b[0m\u001b[1;32m    191\u001b[0m       \u001b[0mself\u001b[0m\u001b[0;34m.\u001b[0m\u001b[0m_write_plugin_assets\u001b[0m\u001b[0;34m(\u001b[0m\u001b[0mgraph\u001b[0m\u001b[0;34m)\u001b[0m\u001b[0;34m\u001b[0m\u001b[0m\n\u001b[1;32m    192\u001b[0m     elif (isinstance(graph, graph_pb2.GraphDef) or\n",
      "\u001b[0;32m/Users/nickfranklin/anaconda/envs/tensorflow/lib/python2.7/site-packages/tensorflow/python/framework/ops.pyc\u001b[0m in \u001b[0;36mas_graph_def\u001b[0;34m(self, from_version, add_shapes)\u001b[0m\n\u001b[1;32m   2483\u001b[0m     \"\"\"\n\u001b[1;32m   2484\u001b[0m     \u001b[0;31m# pylint: enable=line-too-long\u001b[0m\u001b[0;34m\u001b[0m\u001b[0;34m\u001b[0m\u001b[0m\n\u001b[0;32m-> 2485\u001b[0;31m     \u001b[0mresult\u001b[0m\u001b[0;34m,\u001b[0m \u001b[0m_\u001b[0m \u001b[0;34m=\u001b[0m \u001b[0mself\u001b[0m\u001b[0;34m.\u001b[0m\u001b[0m_as_graph_def\u001b[0m\u001b[0;34m(\u001b[0m\u001b[0mfrom_version\u001b[0m\u001b[0;34m,\u001b[0m \u001b[0madd_shapes\u001b[0m\u001b[0;34m)\u001b[0m\u001b[0;34m\u001b[0m\u001b[0m\n\u001b[0m\u001b[1;32m   2486\u001b[0m     \u001b[0;32mreturn\u001b[0m \u001b[0mresult\u001b[0m\u001b[0;34m\u001b[0m\u001b[0m\n\u001b[1;32m   2487\u001b[0m \u001b[0;34m\u001b[0m\u001b[0m\n",
      "\u001b[0;32m/Users/nickfranklin/anaconda/envs/tensorflow/lib/python2.7/site-packages/tensorflow/python/framework/ops.pyc\u001b[0m in \u001b[0;36m_as_graph_def\u001b[0;34m(self, from_version, add_shapes)\u001b[0m\n\u001b[1;32m   2441\u001b[0m             \u001b[0;32massert\u001b[0m \u001b[0;34m\"_output_shapes\"\u001b[0m \u001b[0;32mnot\u001b[0m \u001b[0;32min\u001b[0m \u001b[0mgraph\u001b[0m\u001b[0;34m.\u001b[0m\u001b[0mnode\u001b[0m\u001b[0;34m[\u001b[0m\u001b[0;34m-\u001b[0m\u001b[0;36m1\u001b[0m\u001b[0;34m]\u001b[0m\u001b[0;34m.\u001b[0m\u001b[0mattr\u001b[0m\u001b[0;34m\u001b[0m\u001b[0m\n\u001b[1;32m   2442\u001b[0m             graph.node[-1].attr[\"_output_shapes\"].list.shape.extend([\n\u001b[0;32m-> 2443\u001b[0;31m                 output.get_shape().as_proto() for output in op.outputs])\n\u001b[0m\u001b[1;32m   2444\u001b[0m           \u001b[0mbytesize\u001b[0m \u001b[0;34m+=\u001b[0m \u001b[0mop\u001b[0m\u001b[0;34m.\u001b[0m\u001b[0mnode_def\u001b[0m\u001b[0;34m.\u001b[0m\u001b[0mByteSize\u001b[0m\u001b[0;34m(\u001b[0m\u001b[0;34m)\u001b[0m\u001b[0;34m\u001b[0m\u001b[0m\n\u001b[1;32m   2445\u001b[0m           \u001b[0;32mif\u001b[0m \u001b[0mbytesize\u001b[0m \u001b[0;34m>=\u001b[0m \u001b[0;34m(\u001b[0m\u001b[0;36m1\u001b[0m \u001b[0;34m<<\u001b[0m \u001b[0;36m31\u001b[0m\u001b[0;34m)\u001b[0m \u001b[0;32mor\u001b[0m \u001b[0mbytesize\u001b[0m \u001b[0;34m<\u001b[0m \u001b[0;36m0\u001b[0m\u001b[0;34m:\u001b[0m\u001b[0;34m\u001b[0m\u001b[0m\n",
      "\u001b[0;32m/Users/nickfranklin/anaconda/envs/tensorflow/lib/python2.7/site-packages/google/protobuf/internal/containers.pyc\u001b[0m in \u001b[0;36mextend\u001b[0;34m(self, elem_seq)\u001b[0m\n\u001b[1;32m    388\u001b[0m       \u001b[0mnew_element\u001b[0m\u001b[0;34m.\u001b[0m\u001b[0m_SetListener\u001b[0m\u001b[0;34m(\u001b[0m\u001b[0mlistener\u001b[0m\u001b[0;34m)\u001b[0m\u001b[0;34m\u001b[0m\u001b[0m\n\u001b[1;32m    389\u001b[0m       \u001b[0mnew_element\u001b[0m\u001b[0;34m.\u001b[0m\u001b[0mMergeFrom\u001b[0m\u001b[0;34m(\u001b[0m\u001b[0mmessage\u001b[0m\u001b[0;34m)\u001b[0m\u001b[0;34m\u001b[0m\u001b[0m\n\u001b[0;32m--> 390\u001b[0;31m       \u001b[0mvalues\u001b[0m\u001b[0;34m.\u001b[0m\u001b[0mappend\u001b[0m\u001b[0;34m(\u001b[0m\u001b[0mnew_element\u001b[0m\u001b[0;34m)\u001b[0m\u001b[0;34m\u001b[0m\u001b[0m\n\u001b[0m\u001b[1;32m    391\u001b[0m     \u001b[0mlistener\u001b[0m\u001b[0;34m.\u001b[0m\u001b[0mModified\u001b[0m\u001b[0;34m(\u001b[0m\u001b[0;34m)\u001b[0m\u001b[0;34m\u001b[0m\u001b[0m\n\u001b[1;32m    392\u001b[0m \u001b[0;34m\u001b[0m\u001b[0m\n",
      "\u001b[0;31mKeyboardInterrupt\u001b[0m: "
     ]
    }
   ],
   "source": [
    "K = 20  # maximum number of event types\n",
    "lmda = 1  # stickyness parameter\n",
    "alfa = 10.0  # concentration parameter\n",
    "beta = 0.01 # transition noise\n",
    "n_samples =  100  # learning rate\n",
    "\n",
    "sem_kwargs = dict(lmda=lmda, alfa=alfa, beta=beta, \n",
    "                  f_class=EdwardLinearDynamicSystem, f_opts=dict(n_samples=n_samples))\n",
    "\n",
    "sem2 = SEM(**sem_kwargs)\n",
    "post = sem2.run(x_train, K=K)"
   ]
  },
  {
   "cell_type": "code",
   "execution_count": null,
   "metadata": {
    "collapsed": true
   },
   "outputs": [],
   "source": [
    "plot_segmentation(post)"
   ]
  },
  {
   "cell_type": "markdown",
   "metadata": {},
   "source": [
    "Now, alternative between two events\n"
   ]
  },
  {
   "cell_type": "code",
   "execution_count": 144,
   "metadata": {},
   "outputs": [
    {
     "data": {
      "text/plain": [
       "[<matplotlib.lines.Line2D at 0x129ad2650>]"
      ]
     },
     "execution_count": 144,
     "metadata": {},
     "output_type": "execute_result"
    },
    {
     "data": {
      "image/png": "[encoded data removed]",
      "text/plain": [
       "<matplotlib.figure.Figure at 0x1255750d0>"
      ]
     },
     "metadata": {},
     "output_type": "display_data"
    }
   ],
   "source": [
    "def build_alternating_static_events(N, beta=0.1):\n",
    "    \"\"\" \n",
    "    2 alternating events, modeled as gaussians with different means\n",
    "    \"\"\"\n",
    "    \n",
    "    pi = np.array([0.4, 0.6])\n",
    "    mus = [[1, 1], [-1, -1]]\n",
    "    stds = np.ones((2, 2)) * beta\n",
    "    x = np.zeros((N, 2), dtype=np.float32)\n",
    "    for n in range(N/4):\n",
    "        x[n, :] = np.random.multivariate_normal(mus[0], np.diag(stds[0]))\n",
    "    for n in range(N/4, N/2):\n",
    "        x[n, :] = np.random.multivariate_normal(mus[1], np.diag(stds[1]))\n",
    "    for n in range(N/2, N/4*3):\n",
    "        x[n, :] = np.random.multivariate_normal(mus[0], np.diag(stds[0]))\n",
    "    for n in range(N/4*3, N):\n",
    "        x[n, :] = np.random.multivariate_normal(mus[1], np.diag(stds[1]))\n",
    "        \n",
    "    return x\n",
    "\n",
    "x_train = build_alternating_static_events(100, 0.01)\n",
    "plt.plot(x_train[:, 0], x_train[:, 1])"
   ]
  },
  {
   "cell_type": "code",
   "execution_count": 145,
   "metadata": {
    "collapsed": true
   },
   "outputs": [],
   "source": [
    "post = sem.run(x_train, K=K)"
   ]
  },
  {
   "cell_type": "code",
   "execution_count": 146,
   "metadata": {},
   "outputs": [
    {
     "data": {
      "image/png": "[encoded data removed]",
      "text/plain": [
       "<matplotlib.figure.Figure at 0x128d2e890>"
      ]
     },
     "metadata": {},
     "output_type": "display_data"
    }
   ],
   "source": [
    "plot_segmentation(post)"
   ]
  },
  {
   "cell_type": "code",
   "execution_count": 147,
   "metadata": {},
   "outputs": [
    {
     "data": {
      "text/plain": [
       "array([ 0,  1,  2,  3,  4,  5,  6,  7,  8,  9, 10, 11, 12, 13, 14, 15, 16,\n",
       "       17,  2,  2, 18, 19,  2,  2,  2,  1,  1,  1,  1,  1,  1,  1,  1,  1,\n",
       "        1,  1,  1,  1,  1,  1,  1,  1,  1,  1,  1,  1,  1,  1,  1,  1,  2,\n",
       "        2,  2,  2,  2,  2,  2,  2,  2,  2,  2,  2,  2,  2,  2,  2,  2,  2,\n",
       "        2,  2,  2,  2,  2,  2,  2,  1,  1,  1,  1,  1,  1,  1,  1,  1,  1,\n",
       "        1,  1,  1,  1,  1,  1,  1,  1,  1,  1,  1,  1,  1,  1,  1])"
      ]
     },
     "execution_count": 147,
     "metadata": {},
     "output_type": "execute_result"
    }
   ],
   "source": [
    "#show the envent number that was chosen. Notice the re-use of events\n",
    "np.argmax(post, axis=1)"
   ]
  },
  {
   "cell_type": "markdown",
   "metadata": {},
   "source": [
    "Below an example of two events where the events correspond to movement in vector space"
   ]
  },
  {
   "cell_type": "code",
   "execution_count": 41,
   "metadata": {},
   "outputs": [
    {
     "data": {
      "text/plain": [
       "[<matplotlib.lines.Line2D at 0x11d87f7d0>]"
      ]
     },
     "execution_count": 41,
     "metadata": {},
     "output_type": "execute_result"
    },
    {
     "data": {
      "image/png": "[encoded data removed]",
      "text/plain": [
       "<matplotlib.figure.Figure at 0x11dcf35d0>"
      ]
     },
     "metadata": {},
     "output_type": "display_data"
    }
   ],
   "source": [
    "\n",
    "def build_moving_data(N, beta=0.01):\n",
    "    pi = np.array([0.4, 0.6])\n",
    "    bs = [[1, 1], [-1, -1]]  # starting point!\n",
    "    ws = [np.array([[1, 0], [.5, 2]]), np.array([[-1, .2], [-.2, 1]])]\n",
    "    stds = np.eye(2) * beta\n",
    "    x = np.zeros((N, 2), dtype=np.float32)\n",
    "    \n",
    "    x[0, :] = np.random.multivariate_normal(bs[0], stds)\n",
    "    for n in range(1, N/2):\n",
    "        _x = x[n-1, :] + np.array([0.05, 0.05])\n",
    "        x[n, :] = np.random.multivariate_normal(_x, stds)\n",
    "        \n",
    "    x[N/2, :] = np.random.multivariate_normal(bs[1], stds)\n",
    "    for n in range(N/2+1, N):\n",
    "        _x = x[n-1, :] + np.array([-0.05, -0.05])\n",
    "        x[n, :] = np.random.multivariate_normal(_x, stds)\n",
    "    return x\n",
    "\n",
    "x_train = build_moving_data(100)\n",
    "plt.plot(x_train[:, 0], x_train[:, 1])"
   ]
  },
  {
   "cell_type": "code",
   "execution_count": 42,
   "metadata": {},
   "outputs": [
    {
     "name": "stderr",
     "output_type": "stream",
     "text": [
      "/Users/nickfranklin/anaconda/envs/tensorflow/lib/python2.7/site-packages/ipykernel_launcher.py:167: RuntimeWarning: divide by zero encountered in log\n"
     ]
    }
   ],
   "source": [
    "post = sem.run(x_train, K=K)"
   ]
  },
  {
   "cell_type": "code",
   "execution_count": 43,
   "metadata": {},
   "outputs": [
    {
     "data": {
      "image/png": "[encoded data removed]",
      "text/plain": [
       "<matplotlib.figure.Figure at 0x11e82f510>"
      ]
     },
     "metadata": {},
     "output_type": "display_data"
    }
   ],
   "source": [
    "plot_segmentation(post)"
   ]
  },
  {
   "cell_type": "code",
   "execution_count": 44,
   "metadata": {},
   "outputs": [
    {
     "data": {
      "text/plain": [
       "array([0, 1, 2, 3, 4, 0, 0, 0, 0, 0, 0, 0, 0, 0, 0, 0, 0, 0, 0, 0, 0, 0, 0,\n",
       "       0, 0, 0, 0, 0, 0, 0, 0, 0, 0, 0, 0, 0, 0, 0, 0, 0, 0, 0, 0, 0, 0, 0,\n",
       "       0, 0, 0, 0, 5, 5, 5, 5, 5, 5, 5, 5, 5, 5, 5, 5, 5, 5, 5, 5, 5, 5, 5,\n",
       "       5, 5, 5, 5, 5, 5, 5, 5, 5, 5, 5, 5, 5, 5, 5, 5, 5, 5, 5, 5, 5, 5, 5,\n",
       "       5, 5, 5, 5, 5, 5, 5, 5])"
      ]
     },
     "execution_count": 44,
     "metadata": {},
     "output_type": "execute_result"
    }
   ],
   "source": [
    "np.argmax(post, axis=1)"
   ]
  },
  {
   "cell_type": "code",
   "execution_count": 63,
   "metadata": {},
   "outputs": [
    {
     "data": {
      "text/plain": [
       "[<matplotlib.lines.Line2D at 0x11efc0e50>]"
      ]
     },
     "execution_count": 63,
     "metadata": {},
     "output_type": "execute_result"
    },
    {
     "data": {
      "image/png": "[encoded data removed]",
      "text/plain": [
       "<matplotlib.figure.Figure at 0x11eb27110>"
      ]
     },
     "metadata": {},
     "output_type": "display_data"
    }
   ],
   "source": [
    "\n",
    "def build_alternating_moving_events(N, beta=0.01):\n",
    "    pi = np.array([0.4, 0.6])\n",
    "    bs = [[1, 1], [-1, -1], [1, -1], [-1, 1]]  # starting point!\n",
    "    ws = [np.array([[1, 0], [.5, 2]]), np.array([[-1, .2], [-.2, 1]])]\n",
    "    Sigma = np.eye(2) * beta\n",
    "    x = np.zeros((N, 2), dtype=np.float32)\n",
    "    \n",
    "    x[0, :] = np.random.multivariate_normal(bs[0], Sigma)\n",
    "    for n in range(1, N/4):\n",
    "        _x = x[n-1, :] + np.array([0.05, 0.05])\n",
    "        x[n, :] = np.random.multivariate_normal(_x, Sigma)\n",
    "        \n",
    "    x[N/4, :] = np.random.multivariate_normal(bs[1], Sigma)\n",
    "    for n in range(N/4+1, N/2):\n",
    "        _x = x[n-1, :] + np.array([-0.05, -0.05])\n",
    "        x[n, :] = np.random.multivariate_normal(_x, Sigma)\n",
    "            \n",
    "    x[N/2, :] = np.random.multivariate_normal(bs[2], Sigma)\n",
    "    for n in range(N/2+1, N/4*3):\n",
    "        _x = x[n-1, :] + np.array([-0.05, -0.05])\n",
    "        x[n, :] = np.random.multivariate_normal(_x, Sigma)\n",
    "        \n",
    "    x[N/4*3, :] = np.random.multivariate_normal(bs[3], Sigma)\n",
    "    for n in range(N/4*3+1, N):\n",
    "        _x = x[n-1, :] + np.array([0.05, 0.05])\n",
    "        x[n, :] = np.random.multivariate_normal(_x, Sigma)      \n",
    "        \n",
    "    return x\n",
    "\n",
    "x_train = build_alternating_moving_events(100)\n",
    "plt.plot(x_train[:, 0], x_train[:, 1])"
   ]
  },
  {
   "cell_type": "code",
   "execution_count": 64,
   "metadata": {},
   "outputs": [
    {
     "name": "stderr",
     "output_type": "stream",
     "text": [
      "/Users/nickfranklin/anaconda/envs/tensorflow/lib/python2.7/site-packages/ipykernel_launcher.py:167: RuntimeWarning: divide by zero encountered in log\n"
     ]
    }
   ],
   "source": [
    "post = sem.run(x_train, K=K)"
   ]
  },
  {
   "cell_type": "code",
   "execution_count": 65,
   "metadata": {},
   "outputs": [
    {
     "data": {
      "image/png": "[encoded data removed]",
      "text/plain": [
       "<matplotlib.figure.Figure at 0x11ec9b490>"
      ]
     },
     "metadata": {},
     "output_type": "display_data"
    }
   ],
   "source": [
    "plot_segmentation(post)"
   ]
  },
  {
   "cell_type": "code",
   "execution_count": 66,
   "metadata": {},
   "outputs": [
    {
     "data": {
      "text/plain": [
       "array([0, 1, 2, 3, 4, 5, 0, 0, 0, 0, 0, 0, 0, 0, 0, 0, 0, 0, 0, 0, 0, 0, 0,\n",
       "       0, 0, 3, 3, 3, 3, 3, 3, 3, 3, 3, 3, 3, 3, 3, 3, 3, 3, 3, 3, 3, 3, 3,\n",
       "       3, 3, 3, 3, 5, 5, 5, 5, 5, 5, 5, 5, 5, 5, 5, 5, 5, 5, 5, 5, 5, 5, 5,\n",
       "       5, 5, 5, 5, 5, 5, 2, 2, 2, 2, 2, 2, 2, 2, 2, 2, 2, 2, 2, 2, 2, 2, 2,\n",
       "       2, 2, 2, 2, 2, 2, 2, 2])"
      ]
     },
     "execution_count": 66,
     "metadata": {},
     "output_type": "execute_result"
    }
   ],
   "source": [
    "np.argmax(post, axis=1)"
   ]
  },
  {
   "cell_type": "code",
   "execution_count": 67,
   "metadata": {},
   "outputs": [
    {
     "data": {
      "text/plain": [
       "[<matplotlib.lines.Line2D at 0x11f3c6510>]"
      ]
     },
     "execution_count": 67,
     "metadata": {},
     "output_type": "execute_result"
    },
    {
     "data": {
      "image/png": "[encoded data removed]",
      "text/plain": [
       "<matplotlib.figure.Figure at 0x11f2ef510>"
      ]
     },
     "metadata": {},
     "output_type": "display_data"
    }
   ],
   "source": [
    "\n",
    "def build_alternating_moving_events(N, beta=0.01):\n",
    "    pi = np.array([0.4, 0.6])\n",
    "    bs = [[1, 1], [-1, -1], [1, -1], [-1, 1]]  # starting point!\n",
    "    ws = [np.array([[1, 0], [.5, 2]]), np.array([[-1, .2], [-.2, 1]])]\n",
    "    Sigma = np.eye(2) * beta\n",
    "    x = np.zeros((N, 2), dtype=np.float32)\n",
    "    \n",
    "    x[0, :] = np.random.multivariate_normal(bs[0], Sigma)\n",
    "    for n in range(1, N/4):\n",
    "        _x = x[n-1, :] + np.array([0.05, 0.05])\n",
    "        x[n, :] = np.random.multivariate_normal(_x, Sigma)\n",
    "        \n",
    "    x[N/4, :] = np.random.multivariate_normal(bs[1], Sigma)\n",
    "    for n in range(N/4+1, N/2):\n",
    "        _x = x[n-1, :] + np.array([-0.05, -0.05])\n",
    "        x[n, :] = np.random.multivariate_normal(_x, Sigma)\n",
    "            \n",
    "    x[N/2, :] = np.random.multivariate_normal(bs[0], Sigma)\n",
    "    for n in range(N/2+1, N/4*3):\n",
    "        _x = x[n-1, :] + np.array([-0.05, -0.05])\n",
    "        x[n, :] = np.random.multivariate_normal(_x, Sigma)\n",
    "        \n",
    "    x[N/4*3, :] = np.random.multivariate_normal(bs[1], Sigma)\n",
    "    for n in range(N/4*3+1, N):\n",
    "        _x = x[n-1, :] + np.array([0.05, 0.05])\n",
    "        x[n, :] = np.random.multivariate_normal(_x, Sigma)      \n",
    "        \n",
    "    return x\n",
    "\n",
    "x_train = build_alternating_moving_events(100)\n",
    "plt.plot(x_train[:, 0], x_train[:, 1])"
   ]
  },
  {
   "cell_type": "code",
   "execution_count": 68,
   "metadata": {},
   "outputs": [
    {
     "data": {
      "image/png": "[encoded data removed]",
      "text/plain": [
       "<matplotlib.figure.Figure at 0x11ee464d0>"
      ]
     },
     "metadata": {},
     "output_type": "display_data"
    }
   ],
   "source": [
    "plot_segmentation(post)"
   ]
  },
  {
   "cell_type": "code",
   "execution_count": 70,
   "metadata": {},
   "outputs": [
    {
     "data": {
      "text/plain": [
       "226.98300468106115"
      ]
     },
     "execution_count": 70,
     "metadata": {},
     "output_type": "execute_result"
    }
   ],
   "source": [
    "(2560**2 + 1600**2)**.5 / 13.3"
   ]
  },
  {
   "cell_type": "code",
   "execution_count": null,
   "metadata": {
    "collapsed": true
   },
   "outputs": [],
   "source": []
  }
 ],
 "metadata": {
  "kernelspec": {
   "display_name": "Python 2",
   "language": "python",
   "name": "python2"
  }
 },
 "nbformat": 4,
 "nbformat_minor": 1
}
