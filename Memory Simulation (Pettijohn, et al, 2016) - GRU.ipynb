{
 "cells": [
  {
   "cell_type": "markdown",
   "metadata": {},
   "source": [
    "# Pettijohn et al., 2016\n",
    "Here, we are simulating the findings of Pettijon, et al. (2016) where the main finding was that a list of items broken up into multiple events were remembered better as a whole than an equivalent list studied in a single event\n",
    "\n",
    "## Description of the original Experiment\n",
    "Subjects were given a list of 40 words to remember while moving between four locations in physical space, divided into 4 ordered sub-lists of 10 words each. Subjects read one sub-list (10 words) then moved to a new location in space, either in a new room (shift condition) or a new space in the same room (no-shift condition) that was equated for physical distance, and read a second sub-list (10 words). Subjects were then given a distractor task, then asked to recall as many of the words as possible from both tested sub-lists.  Then the procedure was repeated with the second set of sub-lists. People were more accurate when there was a shift (main effect, ANOVA) but there was no effect of boundary X shift interaction (ANOVA, two words before and after a shift)\n"
   ]
  },
  {
   "cell_type": "markdown",
   "metadata": {},
   "source": [
    "## Description of the simulations\n",
    "Here, we generate a list of $n=20$ items $\\mathbf{x} \\in \\mathbb{R}^d$ by drawing each as a random Gaussian vector $\\mathbf{x}\\sim \\mathcal{N}(\\mathbf{0}, \\mathbf{I})$ in high (d-)dimensional space, such that each item is approximately orthogonal. We will assume these are either encoded within a single event (simulating the no-switch condition) or in two events (simulating the switch condition) and evaluate the recall of all of the items for both conditions. \n",
    "\n"
   ]
  },
  {
   "cell_type": "markdown",
   "metadata": {},
   "source": [
    "# Simluations"
   ]
  },
  {
   "cell_type": "code",
   "execution_count": 1,
   "metadata": {},
   "outputs": [
    {
     "name": "stdout",
     "output_type": "stream",
     "text": [
      "TensorFlow Version: 1.9.0\n",
      "Keras      Version: 2.2.0\n"
     ]
    },
    {
     "name": "stderr",
     "output_type": "stream",
     "text": [
      "Using TensorFlow backend.\n"
     ]
    }
   ],
   "source": [
    "%matplotlib inline\n",
    "import numpy as np\n",
    "import matplotlib.pyplot as plt\n",
    "import pandas as pd\n",
    "import seaborn as sns\n",
    "from models import *\n",
    "from tqdm import tnrange\n",
    "from simulations.exp_pettijohn import generate_task, batch\n",
    "\n",
    "sns.set_context('paper', font_scale=1.5)"
   ]
  },
  {
   "cell_type": "markdown",
   "metadata": {},
   "source": [
    "train either one or two event models on the list of words"
   ]
  },
  {
   "cell_type": "code",
   "execution_count": 2,
   "metadata": {},
   "outputs": [
    {
     "name": "stdout",
     "output_type": "stream",
     "text": [
      "tau: 0.1\n"
     ]
    }
   ],
   "source": [
    "# set the parameters, all of them!\n",
    "\n",
    "# SEM parameters\n",
    "df0 = 100\n",
    "scale0 = .2\n",
    "\n",
    "lmda = 1.0  # stickyness parameter\n",
    "alfa = 1.  # concentration parameter\n",
    "\n",
    "f_class = GRUEvent\n",
    "f_opts=dict(var_scale0=scale0, var_df0=df0)\n",
    "\n",
    "# create the corrupted memory trace\n",
    "# noise parameters\n",
    "b = 2\n",
    "tau = 0.1\n",
    "print(\"tau: {}\".format(tau))\n",
    "\n",
    "# set the parameters for the Gibbs sampler\n",
    "gibbs_kwargs = dict(\n",
    "    memory_alpha = 0.1,\n",
    "    memory_lambda = 1.0,\n",
    "    memory_epsilon = np.exp(-11),\n",
    "    b = b,  # re-defined here for completeness\n",
    "    tau = tau,  # ibid\n",
    "    n_samples = 250,\n",
    "    n_burnin = 100,\n",
    "    leave_progress_bar=False,\n",
    ")\n",
    "\n",
    "epsilon_e = 0.25"
   ]
  },
  {
   "cell_type": "code",
   "execution_count": 3,
   "metadata": {},
   "outputs": [
    {
     "name": "stdout",
     "output_type": "stream",
     "text": [
      "Prior variance (mode): 0.196078431373\n",
      "Median Feature variance: 0.0336014489861\n"
     ]
    },
    {
     "name": "stderr",
     "output_type": "stream",
     "text": [
      "Run SEM: 100%|██████████| 2/2 [00:02<00:00,  1.38s/it]"
     ]
    },
    {
     "name": "stdout",
     "output_type": "stream",
     "text": [
      "[0 1]\n"
     ]
    },
    {
     "name": "stderr",
     "output_type": "stream",
     "text": [
      "\n"
     ]
    }
   ],
   "source": [
    "# Calibrate the prior\n",
    "x_list_no_switch, x_list_switch = generate_task()\n",
    "\n",
    "mode = df0 * scale0 / (df0 + 2)\n",
    "print(\"Prior variance (mode): {}\".format(mode))\n",
    "print(\"Median Feature variance: {}\".format(np.median(np.var(x_list_no_switch[0], axis=0))))\n",
    "\n",
    "sem_kwargs = dict(\n",
    "    lmda=lmda, alfa=alfa, f_class=f_class,\n",
    "    f_opts=f_opts\n",
    ")\n",
    "sem = SEM(**sem_kwargs)\n",
    "sem.run_w_boundaries(list_events=x_list_switch)\n",
    "print(sem.results.e_hat)"
   ]
  },
  {
   "cell_type": "code",
   "execution_count": 4,
   "metadata": {
    "scrolled": true
   },
   "outputs": [
    {
     "data": {
      "application/vnd.jupyter.widget-view+json": {
       "model_id": "d2e9ffe7aea24733a1c9a84b44788a05",
       "version_major": 2,
       "version_minor": 0
      },
      "text/plain": [
       "HBox(children=(IntProgress(value=0, description=u'Batch', max=25), HTML(value=u'')))"
      ]
     },
     "metadata": {},
     "output_type": "display_data"
    },
    {
     "name": "stderr",
     "output_type": "stream",
     "text": [
      "models/memory.py:129: RuntimeWarning: divide by zero encountered in log\n",
      "  log_p = p_model + np.log(p_sCRP)\n",
      "simulations/exp_pettijohn.py:122: FutureWarning: Sorting because non-concatenation axis is not aligned. A future version\n",
      "of pandas will change to not sort by default.\n",
      "\n",
      "To accept the future behavior, pass 'sort=False'.\n",
      "\n",
      "To retain the current behavior and silence the warning, pass 'sort=True'.\n",
      "\n",
      "  }, index=[batch_number])])\n",
      "                                                                \r"
     ]
    },
    {
     "name": "stdout",
     "output_type": "stream",
     "text": [
      "\n"
     ]
    }
   ],
   "source": [
    "from tqdm import tnrange\n",
    "n_batch = 25\n",
    "\n",
    "results = []\n",
    "for ii in tnrange(n_batch, desc='Batch'):\n",
    "    results.append(batch(sem_kwargs, gibbs_kwargs, epsilon_e, ii))\n",
    "results = pd.concat(results)"
   ]
  },
  {
   "cell_type": "code",
   "execution_count": 5,
   "metadata": {},
   "outputs": [
    {
     "data": {
      "image/png": "[encoded data removed]",
      "text/plain": [
       "<Figure size 324x180 with 2 Axes>"
      ]
     },
     "metadata": {},
     "output_type": "display_data"
    }
   ],
   "source": [
    "x = results.groupby('Condition').mean()['Overall Acc'].index\n",
    "y = results.groupby('Condition').mean()['Overall Acc']\n",
    "y_err = results.groupby('Condition').std()['Overall Acc'] / np.sqrt(n_batch)\n",
    "\n",
    "fig, axes = plt.subplots(1, 2, figsize=(4.5, 2.5), sharey=True)\n",
    "# plt.figure(figsize=(2, 3))\n",
    "ax = axes[1]\n",
    "ax.bar(x, y, lw=1, edgecolor='k', color=[[1.0, 1.0, 1.0], [0.5, 0.5, 0.5]])\n",
    "ax.errorbar(x, y, y_err, marker='None', lw=2, ls='None', c='k')\n",
    "# plt.ylabel('Accuracy')\n",
    "\n",
    "sns.despine()\n",
    "ax.set_title('Model')\n",
    "\n",
    "from scipy.stats import ttest_ind\n",
    "ttest_ind(\n",
    "    results.loc[results.Condition == 'Shift', 'Overall Acc'],\n",
    "    results.loc[results.Condition == 'No-Shift', 'Overall Acc']\n",
    ")\n",
    "\n",
    "ax = axes[0]\n",
    "x = ['No-Shift', 'Shift']\n",
    "y = [0.27, 0.31]\n",
    "y_err = [0.02, 0.02]\n",
    "# ax.figure(figsize=(3, 3))\n",
    "ax.bar(x, y, color=[[1.0, 1.0, 1.0], [0.5, 0.5, 0.5]], edgecolor='k', linewidth=1)\n",
    "ax.errorbar(x, y, y_err, linestyle=\"None\", color='k')\n",
    "ax.set_title('Subjects')\n",
    "ax.set_ylabel('Accuracy')\n",
    "\n",
    "\n",
    "ax.set_yticks(np.arange(0, 0.51, 0.25))\n",
    "\n",
    "plt.savefig('pettijohn_gru.png', dpi=300, bbox_inches='tight')\n"
   ]
  },
  {
   "cell_type": "code",
   "execution_count": 6,
   "metadata": {},
   "outputs": [
    {
     "name": "stderr",
     "output_type": "stream",
     "text": [
      "/anaconda3/envs/sem/lib/python2.7/site-packages/scipy/stats/stats.py:1713: FutureWarning: Using a non-tuple sequence for multidimensional indexing is deprecated; use `arr[tuple(seq)]` instead of `arr[seq]`. In the future this will be interpreted as an array index, `arr[np.array(seq)]`, which will result either in an error or a different result.\n",
      "  return np.add.reduce(sorted[indexer] * weights, axis=axis) / sumval\n"
     ]
    },
    {
     "data": {
      "text/plain": [
       "<seaborn.axisgrid.FacetGrid at 0x1292194d0>"
      ]
     },
     "execution_count": 6,
     "metadata": {},
     "output_type": "execute_result"
    },
    {
     "data": {
      "image/png": "[encoded data removed]",
      "text/plain": [
       "<Figure size 416.7x288 with 1 Axes>"
      ]
     },
     "metadata": {},
     "output_type": "display_data"
    }
   ],
   "source": [
    "res = results.copy()\n",
    "res.rename(columns={'Boundary Acc':'Boundary', 'Non-boundary Acc':'Non-boundary', 'Condition': 'Group'}, inplace=True)\n",
    "res = res.melt(id_vars=['Group'], value_vars=['Boundary', 'Non-boundary'], value_name='Accuracy', \n",
    "               var_name='Condition')\n",
    "sns.factorplot(data=res, y='Accuracy', x='Group', hue='Condition', \n",
    "               kind='bar', order=['No-Shift', 'Shift'],\n",
    "               palette=[[0.75,0.75,0.75], [0.5,0.5,0.5]])"
   ]
  },
  {
   "cell_type": "code",
   "execution_count": 7,
   "metadata": {},
   "outputs": [
    {
     "data": {
      "text/html": [
       "<div>\n",
       "<style scoped>\n",
       "    .dataframe tbody tr th:only-of-type {\n",
       "        vertical-align: middle;\n",
       "    }\n",
       "\n",
       "    .dataframe tbody tr th {\n",
       "        vertical-align: top;\n",
       "    }\n",
       "\n",
       "    .dataframe thead th {\n",
       "        text-align: right;\n",
       "    }\n",
       "</style>\n",
       "<table border=\"1\" class=\"dataframe\">\n",
       "  <thead>\n",
       "    <tr style=\"text-align: right;\">\n",
       "      <th></th>\n",
       "      <th>Batch</th>\n",
       "      <th>Boundary Acc</th>\n",
       "      <th>Non-boundary Acc</th>\n",
       "      <th>Overall Acc</th>\n",
       "      <th>Reconstruction Segementation</th>\n",
       "      <th>r2</th>\n",
       "    </tr>\n",
       "  </thead>\n",
       "  <tbody>\n",
       "    <tr>\n",
       "      <th>count</th>\n",
       "      <td>25.000000</td>\n",
       "      <td>25.000000</td>\n",
       "      <td>25.00000</td>\n",
       "      <td>25.0000</td>\n",
       "      <td>25.000000</td>\n",
       "      <td>25.0</td>\n",
       "    </tr>\n",
       "    <tr>\n",
       "      <th>mean</th>\n",
       "      <td>12.000000</td>\n",
       "      <td>0.617484</td>\n",
       "      <td>0.91664</td>\n",
       "      <td>0.6474</td>\n",
       "      <td>0.546136</td>\n",
       "      <td>1.0</td>\n",
       "    </tr>\n",
       "    <tr>\n",
       "      <th>std</th>\n",
       "      <td>7.359801</td>\n",
       "      <td>0.063109</td>\n",
       "      <td>0.10170</td>\n",
       "      <td>0.0533</td>\n",
       "      <td>0.018617</td>\n",
       "      <td>0.0</td>\n",
       "    </tr>\n",
       "    <tr>\n",
       "      <th>min</th>\n",
       "      <td>0.000000</td>\n",
       "      <td>0.502889</td>\n",
       "      <td>0.57800</td>\n",
       "      <td>0.5498</td>\n",
       "      <td>0.511200</td>\n",
       "      <td>1.0</td>\n",
       "    </tr>\n",
       "    <tr>\n",
       "      <th>25%</th>\n",
       "      <td>6.000000</td>\n",
       "      <td>0.578222</td>\n",
       "      <td>0.86400</td>\n",
       "      <td>0.6134</td>\n",
       "      <td>0.530600</td>\n",
       "      <td>1.0</td>\n",
       "    </tr>\n",
       "    <tr>\n",
       "      <th>50%</th>\n",
       "      <td>12.000000</td>\n",
       "      <td>0.631778</td>\n",
       "      <td>0.96800</td>\n",
       "      <td>0.6574</td>\n",
       "      <td>0.546800</td>\n",
       "      <td>1.0</td>\n",
       "    </tr>\n",
       "    <tr>\n",
       "      <th>75%</th>\n",
       "      <td>18.000000</td>\n",
       "      <td>0.662222</td>\n",
       "      <td>0.98400</td>\n",
       "      <td>0.6910</td>\n",
       "      <td>0.557000</td>\n",
       "      <td>1.0</td>\n",
       "    </tr>\n",
       "    <tr>\n",
       "      <th>max</th>\n",
       "      <td>24.000000</td>\n",
       "      <td>0.694889</td>\n",
       "      <td>0.99200</td>\n",
       "      <td>0.7158</td>\n",
       "      <td>0.589400</td>\n",
       "      <td>1.0</td>\n",
       "    </tr>\n",
       "  </tbody>\n",
       "</table>\n",
       "</div>"
      ],
      "text/plain": [
       "           Batch  Boundary Acc  Non-boundary Acc  Overall Acc  \\\n",
       "count  25.000000     25.000000          25.00000      25.0000   \n",
       "mean   12.000000      0.617484           0.91664       0.6474   \n",
       "std     7.359801      0.063109           0.10170       0.0533   \n",
       "min     0.000000      0.502889           0.57800       0.5498   \n",
       "25%     6.000000      0.578222           0.86400       0.6134   \n",
       "50%    12.000000      0.631778           0.96800       0.6574   \n",
       "75%    18.000000      0.662222           0.98400       0.6910   \n",
       "max    24.000000      0.694889           0.99200       0.7158   \n",
       "\n",
       "       Reconstruction Segementation    r2  \n",
       "count                     25.000000  25.0  \n",
       "mean                       0.546136   1.0  \n",
       "std                        0.018617   0.0  \n",
       "min                        0.511200   1.0  \n",
       "25%                        0.530600   1.0  \n",
       "50%                        0.546800   1.0  \n",
       "75%                        0.557000   1.0  \n",
       "max                        0.589400   1.0  "
      ]
     },
     "execution_count": 7,
     "metadata": {},
     "output_type": "execute_result"
    }
   ],
   "source": [
    "results.loc[results.Condition == 'Shift'].describe()"
   ]
  },
  {
   "cell_type": "code",
   "execution_count": 8,
   "metadata": {},
   "outputs": [
    {
     "data": {
      "text/plain": [
       "Text(0,0.5,'Shift Accuracy')"
      ]
     },
     "execution_count": 8,
     "metadata": {},
     "output_type": "execute_result"
    },
    {
     "data": {
      "image/png": "[encoded data removed]",
      "text/plain": [
       "<Figure size 432x288 with 1 Axes>"
      ]
     },
     "metadata": {},
     "output_type": "display_data"
    }
   ],
   "source": [
    "x = results.loc[results.Condition == 'Shift', 'Reconstruction Segementation']\n",
    "y = results.loc[results.Condition == 'Shift', 'Overall Acc'].values\n",
    "sns.regplot(x, y)\n",
    "y_bar = np.mean(results.loc[results.Condition != 'Shift', 'Overall Acc'])\n",
    "plt.plot([x.min(), x.max()], [y_bar, y_bar], 'k', ls='--')\n",
    "plt.ylabel('Shift Accuracy')"
   ]
  },
  {
   "cell_type": "markdown",
   "metadata": {},
   "source": [
    "Try to understand the how the parameter space effects the recovered segmentation"
   ]
  },
  {
   "cell_type": "code",
   "execution_count": 9,
   "metadata": {},
   "outputs": [
    {
     "data": {
      "text/plain": [
       "Text(0,0.5,'Shift Accuracy')"
      ]
     },
     "execution_count": 9,
     "metadata": {},
     "output_type": "execute_result"
    },
    {
     "data": {
      "image/png": "[encoded data removed]",
      "text/plain": [
       "<Figure size 432x288 with 1 Axes>"
      ]
     },
     "metadata": {},
     "output_type": "display_data"
    }
   ],
   "source": [
    "x = results.loc[results.Condition == 'Shift', 'r2']\n",
    "y = results.loc[results.Condition == 'Shift', 'Overall Acc'].values\n",
    "sns.regplot(x, y)\n",
    "y_bar = np.mean(results.loc[results.Condition != 'Shift', 'Overall Acc'])\n",
    "plt.plot([x.min(), x.max()], [y_bar, y_bar], 'k', ls='--')\n",
    "plt.ylabel('Shift Accuracy')"
   ]
  },
  {
   "cell_type": "code",
   "execution_count": 10,
   "metadata": {},
   "outputs": [
    {
     "data": {
      "text/plain": [
       "0.6474"
      ]
     },
     "execution_count": 10,
     "metadata": {},
     "output_type": "execute_result"
    }
   ],
   "source": [
    "np.mean(y[x == 1.])"
   ]
  },
  {
   "cell_type": "code",
   "execution_count": null,
   "metadata": {},
   "outputs": [],
   "source": []
  },
  {
   "cell_type": "code",
   "execution_count": null,
   "metadata": {},
   "outputs": [],
   "source": []
  }
 ],
 "metadata": {
  "kernelspec": {
   "display_name": "Python 2",
   "language": "python",
   "name": "python2"
  },
  "language_info": {
   "codemirror_mode": {
    "name": "ipython",
    "version": 2
   },
   "file_extension": ".py",
   "mimetype": "text/x-python",
   "name": "python",
   "nbconvert_exporter": "python",
   "pygments_lexer": "ipython2",
   "version": "2.7.15"
  }
 },
 "nbformat": 4,
 "nbformat_minor": 2
}
