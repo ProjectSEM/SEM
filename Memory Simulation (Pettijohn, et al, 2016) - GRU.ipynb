{
 "cells": [
  {
   "cell_type": "markdown",
   "metadata": {},
   "source": [
    "# Pettijohn et al., 2016\n",
    "Here, we are simulating the findings of Pettijon, et al. (2016) where the main finding was that a list of items broken up into multiple events were remembered better as a whole than an equivalent list studied in a single event\n",
    "\n",
    "## Description of the original Experiment\n",
    "Subjects were given a list of 40 words to remember while moving between four locations in physical space, divided into 4 ordered sub-lists of 10 words each. Subjects read one sub-list (10 words) then moved to a new location in space, either in a new room (shift condition) or a new space in the same room (no-shift condition) that was equated for physical distance, and read a second sub-list (10 words). Subjects were then given a distractor task, then asked to recall as many of the words as possible from both tested sub-lists.  Then the procedure was repeated with the second set of sub-lists. People were more accurate when there was a shift (main effect, ANOVA) but there was no effect of boundary X shift interaction (ANOVA, two words before and after a shift)\n"
   ]
  },
  {
   "cell_type": "markdown",
   "metadata": {},
   "source": [
    "## Description of the simulations\n",
    "Here, we generate a list of $n=20$ items $\\mathbf{x} \\in \\mathbb{R}^d$ by drawing each as a random Gaussian vector $\\mathbf{x}\\sim \\mathcal{N}(\\mathbf{0}, \\mathbf{I})$ in high (d-)dimensional space, such that each item is approximately orthogonal. We will assume these are either encoded within a single event (simulating the no-switch condition) or in two events (simulating the switch condition) and evaluate the recall of all of the items for both conditions. \n",
    "\n"
   ]
  },
  {
   "cell_type": "markdown",
   "metadata": {},
   "source": [
    "# Simluations"
   ]
  },
  {
   "cell_type": "code",
   "execution_count": 1,
   "metadata": {},
   "outputs": [
    {
     "name": "stderr",
     "output_type": "stream",
     "text": [
      "Using TensorFlow backend.\n"
     ]
    },
    {
     "name": "stdout",
     "output_type": "stream",
     "text": [
      "TensorFlow Version: 1.9.0\n",
      "Keras      Version: 2.2.0\n",
      "TensorFlow Check Passed\n"
     ]
    }
   ],
   "source": [
    "%matplotlib inline\n",
    "import numpy as np\n",
    "import matplotlib.pyplot as plt\n",
    "import pandas as pd\n",
    "import seaborn as sns\n",
    "from models import *\n",
    "from tqdm import tnrange\n",
    "from simulations.exp_pettijohn import generate_task, batch\n",
    "\n",
    "sns.set_context('paper', font_scale=1.5)"
   ]
  },
  {
   "cell_type": "markdown",
   "metadata": {},
   "source": [
    "train either one or two event models on the list of words"
   ]
  },
  {
   "cell_type": "code",
   "execution_count": 2,
   "metadata": {},
   "outputs": [
    {
     "name": "stdout",
     "output_type": "stream",
     "text": [
      "Prior variance (mode): 0.0666666666667\n",
      "tau: 0.1\n"
     ]
    }
   ],
   "source": [
    "# set the parameters, all of them!\n",
    "\n",
    "# SEM parameters\n",
    "df0 = 1.\n",
    "scale0 = .2\n",
    "\n",
    "mode = df0 * scale0 / (df0 + 2)\n",
    "print(\"Prior variance (mode): {}\".format(mode))\n",
    "\n",
    "lmda = 10.0  # stickyness parameter\n",
    "alfa = 1.  # concentration parameter\n",
    "\n",
    "f_class = GRUEvent\n",
    "f_opts=dict(var_scale0=scale0, var_df0=df0)\n",
    "\n",
    "# create the corrupted memory trace\n",
    "# noise parameters\n",
    "b = 2\n",
    "tau = 0.1\n",
    "print(\"tau: {}\".format(tau))\n",
    "\n",
    "# set the parameters for the Gibbs sampler\n",
    "gibbs_kwargs = dict(\n",
    "    memory_alpha = alfa,\n",
    "    memory_lambda = lmda,\n",
    "    memory_epsilon = np.exp(-20),\n",
    "    b = b,  # re-defined here for completeness\n",
    "    tau = tau,  # ibid\n",
    "    n_samples = 250,\n",
    "    n_burnin = 100,\n",
    "    leave_progress_bar=False,\n",
    ")\n",
    "sem_kwargs = dict(lmda=lmda, alfa=alfa, f_class=f_class, f_opts=f_opts)\n",
    "\n",
    "epsilon_e = 0.25"
   ]
  },
  {
   "cell_type": "code",
   "execution_count": 3,
   "metadata": {},
   "outputs": [
    {
     "name": "stdout",
     "output_type": "stream",
     "text": [
      "Prior variance (mode): 0.0666666666667\n",
      "Median Feature variance: 0.0390158825488\n"
     ]
    },
    {
     "name": "stderr",
     "output_type": "stream",
     "text": [
      "Run SEM: 100%|██████████| 2/2 [00:05<00:00,  3.39s/it]"
     ]
    },
    {
     "name": "stdout",
     "output_type": "stream",
     "text": [
      "[0 1]\n"
     ]
    },
    {
     "name": "stderr",
     "output_type": "stream",
     "text": [
      "\n"
     ]
    }
   ],
   "source": [
    "# Calibrate the prior\n",
    "x_list_no_switch, x_list_switch = generate_task()\n",
    "\n",
    "mode = df0 * scale0 / (df0 + 2)\n",
    "print(\"Prior variance (mode): {}\".format(mode))\n",
    "print(\"Median Feature variance: {}\".format(np.median(np.var(x_list_no_switch[0], axis=0))))\n",
    "\n",
    "sem_kwargs = dict(\n",
    "    lmda=lmda, alfa=alfa, f_class=f_class,\n",
    "    f_opts=f_opts\n",
    ")\n",
    "sem = SEM(**sem_kwargs)\n",
    "sem.run_w_boundaries(list_events=x_list_switch)\n",
    "print(sem.results.e_hat)"
   ]
  },
  {
   "cell_type": "code",
   "execution_count": 4,
   "metadata": {
    "scrolled": true
   },
   "outputs": [
    {
     "data": {
      "application/vnd.jupyter.widget-view+json": {
       "model_id": "1d820e8e90664b6d9a30cc5fe358ac99",
       "version_major": 2,
       "version_minor": 0
      },
      "text/plain": [
       "SEJveChjaGlsZHJlbj0oSW50UHJvZ3Jlc3ModmFsdWU9MCwgZGVzY3JpcHRpb249dSdCYXRjaCcsIG1heD0yNSwgc3R5bGU9UHJvZ3Jlc3NTdHlsZShkZXNjcmlwdGlvbl93aWR0aD11J2luaXTigKY=\n"
      ]
     },
     "metadata": {},
     "output_type": "display_data"
    },
    {
     "name": "stderr",
     "output_type": "stream",
     "text": [
      "                                                                \r"
     ]
    },
    {
     "name": "stdout",
     "output_type": "stream",
     "text": [
      "\n"
     ]
    }
   ],
   "source": [
    "from tqdm import tnrange\n",
    "n_batch = 25\n",
    "\n",
    "results = []\n",
    "for ii in tnrange(n_batch, desc='Batch'):\n",
    "    results.append(batch(sem_kwargs, gibbs_kwargs, epsilon_e, ii))\n",
    "results = pd.concat(results)"
   ]
  },
  {
   "cell_type": "code",
   "execution_count": 5,
   "metadata": {},
   "outputs": [
    {
     "data": {
      "image/png": "[encoded data removed]",
      "text/plain": [
       "<Figure size 324x180 with 2 Axes>"
      ]
     },
     "metadata": {
      "needs_background": "light"
     },
     "output_type": "display_data"
    }
   ],
   "source": [
    "x = results.groupby('Condition').mean()['Overall Acc'].index\n",
    "y = results.groupby('Condition').mean()['Overall Acc']\n",
    "y_err = results.groupby('Condition').std()['Overall Acc'] / np.sqrt(n_batch)\n",
    "\n",
    "fig, axes = plt.subplots(1, 2, figsize=(4.5, 2.5), sharey=True)\n",
    "# plt.figure(figsize=(2, 3))\n",
    "ax = axes[1]\n",
    "ax.bar(x, y, lw=1, edgecolor='k', color=[[1.0, 1.0, 1.0], [0.5, 0.5, 0.5]])\n",
    "ax.errorbar(x, y, y_err, marker='None', lw=2, ls='None', c='k')\n",
    "# plt.ylabel('Accuracy')\n",
    "\n",
    "sns.despine()\n",
    "ax.set_title('Model')\n",
    "\n",
    "from scipy.stats import ttest_ind\n",
    "ttest_ind(\n",
    "    results.loc[results.Condition == 'Shift', 'Overall Acc'],\n",
    "    results.loc[results.Condition == 'No-Shift', 'Overall Acc']\n",
    ")\n",
    "\n",
    "ax = axes[0]\n",
    "x = ['No-Shift', 'Shift']\n",
    "y = [0.27, 0.31]\n",
    "y_err = [0.02, 0.02]\n",
    "# ax.figure(figsize=(3, 3))\n",
    "ax.bar(x, y, color=[[1.0, 1.0, 1.0], [0.5, 0.5, 0.5]], edgecolor='k', linewidth=1)\n",
    "ax.errorbar(x, y, y_err, linestyle=\"None\", color='k')\n",
    "ax.set_title('Subjects')\n",
    "ax.set_ylabel('Accuracy')\n",
    "\n",
    "\n",
    "ax.set_yticks(np.arange(0, 0.761, 0.25))\n",
    "\n",
    "plt.savefig('pettijohn_gru.png', dpi=300, bbox_inches='tight')\n"
   ]
  },
  {
   "cell_type": "code",
   "execution_count": 6,
   "metadata": {},
   "outputs": [
    {
     "name": "stderr",
     "output_type": "stream",
     "text": [
      "/Users/nicholasfranklin/anaconda3/envs/sem/lib/python2.7/site-packages/seaborn/categorical.py:3666: UserWarning: The `factorplot` function has been renamed to `catplot`. The original name will be removed in a future release. Please update your code. Note that the default `kind` in `factorplot` (`'point'`) has changed `'strip'` in `catplot`.\n",
      "  warnings.warn(msg)\n",
      "/Users/nicholasfranklin/anaconda3/envs/sem/lib/python2.7/site-packages/scipy/stats/stats.py:1713: FutureWarning: Using a non-tuple sequence for multidimensional indexing is deprecated; use `arr[tuple(seq)]` instead of `arr[seq]`. In the future this will be interpreted as an array index, `arr[np.array(seq)]`, which will result either in an error or a different result.\n",
      "  return np.add.reduce(sorted[indexer] * weights, axis=axis) / sumval\n"
     ]
    },
    {
     "data": {
      "text/plain": [
       "<seaborn.axisgrid.FacetGrid at 0x1a4174a390>"
      ]
     },
     "execution_count": 6,
     "metadata": {},
     "output_type": "execute_result"
    },
    {
     "data": {
      "image/png": "[encoded data removed]",
      "text/plain": [
       "<Figure size 502.145x360 with 1 Axes>"
      ]
     },
     "metadata": {
      "needs_background": "light"
     },
     "output_type": "display_data"
    }
   ],
   "source": [
    "res = results.copy()\n",
    "res.rename(columns={'Boundary Acc':'Boundary', 'Non-boundary Acc':'Non-boundary', 'Condition': 'Group'}, inplace=True)\n",
    "res = res.melt(id_vars=['Group'], value_vars=['Boundary', 'Non-boundary'], value_name='Accuracy', \n",
    "               var_name='Condition')\n",
    "sns.factorplot(data=res, y='Accuracy', x='Group', hue='Condition', \n",
    "               kind='bar', order=['No-Shift', 'Shift'],\n",
    "               palette=[[0.75,0.75,0.75], [0.5,0.5,0.5]])"
   ]
  },
  {
   "cell_type": "code",
   "execution_count": 7,
   "metadata": {},
   "outputs": [
    {
     "data": {
      "text/html": [
       "<div>\n",
       "<style scoped>\n",
       "    .dataframe tbody tr th:only-of-type {\n",
       "        vertical-align: middle;\n",
       "    }\n",
       "\n",
       "    .dataframe tbody tr th {\n",
       "        vertical-align: top;\n",
       "    }\n",
       "\n",
       "    .dataframe thead th {\n",
       "        text-align: right;\n",
       "    }\n",
       "</style>\n",
       "<table border=\"1\" class=\"dataframe\">\n",
       "  <thead>\n",
       "    <tr style=\"text-align: right;\">\n",
       "      <th></th>\n",
       "      <th>Batch</th>\n",
       "      <th>Boundary Acc</th>\n",
       "      <th>Non-boundary Acc</th>\n",
       "      <th>Overall Acc</th>\n",
       "      <th>Reconstruction Segementation</th>\n",
       "      <th>r2</th>\n",
       "    </tr>\n",
       "  </thead>\n",
       "  <tbody>\n",
       "    <tr>\n",
       "      <th>count</th>\n",
       "      <td>25.000000</td>\n",
       "      <td>25.000000</td>\n",
       "      <td>25.000000</td>\n",
       "      <td>25.000000</td>\n",
       "      <td>25.000000</td>\n",
       "      <td>25.0</td>\n",
       "    </tr>\n",
       "    <tr>\n",
       "      <th>mean</th>\n",
       "      <td>12.000000</td>\n",
       "      <td>0.778667</td>\n",
       "      <td>0.746160</td>\n",
       "      <td>0.775416</td>\n",
       "      <td>0.735424</td>\n",
       "      <td>1.0</td>\n",
       "    </tr>\n",
       "    <tr>\n",
       "      <th>std</th>\n",
       "      <td>7.359801</td>\n",
       "      <td>0.053673</td>\n",
       "      <td>0.260257</td>\n",
       "      <td>0.049645</td>\n",
       "      <td>0.128188</td>\n",
       "      <td>0.0</td>\n",
       "    </tr>\n",
       "    <tr>\n",
       "      <th>min</th>\n",
       "      <td>0.000000</td>\n",
       "      <td>0.662667</td>\n",
       "      <td>0.144000</td>\n",
       "      <td>0.666000</td>\n",
       "      <td>0.566800</td>\n",
       "      <td>1.0</td>\n",
       "    </tr>\n",
       "    <tr>\n",
       "      <th>25%</th>\n",
       "      <td>6.000000</td>\n",
       "      <td>0.726889</td>\n",
       "      <td>0.584000</td>\n",
       "      <td>0.744600</td>\n",
       "      <td>0.627600</td>\n",
       "      <td>1.0</td>\n",
       "    </tr>\n",
       "    <tr>\n",
       "      <th>50%</th>\n",
       "      <td>12.000000</td>\n",
       "      <td>0.781333</td>\n",
       "      <td>0.890000</td>\n",
       "      <td>0.785600</td>\n",
       "      <td>0.697800</td>\n",
       "      <td>1.0</td>\n",
       "    </tr>\n",
       "    <tr>\n",
       "      <th>75%</th>\n",
       "      <td>18.000000</td>\n",
       "      <td>0.826000</td>\n",
       "      <td>0.934000</td>\n",
       "      <td>0.800800</td>\n",
       "      <td>0.839800</td>\n",
       "      <td>1.0</td>\n",
       "    </tr>\n",
       "    <tr>\n",
       "      <th>max</th>\n",
       "      <td>24.000000</td>\n",
       "      <td>0.850889</td>\n",
       "      <td>1.000000</td>\n",
       "      <td>0.858000</td>\n",
       "      <td>0.950000</td>\n",
       "      <td>1.0</td>\n",
       "    </tr>\n",
       "  </tbody>\n",
       "</table>\n",
       "</div>"
      ],
      "text/plain": [
       "           Batch  Boundary Acc  Non-boundary Acc  Overall Acc  \\\n",
       "count  25.000000     25.000000         25.000000    25.000000   \n",
       "mean   12.000000      0.778667          0.746160     0.775416   \n",
       "std     7.359801      0.053673          0.260257     0.049645   \n",
       "min     0.000000      0.662667          0.144000     0.666000   \n",
       "25%     6.000000      0.726889          0.584000     0.744600   \n",
       "50%    12.000000      0.781333          0.890000     0.785600   \n",
       "75%    18.000000      0.826000          0.934000     0.800800   \n",
       "max    24.000000      0.850889          1.000000     0.858000   \n",
       "\n",
       "       Reconstruction Segementation    r2  \n",
       "count                     25.000000  25.0  \n",
       "mean                       0.735424   1.0  \n",
       "std                        0.128188   0.0  \n",
       "min                        0.566800   1.0  \n",
       "25%                        0.627600   1.0  \n",
       "50%                        0.697800   1.0  \n",
       "75%                        0.839800   1.0  \n",
       "max                        0.950000   1.0  "
      ]
     },
     "execution_count": 7,
     "metadata": {},
     "output_type": "execute_result"
    }
   ],
   "source": [
    "results.loc[results.Condition == 'Shift'].describe()"
   ]
  },
  {
   "cell_type": "code",
   "execution_count": 8,
   "metadata": {},
   "outputs": [
    {
     "data": {
      "text/plain": [
       "Text(0,0.5,'Shift Accuracy')"
      ]
     },
     "execution_count": 8,
     "metadata": {},
     "output_type": "execute_result"
    },
    {
     "data": {
      "image/png": "[encoded data removed]",
      "text/plain": [
       "<Figure size 432x288 with 1 Axes>"
      ]
     },
     "metadata": {
      "needs_background": "light"
     },
     "output_type": "display_data"
    }
   ],
   "source": [
    "x = results.loc[results.Condition == 'Shift', 'Reconstruction Segementation']\n",
    "y = results.loc[results.Condition == 'Shift', 'Overall Acc'].values\n",
    "sns.regplot(x, y)\n",
    "y_bar = np.mean(results.loc[results.Condition != 'Shift', 'Overall Acc'])\n",
    "plt.plot([x.min(), x.max()], [y_bar, y_bar], 'k', ls='--')\n",
    "plt.ylabel('Shift Accuracy')"
   ]
  },
  {
   "cell_type": "markdown",
   "metadata": {},
   "source": [
    "Try to understand the how the parameter space effects the recovered segmentation"
   ]
  },
  {
   "cell_type": "code",
   "execution_count": 9,
   "metadata": {},
   "outputs": [
    {
     "data": {
      "text/plain": [
       "Text(0,0.5,'Shift Accuracy')"
      ]
     },
     "execution_count": 9,
     "metadata": {},
     "output_type": "execute_result"
    },
    {
     "data": {
      "image/png": "[encoded data removed]",
      "text/plain": [
       "<Figure size 432x288 with 1 Axes>"
      ]
     },
     "metadata": {
      "needs_background": "light"
     },
     "output_type": "display_data"
    }
   ],
   "source": [
    "x = results.loc[results.Condition == 'Shift', 'r2']\n",
    "y = results.loc[results.Condition == 'Shift', 'Overall Acc'].values\n",
    "sns.regplot(x, y)\n",
    "y_bar = np.mean(results.loc[results.Condition != 'Shift', 'Overall Acc'])\n",
    "plt.plot([x.min(), x.max()], [y_bar, y_bar], 'k', ls='--')\n",
    "plt.ylabel('Shift Accuracy')"
   ]
  },
  {
   "cell_type": "code",
   "execution_count": 10,
   "metadata": {},
   "outputs": [
    {
     "data": {
      "text/plain": [
       "0.775416"
      ]
     },
     "execution_count": 10,
     "metadata": {},
     "output_type": "execute_result"
    }
   ],
   "source": [
    "np.mean(y[x == 1.])"
   ]
  },
  {
   "cell_type": "code",
   "execution_count": 11,
   "metadata": {},
   "outputs": [],
   "source": [
    "import os\n"
   ]
  },
  {
   "cell_type": "code",
   "execution_count": 12,
   "metadata": {},
   "outputs": [
    {
     "ename": "SyntaxError",
     "evalue": "invalid syntax (<ipython-input-12-2da6925099fa>, line 1)",
     "output_type": "error",
     "traceback": [
      "\u001b[0;36m  File \u001b[0;32m\"<ipython-input-12-2da6925099fa>\"\u001b[0;36m, line \u001b[0;32m1\u001b[0m\n\u001b[0;31m    os.\u001b[0m\n\u001b[0m       ^\u001b[0m\n\u001b[0;31mSyntaxError\u001b[0m\u001b[0;31m:\u001b[0m invalid syntax\n"
     ]
    }
   ],
   "source": [
    "os."
   ]
  },
  {
   "cell_type": "code",
   "execution_count": null,
   "metadata": {},
   "outputs": [],
   "source": []
  }
 ],
 "metadata": {
  "kernelspec": {
   "display_name": "Python 2",
   "language": "python",
   "name": "python2"
  },
  "language_info": {
   "codemirror_mode": {
    "name": "ipython",
    "version": 2
   },
   "file_extension": ".py",
   "mimetype": "text/x-python",
   "name": "python",
   "nbconvert_exporter": "python",
   "pygments_lexer": "ipython2",
   "version": "2.7.15"
  }
 },
 "nbformat": 4,
 "nbformat_minor": 2
}
