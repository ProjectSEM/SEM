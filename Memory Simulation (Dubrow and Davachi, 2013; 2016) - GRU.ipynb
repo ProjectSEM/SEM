{
 "cells": [
  {
   "cell_type": "markdown",
   "metadata": {},
   "source": [
    "# Dubrow and Divachi 2013\n",
    "**TODO**: Describe experiment and the implementation of the simulations\n",
    "\n",
    "**TODO**: Clean up this simluations and re-run simluations for inteligability\n"
   ]
  },
  {
   "cell_type": "code",
   "execution_count": 1,
   "metadata": {},
   "outputs": [
    {
     "name": "stderr",
     "output_type": "stream",
     "text": [
      "Using TensorFlow backend.\n"
     ]
    },
    {
     "name": "stdout",
     "output_type": "stream",
     "text": [
      "TensorFlow Version: 1.9.0\n",
      "Keras      Version: 2.2.0\n",
      "TensorFlow Check Passed\n"
     ]
    }
   ],
   "source": [
    "%matplotlib inline\n",
    "import numpy as np\n",
    "import matplotlib.pyplot as plt\n",
    "import pandas as pd\n",
    "import seaborn as sns\n",
    "from models import *\n",
    "from tqdm import tnrange\n",
    "from simulations.exp_dubrow import run_subject, generate_experiment\n",
    "\n",
    "sns.set_context('paper', font_scale=1.5)"
   ]
  },
  {
   "cell_type": "code",
   "execution_count": 2,
   "metadata": {},
   "outputs": [
    {
     "name": "stdout",
     "output_type": "stream",
     "text": [
      "Prior variance (mode): 0.0666666666667\n",
      "tau: 0.1\n"
     ]
    }
   ],
   "source": [
    "# SEM parameters\n",
    "df0 = 1.\n",
    "scale0 = .2\n",
    "\n",
    "mode = df0 * scale0 / (df0 + 2)\n",
    "print(\"Prior variance (mode): {}\".format(mode))\n",
    "\n",
    "lmda = 10.0  # stickyness parameter\n",
    "alfa = 1.  # concentration parameter\n",
    "\n",
    "f_class = GRUEvent\n",
    "f_opts=dict(var_scale0=scale0, var_df0=df0)\n",
    "\n",
    "# create the corrupted memory trace\n",
    "# noise parameters\n",
    "b = 2\n",
    "tau = 0.1\n",
    "print(\"tau: {}\".format(tau))\n",
    "\n",
    "# set the parameters for the Gibbs sampler\n",
    "gibbs_kwargs = dict(\n",
    "    memory_alpha = alfa,\n",
    "    memory_lambda = lmda,\n",
    "    memory_epsilon = np.exp(-20),\n",
    "    b = b,  # re-defined here for completeness\n",
    "    tau = tau,  # ibid\n",
    "    n_samples = 250,\n",
    "    n_burnin = 100,\n",
    "    n_chains = 3,\n",
    "    leave_progress_bar=False,\n",
    ")\n",
    "sem_kwargs = dict(lmda=lmda, alfa=alfa, f_class=f_class, f_opts=f_opts)\n",
    "\n",
    "epsilon_e = 0.25"
   ]
  },
  {
   "cell_type": "code",
   "execution_count": 3,
   "metadata": {},
   "outputs": [
    {
     "name": "stdout",
     "output_type": "stream",
     "text": [
      "Prior variance (mode): 0.0666666666667\n",
      "Median Feature variance: 0.0480781876533\n"
     ]
    },
    {
     "name": "stderr",
     "output_type": "stream",
     "text": [
      "Run SEM: 100%|██████████| 5/5 [00:05<00:00,  1.06s/it]"
     ]
    },
    {
     "name": "stdout",
     "output_type": "stream",
     "text": [
      "[0 1 0 1 0]\n"
     ]
    },
    {
     "name": "stderr",
     "output_type": "stream",
     "text": [
      "\n"
     ]
    },
    {
     "data": {
      "image/png": "[encoded data removed]",
      "text/plain": [
       "<Figure size 432x288 with 2 Axes>"
      ]
     },
     "metadata": {
      "needs_background": "light"
     },
     "output_type": "display_data"
    }
   ],
   "source": [
    "# spot-check the segementation ability\n",
    "\n",
    "x_list_items, e_tokens = generate_experiment()\n",
    "\n",
    "mode = df0 * scale0 / (df0 + 2)\n",
    "print(\"Prior variance (mode): {}\".format(mode))\n",
    "print(\"Median Feature variance: {}\".format(\n",
    "    np.median(np.var(np.concatenate(x_list_items), axis=0))))\n",
    "\n",
    "sem_kwargs = dict(\n",
    "    lmda=lmda, alfa=alfa, f_class=f_class, f_opts=f_opts\n",
    ")\n",
    "\n",
    "sem = SEM(**sem_kwargs)\n",
    "sem.run_w_boundaries(list_events=x_list_items)\n",
    "print sem.results.e_hat\n",
    "\n",
    "fig, axes = plt.subplots(2, 1)\n",
    "axes[0].plot(sem.results.log_prior)\n",
    "axes[1].plot(sem.results.log_like)\n",
    "plt.show()"
   ]
  },
  {
   "cell_type": "code",
   "execution_count": 4,
   "metadata": {},
   "outputs": [],
   "source": [
    "# load saved simluations from memory\n",
    "from glob import glob\n",
    "n_batch = 25\n",
    "files = glob('simulations/saved_simulations/Dubrow_sim_*.pkl')\n",
    "results = pd.concat([pd.read_pickle(f) for f in files])\n"
   ]
  },
  {
   "cell_type": "code",
   "execution_count": 5,
   "metadata": {},
   "outputs": [],
   "source": [
    "## uncomment to re-run simulations (takes about a day)\n",
    "\n",
    "# n_batch = 25\n",
    "# n_runs = 16\n",
    "\n",
    "# results = []\n",
    "# for ii in range(n_batch):\n",
    "#     print \"Beginning batch {} of {}\\n\".format(ii, n_batch)\n",
    "#     results.append(run_subject(\n",
    "#         sem_kwargs, gibbs_kwargs, epsilon_e, n_runs=n_runs, subj_n=ii))\n",
    "# results = pd.concat(results)\n"
   ]
  },
  {
   "cell_type": "code",
   "execution_count": 6,
   "metadata": {},
   "outputs": [
    {
     "data": {
      "text/plain": [
       "Ttest_1sampResult(statistic=0.16019125129730236, pvalue=0.8740710715288575)"
      ]
     },
     "execution_count": 6,
     "metadata": {},
     "output_type": "execute_result"
    }
   ],
   "source": [
    "y = [results.groupby('Subject').mean()['Transitions Boundary'],\n",
    "     results.groupby('Subject').mean()['Transitions Pre-Boundary']]\n",
    "from scipy.stats import ttest_1samp\n",
    "ttest_1samp(y[0] - y[1], 0)\n",
    "\n"
   ]
  },
  {
   "cell_type": "code",
   "execution_count": 7,
   "metadata": {},
   "outputs": [
    {
     "name": "stdout",
     "output_type": "stream",
     "text": [
      "Ttest_1sampResult(statistic=-3.0757470404247704, pvalue=0.005180041632863383)\n"
     ]
    },
    {
     "data": {
      "image/png": "[encoded data removed]",
      "text/plain": [
       "<Figure size 216x216 with 1 Axes>"
      ]
     },
     "metadata": {
      "needs_background": "light"
     },
     "output_type": "display_data"
    }
   ],
   "source": [
    "plt.figure(figsize=(3, 3))\n",
    "x = ['Boundary', 'Pre-Boundary']\n",
    "y = [results.groupby('Subject').mean()['Boundary'].mean(),\n",
    "     results.groupby('Subject').mean()['Pre-Boundary'].mean()]\n",
    "y_err = [results.groupby('Subject').mean()['Boundary'].std() / np.sqrt(n_batch),\n",
    "     results.groupby('Subject').mean()['Pre-Boundary'].std() / np.sqrt(n_batch)]\n",
    "\n",
    "plt.bar(x[0], y[0], lw=1, edgecolor='k', facecolor='w')\n",
    "plt.bar(x[1], y[1], lw=1, edgecolor='k', facecolor='grey')\n",
    "plt.errorbar(x, y, y_err, marker='None', lw=2, ls='None', c='k')\n",
    "plt.ylabel('Accuracy')\n",
    "sns.despine()\n",
    "\n",
    "from scipy.stats import ttest_1samp\n",
    "print ttest_1samp(results.groupby('Subject').mean()['Boundary'].values - \n",
    "                results.groupby('Subject').mean()['Pre-Boundary'].values, 0)"
   ]
  },
  {
   "cell_type": "code",
   "execution_count": 9,
   "metadata": {},
   "outputs": [
    {
     "name": "stdout",
     "output_type": "stream",
     "text": [
      "Ttest_1sampResult(statistic=0.16019125129730236, pvalue=0.8740710715288575)\n"
     ]
    },
    {
     "data": {
      "image/png": "[encoded data removed]",
      "text/plain": [
       "<Figure size 216x216 with 1 Axes>"
      ]
     },
     "metadata": {
      "needs_background": "light"
     },
     "output_type": "display_data"
    }
   ],
   "source": [
    "plt.figure(figsize=(3, 3))\n",
    "x = ['Boundary', 'Pre-Boundary']\n",
    "y = [results.groupby('Subject').mean()['Transitions Boundary'].mean(),\n",
    "     results.groupby('Subject').mean()['Transitions Pre-Boundary'].mean()]\n",
    "y_err = [results.groupby('Subject').mean()['Transitions Boundary'].std() / np.sqrt(n_batch),\n",
    "     results.groupby('Subject').mean()['Transitions Pre-Boundary'].std() / np.sqrt(n_batch)]\n",
    "\n",
    "plt.bar(x[0], y[0], lw=1, edgecolor='k', facecolor='w')\n",
    "plt.bar(x[1], y[1], lw=1, edgecolor='k', facecolor='grey')\n",
    "plt.errorbar(x, y, y_err, marker='None', lw=2, ls='None', c='k')\n",
    "plt.ylabel('Transition Accuracy')\n",
    "sns.despine()\n",
    "\n",
    "from scipy.stats import ttest_1samp\n",
    "print ttest_1samp(results.groupby('Subject').mean()['Transitions Boundary'].values - \n",
    "                results.groupby('Subject').mean()['Transitions Pre-Boundary'].values, 0)\n",
    "\n",
    "# plt.savefig('Dubrow_correct_transitions_GRU.png', dpi=300, bbox_inches='tight')"
   ]
  },
  {
   "cell_type": "code",
   "execution_count": 10,
   "metadata": {},
   "outputs": [
    {
     "name": "stdout",
     "output_type": "stream",
     "text": [
      "Ttest_1sampResult(statistic=-1.3263188142037987, pvalue=0.1972181601289044)\n"
     ]
    },
    {
     "data": {
      "image/png": "[encoded data removed]",
      "text/plain": [
       "<Figure size 216x216 with 1 Axes>"
      ]
     },
     "metadata": {
      "needs_background": "light"
     },
     "output_type": "display_data"
    }
   ],
   "source": [
    "results_copy = results.copy()\n",
    "results_copy.loc[results_copy['Transitions Boundary'].isnull(), 'Transitions Boundary'] = 0\n",
    "results_copy.loc[results_copy['Transitions Pre-Boundary'].isnull(), 'Transitions Pre-Boundary'] = 0\n",
    "\n",
    "\n",
    "plt.figure(figsize=(3, 3))\n",
    "x = ['Boundary', 'Pre-Boundary']\n",
    "y = [results_copy.groupby('Subject').mean()['Transitions Boundary'].mean(),\n",
    "     results_copy.groupby('Subject').mean()['Transitions Pre-Boundary'].mean()]\n",
    "y_err = [results_copy.groupby('Subject').mean()['Transitions Boundary'].std() / np.sqrt(n_batch),\n",
    "     results_copy.groupby('Subject').mean()['Transitions Pre-Boundary'].std() / np.sqrt(n_batch)]\n",
    "\n",
    "plt.bar(x[0], y[0], lw=1, edgecolor='k', facecolor='w')\n",
    "plt.bar(x[1], y[1], lw=1, edgecolor='k', facecolor='grey')\n",
    "plt.errorbar(x, y, y_err, marker='None', lw=2, ls='None', c='k')\n",
    "plt.ylabel('Transition Accuracy')\n",
    "sns.despine()\n",
    "\n",
    "from scipy.stats import ttest_1samp\n",
    "print ttest_1samp(results_copy.groupby('Subject').mean()['Transitions Boundary'].values - \n",
    "                results_copy.groupby('Subject').mean()['Transitions Pre-Boundary'].values, 0)\n",
    "\n",
    "# plt.savefig('Dubrow_correct_transitions_GRU.png', dpi=300, bbox_inches='tight')"
   ]
  },
  {
   "cell_type": "code",
   "execution_count": 11,
   "metadata": {},
   "outputs": [
    {
     "data": {
      "text/plain": [
       "0.16358416666666653"
      ]
     },
     "execution_count": 11,
     "metadata": {},
     "output_type": "execute_result"
    }
   ],
   "source": [
    "# the overall accuracy is low, this is something we may have to revisit\n",
    "\n",
    "results_copy['Overall Acc'].mean()"
   ]
  },
  {
   "cell_type": "code",
   "execution_count": null,
   "metadata": {},
   "outputs": [],
   "source": []
  }
 ],
 "metadata": {
  "kernelspec": {
   "display_name": "Python 2",
   "language": "python",
   "name": "python2"
  },
  "language_info": {
   "codemirror_mode": {
    "name": "ipython",
    "version": 2
   },
   "file_extension": ".py",
   "mimetype": "text/x-python",
   "name": "python",
   "nbconvert_exporter": "python",
   "pygments_lexer": "ipython2",
   "version": "2.7.15"
  }
 },
 "nbformat": 4,
 "nbformat_minor": 2
}
