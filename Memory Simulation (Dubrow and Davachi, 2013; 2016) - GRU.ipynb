{
 "cells": [
  {
   "cell_type": "markdown",
   "metadata": {},
   "source": [
    "# Dubrow and Divachi 2013\n",
    "**TODO**: Describe experiment and the implementation of the simulations\n",
    "\n",
    "**TODO**: Clean up this simluations and re-run simluations for inteligability\n"
   ]
  },
  {
   "cell_type": "code",
   "execution_count": 1,
   "metadata": {},
   "outputs": [
    {
     "name": "stderr",
     "output_type": "stream",
     "text": [
      "Using TensorFlow backend.\n"
     ]
    },
    {
     "name": "stdout",
     "output_type": "stream",
     "text": [
      "TensorFlow Version: 1.9.0\n",
      "Keras      Version: 2.2.0\n",
      "TensorFlow Check Passed\n"
     ]
    }
   ],
   "source": [
    "%matplotlib inline\n",
    "import numpy as np\n",
    "import matplotlib.pyplot as plt\n",
    "import pandas as pd\n",
    "import seaborn as sns\n",
    "from models import *\n",
    "from tqdm import tnrange\n",
    "from simulations.exp_dubrow import run_subject, generate_experiment\n",
    "\n",
    "sns.set_context('paper', font_scale=1.5)"
   ]
  },
  {
   "cell_type": "code",
   "execution_count": 2,
   "metadata": {},
   "outputs": [
    {
     "name": "stdout",
     "output_type": "stream",
     "text": [
      "Prior variance (mode): 0.0666666666667\n",
      "tau: 0.1\n"
     ]
    }
   ],
   "source": [
    "# SEM parameters\n",
    "df0 = 1.\n",
    "scale0 = .2\n",
    "\n",
    "mode = df0 * scale0 / (df0 + 2)\n",
    "print(\"Prior variance (mode): {}\".format(mode))\n",
    "\n",
    "lmda = 10.0  # stickyness parameter\n",
    "alfa = 1.  # concentration parameter\n",
    "\n",
    "f_class = GRUEvent\n",
    "f_opts=dict(var_scale0=scale0, var_df0=df0)\n",
    "\n",
    "# create the corrupted memory trace\n",
    "# noise parameters\n",
    "b = 2\n",
    "tau = 0.1\n",
    "print(\"tau: {}\".format(tau))\n",
    "\n",
    "# set the parameters for the Gibbs sampler\n",
    "gibbs_kwargs = dict(\n",
    "    memory_alpha = alfa,\n",
    "    memory_lambda = lmda,\n",
    "    memory_epsilon = np.exp(-20),\n",
    "    b = b,  # re-defined here for completeness\n",
    "    tau = tau,  # ibid\n",
    "    n_samples = 250,\n",
    "    n_burnin = 100,\n",
    "#     n_chains = 3,\n",
    "    progress_bar=False,\n",
    ")\n",
    "sem_kwargs = dict(lmda=lmda, alfa=alfa, f_class=f_class, f_opts=f_opts)\n",
    "\n",
    "epsilon_e = 0.25"
   ]
  },
  {
   "cell_type": "code",
   "execution_count": 3,
   "metadata": {},
   "outputs": [
    {
     "name": "stdout",
     "output_type": "stream",
     "text": [
      "Prior variance (mode): 0.0666666666667\n",
      "Median Feature variance: 0.0515606149675\n"
     ]
    },
    {
     "name": "stderr",
     "output_type": "stream",
     "text": [
      "Run SEM: 100%|██████████| 5/5 [00:05<00:00,  1.18s/it]"
     ]
    },
    {
     "name": "stdout",
     "output_type": "stream",
     "text": [
      "[0 1 2 3 4]\n"
     ]
    },
    {
     "name": "stderr",
     "output_type": "stream",
     "text": [
      "\n"
     ]
    },
    {
     "data": {
      "image/png": "[encoded data removed]",
      "text/plain": [
       "<Figure size 432x288 with 2 Axes>"
      ]
     },
     "metadata": {
      "needs_background": "light"
     },
     "output_type": "display_data"
    }
   ],
   "source": [
    "# spot-check the segementation ability\n",
    "\n",
    "x_list_items, e_tokens = generate_experiment()\n",
    "\n",
    "mode = df0 * scale0 / (df0 + 2)\n",
    "print(\"Prior variance (mode): {}\".format(mode))\n",
    "print(\"Median Feature variance: {}\".format(\n",
    "    np.median(np.var(np.concatenate(x_list_items), axis=0))))\n",
    "\n",
    "sem_kwargs = dict(\n",
    "    lmda=lmda, alfa=alfa, f_class=f_class, f_opts=f_opts\n",
    ")\n",
    "\n",
    "sem = SEM(**sem_kwargs)\n",
    "sem.run_w_boundaries(list_events=x_list_items)\n",
    "print sem.results.e_hat\n",
    "\n",
    "fig, axes = plt.subplots(2, 1)\n",
    "axes[0].plot(sem.results.log_prior)\n",
    "axes[1].plot(sem.results.log_like)\n",
    "plt.show()"
   ]
  },
  {
   "cell_type": "code",
   "execution_count": 4,
   "metadata": {},
   "outputs": [],
   "source": [
    "# # load saved simluations from memory\n",
    "# from glob import glob\n",
    "# n_batch = 25\n",
    "# files = glob('simulations/saved_simulations/Dubrow_sim_*.pkl')\n",
    "# results = pd.concat([pd.read_pickle(f) for f in files])\n"
   ]
  },
  {
   "cell_type": "code",
   "execution_count": 5,
   "metadata": {},
   "outputs": [
    {
     "name": "stderr",
     "output_type": "stream",
     "text": [
      "\r",
      "Running Subject:   0%|          | 0/16 [00:00<?, ?it/s]"
     ]
    },
    {
     "name": "stdout",
     "output_type": "stream",
     "text": [
      "Beginning batch 0 of 25\n",
      "\n"
     ]
    },
    {
     "name": "stderr",
     "output_type": "stream",
     "text": [
      "Running Subject:   6%|▋         | 1/16 [01:32<23:01, 92.11s/it]/Users/nicholasfranklin/anaconda3/envs/sem/lib/python2.7/site-packages/numpy/core/fromnumeric.py:2920: RuntimeWarning: Mean of empty slice.\n",
      "  out=out, **kwargs)\n",
      "/Users/nicholasfranklin/anaconda3/envs/sem/lib/python2.7/site-packages/numpy/core/_methods.py:85: RuntimeWarning: invalid value encountered in double_scalars\n",
      "  ret = ret.dtype.type(ret / rcount)\n",
      "Running Subject: 100%|██████████| 16/16 [21:49<00:00, 82.34s/it]\n",
      "Running Subject:   0%|          | 0/16 [00:00<?, ?it/s]"
     ]
    },
    {
     "name": "stdout",
     "output_type": "stream",
     "text": [
      "Beginning batch 1 of 25\n",
      "\n"
     ]
    },
    {
     "name": "stderr",
     "output_type": "stream",
     "text": [
      "Running Subject: 100%|██████████| 16/16 [24:06<00:00, 92.49s/it]\n",
      "Running Subject:   0%|          | 0/16 [00:00<?, ?it/s]"
     ]
    },
    {
     "name": "stdout",
     "output_type": "stream",
     "text": [
      "Beginning batch 2 of 25\n",
      "\n"
     ]
    },
    {
     "name": "stderr",
     "output_type": "stream",
     "text": [
      "Running Subject: 100%|██████████| 16/16 [24:48<00:00, 99.00s/it] \n",
      "Running Subject:   0%|          | 0/16 [00:00<?, ?it/s]"
     ]
    },
    {
     "name": "stdout",
     "output_type": "stream",
     "text": [
      "Beginning batch 3 of 25\n",
      "\n"
     ]
    },
    {
     "name": "stderr",
     "output_type": "stream",
     "text": [
      "Running Subject: 100%|██████████| 16/16 [27:21<00:00, 116.39s/it]\n",
      "Running Subject:   0%|          | 0/16 [00:00<?, ?it/s]"
     ]
    },
    {
     "name": "stdout",
     "output_type": "stream",
     "text": [
      "Beginning batch 4 of 25\n",
      "\n"
     ]
    },
    {
     "name": "stderr",
     "output_type": "stream",
     "text": [
      "Running Subject: 100%|██████████| 16/16 [26:34<00:00, 90.17s/it] \n",
      "Running Subject:   0%|          | 0/16 [00:00<?, ?it/s]"
     ]
    },
    {
     "name": "stdout",
     "output_type": "stream",
     "text": [
      "Beginning batch 5 of 25\n",
      "\n"
     ]
    },
    {
     "name": "stderr",
     "output_type": "stream",
     "text": [
      "Running Subject: 100%|██████████| 16/16 [1:58:10<00:00, 126.75s/it]  \n",
      "Running Subject:   0%|          | 0/16 [00:00<?, ?it/s]"
     ]
    },
    {
     "name": "stdout",
     "output_type": "stream",
     "text": [
      "Beginning batch 6 of 25\n",
      "\n"
     ]
    },
    {
     "name": "stderr",
     "output_type": "stream",
     "text": [
      "Running Subject: 100%|██████████| 16/16 [24:57<00:00, 91.55s/it]\n",
      "Running Subject:   0%|          | 0/16 [00:00<?, ?it/s]"
     ]
    },
    {
     "name": "stdout",
     "output_type": "stream",
     "text": [
      "Beginning batch 7 of 25\n",
      "\n"
     ]
    },
    {
     "name": "stderr",
     "output_type": "stream",
     "text": [
      "Running Subject: 100%|██████████| 16/16 [24:56<00:00, 95.60s/it]\n",
      "Running Subject:   0%|          | 0/16 [00:00<?, ?it/s]"
     ]
    },
    {
     "name": "stdout",
     "output_type": "stream",
     "text": [
      "Beginning batch 8 of 25\n",
      "\n"
     ]
    },
    {
     "name": "stderr",
     "output_type": "stream",
     "text": [
      "Running Subject: 100%|██████████| 16/16 [24:35<00:00, 94.47s/it]\n",
      "Running Subject:   0%|          | 0/16 [00:00<?, ?it/s]"
     ]
    },
    {
     "name": "stdout",
     "output_type": "stream",
     "text": [
      "Beginning batch 9 of 25\n",
      "\n"
     ]
    },
    {
     "name": "stderr",
     "output_type": "stream",
     "text": [
      "Running Subject: 100%|██████████| 16/16 [28:06<00:00, 99.02s/it] \n",
      "Running Subject:   0%|          | 0/16 [00:00<?, ?it/s]"
     ]
    },
    {
     "name": "stdout",
     "output_type": "stream",
     "text": [
      "Beginning batch 10 of 25\n",
      "\n"
     ]
    },
    {
     "name": "stderr",
     "output_type": "stream",
     "text": [
      "Running Subject: 100%|██████████| 16/16 [24:58<00:00, 93.72s/it]\n",
      "Running Subject:   0%|          | 0/16 [00:00<?, ?it/s]"
     ]
    },
    {
     "name": "stdout",
     "output_type": "stream",
     "text": [
      "Beginning batch 11 of 25\n",
      "\n"
     ]
    },
    {
     "name": "stderr",
     "output_type": "stream",
     "text": [
      "Running Subject: 100%|██████████| 16/16 [24:51<00:00, 94.16s/it]\n",
      "Running Subject:   0%|          | 0/16 [00:00<?, ?it/s]"
     ]
    },
    {
     "name": "stdout",
     "output_type": "stream",
     "text": [
      "Beginning batch 12 of 25\n",
      "\n"
     ]
    },
    {
     "name": "stderr",
     "output_type": "stream",
     "text": [
      "Running Subject: 100%|██████████| 16/16 [24:27<00:00, 89.68s/it]\n",
      "Running Subject:   0%|          | 0/16 [00:00<?, ?it/s]"
     ]
    },
    {
     "name": "stdout",
     "output_type": "stream",
     "text": [
      "Beginning batch 13 of 25\n",
      "\n"
     ]
    },
    {
     "name": "stderr",
     "output_type": "stream",
     "text": [
      "Running Subject: 100%|██████████| 16/16 [24:41<00:00, 95.08s/it]\n",
      "Running Subject:   0%|          | 0/16 [00:00<?, ?it/s]"
     ]
    },
    {
     "name": "stdout",
     "output_type": "stream",
     "text": [
      "Beginning batch 14 of 25\n",
      "\n"
     ]
    },
    {
     "name": "stderr",
     "output_type": "stream",
     "text": [
      "Running Subject: 100%|██████████| 16/16 [25:09<00:00, 94.19s/it]\n",
      "Running Subject:   0%|          | 0/16 [00:00<?, ?it/s]"
     ]
    },
    {
     "name": "stdout",
     "output_type": "stream",
     "text": [
      "Beginning batch 15 of 25\n",
      "\n"
     ]
    },
    {
     "name": "stderr",
     "output_type": "stream",
     "text": [
      "Running Subject: 100%|██████████| 16/16 [25:15<00:00, 96.52s/it]\n",
      "Running Subject:   0%|          | 0/16 [00:00<?, ?it/s]"
     ]
    },
    {
     "name": "stdout",
     "output_type": "stream",
     "text": [
      "Beginning batch 16 of 25\n",
      "\n"
     ]
    },
    {
     "name": "stderr",
     "output_type": "stream",
     "text": [
      "Running Subject: 100%|██████████| 16/16 [25:01<00:00, 95.64s/it]\n",
      "Running Subject:   0%|          | 0/16 [00:00<?, ?it/s]"
     ]
    },
    {
     "name": "stdout",
     "output_type": "stream",
     "text": [
      "Beginning batch 17 of 25\n",
      "\n"
     ]
    },
    {
     "name": "stderr",
     "output_type": "stream",
     "text": [
      "Running Subject: 100%|██████████| 16/16 [25:04<00:00, 92.50s/it]\n",
      "Running Subject:   0%|          | 0/16 [00:00<?, ?it/s]"
     ]
    },
    {
     "name": "stdout",
     "output_type": "stream",
     "text": [
      "Beginning batch 18 of 25\n",
      "\n"
     ]
    },
    {
     "name": "stderr",
     "output_type": "stream",
     "text": [
      "Running Subject: 100%|██████████| 16/16 [24:32<00:00, 94.61s/it]\n",
      "Running Subject:   0%|          | 0/16 [00:00<?, ?it/s]"
     ]
    },
    {
     "name": "stdout",
     "output_type": "stream",
     "text": [
      "Beginning batch 19 of 25\n",
      "\n"
     ]
    },
    {
     "name": "stderr",
     "output_type": "stream",
     "text": [
      "Running Subject: 100%|██████████| 16/16 [24:45<00:00, 91.91s/it]\n",
      "Running Subject:   0%|          | 0/16 [00:00<?, ?it/s]"
     ]
    },
    {
     "name": "stdout",
     "output_type": "stream",
     "text": [
      "Beginning batch 20 of 25\n",
      "\n"
     ]
    },
    {
     "name": "stderr",
     "output_type": "stream",
     "text": [
      "Running Subject: 100%|██████████| 16/16 [25:30<00:00, 98.41s/it]\n",
      "Running Subject:   0%|          | 0/16 [00:00<?, ?it/s]"
     ]
    },
    {
     "name": "stdout",
     "output_type": "stream",
     "text": [
      "Beginning batch 21 of 25\n",
      "\n"
     ]
    },
    {
     "name": "stderr",
     "output_type": "stream",
     "text": [
      "Running Subject: 100%|██████████| 16/16 [25:27<00:00, 96.73s/it]\n",
      "Running Subject:   0%|          | 0/16 [00:00<?, ?it/s]"
     ]
    },
    {
     "name": "stdout",
     "output_type": "stream",
     "text": [
      "Beginning batch 22 of 25\n",
      "\n"
     ]
    },
    {
     "name": "stderr",
     "output_type": "stream",
     "text": [
      "Running Subject: 100%|██████████| 16/16 [26:07<00:00, 95.71s/it] \n",
      "Running Subject:   0%|          | 0/16 [00:00<?, ?it/s]"
     ]
    },
    {
     "name": "stdout",
     "output_type": "stream",
     "text": [
      "Beginning batch 23 of 25\n",
      "\n"
     ]
    },
    {
     "name": "stderr",
     "output_type": "stream",
     "text": [
      "Running Subject: 100%|██████████| 16/16 [25:48<00:00, 99.18s/it]\n",
      "Running Subject:   0%|          | 0/16 [00:00<?, ?it/s]"
     ]
    },
    {
     "name": "stdout",
     "output_type": "stream",
     "text": [
      "Beginning batch 24 of 25\n",
      "\n"
     ]
    },
    {
     "name": "stderr",
     "output_type": "stream",
     "text": [
      "Running Subject: 100%|██████████| 16/16 [25:08<00:00, 97.81s/it]\n"
     ]
    }
   ],
   "source": [
    "# uncomment to re-run simulations (takes about a day)\n",
    "\n",
    "n_batch = 25\n",
    "n_runs = 16\n",
    "\n",
    "results = []\n",
    "for ii in range(n_batch):\n",
    "    print \"Beginning batch {} of {}\\n\".format(ii, n_batch)\n",
    "    results.append(run_subject(\n",
    "        sem_kwargs, gibbs_kwargs, epsilon_e, n_runs=n_runs, subj_n=ii))\n",
    "results = pd.concat(results)\n"
   ]
  },
  {
   "cell_type": "code",
   "execution_count": 6,
   "metadata": {},
   "outputs": [
    {
     "data": {
      "text/plain": [
       "Ttest_1sampResult(statistic=-3.7181209446899817, pvalue=0.001070668681640594)"
      ]
     },
     "execution_count": 6,
     "metadata": {},
     "output_type": "execute_result"
    }
   ],
   "source": [
    "y = [results.groupby('Subject').mean()['Transitions Boundary'],\n",
    "     results.groupby('Subject').mean()['Transitions Pre-Boundary']]\n",
    "from scipy.stats import ttest_1samp\n",
    "ttest_1samp(y[0] - y[1], 0)\n",
    "\n"
   ]
  },
  {
   "cell_type": "code",
   "execution_count": 7,
   "metadata": {},
   "outputs": [
    {
     "name": "stdout",
     "output_type": "stream",
     "text": [
      "Ttest_1sampResult(statistic=-3.2251166012327457, pvalue=0.003613881068347618)\n"
     ]
    },
    {
     "data": {
      "image/png": "[encoded data removed]",
      "text/plain": [
       "<Figure size 216x216 with 1 Axes>"
      ]
     },
     "metadata": {
      "needs_background": "light"
     },
     "output_type": "display_data"
    }
   ],
   "source": [
    "plt.figure(figsize=(3, 3))\n",
    "x = ['Boundary', 'Pre-Boundary']\n",
    "y = [results.groupby('Subject').mean()['Boundary'].mean(),\n",
    "     results.groupby('Subject').mean()['Pre-Boundary'].mean()]\n",
    "y_err = [results.groupby('Subject').mean()['Boundary'].std() / np.sqrt(n_batch),\n",
    "     results.groupby('Subject').mean()['Pre-Boundary'].std() / np.sqrt(n_batch)]\n",
    "\n",
    "plt.bar(x[0], y[0], lw=1, edgecolor='k', facecolor='w')\n",
    "plt.bar(x[1], y[1], lw=1, edgecolor='k', facecolor='grey')\n",
    "plt.errorbar(x, y, y_err, marker='None', lw=2, ls='None', c='k')\n",
    "plt.ylabel('Accuracy')\n",
    "sns.despine()\n",
    "\n",
    "from scipy.stats import ttest_1samp\n",
    "print ttest_1samp(results.groupby('Subject').mean()['Boundary'].values - \n",
    "                results.groupby('Subject').mean()['Pre-Boundary'].values, 0)"
   ]
  },
  {
   "cell_type": "code",
   "execution_count": 11,
   "metadata": {},
   "outputs": [
    {
     "name": "stdout",
     "output_type": "stream",
     "text": [
      "Ttest_1sampResult(statistic=-3.7181209446899817, pvalue=0.001070668681640594)\n"
     ]
    },
    {
     "data": {
      "image/png": "[encoded data removed]",
      "text/plain": [
       "<Figure size 216x216 with 1 Axes>"
      ]
     },
     "metadata": {
      "needs_background": "light"
     },
     "output_type": "display_data"
    }
   ],
   "source": [
    "plt.figure(figsize=(3, 3))\n",
    "x = ['Boundary', 'Pre-Boundary']\n",
    "y = [results.groupby('Subject').mean()['Transitions Boundary'].mean(),\n",
    "     results.groupby('Subject').mean()['Transitions Pre-Boundary'].mean()]\n",
    "y_err = [results.groupby('Subject').mean()['Transitions Boundary'].std() / np.sqrt(n_batch),\n",
    "     results.groupby('Subject').mean()['Transitions Pre-Boundary'].std() / np.sqrt(n_batch)]\n",
    "\n",
    "plt.bar(x[0], y[0], lw=1, edgecolor='k', facecolor='w')\n",
    "plt.bar(x[1], y[1], lw=1, edgecolor='k', facecolor='grey')\n",
    "plt.errorbar(x, y, y_err, marker='None', lw=2, ls='None', c='k')\n",
    "plt.ylabel('Transition Accuracy')\n",
    "sns.despine()\n",
    "\n",
    "from scipy.stats import ttest_1samp\n",
    "print ttest_1samp(results.groupby('Subject').mean()['Transitions Boundary'].values - \n",
    "                results.groupby('Subject').mean()['Transitions Pre-Boundary'].values, 0)\n",
    "\n",
    "plt.savefig('Dubrow_correct_transitions_GRU.png', dpi=300, bbox_inches='tight')"
   ]
  },
  {
   "cell_type": "code",
   "execution_count": 9,
   "metadata": {},
   "outputs": [
    {
     "name": "stdout",
     "output_type": "stream",
     "text": [
      "Ttest_1sampResult(statistic=-4.917157634153577, pvalue=5.128622992260036e-05)\n"
     ]
    },
    {
     "data": {
      "image/png": "[encoded data removed]",
      "text/plain": [
       "<Figure size 216x216 with 1 Axes>"
      ]
     },
     "metadata": {
      "needs_background": "light"
     },
     "output_type": "display_data"
    }
   ],
   "source": [
    "results_copy = results.copy()\n",
    "results_copy.loc[results_copy['Transitions Boundary'].isnull(), 'Transitions Boundary'] = 0\n",
    "results_copy.loc[results_copy['Transitions Pre-Boundary'].isnull(), 'Transitions Pre-Boundary'] = 0\n",
    "\n",
    "\n",
    "plt.figure(figsize=(3, 3))\n",
    "x = ['Boundary', 'Pre-Boundary']\n",
    "y = [results_copy.groupby('Subject').mean()['Transitions Boundary'].mean(),\n",
    "     results_copy.groupby('Subject').mean()['Transitions Pre-Boundary'].mean()]\n",
    "y_err = [results_copy.groupby('Subject').mean()['Transitions Boundary'].std() / np.sqrt(n_batch),\n",
    "     results_copy.groupby('Subject').mean()['Transitions Pre-Boundary'].std() / np.sqrt(n_batch)]\n",
    "\n",
    "plt.bar(x[0], y[0], lw=1, edgecolor='k', facecolor='w')\n",
    "plt.bar(x[1], y[1], lw=1, edgecolor='k', facecolor='grey')\n",
    "plt.errorbar(x, y, y_err, marker='None', lw=2, ls='None', c='k')\n",
    "plt.ylabel('Transition Accuracy')\n",
    "sns.despine()\n",
    "\n",
    "from scipy.stats import ttest_1samp\n",
    "print ttest_1samp(results_copy.groupby('Subject').mean()['Transitions Boundary'].values - \n",
    "                results_copy.groupby('Subject').mean()['Transitions Pre-Boundary'].values, 0)\n",
    "\n",
    "# plt.savefig('Dubrow_correct_transitions_GRU.png', dpi=300, bbox_inches='tight')"
   ]
  },
  {
   "cell_type": "code",
   "execution_count": 10,
   "metadata": {},
   "outputs": [
    {
     "data": {
      "text/plain": [
       "0.7552334999999999"
      ]
     },
     "execution_count": 10,
     "metadata": {},
     "output_type": "execute_result"
    }
   ],
   "source": [
    "# the overall accuracy is low, this is something we may have to revisit\n",
    "\n",
    "results_copy['Overall Acc'].mean()"
   ]
  },
  {
   "cell_type": "code",
   "execution_count": null,
   "metadata": {},
   "outputs": [],
   "source": []
  }
 ],
 "metadata": {
  "kernelspec": {
   "display_name": "Python 2",
   "language": "python",
   "name": "python2"
  },
  "language_info": {
   "codemirror_mode": {
    "name": "ipython",
    "version": 2
   },
   "file_extension": ".py",
   "mimetype": "text/x-python",
   "name": "python",
   "nbconvert_exporter": "python",
   "pygments_lexer": "ipython2",
   "version": "2.7.15"
  }
 },
 "nbformat": 4,
 "nbformat_minor": 2
}
