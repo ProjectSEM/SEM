{
 "cells": [
  {
   "cell_type": "code",
   "execution_count": 1,
   "metadata": {},
   "outputs": [
    {
     "name": "stderr",
     "output_type": "stream",
     "text": [
      "Using TensorFlow backend.\n"
     ]
    },
    {
     "name": "stdout",
     "output_type": "stream",
     "text": [
      "TensorFlow Version: 1.9.0\n",
      "Keras      Version: 2.2.0\n"
     ]
    }
   ],
   "source": [
    "%matplotlib inline\n",
    "import numpy as np\n",
    "import matplotlib.pyplot as plt\n",
    "import tensorflow as tf\n",
    "import seaborn as sns\n",
    "from models import SEM, KerasLDS, LinearEvent, KerasMultiLayerPerceptron\n",
    "from models import KerasSRN, KerasRecurrentMLP, KerasLSTM\n",
    "from sklearn import metrics"
   ]
  },
  {
   "cell_type": "markdown",
   "metadata": {},
   "source": [
    "Here, I'm defining the event segmentation model and a linear dymanic system that is used as the event model. See SEM project notes for details, but it's what's proposed\n"
   ]
  },
  {
   "cell_type": "code",
   "execution_count": 2,
   "metadata": {},
   "outputs": [
    {
     "data": {
      "text/plain": [
       "<matplotlib.collections.PathCollection at 0x127563950>"
      ]
     },
     "execution_count": 2,
     "metadata": {},
     "output_type": "execute_result"
    },
    {
     "data": {
      "image/png": "[encoded data removed]",
      "text/plain": [
       "<Figure size 216x216 with 1 Axes>"
      ]
     },
     "metadata": {},
     "output_type": "display_data"
    }
   ],
   "source": [
    "def build_2d_data(N, beta=0.1):\n",
    "    \"\"\" \n",
    "    2d, Mulitvariate Guassian data\n",
    "    \"\"\"\n",
    "    mu = [1, 1]\n",
    "    Sigma = np.eye(2) * beta\n",
    "    x = np.zeros((N, 2), dtype=np.float32)\n",
    "    for n in range(N):\n",
    "        x[n, :] = np.random.multivariate_normal(mu, Sigma)\n",
    "        \n",
    "    return x\n",
    "X = build_2d_data(100)\n",
    "plt.figure(figsize=(3,3))\n",
    "plt.scatter(X[:,0], X[:, 1])"
   ]
  },
  {
   "cell_type": "code",
   "execution_count": 3,
   "metadata": {},
   "outputs": [],
   "source": [
    "D = 2\n",
    "X_train = X[0:-1]; y_train = X[1:]"
   ]
  },
  {
   "cell_type": "markdown",
   "metadata": {},
   "source": [
    "Now, we define some toy problem"
   ]
  },
  {
   "cell_type": "code",
   "execution_count": 4,
   "metadata": {},
   "outputs": [
    {
     "data": {
      "text/plain": [
       "[<matplotlib.lines.Line2D at 0x127612b10>]"
      ]
     },
     "execution_count": 4,
     "metadata": {},
     "output_type": "execute_result"
    },
    {
     "data": {
      "image/png": "[encoded data removed]",
      "text/plain": [
       "<Figure size 432x288 with 1 Axes>"
      ]
     },
     "metadata": {},
     "output_type": "display_data"
    }
   ],
   "source": [
    "# first demo -- gaussian mixture defined by the CRP\n",
    "\n",
    "def build_static_dataset(N, beta=0.1):\n",
    "    \"\"\" \n",
    "    2 events, modeled as gaussians with different means\n",
    "    \"\"\"\n",
    "    \n",
    "    pi = np.array([0.4, 0.6])\n",
    "    mus = [[1, 1], [-1, -1]]\n",
    "    x = np.zeros((N, 2), dtype=np.float32)\n",
    "    for n in range(N/2):\n",
    "        x[n, :] = np.random.multivariate_normal(mus[0], np.eye(2) * beta)\n",
    "    for n in range(N/2, N):\n",
    "        x[n, :] = np.random.multivariate_normal(mus[1], np.eye(2) * beta)\n",
    "        \n",
    "    return x\n",
    "\n",
    "x_train = build_static_dataset(50, 0.01)\n",
    "y = np.concatenate([np.zeros((25), dtype=int), np.ones((25), dtype=int)])\n",
    "plt.plot(x_train[:, 0], x_train[:, 1])"
   ]
  },
  {
   "cell_type": "code",
   "execution_count": 5,
   "metadata": {},
   "outputs": [],
   "source": [
    "# SEM parameters\n",
    "# K = 20  # maximum number of event types\n",
    "lmda = 10.0  # stickyness parameter\n",
    "alfa = .10  # concentration parameter\n",
    "# beta = 0.1 # transition noise\n",
    "# eta =  0.1  # learning rate\n",
    "\n",
    "\n",
    "# define plotting function\n",
    "import seaborn as sns\n",
    "\n",
    "def plot_segmentation(post, y):\n",
    "    cluster_id = np.argmax(post, axis=1)\n",
    "    cc = sns.color_palette('Dark2', post.shape[1])\n",
    "    \n",
    "    fig, axes = plt.subplots(1, 2, figsize=(12, 4), gridspec_kw=dict(width_ratios=[1, 2]))\n",
    "    for clt in cluster_id:\n",
    "        idx = np.nonzero(cluster_id == clt)[0]\n",
    "        axes[0].scatter(x_train[idx, 0], x_train[idx, 1], color=cc[clt], alpha=.5)\n",
    "    axes[0].set_xlabel(r'$\\mathbf{x}_{s,1}$')\n",
    "    axes[0].set_ylabel(r'$\\mathbf{x}_{s,2}$')\n",
    "\n",
    "\n",
    "    axes[1].plot(post)\n",
    "    y_hat = np.argmax(post, axis=1)\n",
    "    axes[1].set_xlabel('Time')\n",
    "    axes[1].set_ylabel('Cluster ID')\n",
    "    print \"Adjusted Mutual Information:\", metrics.adjusted_mutual_info_score(y, y_hat)\n",
    "    print \"Adjusted Rand Score:\", metrics.adjusted_rand_score(y, y_hat)\n",
    "    print \n",
    "    print np.argmax(post, axis=1)"
   ]
  },
  {
   "cell_type": "markdown",
   "metadata": {},
   "source": [
    "### Linear system (analytic)"
   ]
  },
  {
   "cell_type": "code",
   "execution_count": 6,
   "metadata": {},
   "outputs": [
    {
     "name": "stderr",
     "output_type": "stream",
     "text": [
      "Run SEM: 100%|██████████| 50/50 [00:00<00:00, 750.60it/s]\n"
     ]
    },
    {
     "name": "stdout",
     "output_type": "stream",
     "text": [
      "Adjusted Mutual Information: 1.0\n",
      "Adjusted Rand Score: 1.0\n",
      "\n",
      "[0 0 0 0 0 0 0 0 0 0 0 0 0 0 0 0 0 0 0 0 0 0 0 0 0 1 1 1 1 1 1 1 1 1 1 1 1\n",
      " 1 1 1 1 1 1 1 1 1 1 1 1 1]\n"
     ]
    },
    {
     "data": {
      "image/png": "[encoded data removed]",
      "text/plain": [
       "<Figure size 864x288 with 2 Axes>"
      ]
     },
     "metadata": {},
     "output_type": "display_data"
    }
   ],
   "source": [
    "sem_kwargs = dict(lmda=lmda, alfa=alfa,\n",
    "                  f_class=LinearEvent, f_opts=dict( var_scale0=0.1, var_df0=2))\n",
    "sem = SEM(**sem_kwargs)\n",
    "post = sem.run(x_train)\n",
    "plot_segmentation(post, y)"
   ]
  },
  {
   "cell_type": "code",
   "execution_count": 7,
   "metadata": {},
   "outputs": [
    {
     "data": {
      "text/plain": [
       "array([0.41962666, 0.17583556, 0.77551777])"
      ]
     },
     "execution_count": 7,
     "metadata": {},
     "output_type": "execute_result"
    }
   ],
   "source": [
    "pe = np.random.rand(3)\n",
    "pe"
   ]
  },
  {
   "cell_type": "code",
   "execution_count": 8,
   "metadata": {},
   "outputs": [
    {
     "data": {
      "text/plain": [
       "array([[0.41962666, 0.41962666, 0.41962666],\n",
       "       [0.17583556, 0.17583556, 0.17583556],\n",
       "       [0.77551777, 0.77551777, 0.77551777]])"
      ]
     },
     "execution_count": 8,
     "metadata": {},
     "output_type": "execute_result"
    }
   ],
   "source": [
    "np.tile(pe.reshape(-1), (3, 1)).T"
   ]
  },
  {
   "cell_type": "markdown",
   "metadata": {},
   "source": [
    "### Linear system (Keras estimate)"
   ]
  },
  {
   "cell_type": "code",
   "execution_count": 9,
   "metadata": {},
   "outputs": [
    {
     "name": "stderr",
     "output_type": "stream",
     "text": [
      "Run SEM: 100%|██████████| 50/50 [00:08<00:00,  5.74it/s]\n"
     ]
    },
    {
     "name": "stdout",
     "output_type": "stream",
     "text": [
      "Adjusted Mutual Information: 1.0\n",
      "Adjusted Rand Score: 1.0\n",
      "\n",
      "[0 0 0 0 0 0 0 0 0 0 0 0 0 0 0 0 0 0 0 0 0 0 0 0 0 1 1 1 1 1 1 1 1 1 1 1 1\n",
      " 1 1 1 1 1 1 1 1 1 1 1 1 1]\n"
     ]
    },
    {
     "data": {
      "image/png": "[encoded data removed]",
      "text/plain": [
       "<Figure size 864x288 with 2 Axes>"
      ]
     },
     "metadata": {},
     "output_type": "display_data"
    }
   ],
   "source": [
    "# Initialize keras model\n",
    "sem_kwargs2 = dict(\n",
    "    lmda=lmda, alfa=alfa, f_class=KerasLDS, \n",
    "    f_opts=dict(var_scale0=0.3, var_df0=10, l2_regularization=0.4)\n",
    ")\n",
    "\n",
    "sem2 = SEM(**sem_kwargs2)\n",
    "post = sem2.run(x_train)\n",
    "tf.Session().close()\n",
    "plot_segmentation(post, y)"
   ]
  },
  {
   "cell_type": "markdown",
   "metadata": {},
   "source": [
    "### Multilayer Perceptron"
   ]
  },
  {
   "cell_type": "code",
   "execution_count": 10,
   "metadata": {},
   "outputs": [
    {
     "name": "stderr",
     "output_type": "stream",
     "text": [
      "Run SEM: 100%|██████████| 50/50 [00:10<00:00,  4.62it/s]\n"
     ]
    },
    {
     "name": "stdout",
     "output_type": "stream",
     "text": [
      "Adjusted Mutual Information: 1.0\n",
      "Adjusted Rand Score: 1.0\n",
      "\n",
      "[0 0 0 0 0 0 0 0 0 0 0 0 0 0 0 0 0 0 0 0 0 0 0 0 0 1 1 1 1 1 1 1 1 1 1 1 1\n",
      " 1 1 1 1 1 1 1 1 1 1 1 1 1]\n"
     ]
    },
    {
     "data": {
      "image/png": "[encoded data removed]",
      "text/plain": [
       "<Figure size 864x288 with 2 Axes>"
      ]
     },
     "metadata": {},
     "output_type": "display_data"
    }
   ],
   "source": [
    "# Initialize keras model\n",
    "sem_kwargs3 = dict(\n",
    "    lmda=lmda, alfa=alfa, f_class=KerasMultiLayerPerceptron,\n",
    "    f_opts=dict(var_scale0=0.3, var_df0=10, l2_regularization=0.3)\n",
    ")\n",
    "\n",
    "sem3 = SEM(**sem_kwargs3)\n",
    "post = sem3.run(x_train)\n",
    "tf.Session().close()\n",
    "plot_segmentation(post, y)"
   ]
  },
  {
   "cell_type": "markdown",
   "metadata": {},
   "source": [
    "### Simple Recurrent Network"
   ]
  },
  {
   "cell_type": "code",
   "execution_count": 11,
   "metadata": {},
   "outputs": [
    {
     "name": "stderr",
     "output_type": "stream",
     "text": [
      "Run SEM: 100%|██████████| 50/50 [00:14<00:00,  3.55it/s]\n"
     ]
    },
    {
     "name": "stdout",
     "output_type": "stream",
     "text": [
      "Adjusted Mutual Information: 1.0\n",
      "Adjusted Rand Score: 1.0\n",
      "\n",
      "[0 0 0 0 0 0 0 0 0 0 0 0 0 0 0 0 0 0 0 0 0 0 0 0 0 1 1 1 1 1 1 1 1 1 1 1 1\n",
      " 1 1 1 1 1 1 1 1 1 1 1 1 1]\n"
     ]
    },
    {
     "data": {
      "image/png": "[encoded data removed]",
      "text/plain": [
       "<Figure size 864x288 with 2 Axes>"
      ]
     },
     "metadata": {},
     "output_type": "display_data"
    }
   ],
   "source": [
    "# Initialize keras model\n",
    "sem_kwargs4 = dict(\n",
    "    lmda=lmda, alfa=alfa, f_class=KerasSRN, \n",
    "    f_opts=dict(t=2, var_scale0=0.3, var_df0=10, l2_regularization=0.3)\n",
    ")\n",
    "\n",
    "sem4 = SEM(**sem_kwargs4)\n",
    "post = sem4.run(x_train)\n",
    "tf.Session().close()\n",
    "plot_segmentation(post, y)"
   ]
  },
  {
   "cell_type": "code",
   "execution_count": 12,
   "metadata": {},
   "outputs": [
    {
     "data": {
      "text/plain": [
       "[<matplotlib.lines.Line2D at 0x128e55090>]"
      ]
     },
     "execution_count": 12,
     "metadata": {},
     "output_type": "execute_result"
    },
    {
     "data": {
      "image/png": "[encoded data removed]",
      "text/plain": [
       "<Figure size 432x288 with 1 Axes>"
      ]
     },
     "metadata": {},
     "output_type": "display_data"
    }
   ],
   "source": [
    "plt.plot(sem4.results.log_boundary_probability)"
   ]
  },
  {
   "cell_type": "markdown",
   "metadata": {},
   "source": [
    "### Recurrent MLP"
   ]
  },
  {
   "cell_type": "code",
   "execution_count": 13,
   "metadata": {},
   "outputs": [
    {
     "name": "stderr",
     "output_type": "stream",
     "text": [
      "Run SEM: 100%|██████████| 50/50 [00:18<00:00,  2.67it/s]\n"
     ]
    },
    {
     "name": "stdout",
     "output_type": "stream",
     "text": [
      "Adjusted Mutual Information: 1.0\n",
      "Adjusted Rand Score: 1.0\n",
      "\n",
      "[0 0 0 0 0 0 0 0 0 0 0 0 0 0 0 0 0 0 0 0 0 0 0 0 0 1 1 1 1 1 1 1 1 1 1 1 1\n",
      " 1 1 1 1 1 1 1 1 1 1 1 1 1]\n"
     ]
    },
    {
     "data": {
      "image/png": "[encoded data removed]",
      "text/plain": [
       "<Figure size 864x288 with 2 Axes>"
      ]
     },
     "metadata": {},
     "output_type": "display_data"
    }
   ],
   "source": [
    "sem_kwargs5 = dict(\n",
    "    lmda=lmda, alfa=alfa, f_class=KerasRecurrentMLP,\n",
    "    f_opts=dict(t=2, var_scale0=0.3, var_df0=10, l2_regularization=0.3, dropout=0.1)\n",
    "               )\n",
    "\n",
    "sem5 = SEM(**sem_kwargs5)\n",
    "post = sem5.run(x_train)\n",
    "tf.Session().close()\n",
    "plot_segmentation(post, y)"
   ]
  },
  {
   "cell_type": "markdown",
   "metadata": {},
   "source": [
    "### Gated Recurrent Units"
   ]
  },
  {
   "cell_type": "code",
   "execution_count": 14,
   "metadata": {},
   "outputs": [
    {
     "name": "stderr",
     "output_type": "stream",
     "text": [
      "Run SEM: 100%|██████████| 50/50 [00:19<00:00,  2.56it/s]\n"
     ]
    },
    {
     "name": "stdout",
     "output_type": "stream",
     "text": [
      "Adjusted Mutual Information: 1.0\n",
      "Adjusted Rand Score: 1.0\n",
      "\n",
      "[0 0 0 0 0 0 0 0 0 0 0 0 0 0 0 0 0 0 0 0 0 0 0 0 0 1 1 1 1 1 1 1 1 1 1 1 1\n",
      " 1 1 1 1 1 1 1 1 1 1 1 1 1]\n"
     ]
    },
    {
     "data": {
      "image/png": "[encoded data removed]",
      "text/plain": [
       "<Figure size 864x288 with 2 Axes>"
      ]
     },
     "metadata": {},
     "output_type": "display_data"
    }
   ],
   "source": [
    "sem_kwargs6 = dict(\n",
    "    lmda=lmda, alfa=alfa, f_class=KerasRecurrentMLP,\n",
    "    f_opts=dict(t=2, var_scale0=0.3, var_df0=10, l2_regularization=0.3, dropout=0.1)\n",
    "               )\n",
    "\n",
    "sem6 = SEM(**sem_kwargs6)\n",
    "post = sem6.run(x_train)\n",
    "tf.Session().close()\n",
    "plot_segmentation(post, y)"
   ]
  },
  {
   "cell_type": "markdown",
   "metadata": {},
   "source": [
    "### LSTM"
   ]
  },
  {
   "cell_type": "code",
   "execution_count": 15,
   "metadata": {},
   "outputs": [
    {
     "name": "stderr",
     "output_type": "stream",
     "text": [
      "Run SEM: 100%|██████████| 50/50 [00:46<00:00,  1.08it/s]\n"
     ]
    },
    {
     "name": "stdout",
     "output_type": "stream",
     "text": [
      "Adjusted Mutual Information: 1.0\n",
      "Adjusted Rand Score: 1.0\n",
      "\n",
      "[0 0 0 0 0 0 0 0 0 0 0 0 0 0 0 0 0 0 0 0 0 0 0 0 0 1 1 1 1 1 1 1 1 1 1 1 1\n",
      " 1 1 1 1 1 1 1 1 1 1 1 1 1]\n"
     ]
    },
    {
     "data": {
      "image/png": "[encoded data removed]",
      "text/plain": [
       "<Figure size 864x288 with 2 Axes>"
      ]
     },
     "metadata": {},
     "output_type": "display_data"
    }
   ],
   "source": [
    "sem_kwargs7 = dict(\n",
    "    lmda=lmda, alfa=alfa, f_class=KerasLSTM,\n",
    "    f_opts=dict(t=2, var_scale0=0.3, var_df0=10, l2_regularization=0.3, dropout=0.1)\n",
    "               )\n",
    "\n",
    "sem7 = SEM(**sem_kwargs7)\n",
    "post = sem7.run(x_train)\n",
    "tf.Session().close()\n",
    "plot_segmentation(post, y)"
   ]
  },
  {
   "cell_type": "markdown",
   "metadata": {},
   "source": [
    "# Alternating between 2 static events\n"
   ]
  },
  {
   "cell_type": "code",
   "execution_count": 16,
   "metadata": {},
   "outputs": [
    {
     "data": {
      "text/plain": [
       "[<matplotlib.lines.Line2D at 0x12a1c4b50>]"
      ]
     },
     "execution_count": 16,
     "metadata": {},
     "output_type": "execute_result"
    },
    {
     "data": {
      "image/png": "[encoded data removed]",
      "text/plain": [
       "<Figure size 432x288 with 1 Axes>"
      ]
     },
     "metadata": {},
     "output_type": "display_data"
    }
   ],
   "source": [
    "def build_alternating_static_events(N, beta=0.1):\n",
    "    \"\"\" \n",
    "    2 alternating events, modeled as gaussians with different means\n",
    "    \"\"\"\n",
    "    \n",
    "    pi = np.array([0.4, 0.6])\n",
    "    mus = [[1, 1], [-1, -1]]\n",
    "    stds = np.ones((2, 2)) * beta\n",
    "    x = np.zeros((N, 2), dtype=np.float32)\n",
    "    for n in range(N/4):\n",
    "        x[n, :] = np.random.multivariate_normal(mus[0], np.diag(stds[0]))\n",
    "    for n in range(N/4, N/2):\n",
    "        x[n, :] = np.random.multivariate_normal(mus[1], np.diag(stds[1]))\n",
    "    for n in range(N/2, N/4*3):\n",
    "        x[n, :] = np.random.multivariate_normal(mus[0], np.diag(stds[0]))\n",
    "    for n in range(N/4*3, N):\n",
    "        x[n, :] = np.random.multivariate_normal(mus[1], np.diag(stds[1]))\n",
    "        \n",
    "    return x\n",
    "\n",
    "x_train = build_alternating_static_events(100, 0.01)\n",
    "y = np.concatenate([np.zeros(25, dtype=int), np.ones(25, dtype=int), np.zeros(25, dtype=int), np.ones(25, dtype=int)])\n",
    "plt.plot(x_train[:, 0], x_train[:, 1])"
   ]
  },
  {
   "cell_type": "markdown",
   "metadata": {},
   "source": [
    "### Linear  solution (analytic)"
   ]
  },
  {
   "cell_type": "code",
   "execution_count": 17,
   "metadata": {},
   "outputs": [
    {
     "name": "stderr",
     "output_type": "stream",
     "text": [
      "Run SEM: 100%|██████████| 100/100 [00:00<00:00, 345.26it/s]\n"
     ]
    },
    {
     "name": "stdout",
     "output_type": "stream",
     "text": [
      "Adjusted Mutual Information: 0.49438600205821726\n",
      "Adjusted Rand Score: 0.4923076923076923\n",
      "\n",
      "[0 0 0 0 0 0 0 0 0 0 0 0 0 0 0 0 0 0 0 0 0 0 0 0 0 1 1 1 1 1 1 1 1 1 1 1 1\n",
      " 1 1 1 1 1 1 1 1 1 1 1 1 1 2 2 2 2 2 2 2 2 2 2 2 2 2 2 2 2 2 2 2 2 2 2 2 2\n",
      " 2 3 3 3 3 3 3 3 3 3 3 3 3 3 3 3 3 3 3 3 3 3 3 3 3 3]\n"
     ]
    },
    {
     "data": {
      "image/png": "[encoded data removed]",
      "text/plain": [
       "<Figure size 864x288 with 2 Axes>"
      ]
     },
     "metadata": {},
     "output_type": "display_data"
    }
   ],
   "source": [
    "sem = SEM(**sem_kwargs)\n",
    "post = sem.run(x_train)\n",
    "plot_segmentation(post, y)"
   ]
  },
  {
   "cell_type": "markdown",
   "metadata": {},
   "source": [
    "### Linear system (Keras estimate)"
   ]
  },
  {
   "cell_type": "code",
   "execution_count": 18,
   "metadata": {},
   "outputs": [
    {
     "name": "stderr",
     "output_type": "stream",
     "text": [
      "Run SEM: 100%|██████████| 100/100 [00:29<00:00,  3.33it/s]\n"
     ]
    },
    {
     "name": "stdout",
     "output_type": "stream",
     "text": [
      "Adjusted Mutual Information: 1.0\n",
      "Adjusted Rand Score: 1.0\n",
      "\n",
      "[0 0 0 0 0 0 0 0 0 0 0 0 0 0 0 0 0 0 0 0 0 0 0 0 0 1 1 1 1 1 1 1 1 1 1 1 1\n",
      " 1 1 1 1 1 1 1 1 1 1 1 1 1 0 0 0 0 0 0 0 0 0 0 0 0 0 0 0 0 0 0 0 0 0 0 0 0\n",
      " 0 1 1 1 1 1 1 1 1 1 1 1 1 1 1 1 1 1 1 1 1 1 1 1 1 1]\n"
     ]
    },
    {
     "data": {
      "image/png": "[encoded data removed]",
      "text/plain": [
       "<Figure size 864x288 with 2 Axes>"
      ]
     },
     "metadata": {},
     "output_type": "display_data"
    }
   ],
   "source": [
    "sem2 = SEM(**sem_kwargs2)\n",
    "post = sem2.run(x_train)\n",
    "tf.Session().close()\n",
    "plot_segmentation(post, y)"
   ]
  },
  {
   "cell_type": "markdown",
   "metadata": {},
   "source": [
    "### MLP"
   ]
  },
  {
   "cell_type": "code",
   "execution_count": null,
   "metadata": {},
   "outputs": [
    {
     "name": "stderr",
     "output_type": "stream",
     "text": [
      "Run SEM:  20%|██        | 20/100 [00:12<00:48,  1.64it/s]"
     ]
    }
   ],
   "source": [
    "sem3 = SEM(**sem_kwargs3)\n",
    "post = sem3.run(x_train)\n",
    "tf.Session().close()\n",
    "plot_segmentation(post, y)"
   ]
  },
  {
   "cell_type": "markdown",
   "metadata": {},
   "source": [
    "### SRN"
   ]
  },
  {
   "cell_type": "code",
   "execution_count": null,
   "metadata": {},
   "outputs": [],
   "source": [
    "sem4 = SEM(**sem_kwargs4)\n",
    "post = sem4.run(x_train)\n",
    "tf.Session().close()\n",
    "plot_segmentation(post, y)"
   ]
  },
  {
   "cell_type": "markdown",
   "metadata": {},
   "source": [
    "### Recurrent MLP"
   ]
  },
  {
   "cell_type": "code",
   "execution_count": null,
   "metadata": {},
   "outputs": [],
   "source": [
    "sem5 = SEM(**sem_kwargs5)\n",
    "post = sem5.run(x_train)\n",
    "tf.Session().close()\n",
    "plot_segmentation(post, y)"
   ]
  },
  {
   "cell_type": "markdown",
   "metadata": {},
   "source": [
    "### GRU"
   ]
  },
  {
   "cell_type": "code",
   "execution_count": null,
   "metadata": {},
   "outputs": [],
   "source": [
    "sem6 = SEM(**sem_kwargs6)\n",
    "post = sem6.run(x_train)\n",
    "tf.Session().close()\n",
    "plot_segmentation(post, y)"
   ]
  },
  {
   "cell_type": "markdown",
   "metadata": {},
   "source": [
    "### LSTM"
   ]
  },
  {
   "cell_type": "code",
   "execution_count": null,
   "metadata": {},
   "outputs": [],
   "source": [
    "sem7 = SEM(**sem_kwargs7)\n",
    "post = sem7.run(x_train)\n",
    "tf.Session().close()\n",
    "plot_segmentation(post, y)"
   ]
  },
  {
   "cell_type": "code",
   "execution_count": null,
   "metadata": {},
   "outputs": [],
   "source": []
  },
  {
   "cell_type": "markdown",
   "metadata": {},
   "source": [
    "# Example of four events where the events correspond to movement in vector space"
   ]
  },
  {
   "cell_type": "code",
   "execution_count": null,
   "metadata": {},
   "outputs": [],
   "source": [
    "def build_moving_data(N, beta=0.01):\n",
    "    pi = np.array([0.4, 0.6])\n",
    "    bs = [[1, 1], [-1, -1]]  # starting point!\n",
    "    ws = [np.array([[1, 0], [.5, 2]]), np.array([[-1, .2], [-.2, 1]])]\n",
    "    stds = np.eye(2) * beta\n",
    "    x = np.zeros((N, 2), dtype=np.float32)\n",
    "    \n",
    "    x[0, :] = np.random.multivariate_normal(bs[0], stds)\n",
    "    for n in range(1, N/2):\n",
    "        _x = x[n-1, :] + np.array([0.05, 0.05])\n",
    "        x[n, :] = np.random.multivariate_normal(_x, stds)\n",
    "        \n",
    "    x[N/2, :] = np.random.multivariate_normal(bs[1], stds)\n",
    "    for n in range(N/2+1, N):\n",
    "        _x = x[n-1, :] + np.array([-0.05, -0.05])\n",
    "        x[n, :] = np.random.multivariate_normal(_x, stds)\n",
    "    return x\n",
    "\n",
    "x_train = build_moving_data(100)\n",
    "y = np.concatenate([np.zeros(50, dtype=int), np.ones(50, dtype=int)])\n",
    "plt.plot(x_train[:, 0], x_train[:, 1])"
   ]
  },
  {
   "cell_type": "markdown",
   "metadata": {},
   "source": [
    "### Linear dynamical solution (analytic)"
   ]
  },
  {
   "cell_type": "code",
   "execution_count": null,
   "metadata": {},
   "outputs": [],
   "source": [
    "sem = SEM(**sem_kwargs)\n",
    "post = sem.run(x_train)\n",
    "plot_segmentation(post, y)"
   ]
  },
  {
   "cell_type": "markdown",
   "metadata": {},
   "source": [
    "### Linear dynamical system (Keras estimate)"
   ]
  },
  {
   "cell_type": "code",
   "execution_count": null,
   "metadata": {},
   "outputs": [],
   "source": [
    "sem2 = SEM(**sem_kwargs2)\n",
    "post = sem2.run(x_train)\n",
    "tf.Session().close()\n",
    "plot_segmentation(post, y)"
   ]
  },
  {
   "cell_type": "markdown",
   "metadata": {},
   "source": [
    "### MLP"
   ]
  },
  {
   "cell_type": "code",
   "execution_count": null,
   "metadata": {},
   "outputs": [],
   "source": [
    "sem3 = SEM(**sem_kwargs3)\n",
    "post = sem3.run(x_train)\n",
    "tf.Session().close()\n",
    "plot_segmentation(post, y)"
   ]
  },
  {
   "cell_type": "markdown",
   "metadata": {},
   "source": [
    "### SRN"
   ]
  },
  {
   "cell_type": "code",
   "execution_count": null,
   "metadata": {},
   "outputs": [],
   "source": [
    "sem4 = SEM(**sem_kwargs4)\n",
    "post = sem4.run(x_train)\n",
    "tf.Session().close()\n",
    "plot_segmentation(post, y)"
   ]
  },
  {
   "cell_type": "markdown",
   "metadata": {},
   "source": [
    "### Recurrent MLP"
   ]
  },
  {
   "cell_type": "code",
   "execution_count": null,
   "metadata": {},
   "outputs": [],
   "source": [
    "sem5 = SEM(**sem_kwargs5)\n",
    "post = sem5.run(x_train)\n",
    "tf.Session().close()\n",
    "plot_segmentation(post, y)"
   ]
  },
  {
   "cell_type": "markdown",
   "metadata": {},
   "source": [
    "### GRU"
   ]
  },
  {
   "cell_type": "code",
   "execution_count": null,
   "metadata": {},
   "outputs": [],
   "source": [
    "sem6 = SEM(**sem_kwargs6)\n",
    "post = sem6.run(x_train)\n",
    "tf.Session().close()\n",
    "plot_segmentation(post, y)"
   ]
  },
  {
   "cell_type": "markdown",
   "metadata": {},
   "source": [
    "### LSTM"
   ]
  },
  {
   "cell_type": "code",
   "execution_count": null,
   "metadata": {},
   "outputs": [],
   "source": [
    "sem7 = SEM(**sem_kwargs7)\n",
    "post = sem7.run(x_train)\n",
    "tf.Session().close()\n",
    "plot_segmentation(post, y)"
   ]
  },
  {
   "cell_type": "markdown",
   "metadata": {},
   "source": [
    "# Two alternating events with different levels of noise (10x)"
   ]
  },
  {
   "cell_type": "code",
   "execution_count": null,
   "metadata": {},
   "outputs": [],
   "source": [
    "def build_alternating_static_events(N, beta=0.1):\n",
    "    \"\"\" \n",
    "    2 alternating events, modeled as gaussians with different means\n",
    "    \"\"\"\n",
    "    \n",
    "    pi = np.array([0.4, 0.6])\n",
    "    mus = [[1, 1], [-1, -1]]\n",
    "    stds = np.array([beta, beta * 10.])\n",
    "    x = np.zeros((N, 2), dtype=np.float32)\n",
    "    for n in range(N/4):\n",
    "        x[n, :] = np.random.multivariate_normal(mus[0], np.eye(2) * stds[0])\n",
    "    for n in range(N/4, N/2):\n",
    "        x[n, :] = np.random.multivariate_normal(mus[1], np.eye(2) * stds[1])\n",
    "    for n in range(N/2, N/4*3):\n",
    "        x[n, :] = np.random.multivariate_normal(mus[0], np.eye(2) * stds[0])\n",
    "    for n in range(N/4*3, N):\n",
    "        x[n, :] = np.random.multivariate_normal(mus[1], np.eye(2) * stds[1])\n",
    "        \n",
    "    return x\n",
    "\n",
    "x_train = build_alternating_static_events(100, 0.01)\n",
    "y = np.concatenate([np.zeros(25, dtype=int), np.ones(25, dtype=int), np.zeros(25, dtype=int), np.ones(25, dtype=int)])\n",
    "plt.plot(x_train[:, 0], x_train[:, 1])"
   ]
  },
  {
   "cell_type": "markdown",
   "metadata": {},
   "source": [
    "### Linear Dynamical System (Analytic)"
   ]
  },
  {
   "cell_type": "code",
   "execution_count": null,
   "metadata": {},
   "outputs": [],
   "source": [
    "sem = SEM(**sem_kwargs)\n",
    "post = sem.run(x_train)\n",
    "tf.Session().close()\n",
    "plot_segmentation(post, y)"
   ]
  },
  {
   "cell_type": "markdown",
   "metadata": {},
   "source": [
    "### Linear dynamical system (Keras estimate)"
   ]
  },
  {
   "cell_type": "code",
   "execution_count": null,
   "metadata": {},
   "outputs": [],
   "source": [
    "sem2 = SEM(**sem_kwargs2)\n",
    "post = sem2.run(x_train)\n",
    "tf.Session().close()\n",
    "plot_segmentation(post, y)"
   ]
  },
  {
   "cell_type": "markdown",
   "metadata": {},
   "source": [
    "### MLP"
   ]
  },
  {
   "cell_type": "code",
   "execution_count": null,
   "metadata": {},
   "outputs": [],
   "source": [
    "sem3 = SEM(**sem_kwargs3)\n",
    "post = sem3.run(x_train)\n",
    "tf.Session().close()\n",
    "plot_segmentation(post, y)"
   ]
  },
  {
   "cell_type": "markdown",
   "metadata": {},
   "source": [
    "### SRN"
   ]
  },
  {
   "cell_type": "code",
   "execution_count": null,
   "metadata": {},
   "outputs": [],
   "source": [
    "sem4 = SEM(**sem_kwargs4)\n",
    "post = sem4.run(x_train)\n",
    "tf.Session().close()\n",
    "plot_segmentation(post, y)"
   ]
  },
  {
   "cell_type": "markdown",
   "metadata": {},
   "source": [
    "### Recurrent MLP"
   ]
  },
  {
   "cell_type": "code",
   "execution_count": null,
   "metadata": {},
   "outputs": [],
   "source": [
    "sem5 = SEM(**sem_kwargs5)\n",
    "post = sem5.run(x_train)\n",
    "tf.Session().close()\n",
    "plot_segmentation(post, y)"
   ]
  },
  {
   "cell_type": "markdown",
   "metadata": {},
   "source": [
    "### GRU"
   ]
  },
  {
   "cell_type": "code",
   "execution_count": null,
   "metadata": {},
   "outputs": [],
   "source": [
    "sem6 = SEM(**sem_kwargs6)\n",
    "post = sem6.run(x_train)\n",
    "tf.Session().close()\n",
    "plot_segmentation(post, y)"
   ]
  },
  {
   "cell_type": "markdown",
   "metadata": {},
   "source": [
    "### LSTM"
   ]
  },
  {
   "cell_type": "code",
   "execution_count": null,
   "metadata": {},
   "outputs": [],
   "source": [
    "sem7 = SEM(**sem_kwargs7)\n",
    "post = sem7.run(x_train)\n",
    "tf.Session().close()\n",
    "plot_segmentation(post, y)"
   ]
  },
  {
   "cell_type": "markdown",
   "metadata": {},
   "source": [
    "# 4 events where the events correspond to movement in vector space\n"
   ]
  },
  {
   "cell_type": "code",
   "execution_count": null,
   "metadata": {},
   "outputs": [],
   "source": [
    "def build_alternating_moving_events(N, beta=0.01):\n",
    "    pi = np.array([0.4, 0.6])\n",
    "    bs = [[1, 1], [-1, -1], [1, -1], [-1, 1]]  # starting point!\n",
    "    ws = [np.array([[1, 0], [.5, 2]]), np.array([[-1, .2], [-.2, 1]])]\n",
    "    Sigmas = [np.eye(2) * beta* 5.,\n",
    "            np.eye(2) * beta / 5.,\n",
    "            np.eye(2) * beta * 5.,\n",
    "            np.eye(2) * beta / 5.]\n",
    "    x = np.zeros((N, 2), dtype=np.float32)\n",
    "    \n",
    "    x[0, :] = np.random.multivariate_normal(bs[0], Sigmas[0])\n",
    "    for n in range(1, N/4):\n",
    "        _x = x[n-1, :] + np.array([0.05, 0.05])\n",
    "        x[n, :] = np.random.multivariate_normal(_x, Sigmas[0])\n",
    "        \n",
    "    x[N/4, :] = np.random.multivariate_normal(bs[1], Sigmas[1])\n",
    "    for n in range(N/4+1, N/2):\n",
    "        _x = x[n-1, :] + np.array([-0.05, -0.05])\n",
    "        x[n, :] = np.random.multivariate_normal(_x, Sigmas[1])\n",
    "            \n",
    "    x[N/2, :] = np.random.multivariate_normal(bs[2], Sigmas[2])\n",
    "    for n in range(N/2+1, N/4*3):\n",
    "        _x = x[n-1, :] + np.array([-0.05, -0.05])\n",
    "        x[n, :] = np.random.multivariate_normal(_x, Sigmas[2])\n",
    "        \n",
    "    x[N/4*3, :] = np.random.multivariate_normal(bs[3], Sigmas[3])\n",
    "    for n in range(N/4*3+1, N):\n",
    "        _x = x[n-1, :] + np.array([0.05, 0.05])\n",
    "        x[n, :] = np.random.multivariate_normal(_x, Sigmas[3])      \n",
    "        \n",
    "    return x\n",
    "\n",
    "x_train = build_alternating_moving_events(100)\n",
    "y = np.concatenate([np.zeros(25, dtype=int), np.ones(25, dtype=int), \n",
    "                    np.ones(25, dtype=int)*2, np.ones(25, dtype=int)*3])\n",
    "\n",
    "plt.plot(x_train[:, 0], x_train[:, 1])"
   ]
  },
  {
   "cell_type": "markdown",
   "metadata": {},
   "source": [
    "### Linear dynamical solution (analytic)"
   ]
  },
  {
   "cell_type": "code",
   "execution_count": null,
   "metadata": {},
   "outputs": [],
   "source": [
    "sem = SEM(**sem_kwargs)\n",
    "post = sem.run(x_train)\n",
    "plot_segmentation(post, y)"
   ]
  },
  {
   "cell_type": "markdown",
   "metadata": {},
   "source": [
    "### Linear system (Keras estimate)"
   ]
  },
  {
   "cell_type": "code",
   "execution_count": null,
   "metadata": {},
   "outputs": [],
   "source": [
    "sem2 = SEM(**sem_kwargs2)\n",
    "post = sem2.run(x_train)\n",
    "tf.Session().close()\n",
    "plot_segmentation(post, y)"
   ]
  },
  {
   "cell_type": "markdown",
   "metadata": {},
   "source": [
    "### MLP"
   ]
  },
  {
   "cell_type": "code",
   "execution_count": null,
   "metadata": {},
   "outputs": [],
   "source": [
    "sem3 = SEM(**sem_kwargs3)\n",
    "post = sem3.run(x_train)\n",
    "tf.Session().close()\n",
    "plot_segmentation(post, y)"
   ]
  },
  {
   "cell_type": "markdown",
   "metadata": {},
   "source": [
    "### SRN"
   ]
  },
  {
   "cell_type": "code",
   "execution_count": null,
   "metadata": {},
   "outputs": [],
   "source": [
    "sem4 = SEM(**sem_kwargs4)\n",
    "post = sem4.run(x_train)\n",
    "tf.Session().close()\n",
    "plot_segmentation(post, y)"
   ]
  },
  {
   "cell_type": "markdown",
   "metadata": {},
   "source": [
    "### Recurrent MLP"
   ]
  },
  {
   "cell_type": "code",
   "execution_count": null,
   "metadata": {},
   "outputs": [],
   "source": [
    "sem5 = SEM(**sem_kwargs5)\n",
    "post = sem5.run(x_train)\n",
    "tf.Session().close()\n",
    "plot_segmentation(post, y)"
   ]
  },
  {
   "cell_type": "markdown",
   "metadata": {},
   "source": [
    "### GRU"
   ]
  },
  {
   "cell_type": "code",
   "execution_count": null,
   "metadata": {},
   "outputs": [],
   "source": [
    "sem5 = SEM(**sem_kwargs5)\n",
    "post = sem5.run(x_train)\n",
    "tf.Session().close()\n",
    "plot_segmentation(post, y)"
   ]
  },
  {
   "cell_type": "markdown",
   "metadata": {},
   "source": [
    "### LSTM"
   ]
  },
  {
   "cell_type": "code",
   "execution_count": null,
   "metadata": {},
   "outputs": [],
   "source": [
    "sem5 = SEM(**sem_kwargs5)\n",
    "post = sem5.run(x_train)\n",
    "tf.Session().close()\n",
    "plot_segmentation(post, y)"
   ]
  }
 ],
 "metadata": {
  "kernelspec": {
   "display_name": "Python 2",
   "language": "python",
   "name": "python2"
  },
  "language_info": {
   "codemirror_mode": {
    "name": "ipython",
    "version": 2
   },
   "file_extension": ".py",
   "mimetype": "text/x-python",
   "name": "python",
   "nbconvert_exporter": "python",
   "pygments_lexer": "ipython2",
   "version": "2.7.15"
  }
 },
 "nbformat": 4,
 "nbformat_minor": 1
}
