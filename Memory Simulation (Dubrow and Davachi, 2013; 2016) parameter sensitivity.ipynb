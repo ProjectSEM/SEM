{
 "cells": [
  {
   "cell_type": "markdown",
   "metadata": {},
   "source": [
    "# Dubrow and Divachi 2013\n",
    "**TODO**: Describe experiment and the implementation of the simulations\n",
    "\n",
    "**TODO**: Clean up this simluations and re-run simluations for inteligability\n"
   ]
  },
  {
   "cell_type": "code",
   "execution_count": 1,
   "metadata": {},
   "outputs": [
    {
     "name": "stderr",
     "output_type": "stream",
     "text": [
      "Using TensorFlow backend.\n"
     ]
    },
    {
     "name": "stdout",
     "output_type": "stream",
     "text": [
      "TensorFlow Version: 1.9.0\n",
      "Keras      Version: 2.2.0\n",
      "TensorFlow Check Passed\n"
     ]
    }
   ],
   "source": [
    "%matplotlib inline\n",
    "import numpy as np\n",
    "import matplotlib.pyplot as plt\n",
    "import pandas as pd\n",
    "import seaborn as sns\n",
    "from models import *\n",
    "from tqdm import tnrange\n",
    "from simulations.exp_dubrow import run_subject, generate_experiment\n",
    "\n",
    "sns.set_context('paper', font_scale=1.5)"
   ]
  },
  {
   "cell_type": "code",
   "execution_count": 2,
   "metadata": {},
   "outputs": [
    {
     "name": "stdout",
     "output_type": "stream",
     "text": [
      "Prior variance (mode): 0.0666666666667\n",
      "tau: 0.1\n"
     ]
    }
   ],
   "source": [
    "# SEM parameters\n",
    "df0 = 1.\n",
    "scale0 = .2\n",
    "\n",
    "mode = df0 * scale0 / (df0 + 2)\n",
    "print(\"Prior variance (mode): {}\".format(mode))\n",
    "\n",
    "lmda = 10.0  # stickyness parameter\n",
    "alfa = 1.  # concentration parameter\n",
    "\n",
    "f_class = GRUEvent\n",
    "f_opts=dict(var_scale0=scale0, var_df0=df0)\n",
    "\n",
    "# create the corrupted memory trace\n",
    "# noise parameters\n",
    "b = 2\n",
    "tau = 0.1\n",
    "print(\"tau: {}\".format(tau))\n",
    "\n",
    "# set the parameters for the Gibbs sampler\n",
    "gibbs_kwargs = dict(\n",
    "    memory_alpha = alfa,\n",
    "    memory_lambda = lmda,\n",
    "    memory_epsilon = np.exp(-20),\n",
    "    b = b,  # re-defined here for completeness\n",
    "    tau = tau,  # ibid\n",
    "    n_samples = 250,\n",
    "    n_burnin = 100,\n",
    "    progress_bar=False,\n",
    ")\n",
    "sem_kwargs = dict(lmda=lmda, alfa=alfa, f_class=f_class, f_opts=f_opts)\n",
    "\n",
    "epsilon_e = 0.25"
   ]
  },
  {
   "cell_type": "code",
   "execution_count": 3,
   "metadata": {},
   "outputs": [
    {
     "name": "stdout",
     "output_type": "stream",
     "text": [
      "Prior variance (mode): 0.0666666666667\n",
      "Median Feature variance: 0.0464973011244\n"
     ]
    },
    {
     "name": "stderr",
     "output_type": "stream",
     "text": [
      "Run SEM: 100%|██████████| 5/5 [00:06<00:00,  1.32s/it]"
     ]
    },
    {
     "name": "stdout",
     "output_type": "stream",
     "text": [
      "[0 1 2 3 4]\n"
     ]
    },
    {
     "name": "stderr",
     "output_type": "stream",
     "text": [
      "\n"
     ]
    },
    {
     "data": {
      "image/png": "[encoded data removed]",
      "text/plain": [
       "<Figure size 432x288 with 2 Axes>"
      ]
     },
     "metadata": {
      "needs_background": "light"
     },
     "output_type": "display_data"
    }
   ],
   "source": [
    "# spot-check the segementation ability\n",
    "\n",
    "x_list_items, e_tokens = generate_experiment()\n",
    "\n",
    "mode = df0 * scale0 / (df0 + 2)\n",
    "print(\"Prior variance (mode): {}\".format(mode))\n",
    "print(\"Median Feature variance: {}\".format(\n",
    "    np.median(np.var(np.concatenate(x_list_items), axis=0))))\n",
    "\n",
    "sem_kwargs = dict(\n",
    "    lmda=lmda, alfa=alfa, f_class=f_class, f_opts=f_opts\n",
    ")\n",
    "\n",
    "sem = SEM(**sem_kwargs)\n",
    "sem.run_w_boundaries(list_events=x_list_items)\n",
    "print sem.results.e_hat\n",
    "\n",
    "fig, axes = plt.subplots(2, 1)\n",
    "axes[0].plot(sem.results.log_prior)\n",
    "axes[1].plot(sem.results.log_like)\n",
    "plt.show()"
   ]
  },
  {
   "cell_type": "code",
   "execution_count": 4,
   "metadata": {},
   "outputs": [
    {
     "data": {
      "text/plain": [
       "u'0.24.2'"
      ]
     },
     "execution_count": 4,
     "metadata": {},
     "output_type": "execute_result"
    }
   ],
   "source": [
    "# # load saved simluations from memory\n",
    "# from glob import glob\n",
    "# n_batch = 25\n",
    "# files = glob('simulations/saved_simulations/Dubrow_sim_*.pkl')\n",
    "# results = pd.concat([pd.read_pickle(f) for f in files])\n",
    "pd.__version__"
   ]
  },
  {
   "cell_type": "code",
   "execution_count": 5,
   "metadata": {},
   "outputs": [
    {
     "data": {
      "text/html": [
       "<div>\n",
       "<style scoped>\n",
       "    .dataframe tbody tr th:only-of-type {\n",
       "        vertical-align: middle;\n",
       "    }\n",
       "\n",
       "    .dataframe tbody tr th {\n",
       "        vertical-align: top;\n",
       "    }\n",
       "\n",
       "    .dataframe thead th {\n",
       "        text-align: right;\n",
       "    }\n",
       "</style>\n",
       "<table border=\"1\" class=\"dataframe\">\n",
       "  <thead>\n",
       "    <tr style=\"text-align: right;\">\n",
       "      <th></th>\n",
       "      <th>Ext</th>\n",
       "      <th>asdf</th>\n",
       "    </tr>\n",
       "  </thead>\n",
       "  <tbody>\n",
       "    <tr>\n",
       "      <th>0</th>\n",
       "      <td>1</td>\n",
       "      <td>2</td>\n",
       "    </tr>\n",
       "  </tbody>\n",
       "</table>\n",
       "</div>"
      ],
      "text/plain": [
       "   Ext  asdf\n",
       "0    1     2"
      ]
     },
     "execution_count": 5,
     "metadata": {},
     "output_type": "execute_result"
    }
   ],
   "source": [
    "pd.DataFrame({'Ext': 1, 'asdf': 2},index=[0])"
   ]
  },
  {
   "cell_type": "code",
   "execution_count": 6,
   "metadata": {},
   "outputs": [],
   "source": [
    "# # uncomment to re-run simulations (takes about a day)\n",
    "\n",
    "# from tqdm import tnrange, tqdm_notebook\n",
    "\n",
    "n_batch = 12\n",
    "# n_runs = 16\n",
    "\n",
    "# results = []\n",
    "# for b in tqdm_notebook([2, 5], desc='Beta'):\n",
    "#     _res = []\n",
    "#     for ii in tnrange(n_batch, desc='Batch', leave=False):\n",
    "\n",
    "#         gibbs_kwargs = dict(\n",
    "#             memory_alpha = alfa,\n",
    "#             memory_lambda = lmda,\n",
    "#             memory_epsilon = np.exp(-20),\n",
    "#             b = b,  # re-defined here for completeness\n",
    "#             tau = tau,  # ibid\n",
    "#             n_samples = 250,\n",
    "#             n_burnin = 100,\n",
    "#             progress_bar=False,\n",
    "#         )\n",
    "\n",
    "\n",
    "#         _res.append(run_subject(\n",
    "#             sem_kwargs, gibbs_kwargs, epsilon_e, n_runs=n_runs, subj_n=ii, progress_bar=False\n",
    "#         ))\n",
    "#     _res = pd.concat(_res)\n",
    "#     _res['b'] = b\n",
    "#     results.append(_res)\n",
    "    \n",
    "# results = pd.concat(results)\n",
    "results = pd.read_pickle('simulations/saved_simulations/Dubrow_param_sensitivity.pkl')"
   ]
  },
  {
   "cell_type": "code",
   "execution_count": 7,
   "metadata": {},
   "outputs": [],
   "source": [
    "# results.loc[np.isnan(results['Transitions Pre-Boundary'].values), 'Transitions Pre-Boundary'] = 0.0\n",
    "# results.loc[np.isnan(results['Transitions Boundary'].values), 'Transitions Boundary'] = 0.0\n",
    "\n",
    "# results['PreVsPost'] = results['Transitions Pre-Boundary'].values - results['Transitions Boundary'].values \n",
    "\n"
   ]
  },
  {
   "cell_type": "code",
   "execution_count": 8,
   "metadata": {},
   "outputs": [
    {
     "name": "stderr",
     "output_type": "stream",
     "text": [
      "/Users/nicholasfranklin/anaconda3/envs/sem/lib/python2.7/site-packages/scipy/stats/stats.py:1713: FutureWarning: Using a non-tuple sequence for multidimensional indexing is deprecated; use `arr[tuple(seq)]` instead of `arr[seq]`. In the future this will be interpreted as an array index, `arr[np.array(seq)]`, which will result either in an error or a different result.\n",
      "  return np.add.reduce(sorted[indexer] * weights, axis=axis) / sumval\n"
     ]
    },
    {
     "data": {
      "image/png": "[encoded data removed]",
      "text/plain": [
       "<Figure size 360x360 with 1 Axes>"
      ]
     },
     "metadata": {
      "needs_background": "light"
     },
     "output_type": "display_data"
    }
   ],
   "source": [
    "sns.catplot(data=results, x='b', y='PreVsPost', kind='point')\n",
    "sns.despine(trim=True)\n",
    "# plt.axhline(y=0, c='k')"
   ]
  },
  {
   "cell_type": "code",
   "execution_count": 9,
   "metadata": {},
   "outputs": [
    {
     "data": {
      "image/png": "[encoded data removed]",
      "text/plain": [
       "<Figure size 144x144 with 1 Axes>"
      ]
     },
     "metadata": {
      "needs_background": "light"
     },
     "output_type": "display_data"
    }
   ],
   "source": [
    "# pd.wide_to_long(results, [''])\n",
    "cols = ['Block', 'Transitions Boundary', 'Transitions Pre-Boundary', 'Subject','b']\n",
    "res_red = results[cols].copy()\n",
    "res_red.columns = ['Block','Boundary','Pre-Boundary', 'Subject', 'b']\n",
    "res_red = pd.melt(res_red, id_vars = ['Block', 'Subject', 'b'], \n",
    "                  value_vars = ['Boundary', 'Pre-Boundary'],\n",
    "                  value_name = 'Order Memory', var_name='Transitions')\n",
    "\n",
    "with sns.plotting_context('paper', font_scale=0.9):\n",
    "    fig, ax = plt.subplots(figsize=(2.0, 2.))\n",
    "    sns.pointplot(data=res_red, x='b', y='Order Memory',\n",
    "                  hue='Transitions', palette='colorblind',\n",
    "                ax=ax)\n",
    "#     ax.get_legend().remove()\n",
    "    ax.legend(frameon=False, handletextpad=0.0)\n",
    "    sns.despine(trim=True)\n",
    "    plt.savefig('Param_sensitivity_dubrow.png', dpi=300, bbox_inches='tight')"
   ]
  },
  {
   "cell_type": "code",
   "execution_count": 10,
   "metadata": {},
   "outputs": [
    {
     "name": "stdout",
     "output_type": "stream",
     "text": [
      "Help on method legend in module matplotlib.axes._axes:\n",
      "\n",
      "legend(self, *args, **kwargs) method of matplotlib.axes._subplots.AxesSubplot instance\n",
      "    Places a legend on the axes.\n",
      "    \n",
      "    Call signatures::\n",
      "    \n",
      "        legend()\n",
      "        legend(labels)\n",
      "        legend(handles, labels)\n",
      "    \n",
      "    The call signatures correspond to three different ways how to use\n",
      "    this method.\n",
      "    \n",
      "    **1. Automatic detection of elements to be shown in the legend**\n",
      "    \n",
      "    The elements to be added to the legend are automatically determined,\n",
      "    when you do not pass in any extra arguments.\n",
      "    \n",
      "    In this case, the labels are taken from the artist. You can specify\n",
      "    them either at artist creation or by calling the\n",
      "    :meth:`~.Artist.set_label` method on the artist::\n",
      "    \n",
      "        line, = ax.plot([1, 2, 3], label='Inline label')\n",
      "        ax.legend()\n",
      "    \n",
      "    or::\n",
      "    \n",
      "        line.set_label('Label via method')\n",
      "        line, = ax.plot([1, 2, 3])\n",
      "        ax.legend()\n",
      "    \n",
      "    Specific lines can be excluded from the automatic legend element\n",
      "    selection by defining a label starting with an underscore.\n",
      "    This is default for all artists, so calling `Axes.legend` without\n",
      "    any arguments and without setting the labels manually will result in\n",
      "    no legend being drawn.\n",
      "    \n",
      "    \n",
      "    **2. Labeling existing plot elements**\n",
      "    \n",
      "    To make a legend for lines which already exist on the axes\n",
      "    (via plot for instance), simply call this function with an iterable\n",
      "    of strings, one for each legend item. For example::\n",
      "    \n",
      "        ax.plot([1, 2, 3])\n",
      "        ax.legend(['A simple line'])\n",
      "    \n",
      "    Note: This way of using is discouraged, because the relation between\n",
      "    plot elements and labels is only implicit by their order and can\n",
      "    easily be mixed up.\n",
      "    \n",
      "    \n",
      "    **3. Explicitly defining the elements in the legend**\n",
      "    \n",
      "    For full control of which artists have a legend entry, it is possible\n",
      "    to pass an iterable of legend artists followed by an iterable of\n",
      "    legend labels respectively::\n",
      "    \n",
      "        legend((line1, line2, line3), ('label1', 'label2', 'label3'))\n",
      "    \n",
      "    Parameters\n",
      "    ----------\n",
      "    \n",
      "    handles : sequence of `.Artist`, optional\n",
      "        A list of Artists (lines, patches) to be added to the legend.\n",
      "        Use this together with *labels*, if you need full control on what\n",
      "        is shown in the legend and the automatic mechanism described above\n",
      "        is not sufficient.\n",
      "    \n",
      "        The length of handles and labels should be the same in this\n",
      "        case. If they are not, they are truncated to the smaller length.\n",
      "    \n",
      "    labels : sequence of strings, optional\n",
      "        A list of labels to show next to the artists.\n",
      "        Use this together with *handles*, if you need full control on what\n",
      "        is shown in the legend and the automatic mechanism described above\n",
      "        is not sufficient.\n",
      "    \n",
      "    Other Parameters\n",
      "    ----------------\n",
      "    \n",
      "    loc : int or string or pair of floats, default: 'upper right'\n",
      "        The location of the legend. Possible codes are:\n",
      "    \n",
      "            ===============   =============\n",
      "            Location String   Location Code\n",
      "            ===============   =============\n",
      "            'best'            0\n",
      "            'upper right'     1\n",
      "            'upper left'      2\n",
      "            'lower left'      3\n",
      "            'lower right'     4\n",
      "            'right'           5\n",
      "            'center left'     6\n",
      "            'center right'    7\n",
      "            'lower center'    8\n",
      "            'upper center'    9\n",
      "            'center'          10\n",
      "            ===============   =============\n",
      "    \n",
      "    \n",
      "        Alternatively can be a 2-tuple giving ``x, y`` of the lower-left\n",
      "        corner of the legend in axes coordinates (in which case\n",
      "        ``bbox_to_anchor`` will be ignored).\n",
      "    \n",
      "    bbox_to_anchor : `.BboxBase` or pair of floats\n",
      "        Specify any arbitrary location for the legend in `bbox_transform`\n",
      "        coordinates (default Axes coordinates).\n",
      "    \n",
      "        For example, to put the legend's upper right hand corner in the\n",
      "        center of the axes the following keywords can be used::\n",
      "    \n",
      "           loc='upper right', bbox_to_anchor=(0.5, 0.5)\n",
      "    \n",
      "    ncol : integer\n",
      "        The number of columns that the legend has. Default is 1.\n",
      "    \n",
      "    prop : None or :class:`matplotlib.font_manager.FontProperties` or dict\n",
      "        The font properties of the legend. If None (default), the current\n",
      "        :data:`matplotlib.rcParams` will be used.\n",
      "    \n",
      "    fontsize : int or float or {'xx-small', 'x-small', 'small', 'medium', 'large', 'x-large', 'xx-large'}\n",
      "        Controls the font size of the legend. If the value is numeric the\n",
      "        size will be the absolute font size in points. String values are\n",
      "        relative to the current default font size. This argument is only\n",
      "        used if `prop` is not specified.\n",
      "    \n",
      "    numpoints : None or int\n",
      "        The number of marker points in the legend when creating a legend\n",
      "        entry for a `.Line2D` (line).\n",
      "        Default is ``None``, which will take the value from\n",
      "        :rc:`legend.numpoints`.\n",
      "    \n",
      "    scatterpoints : None or int\n",
      "        The number of marker points in the legend when creating\n",
      "        a legend entry for a `.PathCollection` (scatter plot).\n",
      "        Default is ``None``, which will take the value from\n",
      "        :rc:`legend.scatterpoints`.\n",
      "    \n",
      "    scatteryoffsets : iterable of floats\n",
      "        The vertical offset (relative to the font size) for the markers\n",
      "        created for a scatter plot legend entry. 0.0 is at the base the\n",
      "        legend text, and 1.0 is at the top. To draw all markers at the\n",
      "        same height, set to ``[0.5]``. Default is ``[0.375, 0.5, 0.3125]``.\n",
      "    \n",
      "    markerscale : None or int or float\n",
      "        The relative size of legend markers compared with the originally\n",
      "        drawn ones.\n",
      "        Default is ``None``, which will take the value from\n",
      "        :rc:`legend.markerscale`.\n",
      "    \n",
      "    markerfirst : bool\n",
      "        If *True*, legend marker is placed to the left of the legend label.\n",
      "        If *False*, legend marker is placed to the right of the legend\n",
      "        label.\n",
      "        Default is *True*.\n",
      "    \n",
      "    frameon : None or bool\n",
      "        Control whether the legend should be drawn on a patch\n",
      "        (frame).\n",
      "        Default is ``None``, which will take the value from\n",
      "        :rc:`legend.frameon`.\n",
      "    \n",
      "    fancybox : None or bool\n",
      "        Control whether round edges should be enabled around the\n",
      "        :class:`~matplotlib.patches.FancyBboxPatch` which makes up the\n",
      "        legend's background.\n",
      "        Default is ``None``, which will take the value from\n",
      "        :rc:`legend.fancybox`.\n",
      "    \n",
      "    shadow : None or bool\n",
      "        Control whether to draw a shadow behind the legend.\n",
      "        Default is ``None``, which will take the value from\n",
      "        :rc:`legend.shadow`.\n",
      "    \n",
      "    framealpha : None or float\n",
      "        Control the alpha transparency of the legend's background.\n",
      "        Default is ``None``, which will take the value from\n",
      "        :rc:`legend.framealpha`.  If shadow is activated and\n",
      "        *framealpha* is ``None``, the default value is ignored.\n",
      "    \n",
      "    facecolor : None or \"inherit\" or a color spec\n",
      "        Control the legend's background color.\n",
      "        Default is ``None``, which will take the value from\n",
      "        :rc:`legend.facecolor`.  If ``\"inherit\"``, it will take\n",
      "        :rc:`axes.facecolor`.\n",
      "    \n",
      "    edgecolor : None or \"inherit\" or a color spec\n",
      "        Control the legend's background patch edge color.\n",
      "        Default is ``None``, which will take the value from\n",
      "        :rc:`legend.edgecolor` If ``\"inherit\"``, it will take\n",
      "        :rc:`axes.edgecolor`.\n",
      "    \n",
      "    mode : {\"expand\", None}\n",
      "        If `mode` is set to ``\"expand\"`` the legend will be horizontally\n",
      "        expanded to fill the axes area (or `bbox_to_anchor` if defines\n",
      "        the legend's size).\n",
      "    \n",
      "    bbox_transform : None or :class:`matplotlib.transforms.Transform`\n",
      "        The transform for the bounding box (`bbox_to_anchor`). For a value\n",
      "        of ``None`` (default) the Axes'\n",
      "        :data:`~matplotlib.axes.Axes.transAxes` transform will be used.\n",
      "    \n",
      "    title : str or None\n",
      "        The legend's title. Default is no title (``None``).\n",
      "    \n",
      "    borderpad : float or None\n",
      "        The fractional whitespace inside the legend border.\n",
      "        Measured in font-size units.\n",
      "        Default is ``None``, which will take the value from\n",
      "        :rc:`legend.borderpad`.\n",
      "    \n",
      "    labelspacing : float or None\n",
      "        The vertical space between the legend entries.\n",
      "        Measured in font-size units.\n",
      "        Default is ``None``, which will take the value from\n",
      "        :rc:`legend.labelspacing`.\n",
      "    \n",
      "    handlelength : float or None\n",
      "        The length of the legend handles.\n",
      "        Measured in font-size units.\n",
      "        Default is ``None``, which will take the value from\n",
      "        :rc:`legend.handlelength`.\n",
      "    \n",
      "    handletextpad : float or None\n",
      "        The pad between the legend handle and text.\n",
      "        Measured in font-size units.\n",
      "        Default is ``None``, which will take the value from\n",
      "        :rc:`legend.handletextpad`.\n",
      "    \n",
      "    borderaxespad : float or None\n",
      "        The pad between the axes and legend border.\n",
      "        Measured in font-size units.\n",
      "        Default is ``None``, which will take the value from\n",
      "        :rc:`legend.borderaxespad`.\n",
      "    \n",
      "    columnspacing : float or None\n",
      "        The spacing between columns.\n",
      "        Measured in font-size units.\n",
      "        Default is ``None``, which will take the value from\n",
      "        :rc:`legend.columnspacing`.\n",
      "    \n",
      "    handler_map : dict or None\n",
      "        The custom dictionary mapping instances or types to a legend\n",
      "        handler. This `handler_map` updates the default handler map\n",
      "        found at :func:`matplotlib.legend.Legend.get_legend_handler_map`.\n",
      "    \n",
      "    Returns\n",
      "    -------\n",
      "    \n",
      "    :class:`matplotlib.legend.Legend` instance\n",
      "    \n",
      "    Notes\n",
      "    -----\n",
      "    \n",
      "    Not all kinds of artist are supported by the legend command. See\n",
      "    :doc:`/tutorials/intermediate/legend_guide` for details.\n",
      "    \n",
      "    Examples\n",
      "    --------\n",
      "    \n",
      "    .. plot:: gallery/api/legend.py\n",
      "\n"
     ]
    }
   ],
   "source": [
    "help(ax.legend)"
   ]
  },
  {
   "cell_type": "code",
   "execution_count": 11,
   "metadata": {},
   "outputs": [
    {
     "data": {
      "image/png": "[encoded data removed]",
      "text/plain": [
       "<Figure size 432x288 with 1 Axes>"
      ]
     },
     "metadata": {
      "needs_background": "light"
     },
     "output_type": "display_data"
    }
   ],
   "source": [
    "sns.pointplot(data=results, x='b', y='Transitions Boundary', label='Boundary')\n",
    "sns.pointplot(data=results, x='b', y='Transitions Pre-Boundary', color='k', label='Pre-Boundary')\n",
    "plt.legend()\n",
    "sns.despine(trim=True)\n",
    "# plt.axhline(y=0, c='k')"
   ]
  },
  {
   "cell_type": "code",
   "execution_count": 12,
   "metadata": {},
   "outputs": [
    {
     "data": {
      "text/plain": [
       "Ttest_1sampResult(statistic=-5.0784321654253235, pvalue=0.00027135868830057525)"
      ]
     },
     "execution_count": 12,
     "metadata": {},
     "output_type": "execute_result"
    }
   ],
   "source": [
    "y = [results.groupby('Subject').mean()['Transitions Boundary'],\n",
    "     results.groupby('Subject').mean()['Transitions Pre-Boundary']]\n",
    "from scipy.stats import ttest_1samp\n",
    "ttest_1samp(y[0] - y[1], 0)\n",
    "\n"
   ]
  },
  {
   "cell_type": "code",
   "execution_count": 13,
   "metadata": {},
   "outputs": [
    {
     "name": "stdout",
     "output_type": "stream",
     "text": [
      "Ttest_1sampResult(statistic=-0.9626230477751406, pvalue=0.3547341641161593)\n"
     ]
    },
    {
     "data": {
      "image/png": "[encoded data removed]",
      "text/plain": [
       "<Figure size 216x216 with 1 Axes>"
      ]
     },
     "metadata": {
      "needs_background": "light"
     },
     "output_type": "display_data"
    }
   ],
   "source": [
    "plt.figure(figsize=(3, 3))\n",
    "x = ['Boundary', 'Pre-Boundary']\n",
    "y = [results.groupby('Subject').mean()['Boundary'].mean(),\n",
    "     results.groupby('Subject').mean()['Pre-Boundary'].mean()]\n",
    "y_err = [results.groupby('Subject').mean()['Boundary'].std() / np.sqrt(n_batch),\n",
    "     results.groupby('Subject').mean()['Pre-Boundary'].std() / np.sqrt(n_batch)]\n",
    "\n",
    "plt.bar(x[0], y[0], lw=1, edgecolor='k', facecolor='w')\n",
    "plt.bar(x[1], y[1], lw=1, edgecolor='k', facecolor='grey')\n",
    "plt.errorbar(x, y, y_err, marker='None', lw=2, ls='None', c='k')\n",
    "plt.ylabel('Accuracy')\n",
    "sns.despine()\n",
    "\n",
    "from scipy.stats import ttest_1samp\n",
    "print ttest_1samp(results.groupby('Subject').mean()['Boundary'].values - \n",
    "                results.groupby('Subject').mean()['Pre-Boundary'].values, 0)"
   ]
  },
  {
   "cell_type": "code",
   "execution_count": 14,
   "metadata": {},
   "outputs": [
    {
     "name": "stdout",
     "output_type": "stream",
     "text": [
      "Ttest_1sampResult(statistic=-5.0784321654253235, pvalue=0.00027135868830057525)\n"
     ]
    },
    {
     "data": {
      "image/png": "[encoded data removed]",
      "text/plain": [
       "<Figure size 216x216 with 1 Axes>"
      ]
     },
     "metadata": {
      "needs_background": "light"
     },
     "output_type": "display_data"
    }
   ],
   "source": [
    "plt.figure(figsize=(3, 3))\n",
    "x = ['Boundary', 'Pre-Boundary']\n",
    "y = [results.groupby('Subject').mean()['Transitions Boundary'].mean(),\n",
    "     results.groupby('Subject').mean()['Transitions Pre-Boundary'].mean()]\n",
    "y_err = [results.groupby('Subject').mean()['Transitions Boundary'].std() / np.sqrt(n_batch),\n",
    "     results.groupby('Subject').mean()['Transitions Pre-Boundary'].std() / np.sqrt(n_batch)]\n",
    "\n",
    "plt.bar(x[0], y[0], lw=1, edgecolor='k', facecolor='w')\n",
    "plt.bar(x[1], y[1], lw=1, edgecolor='k', facecolor='grey')\n",
    "plt.errorbar(x, y, y_err, marker='None', lw=2, ls='None', c='k')\n",
    "plt.ylabel('Transition Accuracy')\n",
    "sns.despine()\n",
    "\n",
    "from scipy.stats import ttest_1samp\n",
    "print ttest_1samp(results.groupby('Subject').mean()['Transitions Boundary'].values - \n",
    "                results.groupby('Subject').mean()['Transitions Pre-Boundary'].values, 0)\n",
    "\n",
    "# plt.savefig('Dubrow_correct_transitions_GRU.png', dpi=300, bbox_inches='tight')"
   ]
  },
  {
   "cell_type": "code",
   "execution_count": 15,
   "metadata": {},
   "outputs": [
    {
     "name": "stdout",
     "output_type": "stream",
     "text": [
      "Ttest_1sampResult(statistic=-5.0784321654253235, pvalue=0.00027135868830057525)\n"
     ]
    },
    {
     "data": {
      "image/png": "[encoded data removed]",
      "text/plain": [
       "<Figure size 216x216 with 1 Axes>"
      ]
     },
     "metadata": {
      "needs_background": "light"
     },
     "output_type": "display_data"
    }
   ],
   "source": [
    "results_copy = results.copy()\n",
    "results_copy.loc[results_copy['Transitions Boundary'].isnull(), 'Transitions Boundary'] = 0\n",
    "results_copy.loc[results_copy['Transitions Pre-Boundary'].isnull(), 'Transitions Pre-Boundary'] = 0\n",
    "\n",
    "\n",
    "plt.figure(figsize=(3, 3))\n",
    "x = ['Boundary', 'Pre-Boundary']\n",
    "y = [results_copy.groupby('Subject').mean()['Transitions Boundary'].mean(),\n",
    "     results_copy.groupby('Subject').mean()['Transitions Pre-Boundary'].mean()]\n",
    "y_err = [results_copy.groupby('Subject').mean()['Transitions Boundary'].std() / np.sqrt(n_batch),\n",
    "     results_copy.groupby('Subject').mean()['Transitions Pre-Boundary'].std() / np.sqrt(n_batch)]\n",
    "\n",
    "plt.bar(x[0], y[0], lw=1, edgecolor='k', facecolor='w')\n",
    "plt.bar(x[1], y[1], lw=1, edgecolor='k', facecolor='grey')\n",
    "plt.errorbar(x, y, y_err, marker='None', lw=2, ls='None', c='k')\n",
    "plt.ylabel('Transition Accuracy')\n",
    "sns.despine()\n",
    "\n",
    "from scipy.stats import ttest_1samp\n",
    "print ttest_1samp(results_copy.groupby('Subject').mean()['Transitions Boundary'].values - \n",
    "                results_copy.groupby('Subject').mean()['Transitions Pre-Boundary'].values, 0)\n",
    "\n",
    "# plt.savefig('Dubrow_correct_transitions_GRU.png', dpi=300, bbox_inches='tight')"
   ]
  },
  {
   "cell_type": "code",
   "execution_count": 16,
   "metadata": {},
   "outputs": [
    {
     "data": {
      "text/plain": [
       "0.7646909999999992"
      ]
     },
     "execution_count": 16,
     "metadata": {},
     "output_type": "execute_result"
    }
   ],
   "source": [
    "# the overall accuracy is low, this is something we may have to revisit\n",
    "\n",
    "results_copy['Overall Acc'].mean()"
   ]
  },
  {
   "cell_type": "code",
   "execution_count": null,
   "metadata": {},
   "outputs": [],
   "source": []
  }
 ],
 "metadata": {
  "kernelspec": {
   "display_name": "Python 2",
   "language": "python",
   "name": "python2"
  },
  "language_info": {
   "codemirror_mode": {
    "name": "ipython",
    "version": 2
   },
   "file_extension": ".py",
   "mimetype": "text/x-python",
   "name": "python",
   "nbconvert_exporter": "python",
   "pygments_lexer": "ipython2",
   "version": "2.7.15"
  }
 },
 "nbformat": 4,
 "nbformat_minor": 2
}
