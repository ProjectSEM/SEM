{
 "cells": [
  {
   "cell_type": "code",
   "execution_count": 1,
   "metadata": {
    "collapsed": true
   },
   "outputs": [],
   "source": [
    "%matplotlib inline\n",
    "import numpy as np\n",
    "import matplotlib.pyplot as plt\n",
    "import seaborn\n",
    "from scipy.stats import multivariate_normal\n",
    "from scipy.misc import logsumexp"
   ]
  },
  {
   "cell_type": "markdown",
   "metadata": {},
   "source": [
    "Here, I'm defining the event segmentation model and a linear dymanic system that is used as the event model. See SEM project notes for details, but it's what's proposed\n"
   ]
  },
  {
   "cell_type": "code",
   "execution_count": 2,
   "metadata": {},
   "outputs": [],
   "source": [
    "class LinearDynamicSystem(object):\n",
    "\n",
    "    def __init__(self, D, eta=0.01):\n",
    "        \"\"\"\n",
    "        Parameters\n",
    "        ----------\n",
    "        D: int\n",
    "            dimensions of the vector space of interest\n",
    "            \n",
    "        eta: float\n",
    "            learning rate\n",
    "        \"\"\"\n",
    "        \n",
    "        self.beta = np.zeros(D).flatten()\n",
    "        self.W = np.eye(D).flatten()\n",
    "        self.eta = eta\n",
    "        \n",
    "    def predict(self, X):\n",
    "        \"\"\"\n",
    "        Parameters\n",
    "        ----------\n",
    "        X: np.array of length D\n",
    "            vector at time t\n",
    "        \n",
    "        Returns\n",
    "        -------\n",
    "        Xp_hat: np.array of length D\n",
    "            prediction of vector at time t+1\n",
    "            \n",
    "        g:\n",
    "            used for training\n",
    "        \n",
    "        \"\"\"\n",
    "        D = np.shape(X)[0]\n",
    "        Xp_hat = self.beta + np.matmul(X, np.reshape(self.W , (D, D)))\n",
    "\n",
    "        dXdb = np.eye(D)\n",
    "        dXdW = np.tile((np.tile(X, (1, D))), (D, 1))\n",
    "        g = np.concatenate([dXdb, dXdW], axis=1)\n",
    "        return Xp_hat, g\n",
    "    \n",
    "    def update(self, X, X_hat, g):\n",
    "        \"\"\"\n",
    "        Parameters\n",
    "        ----------\n",
    "        \n",
    "        Xp: np.array of length D\n",
    "            observed vector\n",
    "            \n",
    "        Xp_hat:  np.array of length D\n",
    "            predicted vector\n",
    "            \n",
    "        g: \n",
    "            used for training\n",
    "            \n",
    "        \"\"\"\n",
    "        \n",
    "        # vectorize the parameters\n",
    "        theta = np.concatenate([self.beta, self.W.flatten()])\n",
    "        theta += self.eta * np.matmul(X - X_hat, g)\n",
    "        \n",
    "        # store the updated parameters\n",
    "        self.beta = theta[:np.shape(X)[0]]\n",
    "        self.W = theta[np.shape(X)[0]:]\n",
    "        \n",
    "    \n",
    "class SEM(object):\n",
    "    \"\"\"\n",
    "    This port of SAM's code (done with a different programming logic)\n",
    "    in python. More documation to come!\n",
    "    \"\"\"\n",
    "    \n",
    "    def __init__(self, lmda=1., alfa=10.0, beta=0.1, f_class=None, f_opts=None):\n",
    "        \"\"\"\n",
    "        Parameters\n",
    "        ----------\n",
    "        \n",
    "        lmbda: float\n",
    "            sCRP stickyness parameter\n",
    "        \n",
    "        alfa: float\n",
    "            sCRP concentration parameter\n",
    "        \n",
    "        beta: float\n",
    "            gaussian noise parameter\n",
    "            \n",
    "        f_class: class\n",
    "            object class that has the functions \"predict\" and \"update\".\n",
    "            used as the event model\n",
    "            \n",
    "        f_opts: dictionary\n",
    "            kwargs for initializing f_class\n",
    "        \"\"\"\n",
    "        self.lmda = lmda\n",
    "        self.alfa = alfa\n",
    "        self.beta = beta\n",
    "        \n",
    "        if f_class is None:\n",
    "            self.f_class = LinearDynamicSystem\n",
    "        else:\n",
    "            self.f_class = f_class\n",
    "        if f_opts is None:\n",
    "            self.f_opts = {'eta': 0.01}\n",
    "        else:\n",
    "            self.f_opts = f_opts\n",
    "\n",
    "            \n",
    "    def run(self, X, K=None):\n",
    "        \"\"\"\n",
    "        Parameters\n",
    "        ----------\n",
    "        X: N x D array of \n",
    "        \n",
    "        K: int\n",
    "            maximum number of clusters\n",
    "        \n",
    "        Return\n",
    "        ------\n",
    "        post: N by K array of posterior probabilites\n",
    "        \"\"\"\n",
    "        \n",
    "        [N, D] = np.shape(X)\n",
    "        \n",
    "        Sigma = np.eye(D) * self.beta  # noise for multivariate gaussian likelihood\n",
    "\n",
    "        if K is None:\n",
    "            K = N\n",
    "        \n",
    "        C = np.zeros(K)  # running count of the clustering process\n",
    "        prior = C.copy()\n",
    "        \n",
    "        event_models = dict()  # initialize an empty event model space\n",
    "        \n",
    "        x_prev = np.zeros(D)  # need a starting location as is sequential model\n",
    "        post = np.zeros((N, K))\n",
    "        \n",
    "        for n in range(N):\n",
    "            # calculate sCRP prior\n",
    "            prior = C.copy()\n",
    "            idx =  len(np.nonzero(C)[0])  # get number of visited clusters\n",
    "            \n",
    "            if idx < K:\n",
    "                prior[idx] = self.alfa  # set new cluster probability to alpha\n",
    "\n",
    "            # add stickyness parameter for n>0\n",
    "            if n > 0: \n",
    "                prior[np.argmax(post[n, :])] + self.lmda \n",
    "\n",
    "            prior /= np.sum(prior)\n",
    "            \n",
    "            # likelihood\n",
    "            active = np.nonzero(prior)[0]\n",
    "            lik = np.zeros(len(active))\n",
    "            X_hat = np.zeros((len(active), D)) # store the predictions for updating\n",
    "            g = dict()\n",
    "            for k in active:\n",
    "                if k not in event_models.keys():\n",
    "                    event_models[k] = self.f_class(D, **self.f_opts)\n",
    "                \n",
    "                model = event_models[k]\n",
    "                X_hat[k, :], g[k] = model.predict(x_prev)\n",
    "                \n",
    "                \n",
    "                lik[k] = multivariate_normal.pdf(X[n, :] - X_hat[k, :], mean=np.zeros(D), cov=Sigma)\n",
    "                \n",
    "            # posterior\n",
    "            p = np.log(prior[:len(active)]) + np.log(lik)\n",
    "            post[n, :len(active)] = np.exp(p - logsumexp(p))\n",
    "\n",
    "            # update \n",
    "            k = np.argmax(post[n, :]) # MAP cluster\n",
    "            C[k] += 1 # update counts\n",
    "            event_models[k].update(X[n, :], X_hat[k, :], g[k])\n",
    "            \n",
    "            x_prev = X[0, :].copy()  # store the current vector for next trial\n",
    "        \n",
    "        return post"
   ]
  },
  {
   "cell_type": "markdown",
   "metadata": {},
   "source": [
    "Now, we define some toy problem"
   ]
  },
  {
   "cell_type": "code",
   "execution_count": 3,
   "metadata": {},
   "outputs": [
    {
     "data": {
      "text/plain": [
       "[<matplotlib.lines.Line2D at 0x11d547150>]"
      ]
     },
     "execution_count": 3,
     "metadata": {},
     "output_type": "execute_result"
    },
    {
     "data": {
      "image/png": "[encoded data removed]",
      "text/plain": [
       "<matplotlib.figure.Figure at 0x11a142750>"
      ]
     },
     "metadata": {},
     "output_type": "display_data"
    }
   ],
   "source": [
    "# first demo -- gaussian mixture defined by the CRP\n",
    "\n",
    "def build_static_dataset(N, beta=0.1):\n",
    "    \"\"\" \n",
    "    2 events, modeled as gaussians with different means\n",
    "    \"\"\"\n",
    "    \n",
    "    pi = np.array([0.4, 0.6])\n",
    "    mus = [[1, 1], [-1, -1]]\n",
    "    stds = np.ones((2, 2)) * beta\n",
    "    x = np.zeros((N, 2), dtype=np.float32)\n",
    "    for n in range(N/2):\n",
    "        x[n, :] = np.random.multivariate_normal(mus[0], np.diag(stds[0]))\n",
    "    for n in range(N/2, N):\n",
    "        x[n, :] = np.random.multivariate_normal(mus[1], np.diag(stds[1]))\n",
    "        \n",
    "    return x\n",
    "\n",
    "x_train = build_static_dataset(100, 0.01)\n",
    "plt.plot(x_train[:, 0], x_train[:, 1])"
   ]
  },
  {
   "cell_type": "code",
   "execution_count": 4,
   "metadata": {},
   "outputs": [],
   "source": [
    "K = 20  # maximum number of event types\n",
    "lmda = 1  # stickyness parameter\n",
    "alfa = 10.0  # concentration parameter\n",
    "beta = 0.01 # transition noise\n",
    "eta =  0.1  # learning rate\n",
    "\n",
    "sem_kwargs = dict(lmda=lmda, alfa=alfa, beta=beta, \n",
    "                  f_class=LinearDynamicSystem, f_opts=dict(eta=eta))\n",
    "\n",
    "sem = SEM(**sem_kwargs)\n",
    "post = sem.run(x_train, K=K)"
   ]
  },
  {
   "cell_type": "code",
   "execution_count": 5,
   "metadata": {},
   "outputs": [
    {
     "data": {
      "image/png": "[encoded data removed]",
      "text/plain": [
       "<matplotlib.figure.Figure at 0x11d4df390>"
      ]
     },
     "metadata": {},
     "output_type": "display_data"
    }
   ],
   "source": [
    "def plot_segmentation(post):\n",
    "    cluster_id = np.argmax(post, axis=1)\n",
    "    import seaborn as sns\n",
    "    cc = sns.color_palette('Dark2', post.shape[1])\n",
    "    for clt in cluster_id:\n",
    "        idx = np.nonzero(cluster_id == clt)[0]\n",
    "        plt.scatter(x_train[idx, 0], x_train[idx, 1], color=cc[clt])\n",
    "        \n",
    "plot_segmentation(post)"
   ]
  },
  {
   "cell_type": "code",
   "execution_count": 6,
   "metadata": {},
   "outputs": [
    {
     "data": {
      "text/plain": [
       "array([ 0,  1,  2,  3,  4,  5,  6,  7,  8,  9, 10, 11, 12, 13, 14, 15, 16,\n",
       "       17, 18, 19, 19, 19, 19, 18, 19, 19, 19, 19, 19, 18, 19, 19, 19, 19,\n",
       "       19, 19, 19, 19, 19, 19, 19, 19, 19, 19, 19, 19, 19, 18, 19, 19, 18,\n",
       "       18, 18, 18, 18, 18, 18, 18, 18, 18, 18, 18, 18, 18, 18, 18, 18, 18,\n",
       "       18, 18, 18, 18, 18, 18, 18, 18, 18, 18, 18, 18, 18, 18, 18, 18, 18,\n",
       "       18, 18, 18, 18, 18, 18, 18, 18, 18, 18, 18, 18, 18, 18, 18])"
      ]
     },
     "execution_count": 6,
     "metadata": {},
     "output_type": "execute_result"
    }
   ],
   "source": [
    "#show the envent number that was chosen\n",
    "np.argmax(post, axis=1)"
   ]
  },
  {
   "cell_type": "markdown",
   "metadata": {},
   "source": [
    "Now, alternative between two events\n"
   ]
  },
  {
   "cell_type": "code",
   "execution_count": 7,
   "metadata": {},
   "outputs": [
    {
     "data": {
      "text/plain": [
       "[<matplotlib.lines.Line2D at 0x11d9abe50>]"
      ]
     },
     "execution_count": 7,
     "metadata": {},
     "output_type": "execute_result"
    },
    {
     "data": {
      "image/png": "[encoded data removed]",
      "text/plain": [
       "<matplotlib.figure.Figure at 0x11d87f810>"
      ]
     },
     "metadata": {},
     "output_type": "display_data"
    }
   ],
   "source": [
    "def build_alternating_static_events(N, beta=0.1):\n",
    "    \"\"\" \n",
    "    2 alternating events, modeled as gaussians with different means\n",
    "    \"\"\"\n",
    "    \n",
    "    pi = np.array([0.4, 0.6])\n",
    "    mus = [[1, 1], [-1, -1]]\n",
    "    stds = np.ones((2, 2)) * beta\n",
    "    x = np.zeros((N, 2), dtype=np.float32)\n",
    "    for n in range(N/4):\n",
    "        x[n, :] = np.random.multivariate_normal(mus[0], np.diag(stds[0]))\n",
    "    for n in range(N/4, N/2):\n",
    "        x[n, :] = np.random.multivariate_normal(mus[1], np.diag(stds[1]))\n",
    "    for n in range(N/2, N/4*3):\n",
    "        x[n, :] = np.random.multivariate_normal(mus[0], np.diag(stds[0]))\n",
    "    for n in range(N/4*3, N):\n",
    "        x[n, :] = np.random.multivariate_normal(mus[1], np.diag(stds[1]))\n",
    "        \n",
    "    return x\n",
    "\n",
    "x_train = build_alternating_static_events(100, 0.01)\n",
    "plt.plot(x_train[:, 0], x_train[:, 1])"
   ]
  },
  {
   "cell_type": "code",
   "execution_count": 8,
   "metadata": {
    "collapsed": true
   },
   "outputs": [],
   "source": [
    "post = sem.run(x_train, K=K)"
   ]
  },
  {
   "cell_type": "code",
   "execution_count": 9,
   "metadata": {},
   "outputs": [
    {
     "data": {
      "image/png": "[encoded data removed]",
      "text/plain": [
       "<matplotlib.figure.Figure at 0x11d890050>"
      ]
     },
     "metadata": {},
     "output_type": "display_data"
    }
   ],
   "source": [
    "plot_segmentation(post)"
   ]
  },
  {
   "cell_type": "code",
   "execution_count": 10,
   "metadata": {},
   "outputs": [
    {
     "data": {
      "text/plain": [
       "array([ 0,  1,  2,  3,  4,  5,  6,  7,  8,  0,  9,  0,  0,  0,  0, 10,  0,\n",
       "       11,  0,  0,  0,  0, 12, 13,  0,  3,  3,  3,  3,  3,  3,  3,  3,  3,\n",
       "        3,  3,  3,  3,  3,  3,  3,  3,  3,  3,  3,  3,  3,  3,  3,  3,  0,\n",
       "       14,  0,  0,  0,  0,  0,  0,  0,  0,  0,  0,  0,  0,  0,  0,  0,  0,\n",
       "        0,  0,  0,  0,  0,  0,  0,  3,  3,  3,  3,  3,  3,  3,  3,  3,  3,\n",
       "        3,  3,  3,  3,  3,  3,  3,  3,  3,  3,  3,  3,  3,  3,  3])"
      ]
     },
     "execution_count": 10,
     "metadata": {},
     "output_type": "execute_result"
    }
   ],
   "source": [
    "#show the envent number that was chosen. Notice the re-use of events\n",
    "np.argmax(post, axis=1)"
   ]
  },
  {
   "cell_type": "markdown",
   "metadata": {},
   "source": [
    "Below an example of two events where the events correspond to movement in vector space"
   ]
  },
  {
   "cell_type": "code",
   "execution_count": 41,
   "metadata": {},
   "outputs": [
    {
     "data": {
      "text/plain": [
       "[<matplotlib.lines.Line2D at 0x11d87f7d0>]"
      ]
     },
     "execution_count": 41,
     "metadata": {},
     "output_type": "execute_result"
    },
    {
     "data": {
      "image/png": "[encoded data removed]",
      "text/plain": [
       "<matplotlib.figure.Figure at 0x11dcf35d0>"
      ]
     },
     "metadata": {},
     "output_type": "display_data"
    }
   ],
   "source": [
    "\n",
    "def build_moving_data(N, beta=0.01):\n",
    "    pi = np.array([0.4, 0.6])\n",
    "    bs = [[1, 1], [-1, -1]]  # starting point!\n",
    "    ws = [np.array([[1, 0], [.5, 2]]), np.array([[-1, .2], [-.2, 1]])]\n",
    "    stds = np.eye(2) * beta\n",
    "    x = np.zeros((N, 2), dtype=np.float32)\n",
    "    \n",
    "    x[0, :] = np.random.multivariate_normal(bs[0], stds)\n",
    "    for n in range(1, N/2):\n",
    "        _x = x[n-1, :] + np.array([0.05, 0.05])\n",
    "        x[n, :] = np.random.multivariate_normal(_x, stds)\n",
    "        \n",
    "    x[N/2, :] = np.random.multivariate_normal(bs[1], stds)\n",
    "    for n in range(N/2+1, N):\n",
    "        _x = x[n-1, :] + np.array([-0.05, -0.05])\n",
    "        x[n, :] = np.random.multivariate_normal(_x, stds)\n",
    "    return x\n",
    "\n",
    "x_train = build_moving_data(100)\n",
    "plt.plot(x_train[:, 0], x_train[:, 1])"
   ]
  },
  {
   "cell_type": "code",
   "execution_count": 42,
   "metadata": {},
   "outputs": [
    {
     "name": "stderr",
     "output_type": "stream",
     "text": [
      "/Users/nickfranklin/anaconda/envs/tensorflow/lib/python2.7/site-packages/ipykernel_launcher.py:167: RuntimeWarning: divide by zero encountered in log\n"
     ]
    }
   ],
   "source": [
    "post = sem.run(x_train, K=K)"
   ]
  },
  {
   "cell_type": "code",
   "execution_count": 43,
   "metadata": {},
   "outputs": [
    {
     "data": {
      "image/png": "[encoded data removed]",
      "text/plain": [
       "<matplotlib.figure.Figure at 0x11e82f510>"
      ]
     },
     "metadata": {},
     "output_type": "display_data"
    }
   ],
   "source": [
    "plot_segmentation(post)"
   ]
  },
  {
   "cell_type": "code",
   "execution_count": 44,
   "metadata": {},
   "outputs": [
    {
     "data": {
      "text/plain": [
       "array([0, 1, 2, 3, 4, 0, 0, 0, 0, 0, 0, 0, 0, 0, 0, 0, 0, 0, 0, 0, 0, 0, 0,\n",
       "       0, 0, 0, 0, 0, 0, 0, 0, 0, 0, 0, 0, 0, 0, 0, 0, 0, 0, 0, 0, 0, 0, 0,\n",
       "       0, 0, 0, 0, 5, 5, 5, 5, 5, 5, 5, 5, 5, 5, 5, 5, 5, 5, 5, 5, 5, 5, 5,\n",
       "       5, 5, 5, 5, 5, 5, 5, 5, 5, 5, 5, 5, 5, 5, 5, 5, 5, 5, 5, 5, 5, 5, 5,\n",
       "       5, 5, 5, 5, 5, 5, 5, 5])"
      ]
     },
     "execution_count": 44,
     "metadata": {},
     "output_type": "execute_result"
    }
   ],
   "source": [
    "np.argmax(post, axis=1)"
   ]
  },
  {
   "cell_type": "code",
   "execution_count": 63,
   "metadata": {},
   "outputs": [
    {
     "data": {
      "text/plain": [
       "[<matplotlib.lines.Line2D at 0x11efc0e50>]"
      ]
     },
     "execution_count": 63,
     "metadata": {},
     "output_type": "execute_result"
    },
    {
     "data": {
      "image/png": "[encoded data removed]",
      "text/plain": [
       "<matplotlib.figure.Figure at 0x11eb27110>"
      ]
     },
     "metadata": {},
     "output_type": "display_data"
    }
   ],
   "source": [
    "\n",
    "def build_alternating_moving_events(N, beta=0.01):\n",
    "    pi = np.array([0.4, 0.6])\n",
    "    bs = [[1, 1], [-1, -1], [1, -1], [-1, 1]]  # starting point!\n",
    "    ws = [np.array([[1, 0], [.5, 2]]), np.array([[-1, .2], [-.2, 1]])]\n",
    "    Sigma = np.eye(2) * beta\n",
    "    x = np.zeros((N, 2), dtype=np.float32)\n",
    "    \n",
    "    x[0, :] = np.random.multivariate_normal(bs[0], Sigma)\n",
    "    for n in range(1, N/4):\n",
    "        _x = x[n-1, :] + np.array([0.05, 0.05])\n",
    "        x[n, :] = np.random.multivariate_normal(_x, Sigma)\n",
    "        \n",
    "    x[N/4, :] = np.random.multivariate_normal(bs[1], Sigma)\n",
    "    for n in range(N/4+1, N/2):\n",
    "        _x = x[n-1, :] + np.array([-0.05, -0.05])\n",
    "        x[n, :] = np.random.multivariate_normal(_x, Sigma)\n",
    "            \n",
    "    x[N/2, :] = np.random.multivariate_normal(bs[2], Sigma)\n",
    "    for n in range(N/2+1, N/4*3):\n",
    "        _x = x[n-1, :] + np.array([-0.05, -0.05])\n",
    "        x[n, :] = np.random.multivariate_normal(_x, Sigma)\n",
    "        \n",
    "    x[N/4*3, :] = np.random.multivariate_normal(bs[3], Sigma)\n",
    "    for n in range(N/4*3+1, N):\n",
    "        _x = x[n-1, :] + np.array([0.05, 0.05])\n",
    "        x[n, :] = np.random.multivariate_normal(_x, Sigma)      \n",
    "        \n",
    "    return x\n",
    "\n",
    "x_train = build_alternating_moving_events(100)\n",
    "plt.plot(x_train[:, 0], x_train[:, 1])"
   ]
  },
  {
   "cell_type": "code",
   "execution_count": 64,
   "metadata": {},
   "outputs": [
    {
     "name": "stderr",
     "output_type": "stream",
     "text": [
      "/Users/nickfranklin/anaconda/envs/tensorflow/lib/python2.7/site-packages/ipykernel_launcher.py:167: RuntimeWarning: divide by zero encountered in log\n"
     ]
    }
   ],
   "source": [
    "post = sem.run(x_train, K=K)"
   ]
  },
  {
   "cell_type": "code",
   "execution_count": 65,
   "metadata": {},
   "outputs": [
    {
     "data": {
      "image/png": "[encoded data removed]",
      "text/plain": [
       "<matplotlib.figure.Figure at 0x11ec9b490>"
      ]
     },
     "metadata": {},
     "output_type": "display_data"
    }
   ],
   "source": [
    "plot_segmentation(post)"
   ]
  },
  {
   "cell_type": "code",
   "execution_count": 66,
   "metadata": {},
   "outputs": [
    {
     "data": {
      "text/plain": [
       "array([0, 1, 2, 3, 4, 5, 0, 0, 0, 0, 0, 0, 0, 0, 0, 0, 0, 0, 0, 0, 0, 0, 0,\n",
       "       0, 0, 3, 3, 3, 3, 3, 3, 3, 3, 3, 3, 3, 3, 3, 3, 3, 3, 3, 3, 3, 3, 3,\n",
       "       3, 3, 3, 3, 5, 5, 5, 5, 5, 5, 5, 5, 5, 5, 5, 5, 5, 5, 5, 5, 5, 5, 5,\n",
       "       5, 5, 5, 5, 5, 5, 2, 2, 2, 2, 2, 2, 2, 2, 2, 2, 2, 2, 2, 2, 2, 2, 2,\n",
       "       2, 2, 2, 2, 2, 2, 2, 2])"
      ]
     },
     "execution_count": 66,
     "metadata": {},
     "output_type": "execute_result"
    }
   ],
   "source": [
    "np.argmax(post, axis=1)"
   ]
  },
  {
   "cell_type": "code",
   "execution_count": null,
   "metadata": {
    "collapsed": true
   },
   "outputs": [],
   "source": []
  }
 ],
 "metadata": {
  "kernelspec": {
   "display_name": "Python 2",
   "language": "python",
   "name": "python2"
  },
  "language_info": {
   "codemirror_mode": {
    "name": "ipython",
    "version": 2
   },
   "file_extension": ".py",
   "mimetype": "text/x-python",
   "name": "python",
   "nbconvert_exporter": "python",
   "pygments_lexer": "ipython2",
   "version": "2.7.13"
  }
 },
 "nbformat": 4,
 "nbformat_minor": 1
}
