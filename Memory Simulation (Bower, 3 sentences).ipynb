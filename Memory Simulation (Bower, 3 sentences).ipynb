{
 "cells": [
  {
   "cell_type": "code",
   "execution_count": 1,
   "metadata": {},
   "outputs": [
    {
     "name": "stderr",
     "output_type": "stream",
     "text": [
      "Using TensorFlow backend.\n"
     ]
    },
    {
     "name": "stdout",
     "output_type": "stream",
     "text": [
      "TensorFlow Version: 1.9.0\n",
      "Keras      Version: 2.2.0\n",
      "TensorFlow Check Passed\n"
     ]
    }
   ],
   "source": [
    "%matplotlib inline\n",
    "import numpy as np\n",
    "import matplotlib.pyplot as plt\n",
    "import pandas as pd\n",
    "import seaborn as sns\n",
    "from models import *\n",
    "from opt import encode\n",
    "from tqdm import tnrange\n",
    "\n",
    "sns.set_context('paper', font_scale=1.5)"
   ]
  },
  {
   "cell_type": "markdown",
   "metadata": {},
   "source": [
    "Example Sentences\n",
    "\n",
    "Goto(John, Doctor), Checkin(John, None), Wait(John, None), Read(John, Magazine), Treat(Doctor, John)\n",
    "\n",
    "Goto(Bill, Dentist), Checkin(Bill, None), Wait(Bill, None), Read(Bill, Magazine), Treat(Dentist, Bill)\n",
    "\n",
    "Goto(Natasha, Chiropractor), Checkin(Natasha, None), Wait(Natasha, None), Read(Natasha, Magazine), Treat(Chiropractor, Natasha)\n",
    "\n",
    "\n",
    "\n",
    "BuyTicket(Sarah, Play), Goto(Sarah, Playhouse), Buy(Sarah, Food), FindSeat(Sarah, None), Watch(Sarah, Play)\n",
    "\n",
    "BuyTicket(Jill, Movie), Goto(Jill, MovieTheater), Buy(Jill, Food),  FindSeat(Sarah, None), Watch(Jill, Movie)\n",
    "\n",
    "BuyTicket(Nikolai, Opera), Goto(Nikolai, Operahouse), Buy(Nikolai, Drink),  FindSeat(Nikolai, None), Watch(Nikolai, Opera)"
   ]
  },
  {
   "cell_type": "code",
   "execution_count": 2,
   "metadata": {},
   "outputs": [
    {
     "name": "stdout",
     "output_type": "stream",
     "text": [
      "185\n",
      "-2.427228171947773\n",
      "-2.2979647428238437\n",
      "-2.2601142252897986\n",
      "\n",
      "-2.131232275115158\n",
      "-2.5637819896747835\n",
      "-2.503730388337112\n",
      "\n",
      "0.035695550186014606\n",
      "0.07630284234588441\n",
      "0.0777966825684047\n"
     ]
    }
   ],
   "source": [
    "from opt import plate_formula, embed, encode, decode\n",
    "\n",
    "np.random.seed(0)\n",
    "\n",
    "# figure out how many dimensions we need using plates formula\n",
    "n = 26\n",
    "k = 6;      # maximum number of terms to be combined\n",
    "err = 0.1; # error probability\n",
    "\n",
    "d = plate_formula(n, k, err)\n",
    "print d\n",
    "\n",
    "def embed(d):\n",
    "    return np.random.randn(1, d) / (np.sqrt(d))\n",
    "\n",
    "\n",
    "a0 =[\n",
    "    ['Goto', 'John', 'Doctor'],\n",
    "    ['Checkin', 'John', 'None'],\n",
    "    ['Read', 'John', 'Magazine'],\n",
    "    ['Treat', 'Doctor', 'John']\n",
    "]\n",
    "\n",
    "a1 = [\n",
    "    ['Goto', 'Bill', 'Dentist'], \n",
    "    ['Read', 'Bill', 'Magazine'],\n",
    "    ['Wait', 'Bill', 'None'],\n",
    "    ['Treat', 'Dentist', 'Bill']\n",
    "]\n",
    "\n",
    "a2 = [\n",
    "    ['Goto', 'Natasha', 'Dentist'], \n",
    "    ['Checkin', 'Natasha', 'None'],\n",
    "    ['Wait', 'Natasha', 'Magazine'],\n",
    "    ['Treat', 'Chiropractor', 'Natasha']\n",
    "]\n",
    "\n",
    "b0 = [\n",
    "    ['BuyTicket', 'Jill', 'Movie'],\n",
    "    ['FindSeat', 'Jill', 'None'],\n",
    "    ['Buy', 'Jill', 'Food'],\n",
    "    ['Watch', 'Jill', 'Movie']\n",
    "]\n",
    "\n",
    "c0 = [\n",
    "    ['WakeUp', 'Sarah', 'None'],\n",
    "    ['GetDressed', 'Sarah', 'None'],\n",
    "    ['Eat', 'Sarah', 'Toast'],\n",
    "    ['Leave', 'Sarah', 'None']\n",
    "    \n",
    "]\n",
    "\n",
    "\n",
    "# create an a version and b version of each script\n",
    "scripts_1 = [a0, b0, c0]\n",
    "scripts_2 = [a0, a1, b0]\n",
    "scripts_3 = [a0, a1, a2]\n",
    "\n",
    "# generate the embeddings as a function\n",
    "def gen_embeddings():\n",
    "    verb_property = embed(d)\n",
    "    agent_property = embed(d)\n",
    "    object_property = embed(d) * 0.5 + agent_property * 0.5\n",
    "\n",
    "    words = {\n",
    "        'Goto': (embed(d) + verb_property),\n",
    "        'Checkin':  (embed(d) + verb_property),\n",
    "        'Wait': (embed(d) + verb_property),\n",
    "        'Read': (embed(d) + verb_property),\n",
    "        'Treat': (embed(d) + verb_property),\n",
    "        'BuyTicket': (embed(d) + verb_property),\n",
    "        'FindSeat': (embed(d) + verb_property),\n",
    "        'Buy': (embed(d) + verb_property),\n",
    "        'Watch': (embed(d) + verb_property),\n",
    "        'WakeUp': (embed(d) + verb_property),\n",
    "        'GetDressed': (embed(d) + verb_property),\n",
    "        'Eat': (embed(d) + verb_property),\n",
    "        'Leave': (embed(d) + verb_property),\n",
    "        'John':(embed(d) + agent_property),\n",
    "        'Bill': (embed(d) + agent_property),\n",
    "        'Natasha': (embed(d) + agent_property),\n",
    "        'Magazine': (embed(d) + object_property),\n",
    "        'Doctor': (embed(d) + agent_property),\n",
    "        'Dentist': (embed(d) + agent_property),\n",
    "        'Chiropractor': (embed(d) + agent_property),\n",
    "        'Jill': (embed(d) + agent_property),\n",
    "        'Movie': (embed(d) + object_property),\n",
    "        'Food': (embed(d) + object_property),\n",
    "        'Sarah': (embed(d) + agent_property),\n",
    "        'Toast': (embed(d) + object_property),\n",
    "        'None': embed(d)*2,\n",
    "    }\n",
    "\n",
    "    roles = {\n",
    "        'Agent': embed(d),\n",
    "        'Patient': embed(d),\n",
    "        'Verb': embed(d)\n",
    "    }\n",
    "\n",
    "\n",
    "    def encode_sentence(s):\n",
    "        return encode(words[s[0]], roles['Verb']) +\\\n",
    "                encode(words[s[1]], roles['Agent']) +\\\n",
    "                encode(words[s[2]], roles['Patient'])\n",
    "\n",
    "    def encode_scripts(scripts):\n",
    "        x_train = []\n",
    "        for script in scripts:\n",
    "            _x_train = []\n",
    "            for s in script:\n",
    "                _x_train.append(encode_sentence(s))\n",
    "            x_train.append(np.concatenate(_x_train, axis=0))\n",
    "        return x_train\n",
    "\n",
    "    x_train_1 = encode_scripts(scripts_1)\n",
    "    x_train_2 = encode_scripts(scripts_2)\n",
    "    x_train_3 = encode_scripts(scripts_3)\n",
    "\n",
    "    # the probe for all of these is Wait(John, None)\n",
    "    # probe queues\n",
    "    valid_unseen = ['Wait', 'John', 'None']\n",
    "    valid_seen = ['Read', 'John', 'Magazine']\n",
    "    invalid_unseen = ['GetDressed', 'John', 'None']\n",
    "\n",
    "    x_valid = encode_sentence(valid_unseen)\n",
    "    x_seen = encode_sentence(valid_seen)\n",
    "    x_invalid = encode_sentence(invalid_unseen)\n",
    "    \n",
    "    return x_train_1, x_train_2, x_train_3, x_valid, x_seen, x_invalid\n",
    "\n",
    "gamma=2.5\n",
    "x_train_1, x_train_2, x_train_3, x_valid, x_seen, x_invalid = gen_embeddings()\n",
    "\n",
    "print logsumexp(-np.linalg.norm(np.concatenate(x_train_1) - x_valid, axis=1) * gamma)\n",
    "print logsumexp(-np.linalg.norm(np.concatenate(x_train_2) - x_valid, axis=1) * gamma)\n",
    "print logsumexp(-np.linalg.norm(np.concatenate(x_train_3) - x_valid, axis=1) * gamma)\n",
    "\n",
    "print \n",
    "print logsumexp(-np.linalg.norm(np.concatenate(x_train_1) - x_invalid, axis=1) * gamma)\n",
    "print logsumexp(-np.linalg.norm(np.concatenate(x_train_2) - x_invalid, axis=1) * gamma)\n",
    "print logsumexp(-np.linalg.norm(np.concatenate(x_train_3) - x_invalid, axis=1) * gamma)\n",
    "\n",
    "print \n",
    "print logsumexp(-np.linalg.norm(np.concatenate(x_train_1) - x_seen, axis=1) * gamma)\n",
    "print logsumexp(-np.linalg.norm(np.concatenate(x_train_2) - x_seen, axis=1) * gamma)\n",
    "print logsumexp(-np.linalg.norm(np.concatenate(x_train_3) - x_seen, axis=1) * gamma)"
   ]
  },
  {
   "cell_type": "markdown",
   "metadata": {},
   "source": [
    "## Segment and Train"
   ]
  },
  {
   "cell_type": "code",
   "execution_count": 3,
   "metadata": {},
   "outputs": [
    {
     "name": "stdout",
     "output_type": "stream",
     "text": [
      "0.24\n"
     ]
    }
   ],
   "source": [
    "# SEM parameters\n",
    "# df0 = 1.0\n",
    "# mode = 0.4\n",
    "df0 = 10.\n",
    "mode = 0.2\n",
    "scale0 = (mode * (df0 + 2)) / df0\n",
    "print scale0\n",
    "\n",
    "lmda = 1.0  # stickyness parameter\n",
    "alfa = 10.001  # concentration parameter\n",
    "\n",
    "\n",
    "f_class = GRUEvent\n",
    "f_opts=dict(var_scale0=scale0, var_df0=df0, dropout=0.5,\n",
    "            prior_log_prob=0, t=4)#, n_hidden = int(np.floor(d/2.)))\n",
    "\n",
    "sem_kwargs = dict(lmda=lmda, alfa=alfa, f_class=f_class, f_opts=f_opts)\n"
   ]
  },
  {
   "cell_type": "code",
   "execution_count": 4,
   "metadata": {},
   "outputs": [
    {
     "name": "stderr",
     "output_type": "stream",
     "text": [
      "Run SEM: 100%|██████████| 3/3 [00:10<00:00,  4.22s/it]"
     ]
    },
    {
     "name": "stdout",
     "output_type": "stream",
     "text": [
      "[0 0 1]\n",
      "[[  0.                 -inf         -inf]\n",
      " [116.69309429   0.                 -inf]\n",
      " [-26.79480487   0.                 -inf]]\n",
      "[[2.30268509       -inf       -inf]\n",
      " [1.60943791 2.30268509       -inf]\n",
      " [2.19722458 2.30268509       -inf]]\n"
     ]
    },
    {
     "name": "stderr",
     "output_type": "stream",
     "text": [
      "\n"
     ]
    }
   ],
   "source": [
    "# First, run all of the models\n",
    "sem_model_1 = SEM(**sem_kwargs)\n",
    "sem_model_1.run_w_boundaries(x_train_1)\n",
    "print sem_model_1.results.e_hat\n",
    "\n",
    "print sem_model_1.results.log_like\n",
    "\n",
    "print sem_model_1.results.log_prior"
   ]
  },
  {
   "cell_type": "code",
   "execution_count": 5,
   "metadata": {},
   "outputs": [
    {
     "name": "stderr",
     "output_type": "stream",
     "text": [
      "Run SEM: 100%|██████████| 3/3 [00:08<00:00,  3.04s/it]"
     ]
    },
    {
     "name": "stdout",
     "output_type": "stream",
     "text": [
      "[0 0 0]\n"
     ]
    },
    {
     "name": "stderr",
     "output_type": "stream",
     "text": [
      "\n"
     ]
    },
    {
     "data": {
      "text/plain": [
       "array([[  0.        ,         -inf,         -inf],\n",
       "       [110.44877911,   0.        ,         -inf],\n",
       "       [183.75579828,   0.        ,         -inf]])"
      ]
     },
     "execution_count": 5,
     "metadata": {},
     "output_type": "execute_result"
    }
   ],
   "source": [
    "sem_model_2 = SEM(**sem_kwargs)\n",
    "sem_model_2.run_w_boundaries(x_train_2)\n",
    "print sem_model_2.results.e_hat\n",
    "\n",
    "\n",
    "sem_model_2.results.log_like"
   ]
  },
  {
   "cell_type": "code",
   "execution_count": 6,
   "metadata": {},
   "outputs": [
    {
     "name": "stderr",
     "output_type": "stream",
     "text": [
      "Run SEM: 100%|██████████| 3/3 [00:10<00:00,  3.86s/it]"
     ]
    },
    {
     "name": "stdout",
     "output_type": "stream",
     "text": [
      "[0 0 0]\n"
     ]
    },
    {
     "name": "stderr",
     "output_type": "stream",
     "text": [
      "\n"
     ]
    },
    {
     "data": {
      "text/plain": [
       "array([[  0.        ,         -inf,         -inf],\n",
       "       [114.51100452,   0.        ,         -inf],\n",
       "       [213.60905216,   0.        ,         -inf]])"
      ]
     },
     "execution_count": 6,
     "metadata": {},
     "output_type": "execute_result"
    }
   ],
   "source": [
    "sem_model_3 = SEM(**sem_kwargs)\n",
    "sem_model_3.run_w_boundaries(x_train_3)\n",
    "print sem_model_3.results.e_hat\n",
    "\n",
    "sem_model_3.results.log_like"
   ]
  },
  {
   "cell_type": "markdown",
   "metadata": {},
   "source": [
    "## Memory recontruction"
   ]
  },
  {
   "cell_type": "code",
   "execution_count": 7,
   "metadata": {},
   "outputs": [],
   "source": [
    "# set the parameters for the Gibbs sampler\n",
    "gibbs_kwargs = dict(\n",
    "    memory_alpha = 10.0,\n",
    "    memory_lambda = 100.0,\n",
    "    memory_epsilon = np.exp(-100),\n",
    "    b = 1,  # re-defined here for completeness\n",
    "    tau = 0.15,  # ibid\n",
    "    n_samples = 250,\n",
    "    n_burnin = 100,\n",
    "    progress_bar=False,\n",
    ")\n",
    "\n",
    "epsilon_e = 0.75\n",
    "\n",
    "\n",
    "def reconstruct_and_score(x_train, sem_model):\n",
    "\n",
    "\n",
    "    # create the corrupted memory trace\n",
    "    n, d = np.concatenate(x_train).shape\n",
    "    y_mem = []\n",
    "    for t in range(n):\n",
    "        x_mem = x_train[t / 4][t % 4, :] + np.random.randn(d) * gibbs_kwargs['tau']\n",
    "        e_mem = [None, sem_model.results.e_hat[t / 4]][np.random.rand() < epsilon_e]\n",
    "        t_mem = t + np.random.randint(-gibbs_kwargs['b'], gibbs_kwargs['b'] + 1)\n",
    "        y_mem.append([x_mem, e_mem, t_mem])\n",
    "\n",
    "    # run the reconstruction\n",
    "    # sample from memory\n",
    "    gibbs_kwargs['y_mem'] = y_mem\n",
    "    gibbs_kwargs['sem_model'] = sem_model\n",
    "    y_samples, e_samples, x_samples = gibbs_memory_sampler(**gibbs_kwargs)\n",
    "    \n",
    "    \n",
    "    \n",
    "    valid_vs_invalid = []\n",
    "    valid_vs_seen = []\n",
    "    seen_vs_invalid = []\n",
    "    for ii in range(len(x_samples)):\n",
    "        x0_sample = x_samples[0]\n",
    "\n",
    "        # evaluate Gaussian Kernel functions with gamma \n",
    "        gamma = 2.5  #prev 7.5\n",
    "        valid_vs_invalid.append(\n",
    "            -logsumexp(-np.linalg.norm(x_samples[ii] - x_valid, axis=1) * gamma) <\n",
    "            -logsumexp(-np.linalg.norm(x_samples[ii] - x_invalid, axis=1) * gamma)\n",
    "        )\n",
    "\n",
    "        valid_vs_seen.append(\n",
    "            -logsumexp(-np.linalg.norm(x_samples[ii] - x_valid, axis=1) * gamma) <\n",
    "            -logsumexp(-np.linalg.norm(x_samples[ii] - x_seen, axis=1) * gamma)\n",
    "\n",
    "        )\n",
    "\n",
    "        seen_vs_invalid.append(\n",
    "            -logsumexp(-np.linalg.norm(x_samples[ii] - x_seen, axis=1) * gamma) <\n",
    "            -logsumexp(-np.linalg.norm(x_samples[ii] - x_invalid, axis=1) * gamma)\n",
    "\n",
    "        )\n",
    "\n",
    "    valid_vs_invalid = np.mean(valid_vs_invalid)\n",
    "    valid_vs_seen = np.mean(valid_vs_seen)\n",
    "    seen_vs_invalid = np.mean(seen_vs_invalid)\n",
    "    accuracy = np.mean([np.mean([yi != None for yi in ys ]) for ys in y_samples])\n",
    "    \n",
    "#     print \"Valid vs Invalid {}\".format(valid_vs_invalid)\n",
    "#     print \"Valid vs Seen    {}\".format(valid_vs_seen)\n",
    "#     print \"Invalid vs Seen  {}\".format(1-seen_vs_invalid)\n",
    "    \n",
    "    return valid_vs_invalid, valid_vs_seen, seen_vs_invalid, accuracy"
   ]
  },
  {
   "cell_type": "code",
   "execution_count": 8,
   "metadata": {},
   "outputs": [
    {
     "data": {
      "application/vnd.jupyter.widget-view+json": {
       "model_id": "0f88dd9786714ae2a4505829cc1da794",
       "version_major": 2,
       "version_minor": 0
      },
      "text/plain": [
       "HBox(children=(IntProgress(value=0, max=25), HTML(value=u'')))"
      ]
     },
     "metadata": {},
     "output_type": "display_data"
    },
    {
     "name": "stdout",
     "output_type": "stream",
     "text": [
      "\n"
     ]
    }
   ],
   "source": [
    "results = []\n",
    "n_batch = 25\n",
    "for ii in tnrange(n_batch):\n",
    "    sem_model = SEM(**sem_kwargs)\n",
    "    sem_model.run_w_boundaries(x_train_1, progress_bar=False)\n",
    "    valid_vs_invalid, valid_vs_seen, seen_vs_invalid, accuracy =  \\\n",
    "        reconstruct_and_score(x_train_1, sem_model)\n",
    "    results.append({\n",
    "        'Accuracy': accuracy,\n",
    "        'Valid vs Invalid': valid_vs_invalid,\n",
    "        'Valid vs Seen': valid_vs_seen,\n",
    "        'Seen vs Invalid': seen_vs_invalid, \n",
    "        'Number Clusters': len(set(sem_model.results.e_hat)),\n",
    "        'Script Instances': 1,\n",
    "        'Batch': ii\n",
    "    })"
   ]
  },
  {
   "cell_type": "code",
   "execution_count": null,
   "metadata": {},
   "outputs": [],
   "source": []
  },
  {
   "cell_type": "code",
   "execution_count": 9,
   "metadata": {},
   "outputs": [
    {
     "data": {
      "application/vnd.jupyter.widget-view+json": {
       "model_id": "b4431fd8f9bc4fc8915c924ccd07fd3b",
       "version_major": 2,
       "version_minor": 0
      },
      "text/plain": [
       "HBox(children=(IntProgress(value=0, max=25), HTML(value=u'')))"
      ]
     },
     "metadata": {},
     "output_type": "display_data"
    },
    {
     "name": "stderr",
     "output_type": "stream",
     "text": [
      "Run SEM: 100%|██████████| 3/3 [00:20<00:00,  6.85s/it]\n",
      "Run SEM: 100%|██████████| 3/3 [00:22<00:00,  7.29s/it]\n",
      "Run SEM: 100%|██████████| 3/3 [00:22<00:00,  7.32s/it]\n",
      "Run SEM: 100%|██████████| 3/3 [00:22<00:00,  7.49s/it]\n",
      "Run SEM: 100%|██████████| 3/3 [00:23<00:00,  7.70s/it]\n",
      "Run SEM: 100%|██████████| 3/3 [00:24<00:00,  8.00s/it]\n",
      "Run SEM: 100%|██████████| 3/3 [00:24<00:00,  8.04s/it]\n",
      "Run SEM: 100%|██████████| 3/3 [00:25<00:00,  8.24s/it]\n",
      "Run SEM: 100%|██████████| 3/3 [00:30<00:00,  9.66s/it]\n",
      "Run SEM: 100%|██████████| 3/3 [00:28<00:00,  8.98s/it]\n",
      "Run SEM: 100%|██████████| 3/3 [00:27<00:00,  8.85s/it]\n",
      "Run SEM: 100%|██████████| 3/3 [00:28<00:00,  9.21s/it]\n",
      "Run SEM: 100%|██████████| 3/3 [00:28<00:00,  9.22s/it]\n",
      "Run SEM: 100%|██████████| 3/3 [00:29<00:00,  9.58s/it]\n",
      "Run SEM: 100%|██████████| 3/3 [00:29<00:00,  9.65s/it]\n",
      "Run SEM: 100%|██████████| 3/3 [00:30<00:00,  9.77s/it]\n",
      "Run SEM: 100%|██████████| 3/3 [00:30<00:00,  9.93s/it]\n",
      "Run SEM: 100%|██████████| 3/3 [00:31<00:00, 10.16s/it]\n",
      "Run SEM: 100%|██████████| 3/3 [00:32<00:00, 10.67s/it]\n",
      "Run SEM: 100%|██████████| 3/3 [00:42<00:00, 14.77s/it]\n",
      "Run SEM: 100%|██████████| 3/3 [00:36<00:00, 11.54s/it]\n",
      "Run SEM: 100%|██████████| 3/3 [00:36<00:00, 11.74s/it]\n",
      "Run SEM: 100%|██████████| 3/3 [00:42<00:00, 13.71s/it]\n",
      "Run SEM: 100%|██████████| 3/3 [00:48<00:00, 14.66s/it]\n",
      "Run SEM: 100%|██████████| 3/3 [00:42<00:00, 14.39s/it]\n"
     ]
    },
    {
     "name": "stdout",
     "output_type": "stream",
     "text": [
      "\n"
     ]
    }
   ],
   "source": [
    "for ii in tnrange(n_batch):\n",
    "    sem_model = SEM(**sem_kwargs)\n",
    "    sem_model.run_w_boundaries(x_train_2)\n",
    "    valid_vs_invalid, valid_vs_seen, seen_vs_invalid, accuracy  =  \\\n",
    "        reconstruct_and_score(x_train_2, sem_model)\n",
    "    results.append({\n",
    "        'Accuracy': accuracy,\n",
    "        'Valid vs Invalid': valid_vs_invalid,\n",
    "        'Valid vs Seen': valid_vs_seen,\n",
    "        'Seen vs Invalid': seen_vs_invalid, \n",
    "        'Number Clusters': len(set(sem_model.results.e_hat)),\n",
    "        'Script Instances': 2,\n",
    "        'Batch': ii\n",
    "    })"
   ]
  },
  {
   "cell_type": "code",
   "execution_count": 10,
   "metadata": {},
   "outputs": [
    {
     "name": "stderr",
     "output_type": "stream",
     "text": [
      "Run SEM: 100%|██████████| 3/3 [00:43<00:00, 13.64s/it]\n",
      "Run SEM: 100%|██████████| 3/3 [00:39<00:00, 13.05s/it]\n",
      "Run SEM: 100%|██████████| 3/3 [00:38<00:00, 12.36s/it]\n",
      "Run SEM: 100%|██████████| 3/3 [00:38<00:00, 12.26s/it]\n",
      "Run SEM: 100%|██████████| 3/3 [00:38<00:00, 12.40s/it]\n",
      "Run SEM: 100%|██████████| 3/3 [00:39<00:00, 12.85s/it]\n",
      "Run SEM: 100%|██████████| 3/3 [00:40<00:00, 12.87s/it]\n",
      "Run SEM: 100%|██████████| 3/3 [00:41<00:00, 13.20s/it]\n",
      "Run SEM: 100%|██████████| 3/3 [00:51<00:00, 16.72s/it]\n",
      "Run SEM: 100%|██████████| 3/3 [00:42<00:00, 13.39s/it]\n",
      "Run SEM: 100%|██████████| 3/3 [00:42<00:00, 13.56s/it]\n",
      "Run SEM: 100%|██████████| 3/3 [00:44<00:00, 13.95s/it]\n",
      "Run SEM: 100%|██████████| 3/3 [00:44<00:00, 14.27s/it]\n",
      "Run SEM: 100%|██████████| 3/3 [00:54<00:00, 16.49s/it]\n",
      "Run SEM: 100%|██████████| 3/3 [00:48<00:00, 15.74s/it]\n",
      "Run SEM: 100%|██████████| 3/3 [00:47<00:00, 15.07s/it]\n",
      "Run SEM: 100%|██████████| 3/3 [00:47<00:00, 15.08s/it]\n",
      "Run SEM: 100%|██████████| 3/3 [00:47<00:00, 15.16s/it]\n",
      "Run SEM: 100%|██████████| 3/3 [00:48<00:00, 15.60s/it]\n",
      "Run SEM: 100%|██████████| 3/3 [00:48<00:00, 15.55s/it]\n",
      "Run SEM: 100%|██████████| 3/3 [00:49<00:00, 15.70s/it]\n",
      "Run SEM: 100%|██████████| 3/3 [00:52<00:00, 16.36s/it]\n",
      "Run SEM: 100%|██████████| 3/3 [00:51<00:00, 16.32s/it]\n",
      "Run SEM: 100%|██████████| 3/3 [00:53<00:00, 17.01s/it]\n",
      "Run SEM: 100%|██████████| 3/3 [00:52<00:00, 16.71s/it]\n"
     ]
    }
   ],
   "source": [
    "for ii in range(n_batch):\n",
    "    sem_model = SEM(**sem_kwargs)\n",
    "    sem_model.run_w_boundaries(x_train_3)\n",
    "    valid_vs_invalid, valid_vs_seen, seen_vs_invalid, accuracy =  reconstruct_and_score(x_train_3, sem_model)\n",
    "    results.append({\n",
    "        'Accuracy': accuracy,\n",
    "        'Valid vs Invalid': valid_vs_invalid,\n",
    "        'Valid vs Seen': valid_vs_seen,\n",
    "        'Seen vs Invalid': seen_vs_invalid, \n",
    "        'Number Clusters': len(set(sem_model.results.e_hat)),\n",
    "        'Script Instances': 3,\n",
    "        'Batch': ii\n",
    "    })"
   ]
  },
  {
   "cell_type": "code",
   "execution_count": 11,
   "metadata": {},
   "outputs": [],
   "source": [
    "results = pd.DataFrame(results)"
   ]
  },
  {
   "cell_type": "code",
   "execution_count": 12,
   "metadata": {},
   "outputs": [],
   "source": [
    "y = results.groupby('Script Instances').mean()['Valid vs Seen']\n",
    "y_err = results.groupby('Script Instances').std()['Valid vs Seen'] / np.sqrt(8)"
   ]
  },
  {
   "cell_type": "code",
   "execution_count": 13,
   "metadata": {},
   "outputs": [
    {
     "data": {
      "image/png": "[encoded data removed]",
      "text/plain": [
       "<Figure size 144x216 with 1 Axes>"
      ]
     },
     "metadata": {
      "needs_background": "light"
     },
     "output_type": "display_data"
    }
   ],
   "source": [
    "plt.figure(figsize=(2, 3))\n",
    "plt.bar(range(3), y, facecolor='k', alpha=0.4)\n",
    "plt.errorbar(range(3), y, y_err, ls=' ', c='k')\n",
    "plt.xlabel('Script Instances')\n",
    "plt.xticks(range(0, 3), [1, 2, 3])\n",
    "plt.ylabel('Recgonition Probability')\n",
    "plt.ylim([0, 1])\n",
    "plt.title('False Memory')\n",
    "sns.despine()"
   ]
  },
  {
   "cell_type": "code",
   "execution_count": 14,
   "metadata": {},
   "outputs": [
    {
     "data": {
      "text/html": [
       "<div>\n",
       "<style scoped>\n",
       "    .dataframe tbody tr th:only-of-type {\n",
       "        vertical-align: middle;\n",
       "    }\n",
       "\n",
       "    .dataframe tbody tr th {\n",
       "        vertical-align: top;\n",
       "    }\n",
       "\n",
       "    .dataframe thead th {\n",
       "        text-align: right;\n",
       "    }\n",
       "</style>\n",
       "<table border=\"1\" class=\"dataframe\">\n",
       "  <thead>\n",
       "    <tr style=\"text-align: right;\">\n",
       "      <th></th>\n",
       "      <th>Accuracy</th>\n",
       "      <th>Batch</th>\n",
       "      <th>Number Clusters</th>\n",
       "      <th>Seen vs Invalid</th>\n",
       "      <th>Valid vs Invalid</th>\n",
       "      <th>Valid vs Seen</th>\n",
       "    </tr>\n",
       "    <tr>\n",
       "      <th>Script Instances</th>\n",
       "      <th></th>\n",
       "      <th></th>\n",
       "      <th></th>\n",
       "      <th></th>\n",
       "      <th></th>\n",
       "      <th></th>\n",
       "    </tr>\n",
       "  </thead>\n",
       "  <tbody>\n",
       "    <tr>\n",
       "      <th>1</th>\n",
       "      <td>0.93308</td>\n",
       "      <td>12.0</td>\n",
       "      <td>1.16</td>\n",
       "      <td>0.81888</td>\n",
       "      <td>0.43872</td>\n",
       "      <td>0.15552</td>\n",
       "    </tr>\n",
       "    <tr>\n",
       "      <th>2</th>\n",
       "      <td>0.97128</td>\n",
       "      <td>12.0</td>\n",
       "      <td>1.00</td>\n",
       "      <td>0.99408</td>\n",
       "      <td>0.77200</td>\n",
       "      <td>0.01216</td>\n",
       "    </tr>\n",
       "    <tr>\n",
       "      <th>3</th>\n",
       "      <td>0.96712</td>\n",
       "      <td>12.0</td>\n",
       "      <td>1.00</td>\n",
       "      <td>0.98992</td>\n",
       "      <td>0.85472</td>\n",
       "      <td>0.02304</td>\n",
       "    </tr>\n",
       "  </tbody>\n",
       "</table>\n",
       "</div>"
      ],
      "text/plain": [
       "                  Accuracy  Batch  Number Clusters  Seen vs Invalid  \\\n",
       "Script Instances                                                      \n",
       "1                  0.93308   12.0             1.16          0.81888   \n",
       "2                  0.97128   12.0             1.00          0.99408   \n",
       "3                  0.96712   12.0             1.00          0.98992   \n",
       "\n",
       "                  Valid vs Invalid  Valid vs Seen  \n",
       "Script Instances                                   \n",
       "1                          0.43872        0.15552  \n",
       "2                          0.77200        0.01216  \n",
       "3                          0.85472        0.02304  "
      ]
     },
     "execution_count": 14,
     "metadata": {},
     "output_type": "execute_result"
    }
   ],
   "source": [
    "results.groupby('Script Instances').mean()"
   ]
  },
  {
   "cell_type": "code",
   "execution_count": 16,
   "metadata": {},
   "outputs": [
    {
     "data": {
      "image/png": "[encoded data removed]",
      "text/plain": [
       "<Figure size 180x216 with 1 Axes>"
      ]
     },
     "metadata": {
      "needs_background": "light"
     },
     "output_type": "display_data"
    }
   ],
   "source": [
    "with sns.plotting_context('paper'):\n",
    "    y = results.groupby('Script Instances').mean()['Valid vs Invalid']\n",
    "    y_err = results.groupby('Script Instances').std()['Valid vs Invalid'] / np.sqrt(8)\n",
    "\n",
    "    plt.figure(figsize=(2.5, 3))\n",
    "    plt.bar(range(3), y, facecolor='k', alpha=0.4)\n",
    "    plt.errorbar(range(3), y, y_err, ls=' ', c='k')\n",
    "    plt.xlabel('Script Instances')\n",
    "    plt.xticks(range(0, 3), [1, 2, 3])\n",
    "    plt.ylabel('Recgonition Probability')\n",
    "    plt.ylim([0, 1])\n",
    "    plt.title('False Memory')\n",
    "    plt.plot([-0.5, 2.5], [0.5, 0.5], ls='--', c='k')\n",
    "    plt.xlim([-0.5, 2.5])\n",
    "    sns.despine()\n",
    "    plt.savefig('bower_new.png', bbox_inches='tight', dpi=300)"
   ]
  },
  {
   "cell_type": "code",
   "execution_count": null,
   "metadata": {},
   "outputs": [],
   "source": []
  },
  {
   "cell_type": "code",
   "execution_count": null,
   "metadata": {},
   "outputs": [],
   "source": []
  }
 ],
 "metadata": {
  "kernelspec": {
   "display_name": "Python 2",
   "language": "python",
   "name": "python2"
  },
  "language_info": {
   "codemirror_mode": {
    "name": "ipython",
    "version": 2
   },
   "file_extension": ".py",
   "mimetype": "text/x-python",
   "name": "python",
   "nbconvert_exporter": "python",
   "pygments_lexer": "ipython2",
   "version": "2.7.15"
  }
 },
 "nbformat": 4,
 "nbformat_minor": 2
}
